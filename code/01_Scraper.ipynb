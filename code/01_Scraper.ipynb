{
 "cells": [
  {
   "cell_type": "markdown",
   "metadata": {
    "id": "MhLzPqsMxN_B"
   },
   "source": [
    "# Tweet Scraper"
   ]
  },
  {
   "cell_type": "markdown",
   "metadata": {},
   "source": [
    "Unfortunately, GOT3 or Get Old Tweets appears to not be working as of the time of this project. I was able to find a project that maintains a daily list of tweets from active (at the time) politicians and associated affiliates.  This scraper sifted through these archives and scraped these daily tweets."
   ]
  },
  {
   "cell_type": "code",
   "execution_count": null,
   "metadata": {
    "colab": {
     "base_uri": "https://localhost:8080/"
    },
    "id": "iI_I_GM1xfu6",
    "outputId": "e91ac859-2cf7-40ba-b9ef-09dbc30f6b08"
   },
   "outputs": [],
   "source": [
    "# # Comment out if running locally\n",
    "# from google.colab import drive\n",
    "# drive.mount('/content/drive')"
   ]
  },
  {
   "cell_type": "code",
   "execution_count": null,
   "metadata": {
    "id": "IR8_AWtt1xD4"
   },
   "outputs": [],
   "source": [
    "import pandas as pd\n",
    "import requests\n",
    "from bs4 import BeautifulSoup\n",
    "from datetime import datetime\n",
    "import time\n",
    "\n",
    "import random"
   ]
  },
  {
   "cell_type": "code",
   "execution_count": null,
   "metadata": {
    "id": "EJysLzUk2MwG"
   },
   "outputs": [],
   "source": [
    "# Creating a list of dates to add to URL where tweets live\n",
    "# https://stackoverflow.com/questions/54527912/convert-a-list-of-datetime-objects-to-string-in-python\n",
    "\n",
    "# Scrape in batches.\n",
    "# Update the date range for dates of interest\n",
    "datelist = pd.date_range(start='2017-06-21',end='2018-01-02')\n",
    "\n",
    "# Convert datetime to strings in order to be used in loop below\n",
    "datestrings = [d.strftime('%Y-%m-%d') for d in datelist]"
   ]
  },
  {
   "cell_type": "code",
   "execution_count": null,
   "metadata": {
    "colab": {
     "base_uri": "https://localhost:8080/",
     "height": 375
    },
    "id": "myGrt6dg2M7u",
    "outputId": "8332ac77-4287-467f-cbe1-fde5453e712a"
   },
   "outputs": [],
   "source": [
    "# Set up empty dataframe to append tweets to \n",
    "tweet_df = pd.DataFrame()\n",
    "\n",
    "for date in datestrings:\n",
    "    url = f'https://raw.githubusercontent.com/alexlitel/congresstweets/master/data/{date}.json'\n",
    "    res = requests.get(url)\n",
    "    batch = res.json()\n",
    "    \n",
    "    # Temp dataframe for each loop to be appended to larger df\n",
    "    batch_df = pd.DataFrame.from_dict(pd.json_normalize(batch), orient='columns')\n",
    "\n",
    "    # appending each loops df to the larger tweet dataframe\n",
    "    tweet_df = pd.concat([batch_df, tweet_df], sort=False)\n",
    "    \n",
    "    # setting up loop to sleep for random time period between 3 and 7 seconds\n",
    "    # between each cycle\n",
    "    time.sleep(random.randint(3,7))\n"
   ]
  },
  {
   "cell_type": "code",
   "execution_count": null,
   "metadata": {
    "id": "bPkS4ort2NPp"
   },
   "outputs": [],
   "source": [
    "tweet_df.shape"
   ]
  },
  {
   "cell_type": "code",
   "execution_count": null,
   "metadata": {
    "id": "U11L_WBq8xAv"
   },
   "outputs": [],
   "source": [
    "# # written to run in google colab.\n",
    "# # change directory to local if running locally\n",
    "# tweet_data = tweet_df.to_csv('./drive/MyDrive/Python/tweet_df_2017_2.csv')\n",
    "\n",
    "# directory to store scrapes locally:\n",
    "tweet_data = tweet_df.to_csv('../data/tweet_df_2020.csv', index = True)"
   ]
  }
 ],
 "metadata": {
  "colab": {
   "name": "Copy of Capstone_Scraper.ipynb",
   "provenance": []
  },
  "kernelspec": {
   "display_name": "Python 3",
   "language": "python",
   "name": "python3"
  },
  "language_info": {
   "codemirror_mode": {
    "name": "ipython",
    "version": 3
   },
   "file_extension": ".py",
   "mimetype": "text/x-python",
   "name": "python",
   "nbconvert_exporter": "python",
   "pygments_lexer": "ipython3",
   "version": "3.8.8"
  }
 },
 "nbformat": 4,
 "nbformat_minor": 4
}
