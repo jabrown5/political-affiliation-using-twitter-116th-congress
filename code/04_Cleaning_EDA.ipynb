{
  "nbformat": 4,
  "nbformat_minor": 5,
  "metadata": {
    "kernelspec": {
      "display_name": "Python 3",
      "language": "python",
      "name": "python3"
    },
    "language_info": {
      "codemirror_mode": {
        "name": "ipython",
        "version": 3
      },
      "file_extension": ".py",
      "mimetype": "text/x-python",
      "name": "python",
      "nbconvert_exporter": "python",
      "pygments_lexer": "ipython3",
      "version": "3.8.8"
    },
    "colab": {
      "name": "04_Cleaning_EDA.ipynb",
      "provenance": [],
      "collapsed_sections": [],
      "machine_shape": "hm"
    },
    "accelerator": "TPU"
  },
  "cells": [
    {
      "cell_type": "code",
      "metadata": {
        "id": "b68fcbe1"
      },
      "source": [
        "\n"
      ],
      "id": "b68fcbe1",
      "execution_count": null,
      "outputs": []
    },
    {
      "cell_type": "code",
      "metadata": {
        "colab": {
          "base_uri": "https://localhost:8080/"
        },
        "id": "dzK2jBTaFVoq",
        "outputId": "4222f870-f9da-49b1-caec-168a1bef4e7f"
      },
      "source": [
        "# Checking to see if GPU drive is active\n",
        "gpu_info = !nvidia-smi\n",
        "gpu_info = '\\n'.join(gpu_info)\n",
        "if gpu_info.find('failed') >= 0:\n",
        "  print('Select the Runtime > \"Change runtime type\" menu to enable a GPU accelerator, ')\n",
        "  print('and then re-execute this cell.')\n",
        "else:\n",
        "  print(gpu_info)"
      ],
      "id": "dzK2jBTaFVoq",
      "execution_count": 3,
      "outputs": [
        {
          "output_type": "stream",
          "text": [
            "Select the Runtime > \"Change runtime type\" menu to enable a GPU accelerator, \n",
            "and then re-execute this cell.\n"
          ],
          "name": "stdout"
        }
      ]
    },
    {
      "cell_type": "code",
      "metadata": {
        "colab": {
          "base_uri": "https://localhost:8080/"
        },
        "id": "dtQD1VD0FVd5",
        "outputId": "6134de1c-991c-4614-ede8-ae54c264bbf0"
      },
      "source": [
        "# Checking to see if GPU drive is active\n",
        "from psutil import virtual_memory\n",
        "ram_gb = virtual_memory().total / 1e9\n",
        "print('Your runtime has {:.1f} gigabytes of available RAM\\n'.format(ram_gb))\n",
        "\n",
        "if ram_gb < 20:\n",
        "  print('To enable a high-RAM runtime, select the Runtime > \"Change runtime type\"')\n",
        "  print('menu, and then select High-RAM in the Runtime shape dropdown. Then, ')\n",
        "  print('re-execute this cell.')\n",
        "else:\n",
        "  print('You are using a high-RAM runtime!')"
      ],
      "id": "dtQD1VD0FVd5",
      "execution_count": 4,
      "outputs": [
        {
          "output_type": "stream",
          "text": [
            "Your runtime has 38.0 gigabytes of available RAM\n",
            "\n",
            "You are using a high-RAM runtime!\n"
          ],
          "name": "stdout"
        }
      ]
    },
    {
      "cell_type": "code",
      "metadata": {
        "colab": {
          "base_uri": "https://localhost:8080/"
        },
        "id": "d07f3cd1",
        "outputId": "0a5dedfd-8850-4063-9972-90b7ace30956"
      },
      "source": [
        "# If running in google colab:\n",
        "from google.colab import drive\n",
        "drive.mount('/content/drive')"
      ],
      "id": "d07f3cd1",
      "execution_count": 5,
      "outputs": [
        {
          "output_type": "stream",
          "text": [
            "Drive already mounted at /content/drive; to attempt to forcibly remount, call drive.mount(\"/content/drive\", force_remount=True).\n"
          ],
          "name": "stdout"
        }
      ]
    },
    {
      "cell_type": "code",
      "metadata": {
        "id": "64eae381"
      },
      "source": [
        "# !pip install -U spacy"
      ],
      "id": "64eae381",
      "execution_count": null,
      "outputs": []
    },
    {
      "cell_type": "code",
      "metadata": {
        "colab": {
          "base_uri": "https://localhost:8080/"
        },
        "id": "57ab4f05",
        "outputId": "1893c834-0d0d-4908-feb9-5332b4f8323c"
      },
      "source": [
        "# !python -m spacy download en_core_web_sm\n",
        "\n",
        "# Download en_core_web_lg for google colab\n",
        "!python -m spacy download en_core_web_lg"
      ],
      "id": "57ab4f05",
      "execution_count": 6,
      "outputs": [
        {
          "output_type": "stream",
          "text": [
            "Requirement already satisfied: en_core_web_lg==2.2.5 from https://github.com/explosion/spacy-models/releases/download/en_core_web_lg-2.2.5/en_core_web_lg-2.2.5.tar.gz#egg=en_core_web_lg==2.2.5 in /usr/local/lib/python3.7/dist-packages (2.2.5)\n",
            "Requirement already satisfied: spacy>=2.2.2 in /usr/local/lib/python3.7/dist-packages (from en_core_web_lg==2.2.5) (2.2.4)\n",
            "Requirement already satisfied: thinc==7.4.0 in /usr/local/lib/python3.7/dist-packages (from spacy>=2.2.2->en_core_web_lg==2.2.5) (7.4.0)\n",
            "Requirement already satisfied: preshed<3.1.0,>=3.0.2 in /usr/local/lib/python3.7/dist-packages (from spacy>=2.2.2->en_core_web_lg==2.2.5) (3.0.5)\n",
            "Requirement already satisfied: plac<1.2.0,>=0.9.6 in /usr/local/lib/python3.7/dist-packages (from spacy>=2.2.2->en_core_web_lg==2.2.5) (1.1.3)\n",
            "Requirement already satisfied: wasabi<1.1.0,>=0.4.0 in /usr/local/lib/python3.7/dist-packages (from spacy>=2.2.2->en_core_web_lg==2.2.5) (0.8.2)\n",
            "Requirement already satisfied: srsly<1.1.0,>=1.0.2 in /usr/local/lib/python3.7/dist-packages (from spacy>=2.2.2->en_core_web_lg==2.2.5) (1.0.5)\n",
            "Requirement already satisfied: murmurhash<1.1.0,>=0.28.0 in /usr/local/lib/python3.7/dist-packages (from spacy>=2.2.2->en_core_web_lg==2.2.5) (1.0.5)\n",
            "Requirement already satisfied: catalogue<1.1.0,>=0.0.7 in /usr/local/lib/python3.7/dist-packages (from spacy>=2.2.2->en_core_web_lg==2.2.5) (1.0.0)\n",
            "Requirement already satisfied: numpy>=1.15.0 in /usr/local/lib/python3.7/dist-packages (from spacy>=2.2.2->en_core_web_lg==2.2.5) (1.19.5)\n",
            "Requirement already satisfied: setuptools in /usr/local/lib/python3.7/dist-packages (from spacy>=2.2.2->en_core_web_lg==2.2.5) (56.0.0)\n",
            "Requirement already satisfied: tqdm<5.0.0,>=4.38.0 in /usr/local/lib/python3.7/dist-packages (from spacy>=2.2.2->en_core_web_lg==2.2.5) (4.41.1)\n",
            "Requirement already satisfied: blis<0.5.0,>=0.4.0 in /usr/local/lib/python3.7/dist-packages (from spacy>=2.2.2->en_core_web_lg==2.2.5) (0.4.1)\n",
            "Requirement already satisfied: requests<3.0.0,>=2.13.0 in /usr/local/lib/python3.7/dist-packages (from spacy>=2.2.2->en_core_web_lg==2.2.5) (2.23.0)\n",
            "Requirement already satisfied: cymem<2.1.0,>=2.0.2 in /usr/local/lib/python3.7/dist-packages (from spacy>=2.2.2->en_core_web_lg==2.2.5) (2.0.5)\n",
            "Requirement already satisfied: importlib-metadata>=0.20; python_version < \"3.8\" in /usr/local/lib/python3.7/dist-packages (from catalogue<1.1.0,>=0.0.7->spacy>=2.2.2->en_core_web_lg==2.2.5) (3.10.1)\n",
            "Requirement already satisfied: certifi>=2017.4.17 in /usr/local/lib/python3.7/dist-packages (from requests<3.0.0,>=2.13.0->spacy>=2.2.2->en_core_web_lg==2.2.5) (2020.12.5)\n",
            "Requirement already satisfied: idna<3,>=2.5 in /usr/local/lib/python3.7/dist-packages (from requests<3.0.0,>=2.13.0->spacy>=2.2.2->en_core_web_lg==2.2.5) (2.10)\n",
            "Requirement already satisfied: chardet<4,>=3.0.2 in /usr/local/lib/python3.7/dist-packages (from requests<3.0.0,>=2.13.0->spacy>=2.2.2->en_core_web_lg==2.2.5) (3.0.4)\n",
            "Requirement already satisfied: urllib3!=1.25.0,!=1.25.1,<1.26,>=1.21.1 in /usr/local/lib/python3.7/dist-packages (from requests<3.0.0,>=2.13.0->spacy>=2.2.2->en_core_web_lg==2.2.5) (1.24.3)\n",
            "Requirement already satisfied: typing-extensions>=3.6.4; python_version < \"3.8\" in /usr/local/lib/python3.7/dist-packages (from importlib-metadata>=0.20; python_version < \"3.8\"->catalogue<1.1.0,>=0.0.7->spacy>=2.2.2->en_core_web_lg==2.2.5) (3.7.4.3)\n",
            "Requirement already satisfied: zipp>=0.5 in /usr/local/lib/python3.7/dist-packages (from importlib-metadata>=0.20; python_version < \"3.8\"->catalogue<1.1.0,>=0.0.7->spacy>=2.2.2->en_core_web_lg==2.2.5) (3.4.1)\n",
            "\u001b[38;5;2m✔ Download and installation successful\u001b[0m\n",
            "You can now load the model via spacy.load('en_core_web_lg')\n"
          ],
          "name": "stdout"
        }
      ]
    },
    {
      "cell_type": "code",
      "metadata": {
        "id": "c14f98d8"
      },
      "source": [
        "import pandas as pd\n",
        "import numpy as np\n",
        "import seaborn as sns\n",
        "import matplotlib.pyplot as plt\n",
        "\n",
        "import regex as re\n",
        "# import unicodedata\n",
        "\n",
        "from sklearn.feature_extraction.text import CountVectorizer\n",
        "from sklearn.model_selection import GridSearchCV\n",
        "from sklearn.cluster import DBSCAN, KMeans\n",
        "from sklearn.metrics import silhouette_score, pairwise_distances\n",
        "\n",
        "import spacy\n",
        "# import en_core_web_sm\n",
        "import en_core_web_lg\n",
        "\n",
        "from spacy.lang.en import English\n",
        "from spacy.lang.en.stop_words import STOP_WORDS\n",
        "\n",
        "\n",
        "pd.set_option('display.max_columns', None)\n",
        "pd.set_option('display.max_rows', None)"
      ],
      "id": "c14f98d8",
      "execution_count": 7,
      "outputs": []
    },
    {
      "cell_type": "code",
      "metadata": {
        "id": "f28807ac"
      },
      "source": [
        "# Loading the small (sm) spaCy English model, pre-trained on web text data\n",
        "# nlp = en_core_web_sm.load()\n",
        "\n",
        "# Loading the large (sm) spaCy English model, pre-trained on web text data\n",
        "# In order to use vectorization, you must use the large pipeline package\n",
        "# https://spacy.io/usage/spacy-101\n",
        "'''\n",
        "\"To make them compact and fast, spaCy’s small pipeline packages (all packages that end in sm) \n",
        "don’t ship with word vectors, and only include context-sensitive tensors... \n",
        "So in order to use real word vectors, you need to download a larger pipeline package.\"\n",
        "'''\n",
        "nlp = en_core_web_lg.load()\n",
        "\n",
        "# max length must be increased due to large size of each document\n",
        "nlp.max_length = 10000000 # or higher\n"
      ],
      "id": "f28807ac",
      "execution_count": 8,
      "outputs": []
    },
    {
      "cell_type": "code",
      "metadata": {
        "colab": {
          "base_uri": "https://localhost:8080/"
        },
        "id": "cf853405",
        "outputId": "23373691-387a-4501-ce1d-909bdab98238"
      },
      "source": [
        "# # Importing the finalized concatinated dataframe\n",
        "# # Use this line if running locally\n",
        "# data = pd.read_csv('../data/concat_df.csv')\n",
        "\n",
        "# If running in google colab, use this import line:\n",
        "# Change to file location if necessary\n",
        "data = pd.read_csv('drive/MyDrive/Python/concat_df.csv')\n",
        "\n",
        "data.shape"
      ],
      "id": "cf853405",
      "execution_count": null,
      "outputs": [
        {
          "output_type": "execute_result",
          "data": {
            "text/plain": [
              "(626, 8)"
            ]
          },
          "metadata": {
            "tags": []
          },
          "execution_count": 5
        }
      ]
    },
    {
      "cell_type": "code",
      "metadata": {
        "colab": {
          "base_uri": "https://localhost:8080/"
        },
        "id": "507594c3",
        "outputId": "19e1fb7a-0499-499c-c980-e24562461cfa"
      },
      "source": [
        "data.info()"
      ],
      "id": "507594c3",
      "execution_count": null,
      "outputs": [
        {
          "output_type": "stream",
          "text": [
            "<class 'pandas.core.frame.DataFrame'>\n",
            "RangeIndex: 626 entries, 0 to 625\n",
            "Data columns (total 8 columns):\n",
            " #   Column       Non-Null Count  Dtype \n",
            "---  ------       --------------  ----- \n",
            " 0   screen_name  626 non-null    object\n",
            " 1   state        626 non-null    object\n",
            " 2   position     626 non-null    object\n",
            " 3   name         626 non-null    object\n",
            " 4   party        626 non-null    object\n",
            " 5   tweet_count  626 non-null    int64 \n",
            " 6   text_concat  626 non-null    object\n",
            " 7   text_length  626 non-null    int64 \n",
            "dtypes: int64(2), object(6)\n",
            "memory usage: 39.2+ KB\n"
          ],
          "name": "stdout"
        }
      ]
    },
    {
      "cell_type": "code",
      "metadata": {
        "colab": {
          "base_uri": "https://localhost:8080/",
          "height": 142
        },
        "id": "9cacc820",
        "outputId": "eb059170-75bb-4b2c-fa31-4a0d8f6d3e8c"
      },
      "source": [
        "data.head(3)"
      ],
      "id": "9cacc820",
      "execution_count": null,
      "outputs": [
        {
          "output_type": "execute_result",
          "data": {
            "text/html": [
              "<div>\n",
              "<style scoped>\n",
              "    .dataframe tbody tr th:only-of-type {\n",
              "        vertical-align: middle;\n",
              "    }\n",
              "\n",
              "    .dataframe tbody tr th {\n",
              "        vertical-align: top;\n",
              "    }\n",
              "\n",
              "    .dataframe thead th {\n",
              "        text-align: right;\n",
              "    }\n",
              "</style>\n",
              "<table border=\"1\" class=\"dataframe\">\n",
              "  <thead>\n",
              "    <tr style=\"text-align: right;\">\n",
              "      <th></th>\n",
              "      <th>screen_name</th>\n",
              "      <th>state</th>\n",
              "      <th>position</th>\n",
              "      <th>name</th>\n",
              "      <th>party</th>\n",
              "      <th>tweet_count</th>\n",
              "      <th>text_concat</th>\n",
              "      <th>text_length</th>\n",
              "    </tr>\n",
              "  </thead>\n",
              "  <tbody>\n",
              "    <tr>\n",
              "      <th>0</th>\n",
              "      <td>RepBarragan</td>\n",
              "      <td>CA</td>\n",
              "      <td>Representative</td>\n",
              "      <td>Nanette Diaz Barrag_n</td>\n",
              "      <td>D</td>\n",
              "      <td>4553</td>\n",
              "      <td>So great to welcome @SenSanders to #CA44 for a...</td>\n",
              "      <td>1571519</td>\n",
              "    </tr>\n",
              "    <tr>\n",
              "      <th>1</th>\n",
              "      <td>ChrisMurphyCT</td>\n",
              "      <td>CT</td>\n",
              "      <td>Senator</td>\n",
              "      <td>Christopher Murphy</td>\n",
              "      <td>D</td>\n",
              "      <td>8793</td>\n",
              "      <td>New apartments, new businesses and new restaur...</td>\n",
              "      <td>2801192</td>\n",
              "    </tr>\n",
              "    <tr>\n",
              "      <th>2</th>\n",
              "      <td>RepSwalwell</td>\n",
              "      <td>CA</td>\n",
              "      <td>Representative</td>\n",
              "      <td>Eric Swalwell</td>\n",
              "      <td>D</td>\n",
              "      <td>5841</td>\n",
              "      <td>Literally, the easiest fix we could make to sa...</td>\n",
              "      <td>1843540</td>\n",
              "    </tr>\n",
              "  </tbody>\n",
              "</table>\n",
              "</div>"
            ],
            "text/plain": [
              "     screen_name state        position                   name party  \\\n",
              "0    RepBarragan    CA  Representative  Nanette Diaz Barrag_n     D   \n",
              "1  ChrisMurphyCT    CT         Senator     Christopher Murphy     D   \n",
              "2    RepSwalwell    CA  Representative          Eric Swalwell     D   \n",
              "\n",
              "   tweet_count                                        text_concat  text_length  \n",
              "0         4553  So great to welcome @SenSanders to #CA44 for a...      1571519  \n",
              "1         8793  New apartments, new businesses and new restaur...      2801192  \n",
              "2         5841  Literally, the easiest fix we could make to sa...      1843540  "
            ]
          },
          "metadata": {
            "tags": []
          },
          "execution_count": 7
        }
      ]
    },
    {
      "cell_type": "code",
      "metadata": {
        "colab": {
          "base_uri": "https://localhost:8080/"
        },
        "id": "440d77af",
        "outputId": "d8bf3437-f222-4799-fe69-092bb687b16d"
      },
      "source": [
        "data.isnull().sum()"
      ],
      "id": "440d77af",
      "execution_count": null,
      "outputs": [
        {
          "output_type": "execute_result",
          "data": {
            "text/plain": [
              "screen_name    0\n",
              "state          0\n",
              "position       0\n",
              "name           0\n",
              "party          0\n",
              "tweet_count    0\n",
              "text_concat    0\n",
              "text_length    0\n",
              "dtype: int64"
            ]
          },
          "metadata": {
            "tags": []
          },
          "execution_count": 8
        }
      ]
    },
    {
      "cell_type": "code",
      "metadata": {
        "colab": {
          "base_uri": "https://localhost:8080/",
          "height": 142
        },
        "id": "952330d1",
        "outputId": "3eaf1124-745c-4656-f681-38a453992e91"
      },
      "source": [
        "# making sure there are no spaces at start or end of cells\n",
        "data['screen_name'] = [i.strip() for i in data['screen_name']]\n",
        "data['state'] = [i.strip() for i in data['state']]\n",
        "data['position'] = [i.strip() for i in data['position']]\n",
        "data['name'] = [i.strip() for i in data['name']]\n",
        "data['party'] = [i.strip() for i in data['party']]\n",
        "data['text_concat'] = [i.strip() for i in data['text_concat']]\n",
        "\n",
        "data.head(3)"
      ],
      "id": "952330d1",
      "execution_count": null,
      "outputs": [
        {
          "output_type": "execute_result",
          "data": {
            "text/html": [
              "<div>\n",
              "<style scoped>\n",
              "    .dataframe tbody tr th:only-of-type {\n",
              "        vertical-align: middle;\n",
              "    }\n",
              "\n",
              "    .dataframe tbody tr th {\n",
              "        vertical-align: top;\n",
              "    }\n",
              "\n",
              "    .dataframe thead th {\n",
              "        text-align: right;\n",
              "    }\n",
              "</style>\n",
              "<table border=\"1\" class=\"dataframe\">\n",
              "  <thead>\n",
              "    <tr style=\"text-align: right;\">\n",
              "      <th></th>\n",
              "      <th>screen_name</th>\n",
              "      <th>state</th>\n",
              "      <th>position</th>\n",
              "      <th>name</th>\n",
              "      <th>party</th>\n",
              "      <th>tweet_count</th>\n",
              "      <th>text_concat</th>\n",
              "      <th>text_length</th>\n",
              "    </tr>\n",
              "  </thead>\n",
              "  <tbody>\n",
              "    <tr>\n",
              "      <th>0</th>\n",
              "      <td>RepBarragan</td>\n",
              "      <td>CA</td>\n",
              "      <td>Representative</td>\n",
              "      <td>Nanette Diaz Barrag_n</td>\n",
              "      <td>D</td>\n",
              "      <td>4553</td>\n",
              "      <td>So great to welcome @SenSanders to #CA44 for a...</td>\n",
              "      <td>1571519</td>\n",
              "    </tr>\n",
              "    <tr>\n",
              "      <th>1</th>\n",
              "      <td>ChrisMurphyCT</td>\n",
              "      <td>CT</td>\n",
              "      <td>Senator</td>\n",
              "      <td>Christopher Murphy</td>\n",
              "      <td>D</td>\n",
              "      <td>8793</td>\n",
              "      <td>New apartments, new businesses and new restaur...</td>\n",
              "      <td>2801192</td>\n",
              "    </tr>\n",
              "    <tr>\n",
              "      <th>2</th>\n",
              "      <td>RepSwalwell</td>\n",
              "      <td>CA</td>\n",
              "      <td>Representative</td>\n",
              "      <td>Eric Swalwell</td>\n",
              "      <td>D</td>\n",
              "      <td>5841</td>\n",
              "      <td>Literally, the easiest fix we could make to sa...</td>\n",
              "      <td>1843540</td>\n",
              "    </tr>\n",
              "  </tbody>\n",
              "</table>\n",
              "</div>"
            ],
            "text/plain": [
              "     screen_name state        position                   name party  \\\n",
              "0    RepBarragan    CA  Representative  Nanette Diaz Barrag_n     D   \n",
              "1  ChrisMurphyCT    CT         Senator     Christopher Murphy     D   \n",
              "2    RepSwalwell    CA  Representative          Eric Swalwell     D   \n",
              "\n",
              "   tweet_count                                        text_concat  text_length  \n",
              "0         4553  So great to welcome @SenSanders to #CA44 for a...      1571519  \n",
              "1         8793  New apartments, new businesses and new restaur...      2801192  \n",
              "2         5841  Literally, the easiest fix we could make to sa...      1843540  "
            ]
          },
          "metadata": {
            "tags": []
          },
          "execution_count": 9
        }
      ]
    },
    {
      "cell_type": "code",
      "metadata": {
        "id": "52c2210a"
      },
      "source": [
        "# Removing all emojis\n",
        "# HELP:  https://gist.github.com/Alex-Just/e86110836f3f93fe7932290526529cd1#file-strip_emoji-py\n",
        "\n",
        "remove_emojis = re.compile(\n",
        "    \"([\"\n",
        "    \"\\U0001F1E0-\\U0001F1FF\"  # flags (iOS)\n",
        "    \"\\U0001F300-\\U0001F5FF\"  # symbols & pictographs\n",
        "    \"\\U0001F600-\\U0001F64F\"  # emoticons\n",
        "    \"\\U0001F680-\\U0001F6FF\"  # transport & map symbols\n",
        "    \"\\U0001F700-\\U0001F77F\"  # alchemical symbols\n",
        "    \"\\U0001F780-\\U0001F7FF\"  # Geometric Shapes Extended\n",
        "    \"\\U0001F800-\\U0001F8FF\"  # Supplemental Arrows-C\n",
        "    \"\\U0001F900-\\U0001F9FF\"  # Supplemental Symbols and Pictographs\n",
        "    \"\\U0001FA00-\\U0001FA6F\"  # Chess Symbols\n",
        "    \"\\U0001FA70-\\U0001FAFF\"  # Symbols and Pictographs Extended-A\n",
        "    \"\\U00002702-\\U000027B0\"  # Dingbats\n",
        "    \"])\"\n",
        "  )\n",
        "\n",
        "data['text_concat'] = [re.sub(remove_emojis, '', i) for i in data['text_concat']]\n",
        "\n",
        "# creating a new column to see if length of text_concat has changed\n",
        "# after the removal of emojis\n",
        "data['text_length_1'] = data['text_concat'].apply(len)"
      ],
      "id": "52c2210a",
      "execution_count": null,
      "outputs": []
    },
    {
      "cell_type": "code",
      "metadata": {
        "id": "015c706c"
      },
      "source": [
        "# Removing hyperlinks from tweet text\n",
        "# HELP: https://stackoverflow.com/questions/11331982/how-to-remove-any-url-within-a-string-in-python\n",
        "data['text_concat'] = [re.sub(r'^https?:\\/\\/.*[\\r\\n]*', '', i) for i in data['text_concat']]\n",
        "\n",
        "# creating a new column to see if length of text_concat has changed\n",
        "# after the removal of hyperlinks\n",
        "data['text_length_2'] = data['text_concat'].apply(len)"
      ],
      "id": "015c706c",
      "execution_count": null,
      "outputs": []
    },
    {
      "cell_type": "code",
      "metadata": {
        "id": "f3d38e6b"
      },
      "source": [
        "# Remove punctuation, special characters, and numbers\n",
        "data['text_concat'] = [re.sub(r'[^a-zA-Z0-9 ]+', '', i) for i in data['text_concat']]\n",
        "\n",
        "# creating a new column to see if length of text_concat has changed\n",
        "# after the removal of any other special characters, punctuation, numbers\n",
        "data['text_length_3'] = data['text_concat'].apply(len)"
      ],
      "id": "f3d38e6b",
      "execution_count": null,
      "outputs": []
    },
    {
      "cell_type": "code",
      "metadata": {
        "colab": {
          "base_uri": "https://localhost:8080/",
          "height": 349
        },
        "id": "421912ea",
        "outputId": "14ffec6e-f43c-4dec-868e-6654cd7117bc"
      },
      "source": [
        "data.head(3)"
      ],
      "id": "421912ea",
      "execution_count": null,
      "outputs": [
        {
          "output_type": "execute_result",
          "data": {
            "text/html": [
              "<div>\n",
              "<style scoped>\n",
              "    .dataframe tbody tr th:only-of-type {\n",
              "        vertical-align: middle;\n",
              "    }\n",
              "\n",
              "    .dataframe tbody tr th {\n",
              "        vertical-align: top;\n",
              "    }\n",
              "\n",
              "    .dataframe thead th {\n",
              "        text-align: right;\n",
              "    }\n",
              "</style>\n",
              "<table border=\"1\" class=\"dataframe\">\n",
              "  <thead>\n",
              "    <tr style=\"text-align: right;\">\n",
              "      <th></th>\n",
              "      <th>screen_name</th>\n",
              "      <th>state</th>\n",
              "      <th>position</th>\n",
              "      <th>name</th>\n",
              "      <th>party</th>\n",
              "      <th>tweet_count</th>\n",
              "      <th>text_concat</th>\n",
              "      <th>text_length</th>\n",
              "      <th>text_length_1</th>\n",
              "      <th>text_length_2</th>\n",
              "      <th>text_length_3</th>\n",
              "    </tr>\n",
              "  </thead>\n",
              "  <tbody>\n",
              "    <tr>\n",
              "      <th>0</th>\n",
              "      <td>RepBarragan</td>\n",
              "      <td>CA</td>\n",
              "      <td>Representative</td>\n",
              "      <td>Nanette Diaz Barrag_n</td>\n",
              "      <td>D</td>\n",
              "      <td>4553</td>\n",
              "      <td>So great to welcome SenSanders to CA44 for a r...</td>\n",
              "      <td>1571519</td>\n",
              "      <td>1570974</td>\n",
              "      <td>1570974</td>\n",
              "      <td>1449495</td>\n",
              "    </tr>\n",
              "    <tr>\n",
              "      <th>1</th>\n",
              "      <td>ChrisMurphyCT</td>\n",
              "      <td>CT</td>\n",
              "      <td>Senator</td>\n",
              "      <td>Christopher Murphy</td>\n",
              "      <td>D</td>\n",
              "      <td>8793</td>\n",
              "      <td>New apartments new businesses and new restaura...</td>\n",
              "      <td>2801192</td>\n",
              "      <td>2800624</td>\n",
              "      <td>2800624</td>\n",
              "      <td>2598814</td>\n",
              "    </tr>\n",
              "    <tr>\n",
              "      <th>2</th>\n",
              "      <td>RepSwalwell</td>\n",
              "      <td>CA</td>\n",
              "      <td>Representative</td>\n",
              "      <td>Eric Swalwell</td>\n",
              "      <td>D</td>\n",
              "      <td>5841</td>\n",
              "      <td>Literally the easiest fix we could make to sav...</td>\n",
              "      <td>1843540</td>\n",
              "      <td>1842810</td>\n",
              "      <td>1842810</td>\n",
              "      <td>1704609</td>\n",
              "    </tr>\n",
              "  </tbody>\n",
              "</table>\n",
              "</div>"
            ],
            "text/plain": [
              "     screen_name state        position                   name party  \\\n",
              "0    RepBarragan    CA  Representative  Nanette Diaz Barrag_n     D   \n",
              "1  ChrisMurphyCT    CT         Senator     Christopher Murphy     D   \n",
              "2    RepSwalwell    CA  Representative          Eric Swalwell     D   \n",
              "\n",
              "   tweet_count                                        text_concat  \\\n",
              "0         4553  So great to welcome SenSanders to CA44 for a r...   \n",
              "1         8793  New apartments new businesses and new restaura...   \n",
              "2         5841  Literally the easiest fix we could make to sav...   \n",
              "\n",
              "   text_length  text_length_1  text_length_2  text_length_3  \n",
              "0      1571519        1570974        1570974        1449495  \n",
              "1      2801192        2800624        2800624        2598814  \n",
              "2      1843540        1842810        1842810        1704609  "
            ]
          },
          "metadata": {
            "tags": []
          },
          "execution_count": 13
        }
      ]
    },
    {
      "cell_type": "code",
      "metadata": {
        "id": "1cbacaaf"
      },
      "source": [
        "# Count the number of words for each user\n",
        "# HELP: https://stackoverflow.com/questions/37483470/how-to-calculate-number-of-words-in-a-string-in-dataframe\n",
        "\n",
        "data['word_length'] = data['text_concat'].str.split(' ').str.len()"
      ],
      "id": "1cbacaaf",
      "execution_count": null,
      "outputs": []
    },
    {
      "cell_type": "code",
      "metadata": {
        "colab": {
          "base_uri": "https://localhost:8080/",
          "height": 394
        },
        "id": "80dc6ab0",
        "outputId": "c59a1043-0945-41c2-a2ef-2c15a6368530"
      },
      "source": [
        "data.head()"
      ],
      "id": "80dc6ab0",
      "execution_count": null,
      "outputs": [
        {
          "output_type": "execute_result",
          "data": {
            "text/html": [
              "<div>\n",
              "<style scoped>\n",
              "    .dataframe tbody tr th:only-of-type {\n",
              "        vertical-align: middle;\n",
              "    }\n",
              "\n",
              "    .dataframe tbody tr th {\n",
              "        vertical-align: top;\n",
              "    }\n",
              "\n",
              "    .dataframe thead th {\n",
              "        text-align: right;\n",
              "    }\n",
              "</style>\n",
              "<table border=\"1\" class=\"dataframe\">\n",
              "  <thead>\n",
              "    <tr style=\"text-align: right;\">\n",
              "      <th></th>\n",
              "      <th>screen_name</th>\n",
              "      <th>state</th>\n",
              "      <th>position</th>\n",
              "      <th>name</th>\n",
              "      <th>party</th>\n",
              "      <th>tweet_count</th>\n",
              "      <th>text_concat</th>\n",
              "      <th>text_length</th>\n",
              "      <th>text_length_1</th>\n",
              "      <th>text_length_2</th>\n",
              "      <th>text_length_3</th>\n",
              "      <th>word_length</th>\n",
              "    </tr>\n",
              "  </thead>\n",
              "  <tbody>\n",
              "    <tr>\n",
              "      <th>0</th>\n",
              "      <td>RepBarragan</td>\n",
              "      <td>CA</td>\n",
              "      <td>Representative</td>\n",
              "      <td>Nanette Diaz Barrag_n</td>\n",
              "      <td>D</td>\n",
              "      <td>4553</td>\n",
              "      <td>So great to welcome SenSanders to CA44 for a r...</td>\n",
              "      <td>1571519</td>\n",
              "      <td>1570974</td>\n",
              "      <td>1570974</td>\n",
              "      <td>1449495</td>\n",
              "      <td>180653</td>\n",
              "    </tr>\n",
              "    <tr>\n",
              "      <th>1</th>\n",
              "      <td>ChrisMurphyCT</td>\n",
              "      <td>CT</td>\n",
              "      <td>Senator</td>\n",
              "      <td>Christopher Murphy</td>\n",
              "      <td>D</td>\n",
              "      <td>8793</td>\n",
              "      <td>New apartments new businesses and new restaura...</td>\n",
              "      <td>2801192</td>\n",
              "      <td>2800624</td>\n",
              "      <td>2800624</td>\n",
              "      <td>2598814</td>\n",
              "      <td>352609</td>\n",
              "    </tr>\n",
              "    <tr>\n",
              "      <th>2</th>\n",
              "      <td>RepSwalwell</td>\n",
              "      <td>CA</td>\n",
              "      <td>Representative</td>\n",
              "      <td>Eric Swalwell</td>\n",
              "      <td>D</td>\n",
              "      <td>5841</td>\n",
              "      <td>Literally the easiest fix we could make to sav...</td>\n",
              "      <td>1843540</td>\n",
              "      <td>1842810</td>\n",
              "      <td>1842810</td>\n",
              "      <td>1704609</td>\n",
              "      <td>223536</td>\n",
              "    </tr>\n",
              "    <tr>\n",
              "      <th>3</th>\n",
              "      <td>RepDonBeyer</td>\n",
              "      <td>VA</td>\n",
              "      <td>Representative</td>\n",
              "      <td>Donald Beyer Jr</td>\n",
              "      <td>D</td>\n",
              "      <td>18325</td>\n",
              "      <td>9 Baltimore students were killed with guns dur...</td>\n",
              "      <td>7087050</td>\n",
              "      <td>7085835</td>\n",
              "      <td>7085835</td>\n",
              "      <td>6576425</td>\n",
              "      <td>839968</td>\n",
              "    </tr>\n",
              "    <tr>\n",
              "      <th>4</th>\n",
              "      <td>WarrenDavidson</td>\n",
              "      <td>OH</td>\n",
              "      <td>Representative</td>\n",
              "      <td>Warren Davidson</td>\n",
              "      <td>R</td>\n",
              "      <td>3166</td>\n",
              "      <td>NetNeutralityReminder Obama used 1934 FCC rule...</td>\n",
              "      <td>958737</td>\n",
              "      <td>958292</td>\n",
              "      <td>958292</td>\n",
              "      <td>886492</td>\n",
              "      <td>112053</td>\n",
              "    </tr>\n",
              "  </tbody>\n",
              "</table>\n",
              "</div>"
            ],
            "text/plain": [
              "      screen_name state        position                   name party  \\\n",
              "0     RepBarragan    CA  Representative  Nanette Diaz Barrag_n     D   \n",
              "1   ChrisMurphyCT    CT         Senator     Christopher Murphy     D   \n",
              "2     RepSwalwell    CA  Representative          Eric Swalwell     D   \n",
              "3     RepDonBeyer    VA  Representative        Donald Beyer Jr     D   \n",
              "4  WarrenDavidson    OH  Representative        Warren Davidson     R   \n",
              "\n",
              "   tweet_count                                        text_concat  \\\n",
              "0         4553  So great to welcome SenSanders to CA44 for a r...   \n",
              "1         8793  New apartments new businesses and new restaura...   \n",
              "2         5841  Literally the easiest fix we could make to sav...   \n",
              "3        18325  9 Baltimore students were killed with guns dur...   \n",
              "4         3166  NetNeutralityReminder Obama used 1934 FCC rule...   \n",
              "\n",
              "   text_length  text_length_1  text_length_2  text_length_3  word_length  \n",
              "0      1571519        1570974        1570974        1449495       180653  \n",
              "1      2801192        2800624        2800624        2598814       352609  \n",
              "2      1843540        1842810        1842810        1704609       223536  \n",
              "3      7087050        7085835        7085835        6576425       839968  \n",
              "4       958737         958292         958292         886492       112053  "
            ]
          },
          "metadata": {
            "tags": []
          },
          "execution_count": 15
        }
      ]
    },
    {
      "cell_type": "code",
      "metadata": {
        "colab": {
          "base_uri": "https://localhost:8080/"
        },
        "id": "e0ae72d4",
        "outputId": "1528399d-45e4-48bb-bfa6-224b1e9e202a"
      },
      "source": [
        "data['tweet_count'].describe()"
      ],
      "id": "e0ae72d4",
      "execution_count": null,
      "outputs": [
        {
          "output_type": "execute_result",
          "data": {
            "text/plain": [
              "count      626.000000\n",
              "mean      2384.752396\n",
              "std       2141.344896\n",
              "min          6.000000\n",
              "25%        949.250000\n",
              "50%       1890.000000\n",
              "75%       3164.500000\n",
              "max      18325.000000\n",
              "Name: tweet_count, dtype: float64"
            ]
          },
          "metadata": {
            "tags": []
          },
          "execution_count": 16
        }
      ]
    },
    {
      "cell_type": "code",
      "metadata": {
        "colab": {
          "base_uri": "https://localhost:8080/"
        },
        "id": "7e10bedd",
        "outputId": "26fae044-9792-4ba0-ac2b-930bdef063ce"
      },
      "source": [
        "data['word_length'].describe()"
      ],
      "id": "7e10bedd",
      "execution_count": null,
      "outputs": [
        {
          "output_type": "execute_result",
          "data": {
            "text/plain": [
              "count       626.000000\n",
              "mean      88128.678914\n",
              "std       82571.864571\n",
              "min         227.000000\n",
              "25%       33350.000000\n",
              "50%       68001.000000\n",
              "75%      118017.250000\n",
              "max      839968.000000\n",
              "Name: word_length, dtype: float64"
            ]
          },
          "metadata": {
            "tags": []
          },
          "execution_count": 17
        }
      ]
    },
    {
      "cell_type": "code",
      "metadata": {
        "colab": {
          "base_uri": "https://localhost:8080/"
        },
        "id": "93f41659",
        "outputId": "8726171f-bffa-4972-b1c5-8ba459b605ab"
      },
      "source": [
        "data['text_length_3'].describe()"
      ],
      "id": "93f41659",
      "execution_count": null,
      "outputs": [
        {
          "output_type": "execute_result",
          "data": {
            "text/plain": [
              "count    6.260000e+02\n",
              "mean     6.949572e+05\n",
              "std      6.524310e+05\n",
              "min      1.461000e+03\n",
              "25%      2.630642e+05\n",
              "50%      5.425705e+05\n",
              "75%      9.337525e+05\n",
              "max      6.576425e+06\n",
              "Name: text_length_3, dtype: float64"
            ]
          },
          "metadata": {
            "tags": []
          },
          "execution_count": 18
        }
      ]
    },
    {
      "cell_type": "code",
      "metadata": {
        "colab": {
          "base_uri": "https://localhost:8080/"
        },
        "id": "758efc0d",
        "outputId": "b7fb9040-3d3d-4a35-feb0-9b2031b2432c"
      },
      "source": [
        "# See the list of spaCy stopwords\n",
        "stopwords = list(STOP_WORDS)\n",
        "\n",
        "print(f'SpaCy stop word list length: {len(stopwords)}')\n",
        "print('--------------------------------')\n",
        "print(f'SpaCy stop word list: {stopwords}')"
      ],
      "id": "758efc0d",
      "execution_count": null,
      "outputs": [
        {
          "output_type": "stream",
          "text": [
            "SpaCy stop word list length: 326\n",
            "--------------------------------\n",
            "SpaCy stop word list: ['thru', 'several', 'yourself', 'less', '‘ll', 'whole', 'six', 'one', 'an', 'please', 'nobody', 'if', 'does', 'then', 'seems', 'with', 'at', 'would', 'between', 'see', 'thereupon', 'although', 'before', 'give', 'bottom', 'mostly', '’s', 'forty', 'into', 'throughout', 'back', 'few', 'yet', 'to', 'per', 'as', 'something', 'himself', 'much', '’m', 'down', 'doing', 'within', 'my', 'front', 'which', 'else', 'over', \"'ll\", 'anyhow', 'various', 'has', 'how', 'yours', 'others', 'unless', 'out', 'sixty', 'across', 'there', 'hereafter', 'noone', 'full', 'therein', 'whereby', 'whoever', 'ten', 'onto', '‘m', 'nine', 'a', 'cannot', 'whose', 'still', 'any', 'their', 'afterwards', 'yourselves', 'make', 'together', 'elsewhere', 'even', 'ever', '’re', 'these', 'mine', 'somehow', 'about', 'meanwhile', 'however', 'such', 'becomes', 'because', 'she', 'amount', 'hereby', 'above', 'you', 'is', 'on', 'thereby', 'many', 'same', 'that', 'myself', 'next', 'nowhere', 'done', 'go', 'three', 'move', 'whether', 'here', 'side', 'rather', 'against', 'every', 'those', 'most', '’ve', 'someone', 'under', 'call', 'where', 'why', 'had', \"'m\", 'or', 'i', 'too', 'was', 'the', 'wherever', 'none', 'again', '‘s', 'have', 'now', 'own', 'your', 'upon', 'fifty', 'somewhere', 'another', 'take', 'four', 'seeming', 'do', 'nothing', 'further', 'via', 'him', 'not', 'what', 'almost', \"'d\", 'also', 'hence', 'nevertheless', 'might', 'well', 'indeed', 'everything', 'seemed', 'moreover', 'fifteen', 'already', 'hundred', 'ours', 'besides', 'former', 'am', 'it', 'until', 'more', 'whence', 'enough', 'for', 'us', 'ourselves', 'whither', 'everyone', 'name', 'quite', 'therefore', 'very', \"'ve\", 'made', 'really', 'while', 'along', 'his', 'me', 'be', \"'s\", 'than', 'ca', 'eight', 'been', 'third', '‘ve', 'keep', 'due', 'latter', 'this', 'put', 'two', 'formerly', 'sometime', 'her', 'beforehand', 'anything', 'being', 'but', 'last', 'themselves', 'anyway', 'nor', 'behind', 'say', 'its', 'all', 'show', \"'re\", 'whereupon', 'he', 'who', 'and', 'whereafter', 'during', 'became', 'whatever', '’ll', 'may', 'except', 'herein', 'around', 'twenty', 'regarding', 'sometimes', 'without', 'eleven', 'our', 'serious', 'n‘t', 'whenever', 'could', 'among', 'otherwise', 'did', 'so', 'whom', 'were', 'though', 'anyone', 'they', 'becoming', 'through', 'below', 'are', 'after', 'in', 'hers', 'first', 'since', 'both', 'herself', 'everywhere', 'each', 'itself', 'thus', 'empty', '’d', 'beyond', 'either', 'once', 'top', 'wherein', 'amongst', 'other', 'can', 'hereupon', 'thereafter', 'toward', 'towards', 'always', 'thence', 'them', 'we', 'by', 'alone', 'seem', 'whereas', '‘re', 'n’t', 'will', 'perhaps', '‘d', 'using', 'part', 'just', 'up', 'five', 'often', 'neither', 'no', 'off', 'least', 'must', 'namely', 'from', 'anywhere', 'latterly', 'should', 'used', 'beside', 'become', 'never', \"n't\", 'twelve', 'only', 'get', 'some', 'of', 'when', 're']\n"
          ],
          "name": "stdout"
        }
      ]
    },
    {
      "cell_type": "code",
      "metadata": {
        "colab": {
          "base_uri": "https://localhost:8080/"
        },
        "id": "7671a11c",
        "outputId": "875cbbb1-0058-464e-a19e-892220ab5b31"
      },
      "source": [
        "# contractions in the list of spaCy stop words\n",
        "# HELP understanding .isalpha(): https://www.geeksforgeeks.org/python-string-isalpha-application/\n",
        "contraction_parts = [word for word in stopwords if not word.isalpha()]\n",
        "\n",
        "print(len(contraction_parts))\n",
        "print('--------------------------------')\n",
        "print(contraction_parts)"
      ],
      "id": "7671a11c",
      "execution_count": null,
      "outputs": [
        {
          "output_type": "stream",
          "text": [
            "21\n",
            "--------------------------------\n",
            "['‘ll', '’s', '’m', \"'ll\", '‘m', '’re', '’ve', \"'m\", '‘s', \"'d\", \"'ve\", \"'s\", '‘ve', \"'re\", '’ll', 'n‘t', '’d', '‘re', 'n’t', '‘d', \"n't\"]\n"
          ],
          "name": "stdout"
        }
      ]
    },
    {
      "cell_type": "code",
      "metadata": {
        "colab": {
          "base_uri": "https://localhost:8080/"
        },
        "id": "b35fbb20",
        "outputId": "fc26b4ff-c58f-4044-9fd3-9702f8c019a2"
      },
      "source": [
        "# Remove contractions to use w/ CountVectorizer\n",
        "stopwords_full_words = [word for word in stopwords if word.isalpha()]\n",
        "\n",
        "print(len(stopwords_full_words))\n",
        "print('--------------------------------')\n",
        "print(stopwords_full_words)"
      ],
      "id": "b35fbb20",
      "execution_count": null,
      "outputs": [
        {
          "output_type": "stream",
          "text": [
            "305\n",
            "--------------------------------\n",
            "['thru', 'several', 'yourself', 'less', 'whole', 'six', 'one', 'an', 'please', 'nobody', 'if', 'does', 'then', 'seems', 'with', 'at', 'would', 'between', 'see', 'thereupon', 'although', 'before', 'give', 'bottom', 'mostly', 'forty', 'into', 'throughout', 'back', 'few', 'yet', 'to', 'per', 'as', 'something', 'himself', 'much', 'down', 'doing', 'within', 'my', 'front', 'which', 'else', 'over', 'anyhow', 'various', 'has', 'how', 'yours', 'others', 'unless', 'out', 'sixty', 'across', 'there', 'hereafter', 'noone', 'full', 'therein', 'whereby', 'whoever', 'ten', 'onto', 'nine', 'a', 'cannot', 'whose', 'still', 'any', 'their', 'afterwards', 'yourselves', 'make', 'together', 'elsewhere', 'even', 'ever', 'these', 'mine', 'somehow', 'about', 'meanwhile', 'however', 'such', 'becomes', 'because', 'she', 'amount', 'hereby', 'above', 'you', 'is', 'on', 'thereby', 'many', 'same', 'that', 'myself', 'next', 'nowhere', 'done', 'go', 'three', 'move', 'whether', 'here', 'side', 'rather', 'against', 'every', 'those', 'most', 'someone', 'under', 'call', 'where', 'why', 'had', 'or', 'i', 'too', 'was', 'the', 'wherever', 'none', 'again', 'have', 'now', 'own', 'your', 'upon', 'fifty', 'somewhere', 'another', 'take', 'four', 'seeming', 'do', 'nothing', 'further', 'via', 'him', 'not', 'what', 'almost', 'also', 'hence', 'nevertheless', 'might', 'well', 'indeed', 'everything', 'seemed', 'moreover', 'fifteen', 'already', 'hundred', 'ours', 'besides', 'former', 'am', 'it', 'until', 'more', 'whence', 'enough', 'for', 'us', 'ourselves', 'whither', 'everyone', 'name', 'quite', 'therefore', 'very', 'made', 'really', 'while', 'along', 'his', 'me', 'be', 'than', 'ca', 'eight', 'been', 'third', 'keep', 'due', 'latter', 'this', 'put', 'two', 'formerly', 'sometime', 'her', 'beforehand', 'anything', 'being', 'but', 'last', 'themselves', 'anyway', 'nor', 'behind', 'say', 'its', 'all', 'show', 'whereupon', 'he', 'who', 'and', 'whereafter', 'during', 'became', 'whatever', 'may', 'except', 'herein', 'around', 'twenty', 'regarding', 'sometimes', 'without', 'eleven', 'our', 'serious', 'whenever', 'could', 'among', 'otherwise', 'did', 'so', 'whom', 'were', 'though', 'anyone', 'they', 'becoming', 'through', 'below', 'are', 'after', 'in', 'hers', 'first', 'since', 'both', 'herself', 'everywhere', 'each', 'itself', 'thus', 'empty', 'beyond', 'either', 'once', 'top', 'wherein', 'amongst', 'other', 'can', 'hereupon', 'thereafter', 'toward', 'towards', 'always', 'thence', 'them', 'we', 'by', 'alone', 'seem', 'whereas', 'will', 'perhaps', 'using', 'part', 'just', 'up', 'five', 'often', 'neither', 'no', 'off', 'least', 'must', 'namely', 'from', 'anywhere', 'latterly', 'should', 'used', 'beside', 'become', 'never', 'twelve', 'only', 'get', 'some', 'of', 'when', 're']\n"
          ],
          "name": "stdout"
        }
      ]
    },
    {
      "cell_type": "code",
      "metadata": {
        "colab": {
          "base_uri": "https://localhost:8080/",
          "height": 394
        },
        "id": "79614f1b",
        "outputId": "950a46f0-ecb3-40c1-a8d6-cb6f10c9a3ab"
      },
      "source": [
        "data.head()"
      ],
      "id": "79614f1b",
      "execution_count": null,
      "outputs": [
        {
          "output_type": "execute_result",
          "data": {
            "text/html": [
              "<div>\n",
              "<style scoped>\n",
              "    .dataframe tbody tr th:only-of-type {\n",
              "        vertical-align: middle;\n",
              "    }\n",
              "\n",
              "    .dataframe tbody tr th {\n",
              "        vertical-align: top;\n",
              "    }\n",
              "\n",
              "    .dataframe thead th {\n",
              "        text-align: right;\n",
              "    }\n",
              "</style>\n",
              "<table border=\"1\" class=\"dataframe\">\n",
              "  <thead>\n",
              "    <tr style=\"text-align: right;\">\n",
              "      <th></th>\n",
              "      <th>screen_name</th>\n",
              "      <th>state</th>\n",
              "      <th>position</th>\n",
              "      <th>name</th>\n",
              "      <th>party</th>\n",
              "      <th>tweet_count</th>\n",
              "      <th>text_concat</th>\n",
              "      <th>text_length</th>\n",
              "      <th>text_length_1</th>\n",
              "      <th>text_length_2</th>\n",
              "      <th>text_length_3</th>\n",
              "      <th>word_length</th>\n",
              "    </tr>\n",
              "  </thead>\n",
              "  <tbody>\n",
              "    <tr>\n",
              "      <th>0</th>\n",
              "      <td>RepBarragan</td>\n",
              "      <td>CA</td>\n",
              "      <td>Representative</td>\n",
              "      <td>Nanette Diaz Barrag_n</td>\n",
              "      <td>D</td>\n",
              "      <td>4553</td>\n",
              "      <td>So great to welcome SenSanders to CA44 for a r...</td>\n",
              "      <td>1571519</td>\n",
              "      <td>1570974</td>\n",
              "      <td>1570974</td>\n",
              "      <td>1449495</td>\n",
              "      <td>180653</td>\n",
              "    </tr>\n",
              "    <tr>\n",
              "      <th>1</th>\n",
              "      <td>ChrisMurphyCT</td>\n",
              "      <td>CT</td>\n",
              "      <td>Senator</td>\n",
              "      <td>Christopher Murphy</td>\n",
              "      <td>D</td>\n",
              "      <td>8793</td>\n",
              "      <td>New apartments new businesses and new restaura...</td>\n",
              "      <td>2801192</td>\n",
              "      <td>2800624</td>\n",
              "      <td>2800624</td>\n",
              "      <td>2598814</td>\n",
              "      <td>352609</td>\n",
              "    </tr>\n",
              "    <tr>\n",
              "      <th>2</th>\n",
              "      <td>RepSwalwell</td>\n",
              "      <td>CA</td>\n",
              "      <td>Representative</td>\n",
              "      <td>Eric Swalwell</td>\n",
              "      <td>D</td>\n",
              "      <td>5841</td>\n",
              "      <td>Literally the easiest fix we could make to sav...</td>\n",
              "      <td>1843540</td>\n",
              "      <td>1842810</td>\n",
              "      <td>1842810</td>\n",
              "      <td>1704609</td>\n",
              "      <td>223536</td>\n",
              "    </tr>\n",
              "    <tr>\n",
              "      <th>3</th>\n",
              "      <td>RepDonBeyer</td>\n",
              "      <td>VA</td>\n",
              "      <td>Representative</td>\n",
              "      <td>Donald Beyer Jr</td>\n",
              "      <td>D</td>\n",
              "      <td>18325</td>\n",
              "      <td>9 Baltimore students were killed with guns dur...</td>\n",
              "      <td>7087050</td>\n",
              "      <td>7085835</td>\n",
              "      <td>7085835</td>\n",
              "      <td>6576425</td>\n",
              "      <td>839968</td>\n",
              "    </tr>\n",
              "    <tr>\n",
              "      <th>4</th>\n",
              "      <td>WarrenDavidson</td>\n",
              "      <td>OH</td>\n",
              "      <td>Representative</td>\n",
              "      <td>Warren Davidson</td>\n",
              "      <td>R</td>\n",
              "      <td>3166</td>\n",
              "      <td>NetNeutralityReminder Obama used 1934 FCC rule...</td>\n",
              "      <td>958737</td>\n",
              "      <td>958292</td>\n",
              "      <td>958292</td>\n",
              "      <td>886492</td>\n",
              "      <td>112053</td>\n",
              "    </tr>\n",
              "  </tbody>\n",
              "</table>\n",
              "</div>"
            ],
            "text/plain": [
              "      screen_name state        position                   name party  \\\n",
              "0     RepBarragan    CA  Representative  Nanette Diaz Barrag_n     D   \n",
              "1   ChrisMurphyCT    CT         Senator     Christopher Murphy     D   \n",
              "2     RepSwalwell    CA  Representative          Eric Swalwell     D   \n",
              "3     RepDonBeyer    VA  Representative        Donald Beyer Jr     D   \n",
              "4  WarrenDavidson    OH  Representative        Warren Davidson     R   \n",
              "\n",
              "   tweet_count                                        text_concat  \\\n",
              "0         4553  So great to welcome SenSanders to CA44 for a r...   \n",
              "1         8793  New apartments new businesses and new restaura...   \n",
              "2         5841  Literally the easiest fix we could make to sav...   \n",
              "3        18325  9 Baltimore students were killed with guns dur...   \n",
              "4         3166  NetNeutralityReminder Obama used 1934 FCC rule...   \n",
              "\n",
              "   text_length  text_length_1  text_length_2  text_length_3  word_length  \n",
              "0      1571519        1570974        1570974        1449495       180653  \n",
              "1      2801192        2800624        2800624        2598814       352609  \n",
              "2      1843540        1842810        1842810        1704609       223536  \n",
              "3      7087050        7085835        7085835        6576425       839968  \n",
              "4       958737         958292         958292         886492       112053  "
            ]
          },
          "metadata": {
            "tags": []
          },
          "execution_count": 23
        }
      ]
    },
    {
      "cell_type": "code",
      "metadata": {
        "id": "cea2630a"
      },
      "source": [
        "# Find the 50 most common words in my corpus \n",
        "X = data['text_concat']\n",
        "\n",
        "cvec = CountVectorizer(max_features=50, stop_words=stopwords_full_words)\n",
        "\n",
        "cvec.fit(X);"
      ],
      "id": "cea2630a",
      "execution_count": null,
      "outputs": []
    },
    {
      "cell_type": "code",
      "metadata": {
        "colab": {
          "base_uri": "https://localhost:8080/"
        },
        "id": "80a8d7b0",
        "outputId": "afc04b2d-7825-4a65-e4f4-b018a0850f65"
      },
      "source": [
        "print(cvec.get_feature_names())"
      ],
      "id": "80a8d7b0",
      "execution_count": null,
      "outputs": [
        {
          "output_type": "stream",
          "text": [
            "['act', 'american', 'americans', 'amp', 'bill', 'bipartisan', 'care', 'communities', 'community', 'congress', 'continue', 'country', 'covid19', 'day', 'families', 'federal', 'great', 'health', 'help', 'house', 'im', 'important', 'like', 'national', 'need', 'new', 'people', 'president', 'protect', 'proud', 'public', 'qt', 'realdonaldtrump', 'right', 'rt', 'senate', 'state', 'support', 'thank', 'time', 'today', 'trump', 'vote', 'week', 'women', 'work', 'workers', 'working', 'year', 'years']\n"
          ],
          "name": "stdout"
        }
      ]
    },
    {
      "cell_type": "code",
      "metadata": {
        "id": "fd6633c8"
      },
      "source": [
        "# should I remove @tweet_handles?"
      ],
      "id": "fd6633c8",
      "execution_count": null,
      "outputs": []
    },
    {
      "cell_type": "code",
      "metadata": {
        "colab": {
          "base_uri": "https://localhost:8080/"
        },
        "id": "8aa36b66",
        "outputId": "7fcb5b25-cbf7-4b48-cc45-978dc4eb0784"
      },
      "source": [
        "# Adding some common words from above code\n",
        "custom_stopwords = ['rt', 'qt', 'im']\n",
        "for word in custom_stopwords:\n",
        "    stopwords.append(word)\n",
        "\n",
        "# Verify function worked & words were appended\n",
        "print(stopwords[-len(custom_stopwords):])\n",
        "print('-----------')\n",
        "print(stopwords)"
      ],
      "id": "8aa36b66",
      "execution_count": null,
      "outputs": [
        {
          "output_type": "stream",
          "text": [
            "['rt', 'qt', 'im']\n",
            "-----------\n",
            "['thru', 'several', 'yourself', 'less', '‘ll', 'whole', 'six', 'one', 'an', 'please', 'nobody', 'if', 'does', 'then', 'seems', 'with', 'at', 'would', 'between', 'see', 'thereupon', 'although', 'before', 'give', 'bottom', 'mostly', '’s', 'forty', 'into', 'throughout', 'back', 'few', 'yet', 'to', 'per', 'as', 'something', 'himself', 'much', '’m', 'down', 'doing', 'within', 'my', 'front', 'which', 'else', 'over', \"'ll\", 'anyhow', 'various', 'has', 'how', 'yours', 'others', 'unless', 'out', 'sixty', 'across', 'there', 'hereafter', 'noone', 'full', 'therein', 'whereby', 'whoever', 'ten', 'onto', '‘m', 'nine', 'a', 'cannot', 'whose', 'still', 'any', 'their', 'afterwards', 'yourselves', 'make', 'together', 'elsewhere', 'even', 'ever', '’re', 'these', 'mine', 'somehow', 'about', 'meanwhile', 'however', 'such', 'becomes', 'because', 'she', 'amount', 'hereby', 'above', 'you', 'is', 'on', 'thereby', 'many', 'same', 'that', 'myself', 'next', 'nowhere', 'done', 'go', 'three', 'move', 'whether', 'here', 'side', 'rather', 'against', 'every', 'those', 'most', '’ve', 'someone', 'under', 'call', 'where', 'why', 'had', \"'m\", 'or', 'i', 'too', 'was', 'the', 'wherever', 'none', 'again', '‘s', 'have', 'now', 'own', 'your', 'upon', 'fifty', 'somewhere', 'another', 'take', 'four', 'seeming', 'do', 'nothing', 'further', 'via', 'him', 'not', 'what', 'almost', \"'d\", 'also', 'hence', 'nevertheless', 'might', 'well', 'indeed', 'everything', 'seemed', 'moreover', 'fifteen', 'already', 'hundred', 'ours', 'besides', 'former', 'am', 'it', 'until', 'more', 'whence', 'enough', 'for', 'us', 'ourselves', 'whither', 'everyone', 'name', 'quite', 'therefore', 'very', \"'ve\", 'made', 'really', 'while', 'along', 'his', 'me', 'be', \"'s\", 'than', 'ca', 'eight', 'been', 'third', '‘ve', 'keep', 'due', 'latter', 'this', 'put', 'two', 'formerly', 'sometime', 'her', 'beforehand', 'anything', 'being', 'but', 'last', 'themselves', 'anyway', 'nor', 'behind', 'say', 'its', 'all', 'show', \"'re\", 'whereupon', 'he', 'who', 'and', 'whereafter', 'during', 'became', 'whatever', '’ll', 'may', 'except', 'herein', 'around', 'twenty', 'regarding', 'sometimes', 'without', 'eleven', 'our', 'serious', 'n‘t', 'whenever', 'could', 'among', 'otherwise', 'did', 'so', 'whom', 'were', 'though', 'anyone', 'they', 'becoming', 'through', 'below', 'are', 'after', 'in', 'hers', 'first', 'since', 'both', 'herself', 'everywhere', 'each', 'itself', 'thus', 'empty', '’d', 'beyond', 'either', 'once', 'top', 'wherein', 'amongst', 'other', 'can', 'hereupon', 'thereafter', 'toward', 'towards', 'always', 'thence', 'them', 'we', 'by', 'alone', 'seem', 'whereas', '‘re', 'n’t', 'will', 'perhaps', '‘d', 'using', 'part', 'just', 'up', 'five', 'often', 'neither', 'no', 'off', 'least', 'must', 'namely', 'from', 'anywhere', 'latterly', 'should', 'used', 'beside', 'become', 'never', \"n't\", 'twelve', 'only', 'get', 'some', 'of', 'when', 're', 'rt', 'qt', 'im']\n"
          ],
          "name": "stdout"
        }
      ]
    },
    {
      "cell_type": "code",
      "metadata": {
        "colab": {
          "base_uri": "https://localhost:8080/"
        },
        "id": "79658968",
        "outputId": "e890d8c1-f254-46dc-cde0-1855def8b687"
      },
      "source": [
        "data.info()"
      ],
      "id": "79658968",
      "execution_count": null,
      "outputs": [
        {
          "output_type": "stream",
          "text": [
            "<class 'pandas.core.frame.DataFrame'>\n",
            "RangeIndex: 626 entries, 0 to 625\n",
            "Data columns (total 12 columns):\n",
            " #   Column         Non-Null Count  Dtype \n",
            "---  ------         --------------  ----- \n",
            " 0   screen_name    626 non-null    object\n",
            " 1   state          626 non-null    object\n",
            " 2   position       626 non-null    object\n",
            " 3   name           626 non-null    object\n",
            " 4   party          626 non-null    object\n",
            " 5   tweet_count    626 non-null    int64 \n",
            " 6   text_concat    626 non-null    object\n",
            " 7   text_length    626 non-null    int64 \n",
            " 8   text_length_1  626 non-null    int64 \n",
            " 9   text_length_2  626 non-null    int64 \n",
            " 10  text_length_3  626 non-null    int64 \n",
            " 11  word_length    626 non-null    int64 \n",
            "dtypes: int64(6), object(6)\n",
            "memory usage: 58.8+ KB\n"
          ],
          "name": "stdout"
        }
      ]
    },
    {
      "cell_type": "code",
      "metadata": {
        "id": "871f5d22"
      },
      "source": [
        "# Function to to remove custom stop words list \n",
        "def remove_stopwords(doc):\n",
        "    no_stopwords_doc = []\n",
        "    for token in doc:\n",
        "        if token.text.lower() not in stopwords:\n",
        "            no_stopwords_doc.append(token)\n",
        "    return no_stopwords_doc"
      ],
      "id": "871f5d22",
      "execution_count": null,
      "outputs": []
    },
    {
      "cell_type": "code",
      "metadata": {
        "id": "b963737a"
      },
      "source": [
        "# Function to only keep nouns, verbs, adjectives, adverbs\n",
        "def keep_nous_verbs_adj_adv(token_list):\n",
        "    keep_nvaa = [token for token in token_list if token.pos_ in ['NOUN', 'PROPN', 'VERB', 'ADJ', 'ADV']]\n",
        "    return keep_nvaa"
      ],
      "id": "b963737a",
      "execution_count": null,
      "outputs": []
    },
    {
      "cell_type": "code",
      "metadata": {
        "id": "0664e766"
      },
      "source": [
        "# Function to lemmatize the tokens into a list of strings\n",
        "def lemmatizer(token_list):\n",
        "    lem_tokens = [token.lemma_ for token in token_list]\n",
        "    return lem_tokens"
      ],
      "id": "0664e766",
      "execution_count": null,
      "outputs": []
    },
    {
      "cell_type": "code",
      "metadata": {
        "id": "d696cbe7"
      },
      "source": [
        "# Function to return a list of Tokens\n",
        "def process_text(text):\n",
        "    text = nlp(text)\n",
        "    token_list = remove_stopwords(text)\n",
        "    token_list = keep_nous_verbs_adj_adv(token_list) \n",
        "    final_string = lemmatizer(token_list)\n",
        "    return final_string"
      ],
      "id": "d696cbe7",
      "execution_count": null,
      "outputs": []
    },
    {
      "cell_type": "code",
      "metadata": {
        "id": "eaa9bc97"
      },
      "source": [
        "# Define a function to turn a list of tokens into a spaCy Doc\n",
        "def make_spacy_doc(final_string):\n",
        "    spacy_doc = nlp(' '.join(final_string))\n",
        "    return spacy_doc"
      ],
      "id": "eaa9bc97",
      "execution_count": null,
      "outputs": []
    },
    {
      "cell_type": "code",
      "metadata": {
        "colab": {
          "base_uri": "https://localhost:8080/",
          "height": 411
        },
        "id": "1ae81cee",
        "outputId": "92727905-ae1f-418a-9c37-86cb89e90ef4"
      },
      "source": [
        "# Create a new column of processed spaCy docs\n",
        "# call process text function to invoke all functions\n",
        "data['text_concat_clean'] = [process_text(text_string) for text_string in data['text_concat']]\n",
        "\n",
        "data.head()"
      ],
      "id": "1ae81cee",
      "execution_count": null,
      "outputs": [
        {
          "output_type": "stream",
          "text": [
            "<class 'list'>\n"
          ],
          "name": "stdout"
        },
        {
          "output_type": "execute_result",
          "data": {
            "text/html": [
              "<div>\n",
              "<style scoped>\n",
              "    .dataframe tbody tr th:only-of-type {\n",
              "        vertical-align: middle;\n",
              "    }\n",
              "\n",
              "    .dataframe tbody tr th {\n",
              "        vertical-align: top;\n",
              "    }\n",
              "\n",
              "    .dataframe thead th {\n",
              "        text-align: right;\n",
              "    }\n",
              "</style>\n",
              "<table border=\"1\" class=\"dataframe\">\n",
              "  <thead>\n",
              "    <tr style=\"text-align: right;\">\n",
              "      <th></th>\n",
              "      <th>screen_name</th>\n",
              "      <th>state</th>\n",
              "      <th>position</th>\n",
              "      <th>name</th>\n",
              "      <th>party</th>\n",
              "      <th>tweet_count</th>\n",
              "      <th>text_concat</th>\n",
              "      <th>text_length</th>\n",
              "      <th>text_length_1</th>\n",
              "      <th>text_length_2</th>\n",
              "      <th>text_length_3</th>\n",
              "      <th>word_length</th>\n",
              "      <th>text_concat_clean</th>\n",
              "    </tr>\n",
              "  </thead>\n",
              "  <tbody>\n",
              "    <tr>\n",
              "      <th>0</th>\n",
              "      <td>RepBarragan</td>\n",
              "      <td>CA</td>\n",
              "      <td>Representative</td>\n",
              "      <td>Nanette Diaz Barrag_n</td>\n",
              "      <td>D</td>\n",
              "      <td>4553</td>\n",
              "      <td>So great to welcome SenSanders to CA44 for a r...</td>\n",
              "      <td>1571519</td>\n",
              "      <td>1570974</td>\n",
              "      <td>1570974</td>\n",
              "      <td>1449495</td>\n",
              "      <td>180653</td>\n",
              "      <td>[great, welcome, SenSanders, CA44, rally, stop...</td>\n",
              "    </tr>\n",
              "    <tr>\n",
              "      <th>1</th>\n",
              "      <td>ChrisMurphyCT</td>\n",
              "      <td>CT</td>\n",
              "      <td>Senator</td>\n",
              "      <td>Christopher Murphy</td>\n",
              "      <td>D</td>\n",
              "      <td>8793</td>\n",
              "      <td>New apartments new businesses and new restaura...</td>\n",
              "      <td>2801192</td>\n",
              "      <td>2800624</td>\n",
              "      <td>2800624</td>\n",
              "      <td>2598814</td>\n",
              "      <td>352609</td>\n",
              "      <td>[new, apartment, new, business, new, restauran...</td>\n",
              "    </tr>\n",
              "    <tr>\n",
              "      <th>2</th>\n",
              "      <td>RepSwalwell</td>\n",
              "      <td>CA</td>\n",
              "      <td>Representative</td>\n",
              "      <td>Eric Swalwell</td>\n",
              "      <td>D</td>\n",
              "      <td>5841</td>\n",
              "      <td>Literally the easiest fix we could make to sav...</td>\n",
              "      <td>1843540</td>\n",
              "      <td>1842810</td>\n",
              "      <td>1842810</td>\n",
              "      <td>1704609</td>\n",
              "      <td>223536</td>\n",
              "      <td>[literally, easy, fix, save, life, httpabsolut...</td>\n",
              "    </tr>\n",
              "    <tr>\n",
              "      <th>3</th>\n",
              "      <td>RepDonBeyer</td>\n",
              "      <td>VA</td>\n",
              "      <td>Representative</td>\n",
              "      <td>Donald Beyer Jr</td>\n",
              "      <td>D</td>\n",
              "      <td>18325</td>\n",
              "      <td>9 Baltimore students were killed with guns dur...</td>\n",
              "      <td>7087050</td>\n",
              "      <td>7085835</td>\n",
              "      <td>7085835</td>\n",
              "      <td>6576425</td>\n",
              "      <td>839968</td>\n",
              "      <td>[Baltimore, student, kill, gun, school, year, ...</td>\n",
              "    </tr>\n",
              "    <tr>\n",
              "      <th>4</th>\n",
              "      <td>WarrenDavidson</td>\n",
              "      <td>OH</td>\n",
              "      <td>Representative</td>\n",
              "      <td>Warren Davidson</td>\n",
              "      <td>R</td>\n",
              "      <td>3166</td>\n",
              "      <td>NetNeutralityReminder Obama used 1934 FCC rule...</td>\n",
              "      <td>958737</td>\n",
              "      <td>958292</td>\n",
              "      <td>958292</td>\n",
              "      <td>886492</td>\n",
              "      <td>112053</td>\n",
              "      <td>[netneutralityreminder, Obama, FCC, rule, appl...</td>\n",
              "    </tr>\n",
              "  </tbody>\n",
              "</table>\n",
              "</div>"
            ],
            "text/plain": [
              "      screen_name state        position                   name party  \\\n",
              "0     RepBarragan    CA  Representative  Nanette Diaz Barrag_n     D   \n",
              "1   ChrisMurphyCT    CT         Senator     Christopher Murphy     D   \n",
              "2     RepSwalwell    CA  Representative          Eric Swalwell     D   \n",
              "3     RepDonBeyer    VA  Representative        Donald Beyer Jr     D   \n",
              "4  WarrenDavidson    OH  Representative        Warren Davidson     R   \n",
              "\n",
              "   tweet_count                                        text_concat  \\\n",
              "0         4553  So great to welcome SenSanders to CA44 for a r...   \n",
              "1         8793  New apartments new businesses and new restaura...   \n",
              "2         5841  Literally the easiest fix we could make to sav...   \n",
              "3        18325  9 Baltimore students were killed with guns dur...   \n",
              "4         3166  NetNeutralityReminder Obama used 1934 FCC rule...   \n",
              "\n",
              "   text_length  text_length_1  text_length_2  text_length_3  word_length  \\\n",
              "0      1571519        1570974        1570974        1449495       180653   \n",
              "1      2801192        2800624        2800624        2598814       352609   \n",
              "2      1843540        1842810        1842810        1704609       223536   \n",
              "3      7087050        7085835        7085835        6576425       839968   \n",
              "4       958737         958292         958292         886492       112053   \n",
              "\n",
              "                                   text_concat_clean  \n",
              "0  [great, welcome, SenSanders, CA44, rally, stop...  \n",
              "1  [new, apartment, new, business, new, restauran...  \n",
              "2  [literally, easy, fix, save, life, httpabsolut...  \n",
              "3  [Baltimore, student, kill, gun, school, year, ...  \n",
              "4  [netneutralityreminder, Obama, FCC, rule, appl...  "
            ]
          },
          "metadata": {
            "tags": []
          },
          "execution_count": 38
        }
      ]
    },
    {
      "cell_type": "code",
      "metadata": {
        "id": "31f70292"
      },
      "source": [
        "# saving cleaned file to google drive\n",
        "data.to_csv('drive/MyDrive/Python/concat_df_clean_lg.csv')"
      ],
      "id": "31f70292",
      "execution_count": null,
      "outputs": []
    },
    {
      "cell_type": "code",
      "metadata": {
        "id": "auhJCADtGXAz"
      },
      "source": [
        ""
      ],
      "id": "auhJCADtGXAz",
      "execution_count": null,
      "outputs": []
    },
    {
      "cell_type": "code",
      "metadata": {
        "id": "9Ctfem8xGW39"
      },
      "source": [
        ""
      ],
      "id": "9Ctfem8xGW39",
      "execution_count": null,
      "outputs": []
    },
    {
      "cell_type": "code",
      "metadata": {
        "id": "hLIKWgCiGWwO"
      },
      "source": [
        ""
      ],
      "id": "hLIKWgCiGWwO",
      "execution_count": null,
      "outputs": []
    },
    {
      "cell_type": "code",
      "metadata": {
        "id": "YxRt1O6uGGwq"
      },
      "source": [
        "# read in saved data in order to vectorize it\n",
        "data = pd.read_csv('drive/MyDrive/Python/concat_df_clean_lg.csv')"
      ],
      "id": "YxRt1O6uGGwq",
      "execution_count": 50,
      "outputs": []
    },
    {
      "cell_type": "code",
      "metadata": {
        "id": "ZN67vXauQkt2"
      },
      "source": [
        "# Complete dataset causes kernel to crash.\n",
        "# overall dataset has been subdivided into 4 smaller dataframes for processing\n",
        "\n",
        "# data.iloc[0:4,:].to_csv('drive/MyDrive/Python/concat_df_clean_lg_0.csv', index=False)\n",
        "data.iloc[0:157,:].to_csv('drive/MyDrive/Python/concat_df_clean_lg_1.csv', index=False)\n",
        "data.iloc[158:315,:].to_csv('drive/MyDrive/Python/concat_df_clean_lg_2.csv', index=False)\n",
        "data.iloc[316:473,:].to_csv('drive/MyDrive/Python/concat_df_clean_lg_3.csv', index=False)\n",
        "data.iloc[474:626,:].to_csv('drive/MyDrive/Python/concat_df_clean_lg_4.csv', index=False)"
      ],
      "id": "ZN67vXauQkt2",
      "execution_count": 51,
      "outputs": []
    },
    {
      "cell_type": "code",
      "metadata": {
        "id": "Me7D-NQFRqPP"
      },
      "source": [
        "# data0 = pd.read_csv('drive/MyDrive/Python/concat_df_clean_lg_0.csv')\n",
        "data1 = pd.read_csv('drive/MyDrive/Python/concat_df_clean_lg_1.csv')\n",
        "data2 = pd.read_csv('drive/MyDrive/Python/concat_df_clean_lg_2.csv')\n",
        "data3 = pd.read_csv('drive/MyDrive/Python/concat_df_clean_lg_3.csv')\n",
        "data4 = pd.read_csv('drive/MyDrive/Python/concat_df_clean_lg_4.csv')"
      ],
      "id": "Me7D-NQFRqPP",
      "execution_count": 52,
      "outputs": []
    },
    {
      "cell_type": "code",
      "metadata": {
        "colab": {
          "base_uri": "https://localhost:8080/",
          "height": 301
        },
        "id": "K1j6d7d8YZfj",
        "outputId": "764e0df6-697c-4853-c345-b3f41e1e84ac"
      },
      "source": [
        "# Creating a string from the 'text_concat_clean' list column\n",
        "# list format will not work with spaCy\n",
        "# must be in list format for vectorization\n",
        "\n",
        "# data0['liststring'] = data0['text_concat_clean'].apply(lambda x: x[1:-1])\n",
        "# data0['liststring'] = data0['liststring'].str.replace(',','')\n",
        "\n",
        "data1['liststring'] = data1['text_concat_clean'].apply(lambda x: x[1:-1])\n",
        "data1['liststring'] = data1['liststring'].str.replace(',','')\n",
        "\n",
        "data2['liststring'] = data2['text_concat_clean'].apply(lambda x: x[1:-1])\n",
        "data2['liststring'] = data2['liststring'].str.replace(',','')\n",
        "\n",
        "data3['liststring'] = data3['text_concat_clean'].apply(lambda x: x[1:-1])\n",
        "data3['liststring'] = data3['liststring'].str.replace(',','')\n",
        "\n",
        "data4['liststring'] = data4['text_concat_clean'].apply(lambda x: x[1:-1])\n",
        "data4['liststring'] = data4['liststring'].str.replace(',','')\n",
        "\n",
        "\n",
        "\n",
        "# data1['liststring'] = [[' '.join(i)] for i in data1['text_concat_clean']]\n",
        "\n",
        "\n",
        "# data1[\"liststring\"]= data1[\"text_concat_clean\"].str.join(\"\")\n",
        "# data1['liststring'] = \" \".join(data1['text_concat_clean'])\n",
        "\n",
        "# data0['liststring'] = [' '.join(map(str, l)) for l in data0['text_concat_clean']]\n",
        "\n",
        "# data1['liststring'] = [' '.join(map(str, l)) for l in data1['text_concat_clean']]\n",
        "# data2['liststring'] = [' '.join(map(str, l)) for l in data2['text_concat_clean']]\n",
        "# data3['liststring'] = [' '.join(map(str, l)) for l in data3['text_concat_clean']]\n",
        "# data4['liststring'] = [' '.join(map(str, l)) for l in data4['text_concat_clean']]\n",
        "\n",
        "# data0.head(2)"
      ],
      "id": "K1j6d7d8YZfj",
      "execution_count": 53,
      "outputs": [
        {
          "output_type": "execute_result",
          "data": {
            "text/html": [
              "<div>\n",
              "<style scoped>\n",
              "    .dataframe tbody tr th:only-of-type {\n",
              "        vertical-align: middle;\n",
              "    }\n",
              "\n",
              "    .dataframe tbody tr th {\n",
              "        vertical-align: top;\n",
              "    }\n",
              "\n",
              "    .dataframe thead th {\n",
              "        text-align: right;\n",
              "    }\n",
              "</style>\n",
              "<table border=\"1\" class=\"dataframe\">\n",
              "  <thead>\n",
              "    <tr style=\"text-align: right;\">\n",
              "      <th></th>\n",
              "      <th>Unnamed: 0</th>\n",
              "      <th>screen_name</th>\n",
              "      <th>state</th>\n",
              "      <th>position</th>\n",
              "      <th>name</th>\n",
              "      <th>party</th>\n",
              "      <th>tweet_count</th>\n",
              "      <th>text_concat</th>\n",
              "      <th>text_length</th>\n",
              "      <th>text_length_1</th>\n",
              "      <th>text_length_2</th>\n",
              "      <th>text_length_3</th>\n",
              "      <th>word_length</th>\n",
              "      <th>text_concat_clean</th>\n",
              "      <th>liststring</th>\n",
              "      <th>vectors</th>\n",
              "    </tr>\n",
              "  </thead>\n",
              "  <tbody>\n",
              "    <tr>\n",
              "      <th>0</th>\n",
              "      <td>0</td>\n",
              "      <td>RepBarragan</td>\n",
              "      <td>CA</td>\n",
              "      <td>Representative</td>\n",
              "      <td>Nanette Diaz Barrag_n</td>\n",
              "      <td>D</td>\n",
              "      <td>4553</td>\n",
              "      <td>So great to welcome SenSanders to CA44 for a r...</td>\n",
              "      <td>1571519</td>\n",
              "      <td>1570974</td>\n",
              "      <td>1570974</td>\n",
              "      <td>1449495</td>\n",
              "      <td>180653</td>\n",
              "      <td>['great', 'welcome', 'SenSanders', 'CA44', 'ra...</td>\n",
              "      <td>'great' 'welcome' 'SenSanders' 'CA44' 'rally' ...</td>\n",
              "      <td>[-0.1952472637594289, 0.39182178540036694, 0.0...</td>\n",
              "    </tr>\n",
              "    <tr>\n",
              "      <th>1</th>\n",
              "      <td>1</td>\n",
              "      <td>ChrisMurphyCT</td>\n",
              "      <td>CT</td>\n",
              "      <td>Senator</td>\n",
              "      <td>Christopher Murphy</td>\n",
              "      <td>D</td>\n",
              "      <td>8793</td>\n",
              "      <td>New apartments new businesses and new restaura...</td>\n",
              "      <td>2801192</td>\n",
              "      <td>2800624</td>\n",
              "      <td>2800624</td>\n",
              "      <td>2598814</td>\n",
              "      <td>352609</td>\n",
              "      <td>['new', 'apartment', 'new', 'business', 'new',...</td>\n",
              "      <td>'new' 'apartment' 'new' 'business' 'new' 'rest...</td>\n",
              "      <td>[-0.207492859274217, 0.3944523199382951, 0.048...</td>\n",
              "    </tr>\n",
              "  </tbody>\n",
              "</table>\n",
              "</div>"
            ],
            "text/plain": [
              "   Unnamed: 0    screen_name state        position                   name  \\\n",
              "0           0    RepBarragan    CA  Representative  Nanette Diaz Barrag_n   \n",
              "1           1  ChrisMurphyCT    CT         Senator     Christopher Murphy   \n",
              "\n",
              "  party  tweet_count                                        text_concat  \\\n",
              "0     D         4553  So great to welcome SenSanders to CA44 for a r...   \n",
              "1     D         8793  New apartments new businesses and new restaura...   \n",
              "\n",
              "   text_length  text_length_1  text_length_2  text_length_3  word_length  \\\n",
              "0      1571519        1570974        1570974        1449495       180653   \n",
              "1      2801192        2800624        2800624        2598814       352609   \n",
              "\n",
              "                                   text_concat_clean  \\\n",
              "0  ['great', 'welcome', 'SenSanders', 'CA44', 'ra...   \n",
              "1  ['new', 'apartment', 'new', 'business', 'new',...   \n",
              "\n",
              "                                          liststring  \\\n",
              "0  'great' 'welcome' 'SenSanders' 'CA44' 'rally' ...   \n",
              "1  'new' 'apartment' 'new' 'business' 'new' 'rest...   \n",
              "\n",
              "                                             vectors  \n",
              "0  [-0.1952472637594289, 0.39182178540036694, 0.0...  \n",
              "1  [-0.207492859274217, 0.3944523199382951, 0.048...  "
            ]
          },
          "metadata": {
            "tags": []
          },
          "execution_count": 53
        }
      ]
    },
    {
      "cell_type": "code",
      "metadata": {
        "id": "15fa1102",
        "colab": {
          "base_uri": "https://localhost:8080/",
          "height": 318
        },
        "outputId": "63074d75-023f-4da4-f2ea-27e9754de176"
      },
      "source": [
        "# # Create a new column of each spaCy doc's vector\n",
        "\n",
        "# data0['vectors'] = [nlp(doc).vector for doc in data0['liststring']]\n",
        "\n",
        "# print(type(data0['vectors'][0]))\n",
        "\n",
        "# data0.head(2)"
      ],
      "id": "15fa1102",
      "execution_count": 46,
      "outputs": [
        {
          "output_type": "stream",
          "text": [
            "<class 'numpy.ndarray'>\n"
          ],
          "name": "stdout"
        },
        {
          "output_type": "execute_result",
          "data": {
            "text/html": [
              "<div>\n",
              "<style scoped>\n",
              "    .dataframe tbody tr th:only-of-type {\n",
              "        vertical-align: middle;\n",
              "    }\n",
              "\n",
              "    .dataframe tbody tr th {\n",
              "        vertical-align: top;\n",
              "    }\n",
              "\n",
              "    .dataframe thead th {\n",
              "        text-align: right;\n",
              "    }\n",
              "</style>\n",
              "<table border=\"1\" class=\"dataframe\">\n",
              "  <thead>\n",
              "    <tr style=\"text-align: right;\">\n",
              "      <th></th>\n",
              "      <th>Unnamed: 0</th>\n",
              "      <th>screen_name</th>\n",
              "      <th>state</th>\n",
              "      <th>position</th>\n",
              "      <th>name</th>\n",
              "      <th>party</th>\n",
              "      <th>tweet_count</th>\n",
              "      <th>text_concat</th>\n",
              "      <th>text_length</th>\n",
              "      <th>text_length_1</th>\n",
              "      <th>text_length_2</th>\n",
              "      <th>text_length_3</th>\n",
              "      <th>word_length</th>\n",
              "      <th>text_concat_clean</th>\n",
              "      <th>liststring</th>\n",
              "      <th>vectors</th>\n",
              "    </tr>\n",
              "  </thead>\n",
              "  <tbody>\n",
              "    <tr>\n",
              "      <th>0</th>\n",
              "      <td>0</td>\n",
              "      <td>RepBarragan</td>\n",
              "      <td>CA</td>\n",
              "      <td>Representative</td>\n",
              "      <td>Nanette Diaz Barrag_n</td>\n",
              "      <td>D</td>\n",
              "      <td>4553</td>\n",
              "      <td>So great to welcome SenSanders to CA44 for a r...</td>\n",
              "      <td>1571519</td>\n",
              "      <td>1570974</td>\n",
              "      <td>1570974</td>\n",
              "      <td>1449495</td>\n",
              "      <td>180653</td>\n",
              "      <td>['great', 'welcome', 'SenSanders', 'CA44', 'ra...</td>\n",
              "      <td>'great' 'welcome' 'SenSanders' 'CA44' 'rally' ...</td>\n",
              "      <td>[-0.1952472637594289, 0.39182178540036694, 0.0...</td>\n",
              "    </tr>\n",
              "    <tr>\n",
              "      <th>1</th>\n",
              "      <td>1</td>\n",
              "      <td>ChrisMurphyCT</td>\n",
              "      <td>CT</td>\n",
              "      <td>Senator</td>\n",
              "      <td>Christopher Murphy</td>\n",
              "      <td>D</td>\n",
              "      <td>8793</td>\n",
              "      <td>New apartments new businesses and new restaura...</td>\n",
              "      <td>2801192</td>\n",
              "      <td>2800624</td>\n",
              "      <td>2800624</td>\n",
              "      <td>2598814</td>\n",
              "      <td>352609</td>\n",
              "      <td>['new', 'apartment', 'new', 'business', 'new',...</td>\n",
              "      <td>'new' 'apartment' 'new' 'business' 'new' 'rest...</td>\n",
              "      <td>[-0.207492859274217, 0.3944523199382951, 0.048...</td>\n",
              "    </tr>\n",
              "  </tbody>\n",
              "</table>\n",
              "</div>"
            ],
            "text/plain": [
              "   Unnamed: 0    screen_name state        position                   name  \\\n",
              "0           0    RepBarragan    CA  Representative  Nanette Diaz Barrag_n   \n",
              "1           1  ChrisMurphyCT    CT         Senator     Christopher Murphy   \n",
              "\n",
              "  party  tweet_count                                        text_concat  \\\n",
              "0     D         4553  So great to welcome SenSanders to CA44 for a r...   \n",
              "1     D         8793  New apartments new businesses and new restaura...   \n",
              "\n",
              "   text_length  text_length_1  text_length_2  text_length_3  word_length  \\\n",
              "0      1571519        1570974        1570974        1449495       180653   \n",
              "1      2801192        2800624        2800624        2598814       352609   \n",
              "\n",
              "                                   text_concat_clean  \\\n",
              "0  ['great', 'welcome', 'SenSanders', 'CA44', 'ra...   \n",
              "1  ['new', 'apartment', 'new', 'business', 'new',...   \n",
              "\n",
              "                                          liststring  \\\n",
              "0  'great' 'welcome' 'SenSanders' 'CA44' 'rally' ...   \n",
              "1  'new' 'apartment' 'new' 'business' 'new' 'rest...   \n",
              "\n",
              "                                             vectors  \n",
              "0  [-0.1952472637594289, 0.39182178540036694, 0.0...  \n",
              "1  [-0.207492859274217, 0.3944523199382951, 0.048...  "
            ]
          },
          "metadata": {
            "tags": []
          },
          "execution_count": 46
        }
      ]
    },
    {
      "cell_type": "code",
      "metadata": {
        "id": "0631wQBS5h1P"
      },
      "source": [
        "# saving cleaned file to google drive\n",
        "# the file MUST be saved as .json due to .csv files dropping vector column formatting\n",
        "data0.to_json('drive/MyDrive/Python/tweet_vectors_0.json')"
      ],
      "id": "0631wQBS5h1P",
      "execution_count": null,
      "outputs": []
    },
    {
      "cell_type": "code",
      "metadata": {
        "id": "tsosblIB106Y"
      },
      "source": [
        "# Create a new column of each spaCy doc's vector\n",
        "# Processing sub-dataframe chunk 1\n",
        "data1['vectors'] = [nlp(doc).vector for doc in data1['liststring']]\n",
        "\n",
        "print(type(data1['vectors'][0]))\n",
        "\n",
        "data1.head(2)"
      ],
      "id": "tsosblIB106Y",
      "execution_count": null,
      "outputs": []
    },
    {
      "cell_type": "code",
      "metadata": {
        "id": "lwW0qiaS5RsL"
      },
      "source": [
        "# saving cleaned file to google drive\n",
        "# the file MUST be saved as .json due to .csv files dropping vector column formatting\n",
        "data1.to_json('drive/MyDrive/Python/tweet_vectors_1.json')"
      ],
      "id": "lwW0qiaS5RsL",
      "execution_count": null,
      "outputs": []
    },
    {
      "cell_type": "code",
      "metadata": {
        "colab": {
          "base_uri": "https://localhost:8080/",
          "height": 284
        },
        "id": "yPHwrIIf10qb",
        "outputId": "25f8acc4-7e9b-4f2c-9bff-d5c853f57b09"
      },
      "source": [
        "# Create a new column of each spaCy doc's vector\n",
        "# Processing sub-dataframe chunk 2\n",
        "data2['vectors'] = [nlp(doc).vector for doc in data2['liststring']]\n",
        "\n",
        "print(type(data2['vectors'][0]))\n",
        "\n",
        "data2.head(2)"
      ],
      "id": "yPHwrIIf10qb",
      "execution_count": 54,
      "outputs": [
        {
          "output_type": "stream",
          "text": [
            "<class 'numpy.ndarray'>\n"
          ],
          "name": "stdout"
        },
        {
          "output_type": "execute_result",
          "data": {
            "text/html": [
              "<div>\n",
              "<style scoped>\n",
              "    .dataframe tbody tr th:only-of-type {\n",
              "        vertical-align: middle;\n",
              "    }\n",
              "\n",
              "    .dataframe tbody tr th {\n",
              "        vertical-align: top;\n",
              "    }\n",
              "\n",
              "    .dataframe thead th {\n",
              "        text-align: right;\n",
              "    }\n",
              "</style>\n",
              "<table border=\"1\" class=\"dataframe\">\n",
              "  <thead>\n",
              "    <tr style=\"text-align: right;\">\n",
              "      <th></th>\n",
              "      <th>Unnamed: 0</th>\n",
              "      <th>screen_name</th>\n",
              "      <th>state</th>\n",
              "      <th>position</th>\n",
              "      <th>name</th>\n",
              "      <th>party</th>\n",
              "      <th>tweet_count</th>\n",
              "      <th>text_concat</th>\n",
              "      <th>text_length</th>\n",
              "      <th>text_length_1</th>\n",
              "      <th>text_length_2</th>\n",
              "      <th>text_length_3</th>\n",
              "      <th>word_length</th>\n",
              "      <th>text_concat_clean</th>\n",
              "      <th>liststring</th>\n",
              "      <th>vectors</th>\n",
              "    </tr>\n",
              "  </thead>\n",
              "  <tbody>\n",
              "    <tr>\n",
              "      <th>0</th>\n",
              "      <td>158</td>\n",
              "      <td>SenDougJones</td>\n",
              "      <td>AL</td>\n",
              "      <td>Senator</td>\n",
              "      <td>Doug Jones</td>\n",
              "      <td>D</td>\n",
              "      <td>1760</td>\n",
              "      <td>Still waiting to hear back from the bhambarons...</td>\n",
              "      <td>563716</td>\n",
              "      <td>563533</td>\n",
              "      <td>563533</td>\n",
              "      <td>521567</td>\n",
              "      <td>68069</td>\n",
              "      <td>['wait', 'hear', 'bhambaron', 'spot', 'rotatio...</td>\n",
              "      <td>'wait' 'hear' 'bhambaron' 'spot' 'rotation' 'f...</td>\n",
              "      <td>[-0.1972977185165926, 0.4062525852084712, 0.04...</td>\n",
              "    </tr>\n",
              "    <tr>\n",
              "      <th>1</th>\n",
              "      <td>159</td>\n",
              "      <td>SenatorCardin</td>\n",
              "      <td>MD</td>\n",
              "      <td>Senator</td>\n",
              "      <td>Benjamin Cardin</td>\n",
              "      <td>D</td>\n",
              "      <td>2818</td>\n",
              "      <td>Thank you to all the partners who made this po...</td>\n",
              "      <td>962541</td>\n",
              "      <td>962448</td>\n",
              "      <td>962448</td>\n",
              "      <td>899387</td>\n",
              "      <td>119618</td>\n",
              "      <td>['thank', 'partner', 'possible', 'develop', 'g...</td>\n",
              "      <td>'thank' 'partner' 'possible' 'develop' 'good' ...</td>\n",
              "      <td>[-0.20329654665282496, 0.39419712725714107, 0....</td>\n",
              "    </tr>\n",
              "  </tbody>\n",
              "</table>\n",
              "</div>"
            ],
            "text/plain": [
              "   Unnamed: 0    screen_name state position             name party  \\\n",
              "0         158   SenDougJones    AL  Senator       Doug Jones     D   \n",
              "1         159  SenatorCardin    MD  Senator  Benjamin Cardin     D   \n",
              "\n",
              "   tweet_count                                        text_concat  \\\n",
              "0         1760  Still waiting to hear back from the bhambarons...   \n",
              "1         2818  Thank you to all the partners who made this po...   \n",
              "\n",
              "   text_length  text_length_1  text_length_2  text_length_3  word_length  \\\n",
              "0       563716         563533         563533         521567        68069   \n",
              "1       962541         962448         962448         899387       119618   \n",
              "\n",
              "                                   text_concat_clean  \\\n",
              "0  ['wait', 'hear', 'bhambaron', 'spot', 'rotatio...   \n",
              "1  ['thank', 'partner', 'possible', 'develop', 'g...   \n",
              "\n",
              "                                          liststring  \\\n",
              "0  'wait' 'hear' 'bhambaron' 'spot' 'rotation' 'f...   \n",
              "1  'thank' 'partner' 'possible' 'develop' 'good' ...   \n",
              "\n",
              "                                             vectors  \n",
              "0  [-0.1972977185165926, 0.4062525852084712, 0.04...  \n",
              "1  [-0.20329654665282496, 0.39419712725714107, 0....  "
            ]
          },
          "metadata": {
            "tags": []
          },
          "execution_count": 54
        }
      ]
    },
    {
      "cell_type": "code",
      "metadata": {
        "id": "syVfQPVq5Se_"
      },
      "source": [
        "# saving cleaned file to google drive\n",
        "# the file MUST be saved as .json due to .csv files dropping vector column formatting\n",
        "data2.to_json('drive/MyDrive/Python/tweet_vectors_2.json')"
      ],
      "id": "syVfQPVq5Se_",
      "execution_count": 55,
      "outputs": []
    },
    {
      "cell_type": "code",
      "metadata": {
        "colab": {
          "base_uri": "https://localhost:8080/",
          "height": 301
        },
        "id": "KZeOwyy210Rp",
        "outputId": "5aab35f9-7765-4c68-fe2b-b8b6432038dc"
      },
      "source": [
        "# Create a new column of each spaCy doc's vector\n",
        "# Processing sub-dataframe chunk 3\n",
        "data3['vectors'] = [nlp(doc).vector for doc in data3['liststring']]\n",
        "\n",
        "print(type(data3['vectors'][0]))\n",
        "\n",
        "data3.head(2)"
      ],
      "id": "KZeOwyy210Rp",
      "execution_count": 56,
      "outputs": [
        {
          "output_type": "stream",
          "text": [
            "<class 'numpy.ndarray'>\n"
          ],
          "name": "stdout"
        },
        {
          "output_type": "execute_result",
          "data": {
            "text/html": [
              "<div>\n",
              "<style scoped>\n",
              "    .dataframe tbody tr th:only-of-type {\n",
              "        vertical-align: middle;\n",
              "    }\n",
              "\n",
              "    .dataframe tbody tr th {\n",
              "        vertical-align: top;\n",
              "    }\n",
              "\n",
              "    .dataframe thead th {\n",
              "        text-align: right;\n",
              "    }\n",
              "</style>\n",
              "<table border=\"1\" class=\"dataframe\">\n",
              "  <thead>\n",
              "    <tr style=\"text-align: right;\">\n",
              "      <th></th>\n",
              "      <th>Unnamed: 0</th>\n",
              "      <th>screen_name</th>\n",
              "      <th>state</th>\n",
              "      <th>position</th>\n",
              "      <th>name</th>\n",
              "      <th>party</th>\n",
              "      <th>tweet_count</th>\n",
              "      <th>text_concat</th>\n",
              "      <th>text_length</th>\n",
              "      <th>text_length_1</th>\n",
              "      <th>text_length_2</th>\n",
              "      <th>text_length_3</th>\n",
              "      <th>word_length</th>\n",
              "      <th>text_concat_clean</th>\n",
              "      <th>liststring</th>\n",
              "      <th>vectors</th>\n",
              "    </tr>\n",
              "  </thead>\n",
              "  <tbody>\n",
              "    <tr>\n",
              "      <th>0</th>\n",
              "      <td>316</td>\n",
              "      <td>SenDanSullivan</td>\n",
              "      <td>AK</td>\n",
              "      <td>Senator</td>\n",
              "      <td>Dan Sullivan</td>\n",
              "      <td>R</td>\n",
              "      <td>1560</td>\n",
              "      <td>Welcome home to JBERs 425 The Spartan Brigade ...</td>\n",
              "      <td>522905</td>\n",
              "      <td>522531</td>\n",
              "      <td>522531</td>\n",
              "      <td>487221</td>\n",
              "      <td>63572</td>\n",
              "      <td>['welcome', 'home', 'jber', 'Spartan', 'Brigad...</td>\n",
              "      <td>'welcome' 'home' 'jber' 'Spartan' 'Brigade' 'o...</td>\n",
              "      <td>[-0.1912793333453031, 0.386952533994063, 0.056...</td>\n",
              "    </tr>\n",
              "    <tr>\n",
              "      <th>1</th>\n",
              "      <td>317</td>\n",
              "      <td>RepRickAllen</td>\n",
              "      <td>GA</td>\n",
              "      <td>Representative</td>\n",
              "      <td>Rick Allen</td>\n",
              "      <td>R</td>\n",
              "      <td>1220</td>\n",
              "      <td>With unemployment at an EIGHTEEN year low our ...</td>\n",
              "      <td>362507</td>\n",
              "      <td>362437</td>\n",
              "      <td>362437</td>\n",
              "      <td>336407</td>\n",
              "      <td>41820</td>\n",
              "      <td>['unemployment', 'EIGHTEEN', 'year', 'low', 'r...</td>\n",
              "      <td>'unemployment' 'EIGHTEEN' 'year' 'low' 'republ...</td>\n",
              "      <td>[-0.19739281317865115, 0.3998015770155939, 0.0...</td>\n",
              "    </tr>\n",
              "  </tbody>\n",
              "</table>\n",
              "</div>"
            ],
            "text/plain": [
              "   Unnamed: 0     screen_name state        position          name party  \\\n",
              "0         316  SenDanSullivan    AK         Senator  Dan Sullivan     R   \n",
              "1         317    RepRickAllen    GA  Representative    Rick Allen     R   \n",
              "\n",
              "   tweet_count                                        text_concat  \\\n",
              "0         1560  Welcome home to JBERs 425 The Spartan Brigade ...   \n",
              "1         1220  With unemployment at an EIGHTEEN year low our ...   \n",
              "\n",
              "   text_length  text_length_1  text_length_2  text_length_3  word_length  \\\n",
              "0       522905         522531         522531         487221        63572   \n",
              "1       362507         362437         362437         336407        41820   \n",
              "\n",
              "                                   text_concat_clean  \\\n",
              "0  ['welcome', 'home', 'jber', 'Spartan', 'Brigad...   \n",
              "1  ['unemployment', 'EIGHTEEN', 'year', 'low', 'r...   \n",
              "\n",
              "                                          liststring  \\\n",
              "0  'welcome' 'home' 'jber' 'Spartan' 'Brigade' 'o...   \n",
              "1  'unemployment' 'EIGHTEEN' 'year' 'low' 'republ...   \n",
              "\n",
              "                                             vectors  \n",
              "0  [-0.1912793333453031, 0.386952533994063, 0.056...  \n",
              "1  [-0.19739281317865115, 0.3998015770155939, 0.0...  "
            ]
          },
          "metadata": {
            "tags": []
          },
          "execution_count": 56
        }
      ]
    },
    {
      "cell_type": "code",
      "metadata": {
        "id": "VkeAVJyi5aX9"
      },
      "source": [
        "# saving cleaned file to google drive\n",
        "# the file MUST be saved as .json due to .csv files dropping vector column formatting\n",
        "data3.to_json('drive/MyDrive/Python/tweet_vectors_3.json')"
      ],
      "id": "VkeAVJyi5aX9",
      "execution_count": 57,
      "outputs": []
    },
    {
      "cell_type": "code",
      "metadata": {
        "colab": {
          "base_uri": "https://localhost:8080/",
          "height": 284
        },
        "id": "lfY40ctU2aAz",
        "outputId": "30893200-7351-4e94-f1f9-94e6b66b5748"
      },
      "source": [
        "# Create a new column of each spaCy doc's vector\n",
        "# Processing sub-dataframe chunk 4\n",
        "data4['vectors'] = [nlp(doc).vector for doc in data4['liststring']]\n",
        "\n",
        "print(type(data4['vectors'][0]))\n",
        "\n",
        "data4.head(2)"
      ],
      "id": "lfY40ctU2aAz",
      "execution_count": 58,
      "outputs": [
        {
          "output_type": "stream",
          "text": [
            "<class 'numpy.ndarray'>\n"
          ],
          "name": "stdout"
        },
        {
          "output_type": "execute_result",
          "data": {
            "text/html": [
              "<div>\n",
              "<style scoped>\n",
              "    .dataframe tbody tr th:only-of-type {\n",
              "        vertical-align: middle;\n",
              "    }\n",
              "\n",
              "    .dataframe tbody tr th {\n",
              "        vertical-align: top;\n",
              "    }\n",
              "\n",
              "    .dataframe thead th {\n",
              "        text-align: right;\n",
              "    }\n",
              "</style>\n",
              "<table border=\"1\" class=\"dataframe\">\n",
              "  <thead>\n",
              "    <tr style=\"text-align: right;\">\n",
              "      <th></th>\n",
              "      <th>Unnamed: 0</th>\n",
              "      <th>screen_name</th>\n",
              "      <th>state</th>\n",
              "      <th>position</th>\n",
              "      <th>name</th>\n",
              "      <th>party</th>\n",
              "      <th>tweet_count</th>\n",
              "      <th>text_concat</th>\n",
              "      <th>text_length</th>\n",
              "      <th>text_length_1</th>\n",
              "      <th>text_length_2</th>\n",
              "      <th>text_length_3</th>\n",
              "      <th>word_length</th>\n",
              "      <th>text_concat_clean</th>\n",
              "      <th>liststring</th>\n",
              "      <th>vectors</th>\n",
              "    </tr>\n",
              "  </thead>\n",
              "  <tbody>\n",
              "    <tr>\n",
              "      <th>0</th>\n",
              "      <td>474</td>\n",
              "      <td>CongPalazzo</td>\n",
              "      <td>MS</td>\n",
              "      <td>Representative</td>\n",
              "      <td>Steven Palazzo</td>\n",
              "      <td>R</td>\n",
              "      <td>2496</td>\n",
              "      <td>As Mississippi reopens we should still do all ...</td>\n",
              "      <td>787709</td>\n",
              "      <td>786846</td>\n",
              "      <td>786846</td>\n",
              "      <td>725544</td>\n",
              "      <td>90501</td>\n",
              "      <td>['Mississippi', 'reopen', 'protect', 'health',...</td>\n",
              "      <td>'Mississippi' 'reopen' 'protect' 'health' 'saf...</td>\n",
              "      <td>[-0.19360094894341023, 0.39765584571440243, 0....</td>\n",
              "    </tr>\n",
              "    <tr>\n",
              "      <th>1</th>\n",
              "      <td>475</td>\n",
              "      <td>RepMarkGreen</td>\n",
              "      <td>TN</td>\n",
              "      <td>Representative</td>\n",
              "      <td>Mark Green</td>\n",
              "      <td>R</td>\n",
              "      <td>2870</td>\n",
              "      <td>Anarchy is not equal to freedom Anarchy is a t...</td>\n",
              "      <td>936960</td>\n",
              "      <td>936485</td>\n",
              "      <td>936485</td>\n",
              "      <td>865887</td>\n",
              "      <td>106606</td>\n",
              "      <td>['anarchy', 'equal', 'freedom', 'anarchy', 'th...</td>\n",
              "      <td>'anarchy' 'equal' 'freedom' 'anarchy' 'threat'...</td>\n",
              "      <td>[-0.2089500012087487, 0.39175376067361734, 0.0...</td>\n",
              "    </tr>\n",
              "  </tbody>\n",
              "</table>\n",
              "</div>"
            ],
            "text/plain": [
              "   Unnamed: 0   screen_name state        position            name party  \\\n",
              "0         474   CongPalazzo    MS  Representative  Steven Palazzo     R   \n",
              "1         475  RepMarkGreen    TN  Representative      Mark Green     R   \n",
              "\n",
              "   tweet_count                                        text_concat  \\\n",
              "0         2496  As Mississippi reopens we should still do all ...   \n",
              "1         2870  Anarchy is not equal to freedom Anarchy is a t...   \n",
              "\n",
              "   text_length  text_length_1  text_length_2  text_length_3  word_length  \\\n",
              "0       787709         786846         786846         725544        90501   \n",
              "1       936960         936485         936485         865887       106606   \n",
              "\n",
              "                                   text_concat_clean  \\\n",
              "0  ['Mississippi', 'reopen', 'protect', 'health',...   \n",
              "1  ['anarchy', 'equal', 'freedom', 'anarchy', 'th...   \n",
              "\n",
              "                                          liststring  \\\n",
              "0  'Mississippi' 'reopen' 'protect' 'health' 'saf...   \n",
              "1  'anarchy' 'equal' 'freedom' 'anarchy' 'threat'...   \n",
              "\n",
              "                                             vectors  \n",
              "0  [-0.19360094894341023, 0.39765584571440243, 0....  \n",
              "1  [-0.2089500012087487, 0.39175376067361734, 0.0...  "
            ]
          },
          "metadata": {
            "tags": []
          },
          "execution_count": 58
        }
      ]
    },
    {
      "cell_type": "code",
      "metadata": {
        "id": "uIwybaHi2Z1I"
      },
      "source": [
        "# saving cleaned file to google drive\n",
        "# the file MUST be saved as .json due to .csv files dropping vector column formatting\n",
        "data4.to_json('drive/MyDrive/Python/tweet_vectors_4.json')"
      ],
      "id": "uIwybaHi2Z1I",
      "execution_count": 59,
      "outputs": []
    },
    {
      "cell_type": "code",
      "metadata": {
        "id": "sq9SM53CvoQ5"
      },
      "source": [
        ""
      ],
      "id": "sq9SM53CvoQ5",
      "execution_count": null,
      "outputs": []
    }
  ]
}