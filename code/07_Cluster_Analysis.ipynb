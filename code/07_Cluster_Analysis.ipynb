{
 "cells": [
  {
   "cell_type": "code",
   "execution_count": null,
   "id": "bca53032",
   "metadata": {},
   "outputs": [],
   "source": []
  },
  {
   "cell_type": "code",
   "execution_count": 1,
   "id": "63b8969e",
   "metadata": {},
   "outputs": [],
   "source": [
    "# # If running in google colab:\n",
    "# from google.colab import drive\n",
    "# drive.mount('/content/drive/', force_remount=True)"
   ]
  },
  {
   "cell_type": "code",
   "execution_count": 2,
   "id": "711c07a3",
   "metadata": {},
   "outputs": [],
   "source": [
    "import numpy as np\n",
    "import pandas as pd\n",
    "import scipy.stats as stats\n",
    "import seaborn as sns\n",
    "import matplotlib.pyplot as plt\n",
    "\n",
    "from textblob import TextBlob, Word"
   ]
  },
  {
   "cell_type": "code",
   "execution_count": 3,
   "id": "2752e28c",
   "metadata": {},
   "outputs": [],
   "source": [
    "# Read in data\n",
    "data = pd.read_csv('../data/vectors_labels_df.csv')\n",
    "\n",
    "# # Read in data from Google Colab. Update directory accordingly.\n",
    "# data = pd.read_csv('/content/drive/MyDrive/Python/vectors_labels_df.csv')"
   ]
  },
  {
   "cell_type": "code",
   "execution_count": 4,
   "id": "eb8d1f19",
   "metadata": {},
   "outputs": [],
   "source": [
    "# Using TextBlob to find sentiment score for each politician's doc\n",
    "# https://stackabuse.com/sentiment-analysis-in-python-with-textblob/\n",
    "# https://towardsdatascience.com/aspect-based-sentiment-analysis-using-spacy-textblob-4c8de3e0d2b9\n",
    "\n",
    "data['sentiment'] = [TextBlob(i).sentiment.polarity for i in data['liststring']]"
   ]
  },
  {
   "cell_type": "code",
   "execution_count": null,
   "id": "3e25e6f2",
   "metadata": {},
   "outputs": [],
   "source": []
  }
 ],
 "metadata": {
  "kernelspec": {
   "display_name": "Python 3",
   "language": "python",
   "name": "python3"
  },
  "language_info": {
   "codemirror_mode": {
    "name": "ipython",
    "version": 3
   },
   "file_extension": ".py",
   "mimetype": "text/x-python",
   "name": "python",
   "nbconvert_exporter": "python",
   "pygments_lexer": "ipython3",
   "version": "3.8.8"
  }
 },
 "nbformat": 4,
 "nbformat_minor": 5
}
