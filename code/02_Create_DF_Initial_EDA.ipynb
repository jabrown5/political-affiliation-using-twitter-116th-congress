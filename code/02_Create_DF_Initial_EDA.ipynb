{
 "cells": [
  {
   "cell_type": "markdown",
   "id": "f507e2ed",
   "metadata": {},
   "source": [
    "# Cleaning and Exploratory Data Analysis"
   ]
  },
  {
   "cell_type": "markdown",
   "id": "bebfe047",
   "metadata": {},
   "source": [
    "\n",
    "**Identifies which of the three proposals you outlined in your lightning talk you have chosen**\n",
    "\n",
    "I have chosen to analyze twitter data (tweets) of United States Senators and Representatives from the start of 2018 to the end of 2020. I will attempt to determine if there is greater diversity in political groupings than simply Republican and Democrat based on the language used by these public figures.\n",
    "\n",
    "\n",
    "**Articulates the main goal of your project (your problem statement)**\n",
    "\n",
    "Using Natural Language Processing (NLP) and the unsupervised models of DBSCAN or K-Means clustering, I will examine twitter data (tweets) to determine if there is greater diversity in political ideology than simply Republican and Democrat. Specifically, are there more clearly defined clusters of political ideologies? Lastly, I will outline the characteristics or language that makes each cluster unique.\n",
    "\n",
    "\n",
    "**Outlines your proposed methods and models**\n",
    "\n",
    "I will use Natural Language Processing (NLP) and model with DBSCAN clustering or K-Means clustering.  SpaCy, an NLP python library, will be used to help me process the tweets. This will be the MVP.\n",
    "\n",
    "Some stretch goals would be a sentiment analysis of the tweets by these clusters but perhaps also by political affiliation\n",
    "\n",
    "A final, very stretched out goal, would be to create a dashboard or web app that updates automatically with the sentiments of the day from members of the US Congress.\n",
    "\n",
    "\n",
    "**Defines the risks & assumptions of your data**\n",
    "\n",
    "An assumption I am operating on is that the tweets will be qualitatively different and so will yield interesting findings. This may not actually be the case.\n",
    "\n",
    "A risk of this project is that the data will have a high level of dimensionality and so may prove somewhat difficult to navigate.\n",
    "\n",
    "\n",
    "**Revises initial goals & success criteria, as needed**\n",
    "\n",
    "This will be necessary.\n",
    "\n",
    "\n",
    "**Initial data source**\n",
    "\n",
    "Tweets scraped from archive found at: \n",
    "- https://github.com/alexlitel/congresstweets\n",
    "\n",
    "Twitter handles of elected Senators and Representatives found at: \n",
    "- https://www.sbh4all.org/wp-content/uploads/2019/04/116th-Congress-Twitter-Handles.pdf\n",
    "\n",
    "Political party affiliations:\n",
    "- https://en.wikipedia.org/wiki/116th_United_States_Congress"
   ]
  },
  {
   "cell_type": "markdown",
   "id": "c770dd4d",
   "metadata": {},
   "source": [
    "## Read in Libraries"
   ]
  },
  {
   "cell_type": "code",
   "execution_count": 1,
   "id": "4f363d14",
   "metadata": {},
   "outputs": [],
   "source": [
    "import pandas as pd\n",
    "import numpy as np\n",
    "import seaborn as sns\n",
    "import matplotlib.pyplot as plt\n",
    "\n",
    "pd.set_option('display.max_columns', None)\n",
    "pd.set_option('display.max_rows', None)"
   ]
  },
  {
   "cell_type": "markdown",
   "id": "dc471521",
   "metadata": {},
   "source": [
    "## Preliminary Cleaning, Creation of Dataframe\n",
    "\n",
    "### Skip if dataframe has already been created and skip to \"Read In Cleaned Data and Further EDA\" section"
   ]
  },
  {
   "cell_type": "code",
   "execution_count": 2,
   "id": "fff90363",
   "metadata": {},
   "outputs": [],
   "source": [
    "# Tweets of the 116th Congress (Jan 3, 2019 - Jan 3, 2021)\n",
    "df116_1 = pd.read_csv('../data/scrape/tweet_df_116_1.csv')\n",
    "df116_2 = pd.read_csv('../data/scrape/tweet_df_116_2.csv')\n",
    "df116_3 = pd.read_csv('../data/scrape/tweet_df_116_3.csv')\n",
    "df116_4 = pd.read_csv('../data/scrape/tweet_df_116_4.csv')\n",
    "df116_5 = pd.read_csv('../data/scrape/tweet_df_116_5.csv')\n",
    "df116_6 = pd.read_csv('../data/scrape/tweet_df_116_6.csv')\n",
    "df116_7 = pd.read_csv('../data/scrape/tweet_df_116_7.csv')\n",
    "df116_8 = pd.read_csv('../data/scrape/tweet_df_116_8.csv')\n",
    "df116_9 = pd.read_csv('../data/scrape/tweet_df_116_9.csv')\n",
    "df116_10 = pd.read_csv('../data/scrape/tweet_df_116_10.csv')\n",
    "df116_11 = pd.read_csv('../data/scrape/tweet_df_116_11.csv')\n",
    "df116_12 = pd.read_csv('../data/scrape/tweet_df_116_12.csv')\n",
    "df116_13 = pd.read_csv('../data/scrape/tweet_df_116_13.csv')\n",
    "df116_14 = pd.read_csv('../data/scrape/tweet_df_116_14.csv')\n",
    "df116_15 = pd.read_csv('../data/scrape/tweet_df_116_15.csv')\n",
    "\n",
    "# datafiles containing only elected senators / reps, political affiliation, state\n",
    "# excludes special interest groups / personal twitter handles / lobbyists, etc.\n",
    "df116_handles = pd.read_csv('../data/twitter_handles/116_congress_list.csv')\n",
    "\n",
    "# keeping only certain columns that will be used\n",
    "columns_keep =['id','screen_name','user_id','time','link','text','source']"
   ]
  },
  {
   "cell_type": "code",
   "execution_count": 3,
   "id": "3f8c500f",
   "metadata": {},
   "outputs": [],
   "source": [
    "# 116th Congress\n",
    "df116_1 = df116_1[columns_keep]\n",
    "df116_2 = df116_2[columns_keep]\n",
    "df116_3 = df116_3[columns_keep]\n",
    "df116_4 = df116_4[columns_keep]\n",
    "df116_5 = df116_5[columns_keep]\n",
    "df116_6 = df116_6[columns_keep]\n",
    "df116_7 = df116_7[columns_keep]\n",
    "df116_8 = df116_8[columns_keep]\n",
    "df116_9 = df116_9[columns_keep]\n",
    "df116_10 = df116_10[columns_keep]\n",
    "df116_11 = df116_11[columns_keep]\n",
    "df116_12 = df116_12[columns_keep]\n",
    "df116_13 = df116_13[columns_keep]\n",
    "df116_14 = df116_14[columns_keep]\n",
    "df116_15 = df116_15[columns_keep]"
   ]
  },
  {
   "cell_type": "code",
   "execution_count": 4,
   "id": "8ae9f1c8",
   "metadata": {},
   "outputs": [
    {
     "name": "stdout",
     "output_type": "stream",
     "text": [
      "(126562, 7)\n",
      "---------------\n"
     ]
    },
    {
     "data": {
      "text/html": [
       "<div>\n",
       "<style scoped>\n",
       "    .dataframe tbody tr th:only-of-type {\n",
       "        vertical-align: middle;\n",
       "    }\n",
       "\n",
       "    .dataframe tbody tr th {\n",
       "        vertical-align: top;\n",
       "    }\n",
       "\n",
       "    .dataframe thead th {\n",
       "        text-align: right;\n",
       "    }\n",
       "</style>\n",
       "<table border=\"1\" class=\"dataframe\">\n",
       "  <thead>\n",
       "    <tr style=\"text-align: right;\">\n",
       "      <th></th>\n",
       "      <th>id</th>\n",
       "      <th>screen_name</th>\n",
       "      <th>user_id</th>\n",
       "      <th>time</th>\n",
       "      <th>link</th>\n",
       "      <th>text</th>\n",
       "      <th>source</th>\n",
       "    </tr>\n",
       "  </thead>\n",
       "  <tbody>\n",
       "    <tr>\n",
       "      <th>0</th>\n",
       "      <td>1267667665834913793</td>\n",
       "      <td>CAPAC</td>\n",
       "      <td>192955168.0</td>\n",
       "      <td>2020-06-02T00:01:38-04:00</td>\n",
       "      <td>https://www.twitter.com/RepTjCox/statuses/1267...</td>\n",
       "      <td>RT @RepTjCox Today is the start of #PrideMonth...</td>\n",
       "      <td>Twitter for iPhone</td>\n",
       "    </tr>\n",
       "    <tr>\n",
       "      <th>1</th>\n",
       "      <td>1267667548880998400</td>\n",
       "      <td>CAPAC</td>\n",
       "      <td>192955168.0</td>\n",
       "      <td>2020-06-02T00:01:10-04:00</td>\n",
       "      <td>https://www.twitter.com/RepJayapal/statuses/12...</td>\n",
       "      <td>RT @RepJayapal Donald Trump cozied up to dicta...</td>\n",
       "      <td>Twitter for iPhone</td>\n",
       "    </tr>\n",
       "  </tbody>\n",
       "</table>\n",
       "</div>"
      ],
      "text/plain": [
       "                    id screen_name      user_id                       time  \\\n",
       "0  1267667665834913793       CAPAC  192955168.0  2020-06-02T00:01:38-04:00   \n",
       "1  1267667548880998400       CAPAC  192955168.0  2020-06-02T00:01:10-04:00   \n",
       "\n",
       "                                                link  \\\n",
       "0  https://www.twitter.com/RepTjCox/statuses/1267...   \n",
       "1  https://www.twitter.com/RepJayapal/statuses/12...   \n",
       "\n",
       "                                                text              source  \n",
       "0  RT @RepTjCox Today is the start of #PrideMonth...  Twitter for iPhone  \n",
       "1  RT @RepJayapal Donald Trump cozied up to dicta...  Twitter for iPhone  "
      ]
     },
     "execution_count": 4,
     "metadata": {},
     "output_type": "execute_result"
    }
   ],
   "source": [
    "print(df116_1.shape)\n",
    "print('---------------')\n",
    "df116_1.head(2)"
   ]
  },
  {
   "cell_type": "code",
   "execution_count": 5,
   "id": "313cf54a",
   "metadata": {},
   "outputs": [
    {
     "name": "stdout",
     "output_type": "stream",
     "text": [
      "(126561, 7)\n",
      "---------------\n"
     ]
    },
    {
     "data": {
      "text/html": [
       "<div>\n",
       "<style scoped>\n",
       "    .dataframe tbody tr th:only-of-type {\n",
       "        vertical-align: middle;\n",
       "    }\n",
       "\n",
       "    .dataframe tbody tr th {\n",
       "        vertical-align: top;\n",
       "    }\n",
       "\n",
       "    .dataframe thead th {\n",
       "        text-align: right;\n",
       "    }\n",
       "</style>\n",
       "<table border=\"1\" class=\"dataframe\">\n",
       "  <thead>\n",
       "    <tr style=\"text-align: right;\">\n",
       "      <th></th>\n",
       "      <th>id</th>\n",
       "      <th>screen_name</th>\n",
       "      <th>user_id</th>\n",
       "      <th>time</th>\n",
       "      <th>link</th>\n",
       "      <th>text</th>\n",
       "      <th>source</th>\n",
       "    </tr>\n",
       "  </thead>\n",
       "  <tbody>\n",
       "    <tr>\n",
       "      <th>0</th>\n",
       "      <td>1252338656012046336</td>\n",
       "      <td>RepKClark</td>\n",
       "      <td>2.293131e+09</td>\n",
       "      <td>2020-04-20T16:49:37-04:00</td>\n",
       "      <td>https://www.twitter.com/RepKClark/statuses/125...</td>\n",
       "      <td>I've received questions on the #CARESAct direc...</td>\n",
       "      <td>Twitter Web App</td>\n",
       "    </tr>\n",
       "    <tr>\n",
       "      <th>1</th>\n",
       "      <td>1252390683966443522</td>\n",
       "      <td>chiproytx</td>\n",
       "      <td>1.257667e+09</td>\n",
       "      <td>2020-04-20T20:16:22-04:00</td>\n",
       "      <td>https://www.twitter.com/chiproytx/statuses/125...</td>\n",
       "      <td>Yessir.  Happy to do it and we’ll do more call...</td>\n",
       "      <td>Twitter for iPhone</td>\n",
       "    </tr>\n",
       "  </tbody>\n",
       "</table>\n",
       "</div>"
      ],
      "text/plain": [
       "                    id screen_name       user_id                       time  \\\n",
       "0  1252338656012046336   RepKClark  2.293131e+09  2020-04-20T16:49:37-04:00   \n",
       "1  1252390683966443522   chiproytx  1.257667e+09  2020-04-20T20:16:22-04:00   \n",
       "\n",
       "                                                link  \\\n",
       "0  https://www.twitter.com/RepKClark/statuses/125...   \n",
       "1  https://www.twitter.com/chiproytx/statuses/125...   \n",
       "\n",
       "                                                text              source  \n",
       "0  I've received questions on the #CARESAct direc...     Twitter Web App  \n",
       "1  Yessir.  Happy to do it and we’ll do more call...  Twitter for iPhone  "
      ]
     },
     "execution_count": 5,
     "metadata": {},
     "output_type": "execute_result"
    }
   ],
   "source": [
    "print(df116_2.shape)\n",
    "print('---------------')\n",
    "df116_2.head(2)"
   ]
  },
  {
   "cell_type": "code",
   "execution_count": 6,
   "id": "ea3b110a",
   "metadata": {},
   "outputs": [
    {
     "name": "stdout",
     "output_type": "stream",
     "text": [
      "(126562, 7)\n",
      "---------------\n"
     ]
    },
    {
     "data": {
      "text/html": [
       "<div>\n",
       "<style scoped>\n",
       "    .dataframe tbody tr th:only-of-type {\n",
       "        vertical-align: middle;\n",
       "    }\n",
       "\n",
       "    .dataframe tbody tr th {\n",
       "        vertical-align: top;\n",
       "    }\n",
       "\n",
       "    .dataframe thead th {\n",
       "        text-align: right;\n",
       "    }\n",
       "</style>\n",
       "<table border=\"1\" class=\"dataframe\">\n",
       "  <thead>\n",
       "    <tr style=\"text-align: right;\">\n",
       "      <th></th>\n",
       "      <th>id</th>\n",
       "      <th>screen_name</th>\n",
       "      <th>user_id</th>\n",
       "      <th>time</th>\n",
       "      <th>link</th>\n",
       "      <th>text</th>\n",
       "      <th>source</th>\n",
       "    </tr>\n",
       "  </thead>\n",
       "  <tbody>\n",
       "    <tr>\n",
       "      <th>0</th>\n",
       "      <td>1238608080071462916</td>\n",
       "      <td>SenTedCruz</td>\n",
       "      <td>1.074480e+09</td>\n",
       "      <td>2020-03-13T19:29:13-04:00</td>\n",
       "      <td>https://www.twitter.com/ABCNewsLive/statuses/1...</td>\n",
       "      <td>RT @ABCNewsLive Sen. Ted Cruz placed himself i...</td>\n",
       "      <td>Twitter for iPhone</td>\n",
       "    </tr>\n",
       "    <tr>\n",
       "      <th>1</th>\n",
       "      <td>1238522651355865089</td>\n",
       "      <td>RepThomasMassie</td>\n",
       "      <td>9.752005e+08</td>\n",
       "      <td>2020-03-13T13:49:45-04:00</td>\n",
       "      <td>https://www.twitter.com/RepThomasMassie/status...</td>\n",
       "      <td>Many Republican house members would like to se...</td>\n",
       "      <td>Twitter for iPhone</td>\n",
       "    </tr>\n",
       "  </tbody>\n",
       "</table>\n",
       "</div>"
      ],
      "text/plain": [
       "                    id      screen_name       user_id  \\\n",
       "0  1238608080071462916       SenTedCruz  1.074480e+09   \n",
       "1  1238522651355865089  RepThomasMassie  9.752005e+08   \n",
       "\n",
       "                        time  \\\n",
       "0  2020-03-13T19:29:13-04:00   \n",
       "1  2020-03-13T13:49:45-04:00   \n",
       "\n",
       "                                                link  \\\n",
       "0  https://www.twitter.com/ABCNewsLive/statuses/1...   \n",
       "1  https://www.twitter.com/RepThomasMassie/status...   \n",
       "\n",
       "                                                text              source  \n",
       "0  RT @ABCNewsLive Sen. Ted Cruz placed himself i...  Twitter for iPhone  \n",
       "1  Many Republican house members would like to se...  Twitter for iPhone  "
      ]
     },
     "execution_count": 6,
     "metadata": {},
     "output_type": "execute_result"
    }
   ],
   "source": [
    "print(df116_3.shape)\n",
    "print('---------------')\n",
    "df116_3.head(2)"
   ]
  },
  {
   "cell_type": "code",
   "execution_count": 7,
   "id": "af6827c5",
   "metadata": {},
   "outputs": [
    {
     "name": "stdout",
     "output_type": "stream",
     "text": [
      "(126561, 7)\n",
      "---------------\n"
     ]
    },
    {
     "data": {
      "text/html": [
       "<div>\n",
       "<style scoped>\n",
       "    .dataframe tbody tr th:only-of-type {\n",
       "        vertical-align: middle;\n",
       "    }\n",
       "\n",
       "    .dataframe tbody tr th {\n",
       "        vertical-align: top;\n",
       "    }\n",
       "\n",
       "    .dataframe thead th {\n",
       "        text-align: right;\n",
       "    }\n",
       "</style>\n",
       "<table border=\"1\" class=\"dataframe\">\n",
       "  <thead>\n",
       "    <tr style=\"text-align: right;\">\n",
       "      <th></th>\n",
       "      <th>id</th>\n",
       "      <th>screen_name</th>\n",
       "      <th>user_id</th>\n",
       "      <th>time</th>\n",
       "      <th>link</th>\n",
       "      <th>text</th>\n",
       "      <th>source</th>\n",
       "    </tr>\n",
       "  </thead>\n",
       "  <tbody>\n",
       "    <tr>\n",
       "      <th>0</th>\n",
       "      <td>1222725512495271937</td>\n",
       "      <td>RepValDemings</td>\n",
       "      <td>7.989730e+17</td>\n",
       "      <td>2020-01-29T22:37:33-05:00</td>\n",
       "      <td>https://www.twitter.com/HouseIntel/statuses/12...</td>\n",
       "      <td>RT @HouseIntel “Now apparently it’s ok for a p...</td>\n",
       "      <td>Twitter for iPhone</td>\n",
       "    </tr>\n",
       "    <tr>\n",
       "      <th>1</th>\n",
       "      <td>1222523538004942848</td>\n",
       "      <td>JenniferWexton</td>\n",
       "      <td>2.212905e+09</td>\n",
       "      <td>2020-01-29T09:14:59-05:00</td>\n",
       "      <td>https://www.twitter.com/GiffordsCourage/status...</td>\n",
       "      <td>RT @GiffordsCourage In 2018, we helped @Jennif...</td>\n",
       "      <td>Twitter for iPhone</td>\n",
       "    </tr>\n",
       "  </tbody>\n",
       "</table>\n",
       "</div>"
      ],
      "text/plain": [
       "                    id     screen_name       user_id  \\\n",
       "0  1222725512495271937   RepValDemings  7.989730e+17   \n",
       "1  1222523538004942848  JenniferWexton  2.212905e+09   \n",
       "\n",
       "                        time  \\\n",
       "0  2020-01-29T22:37:33-05:00   \n",
       "1  2020-01-29T09:14:59-05:00   \n",
       "\n",
       "                                                link  \\\n",
       "0  https://www.twitter.com/HouseIntel/statuses/12...   \n",
       "1  https://www.twitter.com/GiffordsCourage/status...   \n",
       "\n",
       "                                                text              source  \n",
       "0  RT @HouseIntel “Now apparently it’s ok for a p...  Twitter for iPhone  \n",
       "1  RT @GiffordsCourage In 2018, we helped @Jennif...  Twitter for iPhone  "
      ]
     },
     "execution_count": 7,
     "metadata": {},
     "output_type": "execute_result"
    }
   ],
   "source": [
    "print(df116_4.shape)\n",
    "print('---------------')\n",
    "df116_4.head(2)"
   ]
  },
  {
   "cell_type": "code",
   "execution_count": 8,
   "id": "180abc73",
   "metadata": {},
   "outputs": [
    {
     "name": "stdout",
     "output_type": "stream",
     "text": [
      "(531, 6)\n",
      "---------------\n"
     ]
    },
    {
     "data": {
      "text/html": [
       "<div>\n",
       "<style scoped>\n",
       "    .dataframe tbody tr th:only-of-type {\n",
       "        vertical-align: middle;\n",
       "    }\n",
       "\n",
       "    .dataframe tbody tr th {\n",
       "        vertical-align: top;\n",
       "    }\n",
       "\n",
       "    .dataframe thead th {\n",
       "        text-align: right;\n",
       "    }\n",
       "</style>\n",
       "<table border=\"1\" class=\"dataframe\">\n",
       "  <thead>\n",
       "    <tr style=\"text-align: right;\">\n",
       "      <th></th>\n",
       "      <th>state</th>\n",
       "      <th>position</th>\n",
       "      <th>name</th>\n",
       "      <th>screen_name</th>\n",
       "      <th>party</th>\n",
       "      <th>congress</th>\n",
       "    </tr>\n",
       "  </thead>\n",
       "  <tbody>\n",
       "    <tr>\n",
       "      <th>0</th>\n",
       "      <td>NC</td>\n",
       "      <td>Representative</td>\n",
       "      <td>Alma Adams</td>\n",
       "      <td>RepAdams</td>\n",
       "      <td>D</td>\n",
       "      <td>116</td>\n",
       "    </tr>\n",
       "    <tr>\n",
       "      <th>1</th>\n",
       "      <td>AL</td>\n",
       "      <td>Representative</td>\n",
       "      <td>Robert Aderholt</td>\n",
       "      <td>Robert_Aderholt</td>\n",
       "      <td>R</td>\n",
       "      <td>116</td>\n",
       "    </tr>\n",
       "    <tr>\n",
       "      <th>2</th>\n",
       "      <td>CA</td>\n",
       "      <td>Representative</td>\n",
       "      <td>Pete Aguilar</td>\n",
       "      <td>RepPeteAguilar</td>\n",
       "      <td>D</td>\n",
       "      <td>116</td>\n",
       "    </tr>\n",
       "  </tbody>\n",
       "</table>\n",
       "</div>"
      ],
      "text/plain": [
       "  state        position             name      screen_name party  congress\n",
       "0    NC  Representative       Alma Adams         RepAdams     D       116\n",
       "1    AL  Representative  Robert Aderholt  Robert_Aderholt     R       116\n",
       "2    CA  Representative     Pete Aguilar   RepPeteAguilar     D       116"
      ]
     },
     "execution_count": 8,
     "metadata": {},
     "output_type": "execute_result"
    }
   ],
   "source": [
    "print(df116_handles.shape)\n",
    "print('---------------')\n",
    "df116_handles.head(3)"
   ]
  },
  {
   "cell_type": "code",
   "execution_count": null,
   "id": "3d5a7275",
   "metadata": {},
   "outputs": [],
   "source": []
  },
  {
   "cell_type": "code",
   "execution_count": 9,
   "id": "05ee0bd2",
   "metadata": {},
   "outputs": [],
   "source": [
    "# combining the 116th Congress dfs and removing duplicates\n",
    "df116 = pd.concat([df116_1, df116_2, df116_3, df116_4, df116_5, df116_6, df116_7, df116_8, df116_9, df116_10, df116_11, df116_12, df116_13, df116_14, df116_15], axis=0, sort=False)\n",
    "df116 = df116.drop_duplicates()"
   ]
  },
  {
   "cell_type": "code",
   "execution_count": 10,
   "id": "27a2a75c",
   "metadata": {},
   "outputs": [
    {
     "name": "stdout",
     "output_type": "stream",
     "text": [
      "116th Congress Tweet df shape: (1882106, 7)\n",
      "---------------\n",
      "116th Congress Elected Officials: (531, 6)\n"
     ]
    }
   ],
   "source": [
    "print(f'116th Congress Tweet df shape: {df116.shape}')\n",
    "print('---------------')\n",
    "print(f'116th Congress Elected Officials: {df116_handles.shape}')\n",
    "\n",
    "# 115th Congress Tweet df shape: (740479, 7)\n",
    "# 116th Congress Tweet df shape: (1898432, 7)\n",
    "# ---------------\n",
    "# 115th Congress Elected Officials: (554, 6)\n",
    "# 116th Congress Elected Officials: (531, 6)"
   ]
  },
  {
   "cell_type": "code",
   "execution_count": 11,
   "id": "a7229515",
   "metadata": {},
   "outputs": [],
   "source": [
    "# ensuring no duplicates in the handles dfs\n",
    "df116_handles = df116_handles.drop_duplicates()"
   ]
  },
  {
   "cell_type": "code",
   "execution_count": 12,
   "id": "0a8848a4",
   "metadata": {},
   "outputs": [],
   "source": [
    "# merging full tweet set with handles df \n",
    "# (list of actually elected officials, official govt twitter handle)\n",
    "# keeping only those who appear in the handles df\n",
    "\n",
    "# 116th congress merge\n",
    "df116_ = pd.merge(df116, df116_handles, on='screen_name')"
   ]
  },
  {
   "cell_type": "code",
   "execution_count": 13,
   "id": "4b18ab3b",
   "metadata": {},
   "outputs": [
    {
     "name": "stdout",
     "output_type": "stream",
     "text": [
      "116th Congress Elected Official Tweets: (1115004, 12)\n"
     ]
    }
   ],
   "source": [
    "# Checking the shape of the merged dataset\n",
    "print(f'116th Congress Elected Official Tweets: {df116_.shape}')\n",
    "\n",
    "# 115th Congress Elected Official Tweets: (368098, 12)\n",
    "# 116th Congress Elected Official Tweets: (1124765, 12)"
   ]
  },
  {
   "cell_type": "code",
   "execution_count": 14,
   "id": "34e3e7d3",
   "metadata": {},
   "outputs": [],
   "source": [
    "# Creating the final dataframe for the 116th Congresses\n",
    "df = df116_"
   ]
  },
  {
   "cell_type": "code",
   "execution_count": 15,
   "id": "c4e87966",
   "metadata": {},
   "outputs": [],
   "source": [
    "# ensuring no duplicates in the final df\n",
    "df = df.drop_duplicates()\n"
   ]
  },
  {
   "cell_type": "code",
   "execution_count": 16,
   "id": "be35f528",
   "metadata": {
    "scrolled": true
   },
   "outputs": [
    {
     "name": "stdout",
     "output_type": "stream",
     "text": [
      "(1115004, 12)\n",
      "---------------\n"
     ]
    },
    {
     "data": {
      "text/html": [
       "<div>\n",
       "<style scoped>\n",
       "    .dataframe tbody tr th:only-of-type {\n",
       "        vertical-align: middle;\n",
       "    }\n",
       "\n",
       "    .dataframe tbody tr th {\n",
       "        vertical-align: top;\n",
       "    }\n",
       "\n",
       "    .dataframe thead th {\n",
       "        text-align: right;\n",
       "    }\n",
       "</style>\n",
       "<table border=\"1\" class=\"dataframe\">\n",
       "  <thead>\n",
       "    <tr style=\"text-align: right;\">\n",
       "      <th></th>\n",
       "      <th>id</th>\n",
       "      <th>screen_name</th>\n",
       "      <th>user_id</th>\n",
       "      <th>time</th>\n",
       "      <th>link</th>\n",
       "      <th>text</th>\n",
       "      <th>source</th>\n",
       "      <th>state</th>\n",
       "      <th>position</th>\n",
       "      <th>name</th>\n",
       "      <th>party</th>\n",
       "      <th>congress</th>\n",
       "    </tr>\n",
       "  </thead>\n",
       "  <tbody>\n",
       "    <tr>\n",
       "      <th>1114994</th>\n",
       "      <td>1095066508450021381</td>\n",
       "      <td>RepWalterJones</td>\n",
       "      <td>26778110.0</td>\n",
       "      <td>2019-02-11T16:06:15-05:00</td>\n",
       "      <td>https://www.twitter.com/RepWalterJones/statuse...</td>\n",
       "      <td>(1/2) From 4pm to 8pm on Wednesday, February 1...</td>\n",
       "      <td>Twitter for iPhone</td>\n",
       "      <td>NC</td>\n",
       "      <td>Representative</td>\n",
       "      <td>Walter Jones</td>\n",
       "      <td>R</td>\n",
       "      <td>116</td>\n",
       "    </tr>\n",
       "    <tr>\n",
       "      <th>1114995</th>\n",
       "      <td>1095066510098399232</td>\n",
       "      <td>RepWalterJones</td>\n",
       "      <td>26778110.0</td>\n",
       "      <td>2019-02-11T16:06:16-05:00</td>\n",
       "      <td>https://www.twitter.com/RepWalterJones/statuse...</td>\n",
       "      <td>(2/2) The funeral will be held at St. Peter Ca...</td>\n",
       "      <td>Twitter for iPhone</td>\n",
       "      <td>NC</td>\n",
       "      <td>Representative</td>\n",
       "      <td>Walter Jones</td>\n",
       "      <td>R</td>\n",
       "      <td>116</td>\n",
       "    </tr>\n",
       "    <tr>\n",
       "      <th>1114996</th>\n",
       "      <td>1094734618673205250</td>\n",
       "      <td>RepWalterJones</td>\n",
       "      <td>26778110.0</td>\n",
       "      <td>2019-02-10T18:07:26-05:00</td>\n",
       "      <td>https://www.twitter.com/RepWalterJones/statuse...</td>\n",
       "      <td>With a kind heart and the courage of his convi...</td>\n",
       "      <td>Twitter for iPhone</td>\n",
       "      <td>NC</td>\n",
       "      <td>Representative</td>\n",
       "      <td>Walter Jones</td>\n",
       "      <td>R</td>\n",
       "      <td>116</td>\n",
       "    </tr>\n",
       "    <tr>\n",
       "      <th>1114997</th>\n",
       "      <td>1092816507237736450</td>\n",
       "      <td>RepWalterJones</td>\n",
       "      <td>26778110.0</td>\n",
       "      <td>2019-02-05T11:05:33-05:00</td>\n",
       "      <td>https://www.twitter.com/RepWalterJones/statuse...</td>\n",
       "      <td>The #IRS is now accepting and processing tax r...</td>\n",
       "      <td>Twitter Web Client</td>\n",
       "      <td>NC</td>\n",
       "      <td>Representative</td>\n",
       "      <td>Walter Jones</td>\n",
       "      <td>R</td>\n",
       "      <td>116</td>\n",
       "    </tr>\n",
       "    <tr>\n",
       "      <th>1114998</th>\n",
       "      <td>1087824613197918208</td>\n",
       "      <td>RepWalterJones</td>\n",
       "      <td>26778110.0</td>\n",
       "      <td>2019-01-22T16:29:33-05:00</td>\n",
       "      <td>https://www.twitter.com/RepWalterJones/statuse...</td>\n",
       "      <td>(1/3) Commercial fishermen eligible for the st...</td>\n",
       "      <td>Twitter Web Client</td>\n",
       "      <td>NC</td>\n",
       "      <td>Representative</td>\n",
       "      <td>Walter Jones</td>\n",
       "      <td>R</td>\n",
       "      <td>116</td>\n",
       "    </tr>\n",
       "    <tr>\n",
       "      <th>1114999</th>\n",
       "      <td>1087824687693025283</td>\n",
       "      <td>RepWalterJones</td>\n",
       "      <td>26778110.0</td>\n",
       "      <td>2019-01-22T16:29:51-05:00</td>\n",
       "      <td>https://www.twitter.com/RepWalterJones/statuse...</td>\n",
       "      <td>(2/3) The division had set a Jan. 4, 2019 dead...</td>\n",
       "      <td>Twitter Web Client</td>\n",
       "      <td>NC</td>\n",
       "      <td>Representative</td>\n",
       "      <td>Walter Jones</td>\n",
       "      <td>R</td>\n",
       "      <td>116</td>\n",
       "    </tr>\n",
       "    <tr>\n",
       "      <th>1115000</th>\n",
       "      <td>1087824729589891073</td>\n",
       "      <td>RepWalterJones</td>\n",
       "      <td>26778110.0</td>\n",
       "      <td>2019-01-22T16:30:00-05:00</td>\n",
       "      <td>https://www.twitter.com/RepWalterJones/statuse...</td>\n",
       "      <td>(3/3) Any resident commercial fisherman or she...</td>\n",
       "      <td>Twitter Web Client</td>\n",
       "      <td>NC</td>\n",
       "      <td>Representative</td>\n",
       "      <td>Walter Jones</td>\n",
       "      <td>R</td>\n",
       "      <td>116</td>\n",
       "    </tr>\n",
       "    <tr>\n",
       "      <th>1115001</th>\n",
       "      <td>1086386668226134016</td>\n",
       "      <td>RepWalterJones</td>\n",
       "      <td>26778110.0</td>\n",
       "      <td>2019-01-18T17:15:40-05:00</td>\n",
       "      <td>https://www.twitter.com/RepWalterJones/statuse...</td>\n",
       "      <td>An unborn child is a gift from God that is ent...</td>\n",
       "      <td>Twitter Web Client</td>\n",
       "      <td>NC</td>\n",
       "      <td>Representative</td>\n",
       "      <td>Walter Jones</td>\n",
       "      <td>R</td>\n",
       "      <td>116</td>\n",
       "    </tr>\n",
       "    <tr>\n",
       "      <th>1115002</th>\n",
       "      <td>1085977321524379650</td>\n",
       "      <td>RepWalterJones</td>\n",
       "      <td>26778110.0</td>\n",
       "      <td>2019-01-17T14:09:04-05:00</td>\n",
       "      <td>https://www.twitter.com/RepWalterJones/statuse...</td>\n",
       "      <td>The deadline for North Carolinians who are eli...</td>\n",
       "      <td>Twitter Web Client</td>\n",
       "      <td>NC</td>\n",
       "      <td>Representative</td>\n",
       "      <td>Walter Jones</td>\n",
       "      <td>R</td>\n",
       "      <td>116</td>\n",
       "    </tr>\n",
       "    <tr>\n",
       "      <th>1115003</th>\n",
       "      <td>1086024404759388160</td>\n",
       "      <td>RepWalterJones</td>\n",
       "      <td>26778110.0</td>\n",
       "      <td>2019-01-17T17:16:10-05:00</td>\n",
       "      <td>https://www.twitter.com/RepWalterJones/statuse...</td>\n",
       "      <td>Proud to introduce legislation to eliminate re...</td>\n",
       "      <td>Twitter Web Client</td>\n",
       "      <td>NC</td>\n",
       "      <td>Representative</td>\n",
       "      <td>Walter Jones</td>\n",
       "      <td>R</td>\n",
       "      <td>116</td>\n",
       "    </tr>\n",
       "  </tbody>\n",
       "</table>\n",
       "</div>"
      ],
      "text/plain": [
       "                          id     screen_name     user_id  \\\n",
       "1114994  1095066508450021381  RepWalterJones  26778110.0   \n",
       "1114995  1095066510098399232  RepWalterJones  26778110.0   \n",
       "1114996  1094734618673205250  RepWalterJones  26778110.0   \n",
       "1114997  1092816507237736450  RepWalterJones  26778110.0   \n",
       "1114998  1087824613197918208  RepWalterJones  26778110.0   \n",
       "1114999  1087824687693025283  RepWalterJones  26778110.0   \n",
       "1115000  1087824729589891073  RepWalterJones  26778110.0   \n",
       "1115001  1086386668226134016  RepWalterJones  26778110.0   \n",
       "1115002  1085977321524379650  RepWalterJones  26778110.0   \n",
       "1115003  1086024404759388160  RepWalterJones  26778110.0   \n",
       "\n",
       "                              time  \\\n",
       "1114994  2019-02-11T16:06:15-05:00   \n",
       "1114995  2019-02-11T16:06:16-05:00   \n",
       "1114996  2019-02-10T18:07:26-05:00   \n",
       "1114997  2019-02-05T11:05:33-05:00   \n",
       "1114998  2019-01-22T16:29:33-05:00   \n",
       "1114999  2019-01-22T16:29:51-05:00   \n",
       "1115000  2019-01-22T16:30:00-05:00   \n",
       "1115001  2019-01-18T17:15:40-05:00   \n",
       "1115002  2019-01-17T14:09:04-05:00   \n",
       "1115003  2019-01-17T17:16:10-05:00   \n",
       "\n",
       "                                                      link  \\\n",
       "1114994  https://www.twitter.com/RepWalterJones/statuse...   \n",
       "1114995  https://www.twitter.com/RepWalterJones/statuse...   \n",
       "1114996  https://www.twitter.com/RepWalterJones/statuse...   \n",
       "1114997  https://www.twitter.com/RepWalterJones/statuse...   \n",
       "1114998  https://www.twitter.com/RepWalterJones/statuse...   \n",
       "1114999  https://www.twitter.com/RepWalterJones/statuse...   \n",
       "1115000  https://www.twitter.com/RepWalterJones/statuse...   \n",
       "1115001  https://www.twitter.com/RepWalterJones/statuse...   \n",
       "1115002  https://www.twitter.com/RepWalterJones/statuse...   \n",
       "1115003  https://www.twitter.com/RepWalterJones/statuse...   \n",
       "\n",
       "                                                      text  \\\n",
       "1114994  (1/2) From 4pm to 8pm on Wednesday, February 1...   \n",
       "1114995  (2/2) The funeral will be held at St. Peter Ca...   \n",
       "1114996  With a kind heart and the courage of his convi...   \n",
       "1114997  The #IRS is now accepting and processing tax r...   \n",
       "1114998  (1/3) Commercial fishermen eligible for the st...   \n",
       "1114999  (2/3) The division had set a Jan. 4, 2019 dead...   \n",
       "1115000  (3/3) Any resident commercial fisherman or she...   \n",
       "1115001  An unborn child is a gift from God that is ent...   \n",
       "1115002  The deadline for North Carolinians who are eli...   \n",
       "1115003  Proud to introduce legislation to eliminate re...   \n",
       "\n",
       "                     source state        position          name party  \\\n",
       "1114994  Twitter for iPhone    NC  Representative  Walter Jones     R   \n",
       "1114995  Twitter for iPhone    NC  Representative  Walter Jones     R   \n",
       "1114996  Twitter for iPhone    NC  Representative  Walter Jones     R   \n",
       "1114997  Twitter Web Client    NC  Representative  Walter Jones     R   \n",
       "1114998  Twitter Web Client    NC  Representative  Walter Jones     R   \n",
       "1114999  Twitter Web Client    NC  Representative  Walter Jones     R   \n",
       "1115000  Twitter Web Client    NC  Representative  Walter Jones     R   \n",
       "1115001  Twitter Web Client    NC  Representative  Walter Jones     R   \n",
       "1115002  Twitter Web Client    NC  Representative  Walter Jones     R   \n",
       "1115003  Twitter Web Client    NC  Representative  Walter Jones     R   \n",
       "\n",
       "         congress  \n",
       "1114994       116  \n",
       "1114995       116  \n",
       "1114996       116  \n",
       "1114997       116  \n",
       "1114998       116  \n",
       "1114999       116  \n",
       "1115000       116  \n",
       "1115001       116  \n",
       "1115002       116  \n",
       "1115003       116  "
      ]
     },
     "execution_count": 16,
     "metadata": {},
     "output_type": "execute_result"
    }
   ],
   "source": [
    "print(df.shape)\n",
    "print('---------------')\n",
    "df.tail(10)\n",
    "\n",
    "# (1492863, 12)"
   ]
  },
  {
   "cell_type": "code",
   "execution_count": 17,
   "id": "953aa999",
   "metadata": {
    "scrolled": true
   },
   "outputs": [
    {
     "name": "stdout",
     "output_type": "stream",
     "text": [
      "<class 'pandas.core.frame.DataFrame'>\n",
      "Int64Index: 1115004 entries, 0 to 1115003\n",
      "Data columns (total 12 columns):\n",
      " #   Column       Non-Null Count    Dtype  \n",
      "---  ------       --------------    -----  \n",
      " 0   id           1115004 non-null  object \n",
      " 1   screen_name  1115000 non-null  object \n",
      " 2   user_id      1115000 non-null  float64\n",
      " 3   time         1115000 non-null  object \n",
      " 4   link         1115000 non-null  object \n",
      " 5   text         1115000 non-null  object \n",
      " 6   source       1115000 non-null  object \n",
      " 7   state        1115004 non-null  object \n",
      " 8   position     1115004 non-null  object \n",
      " 9   name         1115004 non-null  object \n",
      " 10  party        1115004 non-null  object \n",
      " 11  congress     1115004 non-null  int64  \n",
      "dtypes: float64(1), int64(1), object(10)\n",
      "memory usage: 110.6+ MB\n"
     ]
    }
   ],
   "source": [
    "df.info()"
   ]
  },
  {
   "cell_type": "code",
   "execution_count": 18,
   "id": "64bb3b4e",
   "metadata": {
    "scrolled": true
   },
   "outputs": [
    {
     "data": {
      "text/plain": [
       "id             0\n",
       "screen_name    4\n",
       "user_id        4\n",
       "time           4\n",
       "link           4\n",
       "text           4\n",
       "source         4\n",
       "state          0\n",
       "position       0\n",
       "name           0\n",
       "party          0\n",
       "congress       0\n",
       "dtype: int64"
      ]
     },
     "execution_count": 18,
     "metadata": {},
     "output_type": "execute_result"
    }
   ],
   "source": [
    "# checking how many null values in each column pre-drop\n",
    "df.isna().sum()"
   ]
  },
  {
   "cell_type": "code",
   "execution_count": 19,
   "id": "31062041",
   "metadata": {},
   "outputs": [
    {
     "data": {
      "text/plain": [
       "(1115000, 12)"
      ]
     },
     "execution_count": 19,
     "metadata": {},
     "output_type": "execute_result"
    }
   ],
   "source": [
    "# dropping all rows with null values\n",
    "# 8 rows dropped\n",
    "df = df.dropna()\n",
    "\n",
    "df.shape\n",
    "\n",
    "# (1483095, 12)"
   ]
  },
  {
   "cell_type": "code",
   "execution_count": 20,
   "id": "3b8580b4",
   "metadata": {},
   "outputs": [
    {
     "data": {
      "text/plain": [
       "id             0\n",
       "screen_name    0\n",
       "user_id        0\n",
       "time           0\n",
       "link           0\n",
       "text           0\n",
       "source         0\n",
       "state          0\n",
       "position       0\n",
       "name           0\n",
       "party          0\n",
       "congress       0\n",
       "dtype: int64"
      ]
     },
     "execution_count": 20,
     "metadata": {},
     "output_type": "execute_result"
    }
   ],
   "source": [
    "# checking how many null values in each column after drop\n",
    "df.isna().sum()"
   ]
  },
  {
   "cell_type": "code",
   "execution_count": 21,
   "id": "3e25c462",
   "metadata": {},
   "outputs": [],
   "source": [
    "# converting user_id from float to int\n",
    "df['user_id'] = df['user_id'].astype(int)"
   ]
  },
  {
   "cell_type": "code",
   "execution_count": 22,
   "id": "96f8b30e",
   "metadata": {},
   "outputs": [],
   "source": [
    "# Exporting the cleaned dataframe\n",
    "export_df = df.to_csv('../data/cleaned_df.csv', index = False) \n"
   ]
  },
  {
   "cell_type": "code",
   "execution_count": null,
   "id": "093ad20a",
   "metadata": {},
   "outputs": [],
   "source": []
  },
  {
   "cell_type": "markdown",
   "id": "7557455a",
   "metadata": {},
   "source": [
    "## Read in Cleaned Data & More EDA"
   ]
  },
  {
   "cell_type": "code",
   "execution_count": 23,
   "id": "a4ebdfc0",
   "metadata": {},
   "outputs": [],
   "source": [
    "# Importing the finalized dataframe\n",
    "data = pd.read_csv('../data/cleaned_df.csv')\n"
   ]
  },
  {
   "cell_type": "code",
   "execution_count": 24,
   "id": "93a95b35",
   "metadata": {},
   "outputs": [
    {
     "name": "stdout",
     "output_type": "stream",
     "text": [
      "(1115000, 12)\n",
      "---------\n"
     ]
    },
    {
     "data": {
      "text/html": [
       "<div>\n",
       "<style scoped>\n",
       "    .dataframe tbody tr th:only-of-type {\n",
       "        vertical-align: middle;\n",
       "    }\n",
       "\n",
       "    .dataframe tbody tr th {\n",
       "        vertical-align: top;\n",
       "    }\n",
       "\n",
       "    .dataframe thead th {\n",
       "        text-align: right;\n",
       "    }\n",
       "</style>\n",
       "<table border=\"1\" class=\"dataframe\">\n",
       "  <thead>\n",
       "    <tr style=\"text-align: right;\">\n",
       "      <th></th>\n",
       "      <th>id</th>\n",
       "      <th>screen_name</th>\n",
       "      <th>user_id</th>\n",
       "      <th>time</th>\n",
       "      <th>link</th>\n",
       "      <th>text</th>\n",
       "      <th>source</th>\n",
       "      <th>state</th>\n",
       "      <th>position</th>\n",
       "      <th>name</th>\n",
       "      <th>party</th>\n",
       "      <th>congress</th>\n",
       "    </tr>\n",
       "  </thead>\n",
       "  <tbody>\n",
       "    <tr>\n",
       "      <th>0</th>\n",
       "      <td>1267682738053808129</td>\n",
       "      <td>CongressmanRaja</td>\n",
       "      <td>814179031956488192</td>\n",
       "      <td>2020-06-02T01:01:31-04:00</td>\n",
       "      <td>https://www.twitter.com/CongressmanRaja/status...</td>\n",
       "      <td>Tonight: “The president had staged an elaborat...</td>\n",
       "      <td>Twitter for iPhone</td>\n",
       "      <td>IL</td>\n",
       "      <td>Representative</td>\n",
       "      <td>Raja Krishnamoorthi</td>\n",
       "      <td>D</td>\n",
       "      <td>116</td>\n",
       "    </tr>\n",
       "    <tr>\n",
       "      <th>1</th>\n",
       "      <td>1267681644456140800</td>\n",
       "      <td>CongressmanRaja</td>\n",
       "      <td>814179031956488192</td>\n",
       "      <td>2020-06-02T00:57:11-04:00</td>\n",
       "      <td>https://www.twitter.com/CongressmanRaja/status...</td>\n",
       "      <td>If that doesn’t make you mad, read it again. h...</td>\n",
       "      <td>Twitter for iPhone</td>\n",
       "      <td>IL</td>\n",
       "      <td>Representative</td>\n",
       "      <td>Raja Krishnamoorthi</td>\n",
       "      <td>D</td>\n",
       "      <td>116</td>\n",
       "    </tr>\n",
       "    <tr>\n",
       "      <th>2</th>\n",
       "      <td>1267670971730755594</td>\n",
       "      <td>CongressmanRaja</td>\n",
       "      <td>814179031956488192</td>\n",
       "      <td>2020-06-02T00:14:46-04:00</td>\n",
       "      <td>https://www.twitter.com/JStein_WaPo/statuses/1...</td>\n",
       "      <td>RT @JStein_WaPo This reporter should come out ...</td>\n",
       "      <td>Twitter for iPhone</td>\n",
       "      <td>IL</td>\n",
       "      <td>Representative</td>\n",
       "      <td>Raja Krishnamoorthi</td>\n",
       "      <td>D</td>\n",
       "      <td>116</td>\n",
       "    </tr>\n",
       "  </tbody>\n",
       "</table>\n",
       "</div>"
      ],
      "text/plain": [
       "                    id      screen_name             user_id  \\\n",
       "0  1267682738053808129  CongressmanRaja  814179031956488192   \n",
       "1  1267681644456140800  CongressmanRaja  814179031956488192   \n",
       "2  1267670971730755594  CongressmanRaja  814179031956488192   \n",
       "\n",
       "                        time  \\\n",
       "0  2020-06-02T01:01:31-04:00   \n",
       "1  2020-06-02T00:57:11-04:00   \n",
       "2  2020-06-02T00:14:46-04:00   \n",
       "\n",
       "                                                link  \\\n",
       "0  https://www.twitter.com/CongressmanRaja/status...   \n",
       "1  https://www.twitter.com/CongressmanRaja/status...   \n",
       "2  https://www.twitter.com/JStein_WaPo/statuses/1...   \n",
       "\n",
       "                                                text              source  \\\n",
       "0  Tonight: “The president had staged an elaborat...  Twitter for iPhone   \n",
       "1  If that doesn’t make you mad, read it again. h...  Twitter for iPhone   \n",
       "2  RT @JStein_WaPo This reporter should come out ...  Twitter for iPhone   \n",
       "\n",
       "  state        position                 name party  congress  \n",
       "0    IL  Representative  Raja Krishnamoorthi     D       116  \n",
       "1    IL  Representative  Raja Krishnamoorthi     D       116  \n",
       "2    IL  Representative  Raja Krishnamoorthi     D       116  "
      ]
     },
     "execution_count": 24,
     "metadata": {},
     "output_type": "execute_result"
    }
   ],
   "source": [
    "# Taking 3% of the data to use while coding out EDA. \n",
    "# Comment out when ready to apply examination to all data\n",
    "# Done due to very large size of the dataframe and computational requirements\n",
    "\n",
    "# data = data.head(int(len(data)*(3/100)))\n",
    "\n",
    "print(data.shape)\n",
    "print('---------')\n",
    "data.head(3)\n",
    "\n",
    "# (1492855, 12)"
   ]
  },
  {
   "cell_type": "code",
   "execution_count": 25,
   "id": "449b78cb",
   "metadata": {},
   "outputs": [
    {
     "name": "stdout",
     "output_type": "stream",
     "text": [
      "<class 'pandas.core.frame.DataFrame'>\n",
      "RangeIndex: 1115000 entries, 0 to 1114999\n",
      "Data columns (total 12 columns):\n",
      " #   Column       Non-Null Count    Dtype \n",
      "---  ------       --------------    ----- \n",
      " 0   id           1115000 non-null  int64 \n",
      " 1   screen_name  1115000 non-null  object\n",
      " 2   user_id      1115000 non-null  int64 \n",
      " 3   time         1115000 non-null  object\n",
      " 4   link         1115000 non-null  object\n",
      " 5   text         1115000 non-null  object\n",
      " 6   source       1115000 non-null  object\n",
      " 7   state        1115000 non-null  object\n",
      " 8   position     1115000 non-null  object\n",
      " 9   name         1115000 non-null  object\n",
      " 10  party        1115000 non-null  object\n",
      " 11  congress     1115000 non-null  int64 \n",
      "dtypes: int64(3), object(9)\n",
      "memory usage: 102.1+ MB\n"
     ]
    }
   ],
   "source": [
    "data.info()"
   ]
  },
  {
   "cell_type": "code",
   "execution_count": 26,
   "id": "bdc707d5",
   "metadata": {},
   "outputs": [],
   "source": [
    "data = data[['screen_name','text','state', 'position', 'name', 'party', 'congress' ]]"
   ]
  },
  {
   "cell_type": "code",
   "execution_count": 27,
   "id": "45aa50de",
   "metadata": {},
   "outputs": [
    {
     "data": {
      "text/html": [
       "<div>\n",
       "<style scoped>\n",
       "    .dataframe tbody tr th:only-of-type {\n",
       "        vertical-align: middle;\n",
       "    }\n",
       "\n",
       "    .dataframe tbody tr th {\n",
       "        vertical-align: top;\n",
       "    }\n",
       "\n",
       "    .dataframe thead th {\n",
       "        text-align: right;\n",
       "    }\n",
       "</style>\n",
       "<table border=\"1\" class=\"dataframe\">\n",
       "  <thead>\n",
       "    <tr style=\"text-align: right;\">\n",
       "      <th></th>\n",
       "      <th>screen_name</th>\n",
       "      <th>text</th>\n",
       "      <th>state</th>\n",
       "      <th>position</th>\n",
       "      <th>name</th>\n",
       "      <th>party</th>\n",
       "      <th>congress</th>\n",
       "    </tr>\n",
       "  </thead>\n",
       "  <tbody>\n",
       "    <tr>\n",
       "      <th>0</th>\n",
       "      <td>CongressmanRaja</td>\n",
       "      <td>Tonight: “The president had staged an elaborat...</td>\n",
       "      <td>IL</td>\n",
       "      <td>Representative</td>\n",
       "      <td>Raja Krishnamoorthi</td>\n",
       "      <td>D</td>\n",
       "      <td>116</td>\n",
       "    </tr>\n",
       "    <tr>\n",
       "      <th>1</th>\n",
       "      <td>CongressmanRaja</td>\n",
       "      <td>If that doesn’t make you mad, read it again. h...</td>\n",
       "      <td>IL</td>\n",
       "      <td>Representative</td>\n",
       "      <td>Raja Krishnamoorthi</td>\n",
       "      <td>D</td>\n",
       "      <td>116</td>\n",
       "    </tr>\n",
       "    <tr>\n",
       "      <th>2</th>\n",
       "      <td>CongressmanRaja</td>\n",
       "      <td>RT @JStein_WaPo This reporter should come out ...</td>\n",
       "      <td>IL</td>\n",
       "      <td>Representative</td>\n",
       "      <td>Raja Krishnamoorthi</td>\n",
       "      <td>D</td>\n",
       "      <td>116</td>\n",
       "    </tr>\n",
       "    <tr>\n",
       "      <th>3</th>\n",
       "      <td>CongressmanRaja</td>\n",
       "      <td>@KevinMKruse Thank you, and I also loved your ...</td>\n",
       "      <td>IL</td>\n",
       "      <td>Representative</td>\n",
       "      <td>Raja Krishnamoorthi</td>\n",
       "      <td>D</td>\n",
       "      <td>116</td>\n",
       "    </tr>\n",
       "    <tr>\n",
       "      <th>4</th>\n",
       "      <td>CongressmanRaja</td>\n",
       "      <td>I'm proud to call @GerryConnolly a colleague a...</td>\n",
       "      <td>IL</td>\n",
       "      <td>Representative</td>\n",
       "      <td>Raja Krishnamoorthi</td>\n",
       "      <td>D</td>\n",
       "      <td>116</td>\n",
       "    </tr>\n",
       "  </tbody>\n",
       "</table>\n",
       "</div>"
      ],
      "text/plain": [
       "       screen_name                                               text state  \\\n",
       "0  CongressmanRaja  Tonight: “The president had staged an elaborat...    IL   \n",
       "1  CongressmanRaja  If that doesn’t make you mad, read it again. h...    IL   \n",
       "2  CongressmanRaja  RT @JStein_WaPo This reporter should come out ...    IL   \n",
       "3  CongressmanRaja  @KevinMKruse Thank you, and I also loved your ...    IL   \n",
       "4  CongressmanRaja  I'm proud to call @GerryConnolly a colleague a...    IL   \n",
       "\n",
       "         position                 name party  congress  \n",
       "0  Representative  Raja Krishnamoorthi     D       116  \n",
       "1  Representative  Raja Krishnamoorthi     D       116  \n",
       "2  Representative  Raja Krishnamoorthi     D       116  \n",
       "3  Representative  Raja Krishnamoorthi     D       116  \n",
       "4  Representative  Raja Krishnamoorthi     D       116  "
      ]
     },
     "execution_count": 27,
     "metadata": {},
     "output_type": "execute_result"
    }
   ],
   "source": [
    "data.head()"
   ]
  },
  {
   "cell_type": "code",
   "execution_count": 28,
   "id": "d570b40b",
   "metadata": {},
   "outputs": [
    {
     "data": {
      "text/plain": [
       "Representative    0.759698\n",
       "Senator           0.240302\n",
       "Name: position, dtype: float64"
      ]
     },
     "execution_count": 28,
     "metadata": {},
     "output_type": "execute_result"
    }
   ],
   "source": [
    "data['position'].value_counts(normalize=True)"
   ]
  },
  {
   "cell_type": "code",
   "execution_count": 29,
   "id": "5817a274",
   "metadata": {},
   "outputs": [
    {
     "data": {
      "image/png": "[encoded data removed]",
      "text/plain": [
       "<Figure size 720x432 with 1 Axes>"
      ]
     },
     "metadata": {
      "needs_background": "light"
     },
     "output_type": "display_data"
    }
   ],
   "source": [
    "plt.figure(figsize=(10,6))\n",
    "\n",
    "data['position'].value_counts().plot(kind = 'barh');\n",
    "\n",
    "plt.title('Tweet Distribution of Congress Positions', fontsize=22)\n",
    "\n",
    "plt.xlabel('Count', fontsize=20)\n",
    "plt.yticks(fontsize= 15)\n",
    "plt.ylabel('Position', fontsize=20)\n",
    "plt.yticks(fontsize= 15, rotation=50)\n",
    "\n",
    "plt.show()"
   ]
  },
  {
   "cell_type": "code",
   "execution_count": 30,
   "id": "32ac0b1b",
   "metadata": {},
   "outputs": [
    {
     "data": {
      "text/plain": [
       "D    0.637780\n",
       "R    0.355747\n",
       "I    0.003411\n",
       "L    0.003062\n",
       "Name: party, dtype: float64"
      ]
     },
     "execution_count": 30,
     "metadata": {},
     "output_type": "execute_result"
    }
   ],
   "source": [
    "data['party'].value_counts(normalize=True)"
   ]
  },
  {
   "cell_type": "code",
   "execution_count": 31,
   "id": "d04a6757",
   "metadata": {},
   "outputs": [
    {
     "data": {
      "image/png": "[encoded data removed]",
      "text/plain": [
       "<Figure size 720x432 with 1 Axes>"
      ]
     },
     "metadata": {
      "needs_background": "light"
     },
     "output_type": "display_data"
    }
   ],
   "source": [
    "plt.figure(figsize=(10,6))\n",
    "\n",
    "data['party'].value_counts().plot(kind = 'barh');\n",
    "\n",
    "plt.title('Tweet Distribution by Political Party', fontsize=22)\n",
    "\n",
    "plt.xlabel('Count', fontsize=20)\n",
    "plt.yticks(fontsize= 15)\n",
    "plt.ylabel('Political Party', fontsize=20)\n",
    "plt.yticks(fontsize= 15, rotation=50)\n",
    "\n",
    "plt.show()"
   ]
  },
  {
   "cell_type": "code",
   "execution_count": 34,
   "id": "57b7f11e",
   "metadata": {},
   "outputs": [
    {
     "data": {
      "text/plain": [
       "CA    0.099460\n",
       "TX    0.081787\n",
       "FL    0.062637\n",
       "NY    0.056067\n",
       "IL    0.045949\n",
       "PA    0.036291\n",
       "NJ    0.035515\n",
       "AZ    0.034430\n",
       "VA    0.032195\n",
       "OH    0.029781\n",
       "Name: state, dtype: float64"
      ]
     },
     "execution_count": 34,
     "metadata": {},
     "output_type": "execute_result"
    }
   ],
   "source": [
    "data['state'].value_counts(normalize=True)[:10].sort_values(ascending=False)"
   ]
  },
  {
   "cell_type": "code",
   "execution_count": 35,
   "id": "8708e772",
   "metadata": {},
   "outputs": [
    {
     "data": {
      "image/png": "[encoded data removed]",
      "text/plain": [
       "<Figure size 720x720 with 1 Axes>"
      ]
     },
     "metadata": {
      "needs_background": "light"
     },
     "output_type": "display_data"
    }
   ],
   "source": [
    "plt.figure(figsize=(10,10))\n",
    "\n",
    "data['state'].value_counts()[:10].sort_values(ascending=True).plot(kind = 'barh')\n",
    "\n",
    "plt.title('Tweet Distribution of Tweets by State:\\n Top Ten States', fontsize=22)\n",
    "\n",
    "plt.xlabel('Count', fontsize=20)\n",
    "plt.yticks(fontsize= 15)\n",
    "plt.ylabel('State', fontsize=20)\n",
    "plt.yticks(fontsize= 15, rotation=50)\n",
    "\n",
    "plt.show()"
   ]
  },
  {
   "cell_type": "code",
   "execution_count": 36,
   "id": "a1bcdaa1",
   "metadata": {},
   "outputs": [
    {
     "data": {
      "text/plain": [
       "John Cornyn           0.011890\n",
       "Andy Biggs            0.011343\n",
       "Donald Beyer, Jr      0.010926\n",
       "Wm. Lacy Clay Jr      0.009198\n",
       "Dwight Evans          0.008701\n",
       "Pramila Jayapal       0.008111\n",
       "Carolyn Maloney       0.006021\n",
       "Ted Cruz              0.005782\n",
       "Rick Scott            0.005710\n",
       "Christopher Murphy    0.005694\n",
       "Name: name, dtype: float64"
      ]
     },
     "execution_count": 36,
     "metadata": {},
     "output_type": "execute_result"
    }
   ],
   "source": [
    "data['name'].value_counts(normalize=True)[:10].sort_values(ascending=False)"
   ]
  },
  {
   "cell_type": "code",
   "execution_count": 37,
   "id": "62e479d4",
   "metadata": {},
   "outputs": [
    {
     "data": {
      "image/png": "[encoded data removed]",
      "text/plain": [
       "<Figure size 720x720 with 1 Axes>"
      ]
     },
     "metadata": {
      "needs_background": "light"
     },
     "output_type": "display_data"
    }
   ],
   "source": [
    "plt.figure(figsize=(10,10))\n",
    "\n",
    "data['name'].value_counts()[:10].sort_values(ascending=True).plot(kind = 'barh')\n",
    "\n",
    "plt.title('Tweet Distribution of User:\\n Top Ten Reps / Senators', fontsize=22)\n",
    "\n",
    "plt.xlabel('Count', fontsize=20)\n",
    "plt.yticks(fontsize= 15)\n",
    "plt.ylabel('State', fontsize=20)\n",
    "plt.yticks(fontsize= 15, rotation=50)\n",
    "\n",
    "plt.show()"
   ]
  },
  {
   "cell_type": "code",
   "execution_count": null,
   "id": "f55b2877",
   "metadata": {},
   "outputs": [],
   "source": []
  }
 ],
 "metadata": {
  "kernelspec": {
   "display_name": "Python 3",
   "language": "python",
   "name": "python3"
  },
  "language_info": {
   "codemirror_mode": {
    "name": "ipython",
    "version": 3
   },
   "file_extension": ".py",
   "mimetype": "text/x-python",
   "name": "python",
   "nbconvert_exporter": "python",
   "pygments_lexer": "ipython3",
   "version": "3.8.8"
  }
 },
 "nbformat": 4,
 "nbformat_minor": 5
}
