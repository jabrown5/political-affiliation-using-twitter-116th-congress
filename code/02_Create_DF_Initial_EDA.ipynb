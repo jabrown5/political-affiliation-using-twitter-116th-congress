{
 "cells": [
  {
   "cell_type": "markdown",
   "id": "86dfaac7",
   "metadata": {},
   "source": [
    "# Cleaning and Exploratory Data Analysis"
   ]
  },
  {
   "cell_type": "markdown",
   "id": "3b1a3662",
   "metadata": {},
   "source": [
    "\n",
    "**Identifies which of the three proposals you outlined in your lightning talk you have chosen**\n",
    "\n",
    "I have chosen to analyze twitter data (tweets) of United States Senators and Representatives from the start of 2018 to the end of 2020. I will attempt to determine if there is greater diversity in political groupings than simply Republican and Democrat based on the language used by these public figures.\n",
    "\n",
    "\n",
    "**Articulates the main goal of your project (your problem statement)**\n",
    "\n",
    "Using Natural Language Processing (NLP) and the unsupervised models of DBSCAN or K-Means clustering, I will examine twitter data (tweets) to determine if there is greater diversity in political ideology than simply Republican and Democrat. Specifically, are there more clearly defined clusters of political ideologies? Lastly, I will outline the characteristics or language that makes each cluster unique.\n",
    "\n",
    "\n",
    "**Outlines your proposed methods and models**\n",
    "\n",
    "I will use Natural Language Processing (NLP) and model with DBSCAN clustering or K-Means clustering.  SpaCy, an NLP python library, will be used to help me process the tweets. This will be the MVP.\n",
    "\n",
    "Some stretch goals would be a sentiment analysis of the tweets by these clusters but perhaps also by political affiliation\n",
    "\n",
    "A final, very stretched out goal, would be to create a dashboard or web app that updates automatically with the sentiments of the day from members of the US Congress.\n",
    "\n",
    "\n",
    "**Defines the risks & assumptions of your data**\n",
    "\n",
    "An assumption I am operating on is that the tweets will be qualitatively different and so will yield interesting findings. This may not actually be the case.\n",
    "\n",
    "A risk of this project is that the data will have a high level of dimensionality and so may prove somewhat difficult to navigate.\n",
    "\n",
    "\n",
    "**Revises initial goals & success criteria, as needed**\n",
    "\n",
    "This will be necessary.\n",
    "\n",
    "\n",
    "**Documents your data source**\n",
    "\n",
    "Tweets scraped from archive found at: \n",
    "- https://github.com/alexlitel/congresstweets\n",
    "\n",
    "Twitter handles of elected Senators and Representatives found at: \n",
    "- https://www.sbh4all.org/wp-content/uploads/2019/04/116th-Congress-Twitter-Handles.pdf\n",
    "- https://sharedhope.org/wp-content/uploads/2018/02/US-Senate-Twitter-Handles-115th-Congress.pdf\n",
    "- https://www.chn.org/wp-content/uploads/2017/01/house-member-twitter-handles-Jan-2017.pdf\n",
    "\n",
    "Political party affiliations:\n",
    "- https://en.wikipedia.org/wiki/115th_United_States_Congress\n",
    "- https://en.wikipedia.org/wiki/116th_United_States_Congress\n",
    "\n",
    "**Performs & summarizes preliminary EDA of your data**\n"
   ]
  },
  {
   "cell_type": "markdown",
   "id": "fd16bfb8",
   "metadata": {},
   "source": [
    "## Read in Libraries"
   ]
  },
  {
   "cell_type": "code",
   "execution_count": 1,
   "id": "9aaf247d",
   "metadata": {},
   "outputs": [],
   "source": [
    "import pandas as pd\n",
    "import numpy as np\n",
    "import seaborn as sns\n",
    "import matplotlib.pyplot as plt\n",
    "\n",
    "# import datetime\n",
    "\n",
    "pd.set_option('display.max_columns', None)\n",
    "pd.set_option('display.max_rows', None)"
   ]
  },
  {
   "cell_type": "markdown",
   "id": "a796c2f1",
   "metadata": {},
   "source": [
    "## Preliminary Cleaning, Creation of Dataframe\n",
    "\n",
    "### Skip if dataframe has already been created and skip to \"Read In Cleaned Data and Further EDA\" section"
   ]
  },
  {
   "cell_type": "code",
   "execution_count": 20,
   "id": "3923c7e2",
   "metadata": {},
   "outputs": [
    {
     "name": "stderr",
     "output_type": "stream",
     "text": [
      "/opt/anaconda3/envs/dsi/lib/python3.8/site-packages/IPython/core/interactiveshell.py:3165: DtypeWarning: Columns (0) have mixed types.Specify dtype option on import or set low_memory=False.\n",
      "  has_raised = await self.run_ast_nodes(code_ast.body, cell_name,\n"
     ]
    }
   ],
   "source": [
    "# Tweets of the 115th Congress (Jan 3, 2017 - Jan 3, 2019)\n",
    "# Data available only for 2018, 2019\n",
    "df115_1 = pd.read_csv('../data/scrape/tweet_df_115_1.csv')\n",
    "df115_2 = pd.read_csv('../data/scrape/tweet_df_115_2.csv')\n",
    "df115_3 = pd.read_csv('../data/scrape/tweet_df_115_3.csv')\n",
    "df115_4 = pd.read_csv('../data/scrape/tweet_df_115_4.csv')\n",
    "\n",
    "# Tweets of the 116th Congress (Jan 3, 2019 - Jan 3, 2021)\n",
    "df116_1 = pd.read_csv('../data/scrape/tweet_df_116_1.csv')\n",
    "df116_2 = pd.read_csv('../data/scrape/tweet_df_116_2.csv')\n",
    "df116_3 = pd.read_csv('../data/scrape/tweet_df_116_3.csv')\n",
    "df116_4 = pd.read_csv('../data/scrape/tweet_df_116_4.csv')\n",
    "df116_5 = pd.read_csv('../data/scrape/tweet_df_116_5.csv')\n",
    "df116_6 = pd.read_csv('../data/scrape/tweet_df_116_6.csv')\n",
    "df116_7 = pd.read_csv('../data/scrape/tweet_df_116_7.csv')\n",
    "df116_8 = pd.read_csv('../data/scrape/tweet_df_116_8.csv')\n",
    "df116_9 = pd.read_csv('../data/scrape/tweet_df_116_9.csv')\n",
    "df116_10 = pd.read_csv('../data/scrape/tweet_df_116_10.csv')\n",
    "df116_11 = pd.read_csv('../data/scrape/tweet_df_116_11.csv')\n",
    "df116_12 = pd.read_csv('../data/scrape/tweet_df_116_12.csv')\n",
    "df116_13 = pd.read_csv('../data/scrape/tweet_df_116_13.csv')\n",
    "df116_14 = pd.read_csv('../data/scrape/tweet_df_116_14.csv')\n",
    "df116_15 = pd.read_csv('../data/scrape/tweet_df_116_15.csv')\n",
    "\n",
    "# datafiles containing only elected senators / reps, political affiliation, state\n",
    "# excludes special interest groups / personal twitter handles / lobbyists, etc.\n",
    "df115_handles = pd.read_csv('../data/115_congress_list.csv')\n",
    "df116_handles = pd.read_csv('../data/116_congress_list.csv')\n",
    "\n",
    "# keeping only certain columns that will be used\n",
    "columns_keep =['id','screen_name','user_id','time','link','text','source']\n"
   ]
  },
  {
   "cell_type": "code",
   "execution_count": 21,
   "id": "4675cff4",
   "metadata": {},
   "outputs": [],
   "source": [
    "# 115th Congress\n",
    "df115_1 = df115_1[columns_keep]\n",
    "df115_2 = df115_2[columns_keep]\n",
    "df115_3 = df115_3[columns_keep]\n",
    "df115_4 = df115_4[columns_keep]\n",
    "\n",
    "# 116th Congress\n",
    "df116_1 = df116_1[columns_keep]\n",
    "df116_2 = df116_2[columns_keep]\n",
    "df116_3 = df116_3[columns_keep]\n",
    "df116_4 = df116_4[columns_keep]\n",
    "df116_5 = df116_5[columns_keep]\n",
    "df116_6 = df116_6[columns_keep]\n",
    "df116_7 = df116_7[columns_keep]\n",
    "df116_8 = df116_8[columns_keep]\n",
    "df116_9 = df116_9[columns_keep]\n",
    "df116_10 = df116_10[columns_keep]\n"
   ]
  },
  {
   "cell_type": "code",
   "execution_count": 22,
   "id": "71cf49c4",
   "metadata": {},
   "outputs": [
    {
     "name": "stdout",
     "output_type": "stream",
     "text": [
      "(185119, 7)\n",
      "---------------\n"
     ]
    },
    {
     "data": {
      "text/html": [
       "<div>\n",
       "<style scoped>\n",
       "    .dataframe tbody tr th:only-of-type {\n",
       "        vertical-align: middle;\n",
       "    }\n",
       "\n",
       "    .dataframe tbody tr th {\n",
       "        vertical-align: top;\n",
       "    }\n",
       "\n",
       "    .dataframe thead th {\n",
       "        text-align: right;\n",
       "    }\n",
       "</style>\n",
       "<table border=\"1\" class=\"dataframe\">\n",
       "  <thead>\n",
       "    <tr style=\"text-align: right;\">\n",
       "      <th></th>\n",
       "      <th>id</th>\n",
       "      <th>screen_name</th>\n",
       "      <th>user_id</th>\n",
       "      <th>time</th>\n",
       "      <th>link</th>\n",
       "      <th>text</th>\n",
       "      <th>source</th>\n",
       "    </tr>\n",
       "  </thead>\n",
       "  <tbody>\n",
       "    <tr>\n",
       "      <th>0</th>\n",
       "      <td>1003032503433625600</td>\n",
       "      <td>RepBarragan</td>\n",
       "      <td>8.168339e+17</td>\n",
       "      <td>2018-06-02T17:55:58-04:00</td>\n",
       "      <td>https://www.twitter.com/RepBarragan/statuses/1...</td>\n",
       "      <td>So great to welcome @SenSanders to #CA44 for a...</td>\n",
       "      <td>Twitter for iPhone</td>\n",
       "    </tr>\n",
       "    <tr>\n",
       "      <th>1</th>\n",
       "      <td>1002955610340581376</td>\n",
       "      <td>CurtisUT</td>\n",
       "      <td>2.605721e+07</td>\n",
       "      <td>2018-06-02T12:50:26-04:00</td>\n",
       "      <td>https://www.twitter.com/CurtisUT/statuses/1002...</td>\n",
       "      <td>Thanks to the voters who came on a Saturday mo...</td>\n",
       "      <td>Twitter for iPhone</td>\n",
       "    </tr>\n",
       "  </tbody>\n",
       "</table>\n",
       "</div>"
      ],
      "text/plain": [
       "                    id  screen_name       user_id                       time  \\\n",
       "0  1003032503433625600  RepBarragan  8.168339e+17  2018-06-02T17:55:58-04:00   \n",
       "1  1002955610340581376     CurtisUT  2.605721e+07  2018-06-02T12:50:26-04:00   \n",
       "\n",
       "                                                link  \\\n",
       "0  https://www.twitter.com/RepBarragan/statuses/1...   \n",
       "1  https://www.twitter.com/CurtisUT/statuses/1002...   \n",
       "\n",
       "                                                text              source  \n",
       "0  So great to welcome @SenSanders to #CA44 for a...  Twitter for iPhone  \n",
       "1  Thanks to the voters who came on a Saturday mo...  Twitter for iPhone  "
      ]
     },
     "execution_count": 22,
     "metadata": {},
     "output_type": "execute_result"
    }
   ],
   "source": [
    "print(df115_1.shape)\n",
    "print('---------------')\n",
    "df115_1.head(2)"
   ]
  },
  {
   "cell_type": "code",
   "execution_count": 23,
   "id": "0debb87e",
   "metadata": {},
   "outputs": [
    {
     "name": "stdout",
     "output_type": "stream",
     "text": [
      "(185118, 7)\n",
      "---------------\n"
     ]
    },
    {
     "data": {
      "text/html": [
       "<div>\n",
       "<style scoped>\n",
       "    .dataframe tbody tr th:only-of-type {\n",
       "        vertical-align: middle;\n",
       "    }\n",
       "\n",
       "    .dataframe tbody tr th {\n",
       "        vertical-align: top;\n",
       "    }\n",
       "\n",
       "    .dataframe thead th {\n",
       "        text-align: right;\n",
       "    }\n",
       "</style>\n",
       "<table border=\"1\" class=\"dataframe\">\n",
       "  <thead>\n",
       "    <tr style=\"text-align: right;\">\n",
       "      <th></th>\n",
       "      <th>id</th>\n",
       "      <th>screen_name</th>\n",
       "      <th>user_id</th>\n",
       "      <th>time</th>\n",
       "      <th>link</th>\n",
       "      <th>text</th>\n",
       "      <th>source</th>\n",
       "    </tr>\n",
       "  </thead>\n",
       "  <tbody>\n",
       "    <tr>\n",
       "      <th>0</th>\n",
       "      <td>971566984302342144</td>\n",
       "      <td>VoteForTrey</td>\n",
       "      <td>3.431000e+09</td>\n",
       "      <td>2018-03-07T21:03:14-05:00</td>\n",
       "      <td>https://www.twitter.com/VoteForTrey/statuses/9...</td>\n",
       "      <td>This week last year, I had the pleasure of hon...</td>\n",
       "      <td>Twitter Web Client</td>\n",
       "    </tr>\n",
       "    <tr>\n",
       "      <th>1</th>\n",
       "      <td>971354791006932992</td>\n",
       "      <td>SenatorHeitkamp</td>\n",
       "      <td>1.061029e+09</td>\n",
       "      <td>2018-03-07T07:00:03-05:00</td>\n",
       "      <td>https://www.twitter.com/SenatorHeitkamp/status...</td>\n",
       "      <td>Will be on @SquawkCNBC this morning at 7:20am ...</td>\n",
       "      <td>TweetDeck</td>\n",
       "    </tr>\n",
       "  </tbody>\n",
       "</table>\n",
       "</div>"
      ],
      "text/plain": [
       "                   id      screen_name       user_id  \\\n",
       "0  971566984302342144      VoteForTrey  3.431000e+09   \n",
       "1  971354791006932992  SenatorHeitkamp  1.061029e+09   \n",
       "\n",
       "                        time  \\\n",
       "0  2018-03-07T21:03:14-05:00   \n",
       "1  2018-03-07T07:00:03-05:00   \n",
       "\n",
       "                                                link  \\\n",
       "0  https://www.twitter.com/VoteForTrey/statuses/9...   \n",
       "1  https://www.twitter.com/SenatorHeitkamp/status...   \n",
       "\n",
       "                                                text              source  \n",
       "0  This week last year, I had the pleasure of hon...  Twitter Web Client  \n",
       "1  Will be on @SquawkCNBC this morning at 7:20am ...           TweetDeck  "
      ]
     },
     "execution_count": 23,
     "metadata": {},
     "output_type": "execute_result"
    }
   ],
   "source": [
    "print(df115_2.shape)\n",
    "print('---------------')\n",
    "df115_2.head(2)"
   ]
  },
  {
   "cell_type": "code",
   "execution_count": 24,
   "id": "72fe07b9",
   "metadata": {},
   "outputs": [
    {
     "name": "stdout",
     "output_type": "stream",
     "text": [
      "(189843, 7)\n",
      "---------------\n"
     ]
    },
    {
     "data": {
      "text/html": [
       "<div>\n",
       "<style scoped>\n",
       "    .dataframe tbody tr th:only-of-type {\n",
       "        vertical-align: middle;\n",
       "    }\n",
       "\n",
       "    .dataframe tbody tr th {\n",
       "        vertical-align: top;\n",
       "    }\n",
       "\n",
       "    .dataframe thead th {\n",
       "        text-align: right;\n",
       "    }\n",
       "</style>\n",
       "<table border=\"1\" class=\"dataframe\">\n",
       "  <thead>\n",
       "    <tr style=\"text-align: right;\">\n",
       "      <th></th>\n",
       "      <th>id</th>\n",
       "      <th>screen_name</th>\n",
       "      <th>user_id</th>\n",
       "      <th>time</th>\n",
       "      <th>link</th>\n",
       "      <th>text</th>\n",
       "      <th>source</th>\n",
       "    </tr>\n",
       "  </thead>\n",
       "  <tbody>\n",
       "    <tr>\n",
       "      <th>0</th>\n",
       "      <td>1267667665834913793</td>\n",
       "      <td>CAPAC</td>\n",
       "      <td>192955168.0</td>\n",
       "      <td>2020-06-02T00:01:38-04:00</td>\n",
       "      <td>https://www.twitter.com/RepTjCox/statuses/1267...</td>\n",
       "      <td>RT @RepTjCox Today is the start of #PrideMonth...</td>\n",
       "      <td>Twitter for iPhone</td>\n",
       "    </tr>\n",
       "    <tr>\n",
       "      <th>1</th>\n",
       "      <td>1267667548880998400</td>\n",
       "      <td>CAPAC</td>\n",
       "      <td>192955168.0</td>\n",
       "      <td>2020-06-02T00:01:10-04:00</td>\n",
       "      <td>https://www.twitter.com/RepJayapal/statuses/12...</td>\n",
       "      <td>RT @RepJayapal Donald Trump cozied up to dicta...</td>\n",
       "      <td>Twitter for iPhone</td>\n",
       "    </tr>\n",
       "  </tbody>\n",
       "</table>\n",
       "</div>"
      ],
      "text/plain": [
       "                    id screen_name      user_id                       time  \\\n",
       "0  1267667665834913793       CAPAC  192955168.0  2020-06-02T00:01:38-04:00   \n",
       "1  1267667548880998400       CAPAC  192955168.0  2020-06-02T00:01:10-04:00   \n",
       "\n",
       "                                                link  \\\n",
       "0  https://www.twitter.com/RepTjCox/statuses/1267...   \n",
       "1  https://www.twitter.com/RepJayapal/statuses/12...   \n",
       "\n",
       "                                                text              source  \n",
       "0  RT @RepTjCox Today is the start of #PrideMonth...  Twitter for iPhone  \n",
       "1  RT @RepJayapal Donald Trump cozied up to dicta...  Twitter for iPhone  "
      ]
     },
     "execution_count": 24,
     "metadata": {},
     "output_type": "execute_result"
    }
   ],
   "source": [
    "print(df116_1.shape)\n",
    "print('---------------')\n",
    "df116_1.head(2)"
   ]
  },
  {
   "cell_type": "code",
   "execution_count": 25,
   "id": "4d7facc7",
   "metadata": {},
   "outputs": [
    {
     "name": "stdout",
     "output_type": "stream",
     "text": [
      "(189842, 7)\n",
      "---------------\n"
     ]
    },
    {
     "data": {
      "text/html": [
       "<div>\n",
       "<style scoped>\n",
       "    .dataframe tbody tr th:only-of-type {\n",
       "        vertical-align: middle;\n",
       "    }\n",
       "\n",
       "    .dataframe tbody tr th {\n",
       "        vertical-align: top;\n",
       "    }\n",
       "\n",
       "    .dataframe thead th {\n",
       "        text-align: right;\n",
       "    }\n",
       "</style>\n",
       "<table border=\"1\" class=\"dataframe\">\n",
       "  <thead>\n",
       "    <tr style=\"text-align: right;\">\n",
       "      <th></th>\n",
       "      <th>id</th>\n",
       "      <th>screen_name</th>\n",
       "      <th>user_id</th>\n",
       "      <th>time</th>\n",
       "      <th>link</th>\n",
       "      <th>text</th>\n",
       "      <th>source</th>\n",
       "    </tr>\n",
       "  </thead>\n",
       "  <tbody>\n",
       "    <tr>\n",
       "      <th>0</th>\n",
       "      <td>1245147964118614016</td>\n",
       "      <td>RepBalderson</td>\n",
       "      <td>1.037342e+18</td>\n",
       "      <td>2020-03-31T20:36:23-04:00</td>\n",
       "      <td>https://www.twitter.com/RepBalderson/statuses/...</td>\n",
       "      <td>@fema @SBA_Columbus #TTHTales A constituent wo...</td>\n",
       "      <td>TweetDeck</td>\n",
       "    </tr>\n",
       "    <tr>\n",
       "      <th>1</th>\n",
       "      <td>1245067221015109633</td>\n",
       "      <td>RepLawrence</td>\n",
       "      <td>2.863007e+09</td>\n",
       "      <td>2020-03-31T15:15:32-04:00</td>\n",
       "      <td>https://www.twitter.com/iam_brendajones/status...</td>\n",
       "      <td>RT @iam_brendajones The Detroit City Council h...</td>\n",
       "      <td>Twitter for iPhone</td>\n",
       "    </tr>\n",
       "  </tbody>\n",
       "</table>\n",
       "</div>"
      ],
      "text/plain": [
       "                    id   screen_name       user_id                       time  \\\n",
       "0  1245147964118614016  RepBalderson  1.037342e+18  2020-03-31T20:36:23-04:00   \n",
       "1  1245067221015109633   RepLawrence  2.863007e+09  2020-03-31T15:15:32-04:00   \n",
       "\n",
       "                                                link  \\\n",
       "0  https://www.twitter.com/RepBalderson/statuses/...   \n",
       "1  https://www.twitter.com/iam_brendajones/status...   \n",
       "\n",
       "                                                text              source  \n",
       "0  @fema @SBA_Columbus #TTHTales A constituent wo...           TweetDeck  \n",
       "1  RT @iam_brendajones The Detroit City Council h...  Twitter for iPhone  "
      ]
     },
     "execution_count": 25,
     "metadata": {},
     "output_type": "execute_result"
    }
   ],
   "source": [
    "print(df116_2.shape)\n",
    "print('---------------')\n",
    "df116_2.head(2)"
   ]
  },
  {
   "cell_type": "code",
   "execution_count": 26,
   "id": "40072263",
   "metadata": {},
   "outputs": [
    {
     "name": "stdout",
     "output_type": "stream",
     "text": [
      "(189842, 7)\n",
      "---------------\n"
     ]
    },
    {
     "data": {
      "text/html": [
       "<div>\n",
       "<style scoped>\n",
       "    .dataframe tbody tr th:only-of-type {\n",
       "        vertical-align: middle;\n",
       "    }\n",
       "\n",
       "    .dataframe tbody tr th {\n",
       "        vertical-align: top;\n",
       "    }\n",
       "\n",
       "    .dataframe thead th {\n",
       "        text-align: right;\n",
       "    }\n",
       "</style>\n",
       "<table border=\"1\" class=\"dataframe\">\n",
       "  <thead>\n",
       "    <tr style=\"text-align: right;\">\n",
       "      <th></th>\n",
       "      <th>id</th>\n",
       "      <th>screen_name</th>\n",
       "      <th>user_id</th>\n",
       "      <th>time</th>\n",
       "      <th>link</th>\n",
       "      <th>text</th>\n",
       "      <th>source</th>\n",
       "    </tr>\n",
       "  </thead>\n",
       "  <tbody>\n",
       "    <tr>\n",
       "      <th>0</th>\n",
       "      <td>1222725512495271937</td>\n",
       "      <td>RepValDemings</td>\n",
       "      <td>7.989730e+17</td>\n",
       "      <td>2020-01-29T22:37:33-05:00</td>\n",
       "      <td>https://www.twitter.com/HouseIntel/statuses/12...</td>\n",
       "      <td>RT @HouseIntel “Now apparently it’s ok for a p...</td>\n",
       "      <td>Twitter for iPhone</td>\n",
       "    </tr>\n",
       "    <tr>\n",
       "      <th>1</th>\n",
       "      <td>1222523538004942848</td>\n",
       "      <td>JenniferWexton</td>\n",
       "      <td>2.212905e+09</td>\n",
       "      <td>2020-01-29T09:14:59-05:00</td>\n",
       "      <td>https://www.twitter.com/GiffordsCourage/status...</td>\n",
       "      <td>RT @GiffordsCourage In 2018, we helped @Jennif...</td>\n",
       "      <td>Twitter for iPhone</td>\n",
       "    </tr>\n",
       "  </tbody>\n",
       "</table>\n",
       "</div>"
      ],
      "text/plain": [
       "                    id     screen_name       user_id  \\\n",
       "0  1222725512495271937   RepValDemings  7.989730e+17   \n",
       "1  1222523538004942848  JenniferWexton  2.212905e+09   \n",
       "\n",
       "                        time  \\\n",
       "0  2020-01-29T22:37:33-05:00   \n",
       "1  2020-01-29T09:14:59-05:00   \n",
       "\n",
       "                                                link  \\\n",
       "0  https://www.twitter.com/HouseIntel/statuses/12...   \n",
       "1  https://www.twitter.com/GiffordsCourage/status...   \n",
       "\n",
       "                                                text              source  \n",
       "0  RT @HouseIntel “Now apparently it’s ok for a p...  Twitter for iPhone  \n",
       "1  RT @GiffordsCourage In 2018, we helped @Jennif...  Twitter for iPhone  "
      ]
     },
     "execution_count": 26,
     "metadata": {},
     "output_type": "execute_result"
    }
   ],
   "source": [
    "print(df116_3.shape)\n",
    "print('---------------')\n",
    "df116_3.head(2)"
   ]
  },
  {
   "cell_type": "code",
   "execution_count": 27,
   "id": "042a6ddf",
   "metadata": {},
   "outputs": [
    {
     "name": "stdout",
     "output_type": "stream",
     "text": [
      "(189842, 7)\n",
      "---------------\n"
     ]
    },
    {
     "data": {
      "text/html": [
       "<div>\n",
       "<style scoped>\n",
       "    .dataframe tbody tr th:only-of-type {\n",
       "        vertical-align: middle;\n",
       "    }\n",
       "\n",
       "    .dataframe tbody tr th {\n",
       "        vertical-align: top;\n",
       "    }\n",
       "\n",
       "    .dataframe thead th {\n",
       "        text-align: right;\n",
       "    }\n",
       "</style>\n",
       "<table border=\"1\" class=\"dataframe\">\n",
       "  <thead>\n",
       "    <tr style=\"text-align: right;\">\n",
       "      <th></th>\n",
       "      <th>id</th>\n",
       "      <th>screen_name</th>\n",
       "      <th>user_id</th>\n",
       "      <th>time</th>\n",
       "      <th>link</th>\n",
       "      <th>text</th>\n",
       "      <th>source</th>\n",
       "    </tr>\n",
       "  </thead>\n",
       "  <tbody>\n",
       "    <tr>\n",
       "      <th>0</th>\n",
       "      <td>1192597393096601600</td>\n",
       "      <td>ScottPetersSD</td>\n",
       "      <td>2.925945e+08</td>\n",
       "      <td>2019-11-07T19:19:10-05:00</td>\n",
       "      <td>https://www.twitter.com/ScottPetersSD/statuses...</td>\n",
       "      <td>@chamie No wonder she complains about the patr...</td>\n",
       "      <td>Twitter for iPhone</td>\n",
       "    </tr>\n",
       "    <tr>\n",
       "      <th>1</th>\n",
       "      <td>1192581226596651008</td>\n",
       "      <td>DocAbraham</td>\n",
       "      <td>2.543009e+09</td>\n",
       "      <td>2019-11-07T18:14:56-05:00</td>\n",
       "      <td>https://www.twitter.com/DanScavino/statuses/11...</td>\n",
       "      <td>RT @DanScavino https://twitter.com/lagop/statu...</td>\n",
       "      <td>Twitter for iPhone</td>\n",
       "    </tr>\n",
       "  </tbody>\n",
       "</table>\n",
       "</div>"
      ],
      "text/plain": [
       "                    id    screen_name       user_id  \\\n",
       "0  1192597393096601600  ScottPetersSD  2.925945e+08   \n",
       "1  1192581226596651008     DocAbraham  2.543009e+09   \n",
       "\n",
       "                        time  \\\n",
       "0  2019-11-07T19:19:10-05:00   \n",
       "1  2019-11-07T18:14:56-05:00   \n",
       "\n",
       "                                                link  \\\n",
       "0  https://www.twitter.com/ScottPetersSD/statuses...   \n",
       "1  https://www.twitter.com/DanScavino/statuses/11...   \n",
       "\n",
       "                                                text              source  \n",
       "0  @chamie No wonder she complains about the patr...  Twitter for iPhone  \n",
       "1  RT @DanScavino https://twitter.com/lagop/statu...  Twitter for iPhone  "
      ]
     },
     "execution_count": 27,
     "metadata": {},
     "output_type": "execute_result"
    }
   ],
   "source": [
    "print(df116_4.shape)\n",
    "print('---------------')\n",
    "df116_4.head(2)"
   ]
  },
  {
   "cell_type": "code",
   "execution_count": 28,
   "id": "8a16d1a2",
   "metadata": {},
   "outputs": [
    {
     "name": "stdout",
     "output_type": "stream",
     "text": [
      "(554, 6)\n",
      "---------------\n"
     ]
    },
    {
     "data": {
      "text/html": [
       "<div>\n",
       "<style scoped>\n",
       "    .dataframe tbody tr th:only-of-type {\n",
       "        vertical-align: middle;\n",
       "    }\n",
       "\n",
       "    .dataframe tbody tr th {\n",
       "        vertical-align: top;\n",
       "    }\n",
       "\n",
       "    .dataframe thead th {\n",
       "        text-align: right;\n",
       "    }\n",
       "</style>\n",
       "<table border=\"1\" class=\"dataframe\">\n",
       "  <thead>\n",
       "    <tr style=\"text-align: right;\">\n",
       "      <th></th>\n",
       "      <th>state</th>\n",
       "      <th>position</th>\n",
       "      <th>name</th>\n",
       "      <th>screen_name</th>\n",
       "      <th>party</th>\n",
       "      <th>congress</th>\n",
       "    </tr>\n",
       "  </thead>\n",
       "  <tbody>\n",
       "    <tr>\n",
       "      <th>0</th>\n",
       "      <td>LA</td>\n",
       "      <td>Representative</td>\n",
       "      <td>Ralph Abraham</td>\n",
       "      <td>CongressmanRalphAbraham</td>\n",
       "      <td>R</td>\n",
       "      <td>115</td>\n",
       "    </tr>\n",
       "    <tr>\n",
       "      <th>1</th>\n",
       "      <td>NC</td>\n",
       "      <td>Representative</td>\n",
       "      <td>Alma Adams</td>\n",
       "      <td>RepAdams</td>\n",
       "      <td>D</td>\n",
       "      <td>115</td>\n",
       "    </tr>\n",
       "    <tr>\n",
       "      <th>2</th>\n",
       "      <td>AL</td>\n",
       "      <td>Representative</td>\n",
       "      <td>Robert Aderholt</td>\n",
       "      <td>robert_aderholt</td>\n",
       "      <td>R</td>\n",
       "      <td>115</td>\n",
       "    </tr>\n",
       "  </tbody>\n",
       "</table>\n",
       "</div>"
      ],
      "text/plain": [
       "  state        position             name              screen_name party  \\\n",
       "0    LA  Representative    Ralph Abraham  CongressmanRalphAbraham     R   \n",
       "1    NC  Representative       Alma Adams                 RepAdams     D   \n",
       "2    AL  Representative  Robert Aderholt          robert_aderholt     R   \n",
       "\n",
       "   congress  \n",
       "0       115  \n",
       "1       115  \n",
       "2       115  "
      ]
     },
     "execution_count": 28,
     "metadata": {},
     "output_type": "execute_result"
    }
   ],
   "source": [
    "print(df115_handles.shape)\n",
    "print('---------------')\n",
    "df115_handles.head(3)"
   ]
  },
  {
   "cell_type": "code",
   "execution_count": 29,
   "id": "3c47e1da",
   "metadata": {},
   "outputs": [
    {
     "name": "stdout",
     "output_type": "stream",
     "text": [
      "(531, 6)\n",
      "---------------\n"
     ]
    },
    {
     "data": {
      "text/html": [
       "<div>\n",
       "<style scoped>\n",
       "    .dataframe tbody tr th:only-of-type {\n",
       "        vertical-align: middle;\n",
       "    }\n",
       "\n",
       "    .dataframe tbody tr th {\n",
       "        vertical-align: top;\n",
       "    }\n",
       "\n",
       "    .dataframe thead th {\n",
       "        text-align: right;\n",
       "    }\n",
       "</style>\n",
       "<table border=\"1\" class=\"dataframe\">\n",
       "  <thead>\n",
       "    <tr style=\"text-align: right;\">\n",
       "      <th></th>\n",
       "      <th>state</th>\n",
       "      <th>position</th>\n",
       "      <th>name</th>\n",
       "      <th>screen_name</th>\n",
       "      <th>party</th>\n",
       "      <th>congress</th>\n",
       "    </tr>\n",
       "  </thead>\n",
       "  <tbody>\n",
       "    <tr>\n",
       "      <th>0</th>\n",
       "      <td>NC</td>\n",
       "      <td>Representative</td>\n",
       "      <td>Alma Adams</td>\n",
       "      <td>RepAdams</td>\n",
       "      <td>D</td>\n",
       "      <td>116</td>\n",
       "    </tr>\n",
       "    <tr>\n",
       "      <th>1</th>\n",
       "      <td>AL</td>\n",
       "      <td>Representative</td>\n",
       "      <td>Robert Aderholt</td>\n",
       "      <td>Robert_Aderholt</td>\n",
       "      <td>R</td>\n",
       "      <td>116</td>\n",
       "    </tr>\n",
       "    <tr>\n",
       "      <th>2</th>\n",
       "      <td>CA</td>\n",
       "      <td>Representative</td>\n",
       "      <td>Pete Aguilar</td>\n",
       "      <td>RepPeteAguilar</td>\n",
       "      <td>D</td>\n",
       "      <td>116</td>\n",
       "    </tr>\n",
       "  </tbody>\n",
       "</table>\n",
       "</div>"
      ],
      "text/plain": [
       "  state        position             name      screen_name party  congress\n",
       "0    NC  Representative       Alma Adams         RepAdams     D       116\n",
       "1    AL  Representative  Robert Aderholt  Robert_Aderholt     R       116\n",
       "2    CA  Representative     Pete Aguilar   RepPeteAguilar     D       116"
      ]
     },
     "execution_count": 29,
     "metadata": {},
     "output_type": "execute_result"
    }
   ],
   "source": [
    "print(df116_handles.shape)\n",
    "print('---------------')\n",
    "df116_handles.head(3)"
   ]
  },
  {
   "cell_type": "code",
   "execution_count": null,
   "id": "4fdb6ea3",
   "metadata": {},
   "outputs": [],
   "source": []
  },
  {
   "cell_type": "code",
   "execution_count": 30,
   "id": "4ef6a512",
   "metadata": {},
   "outputs": [],
   "source": [
    "# combining the 115th Congress dfs and removing duplicates\n",
    "df115 = pd.concat([df115_1, df115_2, df115_3, df115_4], axis=0, sort=False)\n",
    "df115 = df115.drop_duplicates()\n",
    "\n",
    "# combining the 116th Congress dfs and removing duplicates\n",
    "df116 = pd.concat([df116_1, df116_2, df116_3, df116_4, df116_5, df116_6, df116_7, df116_8, df116_9, df116_10], axis=0, sort=False)\n",
    "df116 = df116.drop_duplicates()"
   ]
  },
  {
   "cell_type": "code",
   "execution_count": 31,
   "id": "b2906ed6",
   "metadata": {},
   "outputs": [
    {
     "name": "stdout",
     "output_type": "stream",
     "text": [
      "115th Congress Tweet df shape: (740477, 7)\n",
      "116th Congress Tweet df shape: (1882109, 7)\n",
      "---------------\n",
      "115th Congress Elected Officials: (554, 6)\n",
      "116th Congress Elected Officials: (531, 6)\n"
     ]
    }
   ],
   "source": [
    "print(f'115th Congress Tweet df shape: {df115.shape}')\n",
    "print(f'116th Congress Tweet df shape: {df116.shape}')\n",
    "print('---------------')\n",
    "print(f'115th Congress Elected Officials: {df115_handles.shape}')\n",
    "print(f'116th Congress Elected Officials: {df116_handles.shape}')\n",
    "\n",
    "# 115th Congress Tweet df shape: (740479, 7)\n",
    "# 116th Congress Tweet df shape: (1898432, 7)\n",
    "# ---------------\n",
    "# 115th Congress Elected Officials: (554, 6)\n",
    "# 116th Congress Elected Officials: (531, 6)"
   ]
  },
  {
   "cell_type": "code",
   "execution_count": 32,
   "id": "12715a72",
   "metadata": {},
   "outputs": [],
   "source": [
    "# ensuring no duplicates in the handles dfs\n",
    "df115_handles = df115_handles.drop_duplicates()\n",
    "df116_handles = df116_handles.drop_duplicates()"
   ]
  },
  {
   "cell_type": "code",
   "execution_count": 33,
   "id": "a2352eac",
   "metadata": {},
   "outputs": [],
   "source": [
    "# merging full tweet set with handles df \n",
    "# (list of actually elected officials, official govt twitter handle)\n",
    "# keeping only those who appear in the handles df\n",
    "\n",
    "# 115th congress merge\n",
    "df115_ = pd.merge(df115, df115_handles, on='screen_name')\n",
    "\n",
    "# 116th congress merge\n",
    "df116_ = pd.merge(df116, df116_handles, on='screen_name')"
   ]
  },
  {
   "cell_type": "code",
   "execution_count": 34,
   "id": "ab9a05f3",
   "metadata": {},
   "outputs": [
    {
     "name": "stdout",
     "output_type": "stream",
     "text": [
      "115th Congress Elected Official Tweets: (368096, 12)\n",
      "116th Congress Elected Official Tweets: (1115007, 12)\n"
     ]
    }
   ],
   "source": [
    "# Checking the shape of the merged datasets\n",
    "print(f'115th Congress Elected Official Tweets: {df115_.shape}')\n",
    "print(f'116th Congress Elected Official Tweets: {df116_.shape}')\n",
    "\n",
    "# 115th Congress Elected Official Tweets: (368098, 12)\n",
    "# 116th Congress Elected Official Tweets: (1124765, 12)"
   ]
  },
  {
   "cell_type": "code",
   "execution_count": 38,
   "id": "726c6dc5",
   "metadata": {},
   "outputs": [],
   "source": [
    "# Creating the larger dataframe which combines Tweets from\n",
    "# the 115th and 116th Congresses\n",
    "df = pd.concat([df115_, df116_], axis=0, sort=False)"
   ]
  },
  {
   "cell_type": "code",
   "execution_count": 39,
   "id": "15550e4d",
   "metadata": {},
   "outputs": [],
   "source": [
    "# ensuring no duplicates in the final df\n",
    "df = df.drop_duplicates()\n"
   ]
  },
  {
   "cell_type": "code",
   "execution_count": 40,
   "id": "8fa13500",
   "metadata": {
    "scrolled": true
   },
   "outputs": [
    {
     "name": "stdout",
     "output_type": "stream",
     "text": [
      "(1483103, 12)\n",
      "---------------\n"
     ]
    },
    {
     "data": {
      "text/html": [
       "<div>\n",
       "<style scoped>\n",
       "    .dataframe tbody tr th:only-of-type {\n",
       "        vertical-align: middle;\n",
       "    }\n",
       "\n",
       "    .dataframe tbody tr th {\n",
       "        vertical-align: top;\n",
       "    }\n",
       "\n",
       "    .dataframe thead th {\n",
       "        text-align: right;\n",
       "    }\n",
       "</style>\n",
       "<table border=\"1\" class=\"dataframe\">\n",
       "  <thead>\n",
       "    <tr style=\"text-align: right;\">\n",
       "      <th></th>\n",
       "      <th>id</th>\n",
       "      <th>screen_name</th>\n",
       "      <th>user_id</th>\n",
       "      <th>time</th>\n",
       "      <th>link</th>\n",
       "      <th>text</th>\n",
       "      <th>source</th>\n",
       "      <th>state</th>\n",
       "      <th>position</th>\n",
       "      <th>name</th>\n",
       "      <th>party</th>\n",
       "      <th>congress</th>\n",
       "    </tr>\n",
       "  </thead>\n",
       "  <tbody>\n",
       "    <tr>\n",
       "      <th>1114997</th>\n",
       "      <td>1095066508450021381</td>\n",
       "      <td>RepWalterJones</td>\n",
       "      <td>26778110.0</td>\n",
       "      <td>2019-02-11T16:06:15-05:00</td>\n",
       "      <td>https://www.twitter.com/RepWalterJones/statuse...</td>\n",
       "      <td>(1/2) From 4pm to 8pm on Wednesday, February 1...</td>\n",
       "      <td>Twitter for iPhone</td>\n",
       "      <td>NC</td>\n",
       "      <td>Representative</td>\n",
       "      <td>Walter Jones</td>\n",
       "      <td>R</td>\n",
       "      <td>116</td>\n",
       "    </tr>\n",
       "    <tr>\n",
       "      <th>1114998</th>\n",
       "      <td>1095066510098399232</td>\n",
       "      <td>RepWalterJones</td>\n",
       "      <td>26778110.0</td>\n",
       "      <td>2019-02-11T16:06:16-05:00</td>\n",
       "      <td>https://www.twitter.com/RepWalterJones/statuse...</td>\n",
       "      <td>(2/2) The funeral will be held at St. Peter Ca...</td>\n",
       "      <td>Twitter for iPhone</td>\n",
       "      <td>NC</td>\n",
       "      <td>Representative</td>\n",
       "      <td>Walter Jones</td>\n",
       "      <td>R</td>\n",
       "      <td>116</td>\n",
       "    </tr>\n",
       "    <tr>\n",
       "      <th>1114999</th>\n",
       "      <td>1094734618673205250</td>\n",
       "      <td>RepWalterJones</td>\n",
       "      <td>26778110.0</td>\n",
       "      <td>2019-02-10T18:07:26-05:00</td>\n",
       "      <td>https://www.twitter.com/RepWalterJones/statuse...</td>\n",
       "      <td>With a kind heart and the courage of his convi...</td>\n",
       "      <td>Twitter for iPhone</td>\n",
       "      <td>NC</td>\n",
       "      <td>Representative</td>\n",
       "      <td>Walter Jones</td>\n",
       "      <td>R</td>\n",
       "      <td>116</td>\n",
       "    </tr>\n",
       "    <tr>\n",
       "      <th>1115000</th>\n",
       "      <td>1092816507237736450</td>\n",
       "      <td>RepWalterJones</td>\n",
       "      <td>26778110.0</td>\n",
       "      <td>2019-02-05T11:05:33-05:00</td>\n",
       "      <td>https://www.twitter.com/RepWalterJones/statuse...</td>\n",
       "      <td>The #IRS is now accepting and processing tax r...</td>\n",
       "      <td>Twitter Web Client</td>\n",
       "      <td>NC</td>\n",
       "      <td>Representative</td>\n",
       "      <td>Walter Jones</td>\n",
       "      <td>R</td>\n",
       "      <td>116</td>\n",
       "    </tr>\n",
       "    <tr>\n",
       "      <th>1115001</th>\n",
       "      <td>1087824613197918208</td>\n",
       "      <td>RepWalterJones</td>\n",
       "      <td>26778110.0</td>\n",
       "      <td>2019-01-22T16:29:33-05:00</td>\n",
       "      <td>https://www.twitter.com/RepWalterJones/statuse...</td>\n",
       "      <td>(1/3) Commercial fishermen eligible for the st...</td>\n",
       "      <td>Twitter Web Client</td>\n",
       "      <td>NC</td>\n",
       "      <td>Representative</td>\n",
       "      <td>Walter Jones</td>\n",
       "      <td>R</td>\n",
       "      <td>116</td>\n",
       "    </tr>\n",
       "    <tr>\n",
       "      <th>1115002</th>\n",
       "      <td>1087824687693025283</td>\n",
       "      <td>RepWalterJones</td>\n",
       "      <td>26778110.0</td>\n",
       "      <td>2019-01-22T16:29:51-05:00</td>\n",
       "      <td>https://www.twitter.com/RepWalterJones/statuse...</td>\n",
       "      <td>(2/3) The division had set a Jan. 4, 2019 dead...</td>\n",
       "      <td>Twitter Web Client</td>\n",
       "      <td>NC</td>\n",
       "      <td>Representative</td>\n",
       "      <td>Walter Jones</td>\n",
       "      <td>R</td>\n",
       "      <td>116</td>\n",
       "    </tr>\n",
       "    <tr>\n",
       "      <th>1115003</th>\n",
       "      <td>1087824729589891073</td>\n",
       "      <td>RepWalterJones</td>\n",
       "      <td>26778110.0</td>\n",
       "      <td>2019-01-22T16:30:00-05:00</td>\n",
       "      <td>https://www.twitter.com/RepWalterJones/statuse...</td>\n",
       "      <td>(3/3) Any resident commercial fisherman or she...</td>\n",
       "      <td>Twitter Web Client</td>\n",
       "      <td>NC</td>\n",
       "      <td>Representative</td>\n",
       "      <td>Walter Jones</td>\n",
       "      <td>R</td>\n",
       "      <td>116</td>\n",
       "    </tr>\n",
       "    <tr>\n",
       "      <th>1115004</th>\n",
       "      <td>1086386668226134016</td>\n",
       "      <td>RepWalterJones</td>\n",
       "      <td>26778110.0</td>\n",
       "      <td>2019-01-18T17:15:40-05:00</td>\n",
       "      <td>https://www.twitter.com/RepWalterJones/statuse...</td>\n",
       "      <td>An unborn child is a gift from God that is ent...</td>\n",
       "      <td>Twitter Web Client</td>\n",
       "      <td>NC</td>\n",
       "      <td>Representative</td>\n",
       "      <td>Walter Jones</td>\n",
       "      <td>R</td>\n",
       "      <td>116</td>\n",
       "    </tr>\n",
       "    <tr>\n",
       "      <th>1115005</th>\n",
       "      <td>1085977321524379650</td>\n",
       "      <td>RepWalterJones</td>\n",
       "      <td>26778110.0</td>\n",
       "      <td>2019-01-17T14:09:04-05:00</td>\n",
       "      <td>https://www.twitter.com/RepWalterJones/statuse...</td>\n",
       "      <td>The deadline for North Carolinians who are eli...</td>\n",
       "      <td>Twitter Web Client</td>\n",
       "      <td>NC</td>\n",
       "      <td>Representative</td>\n",
       "      <td>Walter Jones</td>\n",
       "      <td>R</td>\n",
       "      <td>116</td>\n",
       "    </tr>\n",
       "    <tr>\n",
       "      <th>1115006</th>\n",
       "      <td>1086024404759388160</td>\n",
       "      <td>RepWalterJones</td>\n",
       "      <td>26778110.0</td>\n",
       "      <td>2019-01-17T17:16:10-05:00</td>\n",
       "      <td>https://www.twitter.com/RepWalterJones/statuse...</td>\n",
       "      <td>Proud to introduce legislation to eliminate re...</td>\n",
       "      <td>Twitter Web Client</td>\n",
       "      <td>NC</td>\n",
       "      <td>Representative</td>\n",
       "      <td>Walter Jones</td>\n",
       "      <td>R</td>\n",
       "      <td>116</td>\n",
       "    </tr>\n",
       "  </tbody>\n",
       "</table>\n",
       "</div>"
      ],
      "text/plain": [
       "                          id     screen_name     user_id  \\\n",
       "1114997  1095066508450021381  RepWalterJones  26778110.0   \n",
       "1114998  1095066510098399232  RepWalterJones  26778110.0   \n",
       "1114999  1094734618673205250  RepWalterJones  26778110.0   \n",
       "1115000  1092816507237736450  RepWalterJones  26778110.0   \n",
       "1115001  1087824613197918208  RepWalterJones  26778110.0   \n",
       "1115002  1087824687693025283  RepWalterJones  26778110.0   \n",
       "1115003  1087824729589891073  RepWalterJones  26778110.0   \n",
       "1115004  1086386668226134016  RepWalterJones  26778110.0   \n",
       "1115005  1085977321524379650  RepWalterJones  26778110.0   \n",
       "1115006  1086024404759388160  RepWalterJones  26778110.0   \n",
       "\n",
       "                              time  \\\n",
       "1114997  2019-02-11T16:06:15-05:00   \n",
       "1114998  2019-02-11T16:06:16-05:00   \n",
       "1114999  2019-02-10T18:07:26-05:00   \n",
       "1115000  2019-02-05T11:05:33-05:00   \n",
       "1115001  2019-01-22T16:29:33-05:00   \n",
       "1115002  2019-01-22T16:29:51-05:00   \n",
       "1115003  2019-01-22T16:30:00-05:00   \n",
       "1115004  2019-01-18T17:15:40-05:00   \n",
       "1115005  2019-01-17T14:09:04-05:00   \n",
       "1115006  2019-01-17T17:16:10-05:00   \n",
       "\n",
       "                                                      link  \\\n",
       "1114997  https://www.twitter.com/RepWalterJones/statuse...   \n",
       "1114998  https://www.twitter.com/RepWalterJones/statuse...   \n",
       "1114999  https://www.twitter.com/RepWalterJones/statuse...   \n",
       "1115000  https://www.twitter.com/RepWalterJones/statuse...   \n",
       "1115001  https://www.twitter.com/RepWalterJones/statuse...   \n",
       "1115002  https://www.twitter.com/RepWalterJones/statuse...   \n",
       "1115003  https://www.twitter.com/RepWalterJones/statuse...   \n",
       "1115004  https://www.twitter.com/RepWalterJones/statuse...   \n",
       "1115005  https://www.twitter.com/RepWalterJones/statuse...   \n",
       "1115006  https://www.twitter.com/RepWalterJones/statuse...   \n",
       "\n",
       "                                                      text  \\\n",
       "1114997  (1/2) From 4pm to 8pm on Wednesday, February 1...   \n",
       "1114998  (2/2) The funeral will be held at St. Peter Ca...   \n",
       "1114999  With a kind heart and the courage of his convi...   \n",
       "1115000  The #IRS is now accepting and processing tax r...   \n",
       "1115001  (1/3) Commercial fishermen eligible for the st...   \n",
       "1115002  (2/3) The division had set a Jan. 4, 2019 dead...   \n",
       "1115003  (3/3) Any resident commercial fisherman or she...   \n",
       "1115004  An unborn child is a gift from God that is ent...   \n",
       "1115005  The deadline for North Carolinians who are eli...   \n",
       "1115006  Proud to introduce legislation to eliminate re...   \n",
       "\n",
       "                     source state        position          name party  \\\n",
       "1114997  Twitter for iPhone    NC  Representative  Walter Jones     R   \n",
       "1114998  Twitter for iPhone    NC  Representative  Walter Jones     R   \n",
       "1114999  Twitter for iPhone    NC  Representative  Walter Jones     R   \n",
       "1115000  Twitter Web Client    NC  Representative  Walter Jones     R   \n",
       "1115001  Twitter Web Client    NC  Representative  Walter Jones     R   \n",
       "1115002  Twitter Web Client    NC  Representative  Walter Jones     R   \n",
       "1115003  Twitter Web Client    NC  Representative  Walter Jones     R   \n",
       "1115004  Twitter Web Client    NC  Representative  Walter Jones     R   \n",
       "1115005  Twitter Web Client    NC  Representative  Walter Jones     R   \n",
       "1115006  Twitter Web Client    NC  Representative  Walter Jones     R   \n",
       "\n",
       "         congress  \n",
       "1114997       116  \n",
       "1114998       116  \n",
       "1114999       116  \n",
       "1115000       116  \n",
       "1115001       116  \n",
       "1115002       116  \n",
       "1115003       116  \n",
       "1115004       116  \n",
       "1115005       116  \n",
       "1115006       116  "
      ]
     },
     "execution_count": 40,
     "metadata": {},
     "output_type": "execute_result"
    }
   ],
   "source": [
    "print(df.shape)\n",
    "print('---------------')\n",
    "df.tail(10)\n",
    "\n",
    "# (1492863, 12)"
   ]
  },
  {
   "cell_type": "code",
   "execution_count": 41,
   "id": "e20e626e",
   "metadata": {
    "scrolled": true
   },
   "outputs": [
    {
     "name": "stdout",
     "output_type": "stream",
     "text": [
      "<class 'pandas.core.frame.DataFrame'>\n",
      "Int64Index: 1483103 entries, 0 to 1115006\n",
      "Data columns (total 12 columns):\n",
      " #   Column       Non-Null Count    Dtype  \n",
      "---  ------       --------------    -----  \n",
      " 0   id           1483102 non-null  object \n",
      " 1   screen_name  1483097 non-null  object \n",
      " 2   user_id      1483097 non-null  float64\n",
      " 3   time         1483097 non-null  object \n",
      " 4   link         1483097 non-null  object \n",
      " 5   text         1483097 non-null  object \n",
      " 6   source       1483095 non-null  object \n",
      " 7   state        1483103 non-null  object \n",
      " 8   position     1483103 non-null  object \n",
      " 9   name         1483103 non-null  object \n",
      " 10  party        1483103 non-null  object \n",
      " 11  congress     1483103 non-null  int64  \n",
      "dtypes: float64(1), int64(1), object(10)\n",
      "memory usage: 147.1+ MB\n"
     ]
    }
   ],
   "source": [
    "df.info()"
   ]
  },
  {
   "cell_type": "code",
   "execution_count": 21,
   "id": "d58577b0",
   "metadata": {
    "scrolled": true
   },
   "outputs": [
    {
     "data": {
      "text/plain": [
       "id             1\n",
       "screen_name    6\n",
       "user_id        6\n",
       "time           6\n",
       "link           6\n",
       "text           6\n",
       "source         8\n",
       "state          0\n",
       "position       0\n",
       "name           0\n",
       "party          0\n",
       "congress       0\n",
       "dtype: int64"
      ]
     },
     "execution_count": 21,
     "metadata": {},
     "output_type": "execute_result"
    }
   ],
   "source": [
    "# checking how many null values in each column pre-drop\n",
    "df.isna().sum()"
   ]
  },
  {
   "cell_type": "code",
   "execution_count": 43,
   "id": "a2392b89",
   "metadata": {},
   "outputs": [
    {
     "data": {
      "text/plain": [
       "(1483095, 12)"
      ]
     },
     "execution_count": 43,
     "metadata": {},
     "output_type": "execute_result"
    }
   ],
   "source": [
    "# dropping all rows with null values\n",
    "# 8 rows dropped\n",
    "df = df.dropna()\n",
    "\n",
    "df.shape\n",
    "\n",
    "# (1483095, 12)"
   ]
  },
  {
   "cell_type": "code",
   "execution_count": 44,
   "id": "c636c6c9",
   "metadata": {},
   "outputs": [
    {
     "data": {
      "text/plain": [
       "id             0\n",
       "screen_name    0\n",
       "user_id        0\n",
       "time           0\n",
       "link           0\n",
       "text           0\n",
       "source         0\n",
       "state          0\n",
       "position       0\n",
       "name           0\n",
       "party          0\n",
       "congress       0\n",
       "dtype: int64"
      ]
     },
     "execution_count": 44,
     "metadata": {},
     "output_type": "execute_result"
    }
   ],
   "source": [
    "# checking how many null values in each column after drop\n",
    "df.isna().sum()"
   ]
  },
  {
   "cell_type": "code",
   "execution_count": 45,
   "id": "bdff6b36",
   "metadata": {},
   "outputs": [],
   "source": [
    "# converting user_id from float to int\n",
    "df['user_id'] = df['user_id'].astype(int)"
   ]
  },
  {
   "cell_type": "code",
   "execution_count": 46,
   "id": "01964b89",
   "metadata": {},
   "outputs": [],
   "source": [
    "# Exporting the cleaned dataframe\n",
    "export_df = df.to_csv('../data/cleaned_df.csv', index = False) \n"
   ]
  },
  {
   "cell_type": "code",
   "execution_count": null,
   "id": "e14d69ac",
   "metadata": {},
   "outputs": [],
   "source": []
  },
  {
   "cell_type": "markdown",
   "id": "2263baf4",
   "metadata": {},
   "source": [
    "## Read in Cleaned Data & More EDA"
   ]
  },
  {
   "cell_type": "code",
   "execution_count": 48,
   "id": "82282fc7",
   "metadata": {},
   "outputs": [],
   "source": [
    "# Importing the finalized dataframe\n",
    "data = pd.read_csv('../data/cleaned_df.csv')\n"
   ]
  },
  {
   "cell_type": "code",
   "execution_count": 49,
   "id": "135a42ca",
   "metadata": {},
   "outputs": [
    {
     "name": "stdout",
     "output_type": "stream",
     "text": [
      "(1492855, 12)\n",
      "---------\n"
     ]
    },
    {
     "data": {
      "text/html": [
       "<div>\n",
       "<style scoped>\n",
       "    .dataframe tbody tr th:only-of-type {\n",
       "        vertical-align: middle;\n",
       "    }\n",
       "\n",
       "    .dataframe tbody tr th {\n",
       "        vertical-align: top;\n",
       "    }\n",
       "\n",
       "    .dataframe thead th {\n",
       "        text-align: right;\n",
       "    }\n",
       "</style>\n",
       "<table border=\"1\" class=\"dataframe\">\n",
       "  <thead>\n",
       "    <tr style=\"text-align: right;\">\n",
       "      <th></th>\n",
       "      <th>id</th>\n",
       "      <th>screen_name</th>\n",
       "      <th>user_id</th>\n",
       "      <th>time</th>\n",
       "      <th>link</th>\n",
       "      <th>text</th>\n",
       "      <th>source</th>\n",
       "      <th>state</th>\n",
       "      <th>position</th>\n",
       "      <th>name</th>\n",
       "      <th>party</th>\n",
       "      <th>congress</th>\n",
       "    </tr>\n",
       "  </thead>\n",
       "  <tbody>\n",
       "    <tr>\n",
       "      <th>0</th>\n",
       "      <td>1.003033e+18</td>\n",
       "      <td>RepBarragan</td>\n",
       "      <td>816833925456789504</td>\n",
       "      <td>2018-06-02T17:55:58-04:00</td>\n",
       "      <td>https://www.twitter.com/RepBarragan/statuses/1...</td>\n",
       "      <td>So great to welcome @SenSanders to #CA44 for a...</td>\n",
       "      <td>Twitter for iPhone</td>\n",
       "      <td>CA</td>\n",
       "      <td>Representative</td>\n",
       "      <td>Nanette Barragan</td>\n",
       "      <td>D</td>\n",
       "      <td>115</td>\n",
       "    </tr>\n",
       "    <tr>\n",
       "      <th>1</th>\n",
       "      <td>1.002996e+18</td>\n",
       "      <td>RepBarragan</td>\n",
       "      <td>816833925456789504</td>\n",
       "      <td>2018-06-02T15:30:27-04:00</td>\n",
       "      <td>https://www.twitter.com/RepBarragan/statuses/1...</td>\n",
       "      <td>In Carson with @SenSanders, @Teamsters, and co...</td>\n",
       "      <td>Twitter for iPhone</td>\n",
       "      <td>CA</td>\n",
       "      <td>Representative</td>\n",
       "      <td>Nanette Barragan</td>\n",
       "      <td>D</td>\n",
       "      <td>115</td>\n",
       "    </tr>\n",
       "    <tr>\n",
       "      <th>2</th>\n",
       "      <td>1.002620e+18</td>\n",
       "      <td>RepBarragan</td>\n",
       "      <td>816833925456789504</td>\n",
       "      <td>2018-06-01T14:38:33-04:00</td>\n",
       "      <td>https://www.twitter.com/RepBarragan/statuses/1...</td>\n",
       "      <td>Yesterday, immigrant rights advocates &amp;amp; at...</td>\n",
       "      <td>Twitter for iPhone</td>\n",
       "      <td>CA</td>\n",
       "      <td>Representative</td>\n",
       "      <td>Nanette Barragan</td>\n",
       "      <td>D</td>\n",
       "      <td>115</td>\n",
       "    </tr>\n",
       "  </tbody>\n",
       "</table>\n",
       "</div>"
      ],
      "text/plain": [
       "             id  screen_name             user_id                       time  \\\n",
       "0  1.003033e+18  RepBarragan  816833925456789504  2018-06-02T17:55:58-04:00   \n",
       "1  1.002996e+18  RepBarragan  816833925456789504  2018-06-02T15:30:27-04:00   \n",
       "2  1.002620e+18  RepBarragan  816833925456789504  2018-06-01T14:38:33-04:00   \n",
       "\n",
       "                                                link  \\\n",
       "0  https://www.twitter.com/RepBarragan/statuses/1...   \n",
       "1  https://www.twitter.com/RepBarragan/statuses/1...   \n",
       "2  https://www.twitter.com/RepBarragan/statuses/1...   \n",
       "\n",
       "                                                text              source  \\\n",
       "0  So great to welcome @SenSanders to #CA44 for a...  Twitter for iPhone   \n",
       "1  In Carson with @SenSanders, @Teamsters, and co...  Twitter for iPhone   \n",
       "2  Yesterday, immigrant rights advocates &amp; at...  Twitter for iPhone   \n",
       "\n",
       "  state        position              name party  congress  \n",
       "0    CA  Representative  Nanette Barragan     D       115  \n",
       "1    CA  Representative  Nanette Barragan     D       115  \n",
       "2    CA  Representative  Nanette Barragan     D       115  "
      ]
     },
     "execution_count": 49,
     "metadata": {},
     "output_type": "execute_result"
    }
   ],
   "source": [
    "# Taking 3% of the data to use while coding out EDA. \n",
    "# Comment out when ready to apply examination to all data\n",
    "# Done due to very large size of the dataframe and computational requirements\n",
    "\n",
    "# data = data.head(int(len(data)*(3/100)))\n",
    "\n",
    "print(data.shape)\n",
    "print('---------')\n",
    "data.head(3)\n",
    "\n",
    "# (1492855, 12)"
   ]
  },
  {
   "cell_type": "code",
   "execution_count": 50,
   "id": "9fc796e2",
   "metadata": {},
   "outputs": [
    {
     "name": "stdout",
     "output_type": "stream",
     "text": [
      "<class 'pandas.core.frame.DataFrame'>\n",
      "RangeIndex: 1492855 entries, 0 to 1492854\n",
      "Data columns (total 12 columns):\n",
      " #   Column       Non-Null Count    Dtype  \n",
      "---  ------       --------------    -----  \n",
      " 0   id           1492855 non-null  float64\n",
      " 1   screen_name  1492855 non-null  object \n",
      " 2   user_id      1492855 non-null  int64  \n",
      " 3   time         1492855 non-null  object \n",
      " 4   link         1492855 non-null  object \n",
      " 5   text         1492855 non-null  object \n",
      " 6   source       1492855 non-null  object \n",
      " 7   state        1492855 non-null  object \n",
      " 8   position     1492855 non-null  object \n",
      " 9   name         1492855 non-null  object \n",
      " 10  party        1492855 non-null  object \n",
      " 11  congress     1492855 non-null  int64  \n",
      "dtypes: float64(1), int64(2), object(9)\n",
      "memory usage: 136.7+ MB\n"
     ]
    }
   ],
   "source": [
    "data.info()"
   ]
  },
  {
   "cell_type": "code",
   "execution_count": 51,
   "id": "644e02af",
   "metadata": {},
   "outputs": [],
   "source": [
    "data = data[['screen_name','text','state', 'position', 'name', 'party', 'congress' ]]"
   ]
  },
  {
   "cell_type": "code",
   "execution_count": 52,
   "id": "4868f2e8",
   "metadata": {},
   "outputs": [
    {
     "data": {
      "text/html": [
       "<div>\n",
       "<style scoped>\n",
       "    .dataframe tbody tr th:only-of-type {\n",
       "        vertical-align: middle;\n",
       "    }\n",
       "\n",
       "    .dataframe tbody tr th {\n",
       "        vertical-align: top;\n",
       "    }\n",
       "\n",
       "    .dataframe thead th {\n",
       "        text-align: right;\n",
       "    }\n",
       "</style>\n",
       "<table border=\"1\" class=\"dataframe\">\n",
       "  <thead>\n",
       "    <tr style=\"text-align: right;\">\n",
       "      <th></th>\n",
       "      <th>screen_name</th>\n",
       "      <th>text</th>\n",
       "      <th>state</th>\n",
       "      <th>position</th>\n",
       "      <th>name</th>\n",
       "      <th>party</th>\n",
       "      <th>congress</th>\n",
       "    </tr>\n",
       "  </thead>\n",
       "  <tbody>\n",
       "    <tr>\n",
       "      <th>0</th>\n",
       "      <td>RepBarragan</td>\n",
       "      <td>So great to welcome @SenSanders to #CA44 for a...</td>\n",
       "      <td>CA</td>\n",
       "      <td>Representative</td>\n",
       "      <td>Nanette Barragan</td>\n",
       "      <td>D</td>\n",
       "      <td>115</td>\n",
       "    </tr>\n",
       "    <tr>\n",
       "      <th>1</th>\n",
       "      <td>RepBarragan</td>\n",
       "      <td>In Carson with @SenSanders, @Teamsters, and co...</td>\n",
       "      <td>CA</td>\n",
       "      <td>Representative</td>\n",
       "      <td>Nanette Barragan</td>\n",
       "      <td>D</td>\n",
       "      <td>115</td>\n",
       "    </tr>\n",
       "    <tr>\n",
       "      <th>2</th>\n",
       "      <td>RepBarragan</td>\n",
       "      <td>Yesterday, immigrant rights advocates &amp;amp; at...</td>\n",
       "      <td>CA</td>\n",
       "      <td>Representative</td>\n",
       "      <td>Nanette Barragan</td>\n",
       "      <td>D</td>\n",
       "      <td>115</td>\n",
       "    </tr>\n",
       "    <tr>\n",
       "      <th>3</th>\n",
       "      <td>RepBarragan</td>\n",
       "      <td>RT @POLITICOPress Next week is our FIRST #Wome...</td>\n",
       "      <td>CA</td>\n",
       "      <td>Representative</td>\n",
       "      <td>Nanette Barragan</td>\n",
       "      <td>D</td>\n",
       "      <td>115</td>\n",
       "    </tr>\n",
       "    <tr>\n",
       "      <th>4</th>\n",
       "      <td>RepBarragan</td>\n",
       "      <td>RT @RepJayapal We (62 members of the House) ar...</td>\n",
       "      <td>CA</td>\n",
       "      <td>Representative</td>\n",
       "      <td>Nanette Barragan</td>\n",
       "      <td>D</td>\n",
       "      <td>115</td>\n",
       "    </tr>\n",
       "  </tbody>\n",
       "</table>\n",
       "</div>"
      ],
      "text/plain": [
       "   screen_name                                               text state  \\\n",
       "0  RepBarragan  So great to welcome @SenSanders to #CA44 for a...    CA   \n",
       "1  RepBarragan  In Carson with @SenSanders, @Teamsters, and co...    CA   \n",
       "2  RepBarragan  Yesterday, immigrant rights advocates &amp; at...    CA   \n",
       "3  RepBarragan  RT @POLITICOPress Next week is our FIRST #Wome...    CA   \n",
       "4  RepBarragan  RT @RepJayapal We (62 members of the House) ar...    CA   \n",
       "\n",
       "         position              name party  congress  \n",
       "0  Representative  Nanette Barragan     D       115  \n",
       "1  Representative  Nanette Barragan     D       115  \n",
       "2  Representative  Nanette Barragan     D       115  \n",
       "3  Representative  Nanette Barragan     D       115  \n",
       "4  Representative  Nanette Barragan     D       115  "
      ]
     },
     "execution_count": 52,
     "metadata": {},
     "output_type": "execute_result"
    }
   ],
   "source": [
    "data.head()"
   ]
  },
  {
   "cell_type": "code",
   "execution_count": 53,
   "id": "d6aa1bf3",
   "metadata": {},
   "outputs": [
    {
     "data": {
      "text/plain": [
       "Representative    0.739072\n",
       "Senator           0.260313\n",
       "Delegate          0.000616\n",
       "Name: position, dtype: float64"
      ]
     },
     "execution_count": 53,
     "metadata": {},
     "output_type": "execute_result"
    }
   ],
   "source": [
    "data['position'].value_counts(normalize=True)"
   ]
  },
  {
   "cell_type": "code",
   "execution_count": 54,
   "id": "8b81649d",
   "metadata": {},
   "outputs": [
    {
     "data": {
      "image/png": "[encoded data removed]",
      "text/plain": [
       "<Figure size 720x432 with 1 Axes>"
      ]
     },
     "metadata": {
      "needs_background": "light"
     },
     "output_type": "display_data"
    }
   ],
   "source": [
    "plt.figure(figsize=(10,6))\n",
    "\n",
    "data['position'].value_counts().plot(kind = 'barh');\n",
    "\n",
    "plt.title('Tweet Distribution of Congress Positions', fontsize=22)\n",
    "\n",
    "plt.xlabel('Count', fontsize=20)\n",
    "plt.yticks(fontsize= 15)\n",
    "plt.ylabel('Position', fontsize=20)\n",
    "plt.yticks(fontsize= 15, rotation=50)\n",
    "\n",
    "plt.show()"
   ]
  },
  {
   "cell_type": "code",
   "execution_count": 55,
   "id": "4f7766af",
   "metadata": {},
   "outputs": [
    {
     "data": {
      "text/plain": [
       "D    0.618280\n",
       "R    0.375229\n",
       "I    0.004185\n",
       "L    0.002306\n",
       "Name: party, dtype: float64"
      ]
     },
     "execution_count": 55,
     "metadata": {},
     "output_type": "execute_result"
    }
   ],
   "source": [
    "data['party'].value_counts(normalize=True)"
   ]
  },
  {
   "cell_type": "code",
   "execution_count": 56,
   "id": "e1bb050f",
   "metadata": {},
   "outputs": [
    {
     "data": {
      "image/png": "[encoded data removed]",
      "text/plain": [
       "<Figure size 720x432 with 1 Axes>"
      ]
     },
     "metadata": {
      "needs_background": "light"
     },
     "output_type": "display_data"
    }
   ],
   "source": [
    "plt.figure(figsize=(10,6))\n",
    "\n",
    "data['party'].value_counts().plot(kind = 'barh');\n",
    "\n",
    "plt.title('Tweet Distribution by Political Party', fontsize=22)\n",
    "\n",
    "plt.xlabel('Count', fontsize=20)\n",
    "plt.yticks(fontsize= 15)\n",
    "plt.ylabel('Political Party', fontsize=20)\n",
    "plt.yticks(fontsize= 15, rotation=50)\n",
    "\n",
    "plt.show()"
   ]
  },
  {
   "cell_type": "code",
   "execution_count": 57,
   "id": "1ee56885",
   "metadata": {},
   "outputs": [
    {
     "data": {
      "text/plain": [
       "116    0.75343\n",
       "115    0.24657\n",
       "Name: congress, dtype: float64"
      ]
     },
     "execution_count": 57,
     "metadata": {},
     "output_type": "execute_result"
    }
   ],
   "source": [
    "data['congress'].value_counts(normalize=True)"
   ]
  },
  {
   "cell_type": "code",
   "execution_count": 58,
   "id": "24a0e7df",
   "metadata": {},
   "outputs": [
    {
     "data": {
      "image/png": "[encoded data removed]",
      "text/plain": [
       "<Figure size 720x432 with 1 Axes>"
      ]
     },
     "metadata": {
      "needs_background": "light"
     },
     "output_type": "display_data"
    }
   ],
   "source": [
    "plt.figure(figsize=(10,6))\n",
    "\n",
    "data['congress'].value_counts().plot(kind = 'barh');\n",
    "\n",
    "plt.title('Tweet Distribution of 115th, 116th Congress', fontsize=22)\n",
    "\n",
    "plt.xlabel('Count', fontsize=20)\n",
    "plt.yticks(fontsize= 15)\n",
    "plt.ylabel('Congress', fontsize=20)\n",
    "plt.yticks(fontsize= 15, rotation=50)\n",
    "\n",
    "plt.show()"
   ]
  },
  {
   "cell_type": "code",
   "execution_count": 59,
   "id": "5cb07c7c",
   "metadata": {},
   "outputs": [
    {
     "data": {
      "text/plain": [
       "CA    0.101915\n",
       "TX    0.075951\n",
       "FL    0.061843\n",
       "NY    0.057464\n",
       "IL    0.043591\n",
       "VA    0.034570\n",
       "NJ    0.033908\n",
       "PA    0.033684\n",
       "OH    0.030921\n",
       "AZ    0.029939\n",
       "Name: state, dtype: float64"
      ]
     },
     "execution_count": 59,
     "metadata": {},
     "output_type": "execute_result"
    }
   ],
   "source": [
    "data['state'].value_counts(normalize=True)[:10].sort_values(ascending=False)"
   ]
  },
  {
   "cell_type": "code",
   "execution_count": 60,
   "id": "cb2e0edd",
   "metadata": {},
   "outputs": [
    {
     "data": {
      "image/png": "[encoded data removed]",
      "text/plain": [
       "<Figure size 720x720 with 1 Axes>"
      ]
     },
     "metadata": {
      "needs_background": "light"
     },
     "output_type": "display_data"
    }
   ],
   "source": [
    "plt.figure(figsize=(10,10))\n",
    "\n",
    "data['state'].value_counts()[:10].sort_values(ascending=True).plot(kind = 'barh')\n",
    "\n",
    "plt.title('Tweet Distribution of Tweets by State:\\n Top Ten States', fontsize=22)\n",
    "\n",
    "plt.xlabel('Count', fontsize=20)\n",
    "plt.yticks(fontsize= 15)\n",
    "plt.ylabel('State', fontsize=20)\n",
    "plt.yticks(fontsize= 15, rotation=50)\n",
    "\n",
    "plt.show()"
   ]
  },
  {
   "cell_type": "code",
   "execution_count": 61,
   "id": "142e5572",
   "metadata": {},
   "outputs": [
    {
     "data": {
      "text/plain": [
       "John Cornyn           0.011635\n",
       "Andy Biggs            0.009966\n",
       "Dwight Evans          0.008506\n",
       "Donald Beyer Jr       0.008237\n",
       "Wm. Lacy Clay Jr      0.006953\n",
       "Carolyn Maloney       0.006845\n",
       "Pramila Jayapal       0.006137\n",
       "Christopher Murphy    0.005890\n",
       "Ted Cruz              0.005807\n",
       "Sheldon Whitehouse    0.005672\n",
       "Name: name, dtype: float64"
      ]
     },
     "execution_count": 61,
     "metadata": {},
     "output_type": "execute_result"
    }
   ],
   "source": [
    "data['name'].value_counts(normalize=True)[:10].sort_values(ascending=False)"
   ]
  },
  {
   "cell_type": "code",
   "execution_count": 62,
   "id": "7b726496",
   "metadata": {},
   "outputs": [
    {
     "data": {
      "image/png": "[encoded data removed]",
      "text/plain": [
       "<Figure size 720x720 with 1 Axes>"
      ]
     },
     "metadata": {
      "needs_background": "light"
     },
     "output_type": "display_data"
    }
   ],
   "source": [
    "plt.figure(figsize=(10,10))\n",
    "\n",
    "data['name'].value_counts()[:10].sort_values(ascending=True).plot(kind = 'barh')\n",
    "\n",
    "plt.title('Tweet Distribution of User:\\n Top Ten Reps / Senators', fontsize=22)\n",
    "\n",
    "plt.xlabel('Count', fontsize=20)\n",
    "plt.yticks(fontsize= 15)\n",
    "plt.ylabel('State', fontsize=20)\n",
    "plt.yticks(fontsize= 15, rotation=50)\n",
    "\n",
    "plt.show()"
   ]
  },
  {
   "cell_type": "code",
   "execution_count": null,
   "id": "80763364",
   "metadata": {},
   "outputs": [],
   "source": []
  }
 ],
 "metadata": {
  "kernelspec": {
   "display_name": "Python 3",
   "language": "python",
   "name": "python3"
  },
  "language_info": {
   "codemirror_mode": {
    "name": "ipython",
    "version": 3
   },
   "file_extension": ".py",
   "mimetype": "text/x-python",
   "name": "python",
   "nbconvert_exporter": "python",
   "pygments_lexer": "ipython3",
   "version": "3.8.8"
  }
 },
 "nbformat": 4,
 "nbformat_minor": 5
}
