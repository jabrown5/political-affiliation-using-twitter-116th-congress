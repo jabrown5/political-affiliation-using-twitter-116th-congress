{
 "cells": [
  {
   "cell_type": "code",
   "execution_count": null,
   "metadata": {
    "id": "_DUdAN6Xv6OU"
   },
   "outputs": [],
   "source": []
  },
  {
   "cell_type": "code",
   "execution_count": null,
   "metadata": {
    "colab": {
     "base_uri": "https://localhost:8080/"
    },
    "id": "XUK-nVawvTpX",
    "outputId": "28e5e545-cfff-46b3-f709-feca8cd08233"
   },
   "outputs": [
    {
     "name": "stdout",
     "output_type": "stream",
     "text": [
      "Sun Apr 25 16:04:17 2021       \n",
      "+-----------------------------------------------------------------------------+\n",
      "| NVIDIA-SMI 465.19.01    Driver Version: 460.32.03    CUDA Version: 11.2     |\n",
      "|-------------------------------+----------------------+----------------------+\n",
      "| GPU  Name        Persistence-M| Bus-Id        Disp.A | Volatile Uncorr. ECC |\n",
      "| Fan  Temp  Perf  Pwr:Usage/Cap|         Memory-Usage | GPU-Util  Compute M. |\n",
      "|                               |                      |               MIG M. |\n",
      "|===============================+======================+======================|\n",
      "|   0  Tesla P100-PCIE...  Off  | 00000000:00:04.0 Off |                    0 |\n",
      "| N/A   35C    P0    26W / 250W |      0MiB / 16280MiB |      0%      Default |\n",
      "|                               |                      |                  N/A |\n",
      "+-------------------------------+----------------------+----------------------+\n",
      "                                                                               \n",
      "+-----------------------------------------------------------------------------+\n",
      "| Processes:                                                                  |\n",
      "|  GPU   GI   CI        PID   Type   Process name                  GPU Memory |\n",
      "|        ID   ID                                                   Usage      |\n",
      "|=============================================================================|\n",
      "|  No running processes found                                                 |\n",
      "+-----------------------------------------------------------------------------+\n"
     ]
    }
   ],
   "source": [
    "# Checking to see if GPU drive is active\n",
    "gpu_info = !nvidia-smi\n",
    "gpu_info = '\\n'.join(gpu_info)\n",
    "if gpu_info.find('failed') >= 0:\n",
    "  print('Select the Runtime > \"Change runtime type\" menu to enable a GPU accelerator, ')\n",
    "  print('and then re-execute this cell.')\n",
    "else:\n",
    "  print(gpu_info)"
   ]
  },
  {
   "cell_type": "code",
   "execution_count": null,
   "metadata": {
    "colab": {
     "base_uri": "https://localhost:8080/"
    },
    "id": "dGwkyfn-vsS1",
    "outputId": "ae18bdd0-c3e0-424a-84d8-1d2ebb99d1b9"
   },
   "outputs": [
    {
     "name": "stdout",
     "output_type": "stream",
     "text": [
      "Your runtime has 27.4 gigabytes of available RAM\n",
      "\n",
      "You are using a high-RAM runtime!\n"
     ]
    }
   ],
   "source": [
    "# Checking to see if GPU drive is active\n",
    "from psutil import virtual_memory\n",
    "ram_gb = virtual_memory().total / 1e9\n",
    "print('Your runtime has {:.1f} gigabytes of available RAM\\n'.format(ram_gb))\n",
    "\n",
    "if ram_gb < 20:\n",
    "  print('To enable a high-RAM runtime, select the Runtime > \"Change runtime type\"')\n",
    "  print('menu, and then select High-RAM in the Runtime shape dropdown. Then, ')\n",
    "  print('re-execute this cell.')\n",
    "else:\n",
    "  print('You are using a high-RAM runtime!')"
   ]
  },
  {
   "cell_type": "code",
   "execution_count": 2,
   "metadata": {
    "colab": {
     "base_uri": "https://localhost:8080/"
    },
    "id": "MB0qRanbv6Fh",
    "outputId": "91927a8c-bef2-486f-b69d-087cdfb00385"
   },
   "outputs": [
    {
     "name": "stdout",
     "output_type": "stream",
     "text": [
      "Mounted at /content/drive/\n"
     ]
    }
   ],
   "source": [
    "# If running in google colab:\n",
    "from google.colab import drive\n",
    "drive.mount('/content/drive/', force_remount=True)"
   ]
  },
  {
   "cell_type": "code",
   "execution_count": 141,
   "metadata": {
    "colab": {
     "base_uri": "https://localhost:8080/"
    },
    "id": "vvzWSbg5v5HF",
    "outputId": "f3258c2a-8734-48a7-f7c0-88951a367743"
   },
   "outputs": [
    {
     "name": "stdout",
     "output_type": "stream",
     "text": [
      "Collecting en_core_web_lg==2.2.5\n",
      "\u001b[?25l  Downloading https://github.com/explosion/spacy-models/releases/download/en_core_web_lg-2.2.5/en_core_web_lg-2.2.5.tar.gz (827.9MB)\n",
      "\u001b[K     |████████████████████████████████| 827.9MB 1.3MB/s \n",
      "\u001b[?25hRequirement already satisfied: spacy>=2.2.2 in /usr/local/lib/python3.7/dist-packages (from en_core_web_lg==2.2.5) (2.2.4)\n",
      "Requirement already satisfied: setuptools in /usr/local/lib/python3.7/dist-packages (from spacy>=2.2.2->en_core_web_lg==2.2.5) (56.0.0)\n",
      "Requirement already satisfied: preshed<3.1.0,>=3.0.2 in /usr/local/lib/python3.7/dist-packages (from spacy>=2.2.2->en_core_web_lg==2.2.5) (3.0.5)\n",
      "Requirement already satisfied: thinc==7.4.0 in /usr/local/lib/python3.7/dist-packages (from spacy>=2.2.2->en_core_web_lg==2.2.5) (7.4.0)\n",
      "Requirement already satisfied: tqdm<5.0.0,>=4.38.0 in /usr/local/lib/python3.7/dist-packages (from spacy>=2.2.2->en_core_web_lg==2.2.5) (4.41.1)\n",
      "Requirement already satisfied: cymem<2.1.0,>=2.0.2 in /usr/local/lib/python3.7/dist-packages (from spacy>=2.2.2->en_core_web_lg==2.2.5) (2.0.5)\n",
      "Requirement already satisfied: blis<0.5.0,>=0.4.0 in /usr/local/lib/python3.7/dist-packages (from spacy>=2.2.2->en_core_web_lg==2.2.5) (0.4.1)\n",
      "Requirement already satisfied: requests<3.0.0,>=2.13.0 in /usr/local/lib/python3.7/dist-packages (from spacy>=2.2.2->en_core_web_lg==2.2.5) (2.23.0)\n",
      "Requirement already satisfied: murmurhash<1.1.0,>=0.28.0 in /usr/local/lib/python3.7/dist-packages (from spacy>=2.2.2->en_core_web_lg==2.2.5) (1.0.5)\n",
      "Requirement already satisfied: wasabi<1.1.0,>=0.4.0 in /usr/local/lib/python3.7/dist-packages (from spacy>=2.2.2->en_core_web_lg==2.2.5) (0.8.2)\n",
      "Requirement already satisfied: srsly<1.1.0,>=1.0.2 in /usr/local/lib/python3.7/dist-packages (from spacy>=2.2.2->en_core_web_lg==2.2.5) (1.0.5)\n",
      "Requirement already satisfied: catalogue<1.1.0,>=0.0.7 in /usr/local/lib/python3.7/dist-packages (from spacy>=2.2.2->en_core_web_lg==2.2.5) (1.0.0)\n",
      "Requirement already satisfied: plac<1.2.0,>=0.9.6 in /usr/local/lib/python3.7/dist-packages (from spacy>=2.2.2->en_core_web_lg==2.2.5) (1.1.3)\n",
      "Requirement already satisfied: numpy>=1.15.0 in /usr/local/lib/python3.7/dist-packages (from spacy>=2.2.2->en_core_web_lg==2.2.5) (1.19.5)\n",
      "Requirement already satisfied: certifi>=2017.4.17 in /usr/local/lib/python3.7/dist-packages (from requests<3.0.0,>=2.13.0->spacy>=2.2.2->en_core_web_lg==2.2.5) (2020.12.5)\n",
      "Requirement already satisfied: chardet<4,>=3.0.2 in /usr/local/lib/python3.7/dist-packages (from requests<3.0.0,>=2.13.0->spacy>=2.2.2->en_core_web_lg==2.2.5) (3.0.4)\n",
      "Requirement already satisfied: idna<3,>=2.5 in /usr/local/lib/python3.7/dist-packages (from requests<3.0.0,>=2.13.0->spacy>=2.2.2->en_core_web_lg==2.2.5) (2.10)\n",
      "Requirement already satisfied: urllib3!=1.25.0,!=1.25.1,<1.26,>=1.21.1 in /usr/local/lib/python3.7/dist-packages (from requests<3.0.0,>=2.13.0->spacy>=2.2.2->en_core_web_lg==2.2.5) (1.24.3)\n",
      "Requirement already satisfied: importlib-metadata>=0.20; python_version < \"3.8\" in /usr/local/lib/python3.7/dist-packages (from catalogue<1.1.0,>=0.0.7->spacy>=2.2.2->en_core_web_lg==2.2.5) (3.10.1)\n",
      "Requirement already satisfied: typing-extensions>=3.6.4; python_version < \"3.8\" in /usr/local/lib/python3.7/dist-packages (from importlib-metadata>=0.20; python_version < \"3.8\"->catalogue<1.1.0,>=0.0.7->spacy>=2.2.2->en_core_web_lg==2.2.5) (3.7.4.3)\n",
      "Requirement already satisfied: zipp>=0.5 in /usr/local/lib/python3.7/dist-packages (from importlib-metadata>=0.20; python_version < \"3.8\"->catalogue<1.1.0,>=0.0.7->spacy>=2.2.2->en_core_web_lg==2.2.5) (3.4.1)\n",
      "Building wheels for collected packages: en-core-web-lg\n",
      "  Building wheel for en-core-web-lg (setup.py) ... \u001b[?25l\u001b[?25hdone\n",
      "  Created wheel for en-core-web-lg: filename=en_core_web_lg-2.2.5-cp37-none-any.whl size=829180944 sha256=9b8337af2e4154d05e7d0fa7e471861a7da1447313fcf8d73c2c3e4db75ce167\n",
      "  Stored in directory: /tmp/pip-ephem-wheel-cache-c3c27ogu/wheels/2a/c1/a6/fc7a877b1efca9bc6a089d6f506f16d3868408f9ff89f8dbfc\n",
      "Successfully built en-core-web-lg\n",
      "Installing collected packages: en-core-web-lg\n",
      "Successfully installed en-core-web-lg-2.2.5\n",
      "\u001b[38;5;2m✔ Download and installation successful\u001b[0m\n",
      "You can now load the model via spacy.load('en_core_web_lg')\n"
     ]
    }
   ],
   "source": [
    "# Download en_core_web_lg for google colab\n",
    "# !python -m spacy download en_core_web_lg"
   ]
  },
  {
   "cell_type": "code",
   "execution_count": 200,
   "metadata": {
    "id": "LowcVnUOv4-S"
   },
   "outputs": [],
   "source": [
    "# Imports\n",
    "import numpy as np\n",
    "import pandas as pd\n",
    "import seaborn as sns\n",
    "import matplotlib.pyplot as plt\n",
    "\n",
    "# import regex as re\n",
    "# import unicodedata\n",
    "\n",
    "from sklearn.feature_extraction.text import CountVectorizer\n",
    "from sklearn.model_selection import GridSearchCV\n",
    "from sklearn.cluster import DBSCAN, KMeans\n",
    "from sklearn.metrics import silhouette_score, pairwise_distances\n",
    "\n",
    "from sklearn.preprocessing import StandardScaler\n",
    "\n",
    "# KNN used to help determine epsilon value for DBSCAN\n",
    "from sklearn.neighbors import NearestNeighbors\n",
    "\n",
    "# import spacy\n",
    "# import en_core_web_lg\n",
    "# from spacy.lang.en import English\n",
    "# from spacy.lang.en.stop_words import STOP_WORDS\n",
    "\n",
    "pd.set_option('display.max_columns', None)\n",
    "pd.set_option('display.max_rows', None)"
   ]
  },
  {
   "cell_type": "code",
   "execution_count": 201,
   "metadata": {
    "id": "YVawHgaX2Va9"
   },
   "outputs": [],
   "source": [
    "# # Loading the large (sm) spaCy English model, pre-trained on web text data\n",
    "# # In order to use vectorization, you must use the large pipeline package\n",
    "# # https://spacy.io/usage/spacy-101\n",
    "# '''\n",
    "# \"To make them compact and fast, spaCy’s small pipeline packages (all packages that end in sm) \n",
    "# don’t ship with word vectors, and only include context-sensitive tensors... \n",
    "# So in order to use real word vectors, you need to download a larger pipeline package.\"\n",
    "# '''\n",
    "# nlp = en_core_web_lg.load()\n",
    "\n",
    "# # max length must be increased due to large size of each document\n",
    "# nlp.max_length = 10000000 # or higher"
   ]
  },
  {
   "cell_type": "code",
   "execution_count": 202,
   "metadata": {
    "id": "I8DZU6lkwuRt"
   },
   "outputs": [],
   "source": [
    "# # Importing the finalized concatinated dataframe\n",
    "# # Use this line if running locally\n",
    "# data = pd.read_csv('../data/tweet_vectors.csv')\n",
    "\n",
    "# If running in google colab, use this import line:\n",
    "# Change to file location if necessary\n",
    "# data = pd.read_csv('/content/drive/MyDrive/Python/tweet_vectors_1.csv')\n",
    "\n",
    "data1 = pd.read_json('/content/drive/MyDrive/Python/tweet_vectors_1.json')\n",
    "data2 = pd.read_json('/content/drive/MyDrive/Python/tweet_vectors_2.json')\n",
    "data3 = pd.read_json('/content/drive/MyDrive/Python/tweet_vectors_3.json')\n",
    "data4 = pd.read_json('/content/drive/MyDrive/Python/tweet_vectors_4.json')\n"
   ]
  },
  {
   "cell_type": "code",
   "execution_count": 203,
   "metadata": {
    "colab": {
     "base_uri": "https://localhost:8080/",
     "height": 411
    },
    "id": "7zKHpc7OmV6O",
    "outputId": "17acc5a0-01c1-4329-d1fd-18e8e2dbbcb4"
   },
   "outputs": [
    {
     "data": {
      "text/html": [
       "<div>\n",
       "<style scoped>\n",
       "    .dataframe tbody tr th:only-of-type {\n",
       "        vertical-align: middle;\n",
       "    }\n",
       "\n",
       "    .dataframe tbody tr th {\n",
       "        vertical-align: top;\n",
       "    }\n",
       "\n",
       "    .dataframe thead th {\n",
       "        text-align: right;\n",
       "    }\n",
       "</style>\n",
       "<table border=\"1\" class=\"dataframe\">\n",
       "  <thead>\n",
       "    <tr style=\"text-align: right;\">\n",
       "      <th></th>\n",
       "      <th>Unnamed: 0</th>\n",
       "      <th>screen_name</th>\n",
       "      <th>state</th>\n",
       "      <th>position</th>\n",
       "      <th>name</th>\n",
       "      <th>party</th>\n",
       "      <th>tweet_count</th>\n",
       "      <th>text_concat</th>\n",
       "      <th>text_length</th>\n",
       "      <th>text_length_1</th>\n",
       "      <th>text_length_2</th>\n",
       "      <th>text_length_3</th>\n",
       "      <th>word_length</th>\n",
       "      <th>text_concat_clean</th>\n",
       "      <th>liststring</th>\n",
       "      <th>vectors</th>\n",
       "    </tr>\n",
       "  </thead>\n",
       "  <tbody>\n",
       "    <tr>\n",
       "      <th>0</th>\n",
       "      <td>0</td>\n",
       "      <td>RepBarragan</td>\n",
       "      <td>CA</td>\n",
       "      <td>Representative</td>\n",
       "      <td>Nanette Diaz Barrag_n</td>\n",
       "      <td>D</td>\n",
       "      <td>4553</td>\n",
       "      <td>So great to welcome SenSanders to CA44 for a r...</td>\n",
       "      <td>1571519</td>\n",
       "      <td>1570974</td>\n",
       "      <td>1570974</td>\n",
       "      <td>1449495</td>\n",
       "      <td>180653</td>\n",
       "      <td>['great', 'welcome', 'SenSanders', 'CA44', 'ra...</td>\n",
       "      <td>'great' 'welcome' 'SenSanders' 'CA44' 'rally' ...</td>\n",
       "      <td>[-0.19524726380000001, 0.3918217854, 0.0493305...</td>\n",
       "    </tr>\n",
       "    <tr>\n",
       "      <th>1</th>\n",
       "      <td>1</td>\n",
       "      <td>ChrisMurphyCT</td>\n",
       "      <td>CT</td>\n",
       "      <td>Senator</td>\n",
       "      <td>Christopher Murphy</td>\n",
       "      <td>D</td>\n",
       "      <td>8793</td>\n",
       "      <td>New apartments new businesses and new restaura...</td>\n",
       "      <td>2801192</td>\n",
       "      <td>2800624</td>\n",
       "      <td>2800624</td>\n",
       "      <td>2598814</td>\n",
       "      <td>352609</td>\n",
       "      <td>['new', 'apartment', 'new', 'business', 'new',...</td>\n",
       "      <td>'new' 'apartment' 'new' 'business' 'new' 'rest...</td>\n",
       "      <td>[-0.2074928593, 0.3944523199, 0.0484009482, -0...</td>\n",
       "    </tr>\n",
       "    <tr>\n",
       "      <th>2</th>\n",
       "      <td>2</td>\n",
       "      <td>RepSwalwell</td>\n",
       "      <td>CA</td>\n",
       "      <td>Representative</td>\n",
       "      <td>Eric Swalwell</td>\n",
       "      <td>D</td>\n",
       "      <td>5841</td>\n",
       "      <td>Literally the easiest fix we could make to sav...</td>\n",
       "      <td>1843540</td>\n",
       "      <td>1842810</td>\n",
       "      <td>1842810</td>\n",
       "      <td>1704609</td>\n",
       "      <td>223536</td>\n",
       "      <td>['literally', 'easy', 'fix', 'save', 'life', '...</td>\n",
       "      <td>'literally' 'easy' 'fix' 'save' 'life' 'httpab...</td>\n",
       "      <td>[-0.2089821815, 0.39251183640000004, 0.0458777...</td>\n",
       "    </tr>\n",
       "    <tr>\n",
       "      <th>3</th>\n",
       "      <td>3</td>\n",
       "      <td>RepDonBeyer</td>\n",
       "      <td>VA</td>\n",
       "      <td>Representative</td>\n",
       "      <td>Donald Beyer Jr</td>\n",
       "      <td>D</td>\n",
       "      <td>18325</td>\n",
       "      <td>9 Baltimore students were killed with guns dur...</td>\n",
       "      <td>7087050</td>\n",
       "      <td>7085835</td>\n",
       "      <td>7085835</td>\n",
       "      <td>6576425</td>\n",
       "      <td>839968</td>\n",
       "      <td>['Baltimore', 'student', 'kill', 'gun', 'schoo...</td>\n",
       "      <td>'Baltimore' 'student' 'kill' 'gun' 'school' 'y...</td>\n",
       "      <td>[-0.21396224300000002, 0.3897273741, 0.0522410...</td>\n",
       "    </tr>\n",
       "    <tr>\n",
       "      <th>4</th>\n",
       "      <td>4</td>\n",
       "      <td>WarrenDavidson</td>\n",
       "      <td>OH</td>\n",
       "      <td>Representative</td>\n",
       "      <td>Warren Davidson</td>\n",
       "      <td>R</td>\n",
       "      <td>3166</td>\n",
       "      <td>NetNeutralityReminder Obama used 1934 FCC rule...</td>\n",
       "      <td>958737</td>\n",
       "      <td>958292</td>\n",
       "      <td>958292</td>\n",
       "      <td>886492</td>\n",
       "      <td>112053</td>\n",
       "      <td>['netneutralityreminder', 'Obama', 'FCC', 'rul...</td>\n",
       "      <td>'netneutralityreminder' 'Obama' 'FCC' 'rule' '...</td>\n",
       "      <td>[-0.20934589990000002, 0.39374101650000004, 0....</td>\n",
       "    </tr>\n",
       "  </tbody>\n",
       "</table>\n",
       "</div>"
      ],
      "text/plain": [
       "   Unnamed: 0     screen_name state        position                   name  \\\n",
       "0           0     RepBarragan    CA  Representative  Nanette Diaz Barrag_n   \n",
       "1           1   ChrisMurphyCT    CT         Senator     Christopher Murphy   \n",
       "2           2     RepSwalwell    CA  Representative          Eric Swalwell   \n",
       "3           3     RepDonBeyer    VA  Representative        Donald Beyer Jr   \n",
       "4           4  WarrenDavidson    OH  Representative        Warren Davidson   \n",
       "\n",
       "  party  tweet_count                                        text_concat  \\\n",
       "0     D         4553  So great to welcome SenSanders to CA44 for a r...   \n",
       "1     D         8793  New apartments new businesses and new restaura...   \n",
       "2     D         5841  Literally the easiest fix we could make to sav...   \n",
       "3     D        18325  9 Baltimore students were killed with guns dur...   \n",
       "4     R         3166  NetNeutralityReminder Obama used 1934 FCC rule...   \n",
       "\n",
       "   text_length  text_length_1  text_length_2  text_length_3  word_length  \\\n",
       "0      1571519        1570974        1570974        1449495       180653   \n",
       "1      2801192        2800624        2800624        2598814       352609   \n",
       "2      1843540        1842810        1842810        1704609       223536   \n",
       "3      7087050        7085835        7085835        6576425       839968   \n",
       "4       958737         958292         958292         886492       112053   \n",
       "\n",
       "                                   text_concat_clean  \\\n",
       "0  ['great', 'welcome', 'SenSanders', 'CA44', 'ra...   \n",
       "1  ['new', 'apartment', 'new', 'business', 'new',...   \n",
       "2  ['literally', 'easy', 'fix', 'save', 'life', '...   \n",
       "3  ['Baltimore', 'student', 'kill', 'gun', 'schoo...   \n",
       "4  ['netneutralityreminder', 'Obama', 'FCC', 'rul...   \n",
       "\n",
       "                                          liststring  \\\n",
       "0  'great' 'welcome' 'SenSanders' 'CA44' 'rally' ...   \n",
       "1  'new' 'apartment' 'new' 'business' 'new' 'rest...   \n",
       "2  'literally' 'easy' 'fix' 'save' 'life' 'httpab...   \n",
       "3  'Baltimore' 'student' 'kill' 'gun' 'school' 'y...   \n",
       "4  'netneutralityreminder' 'Obama' 'FCC' 'rule' '...   \n",
       "\n",
       "                                             vectors  \n",
       "0  [-0.19524726380000001, 0.3918217854, 0.0493305...  \n",
       "1  [-0.2074928593, 0.3944523199, 0.0484009482, -0...  \n",
       "2  [-0.2089821815, 0.39251183640000004, 0.0458777...  \n",
       "3  [-0.21396224300000002, 0.3897273741, 0.0522410...  \n",
       "4  [-0.20934589990000002, 0.39374101650000004, 0....  "
      ]
     },
     "execution_count": 203,
     "metadata": {
      "tags": []
     },
     "output_type": "execute_result"
    }
   ],
   "source": [
    "data1.head()"
   ]
  },
  {
   "cell_type": "code",
   "execution_count": 204,
   "metadata": {
    "colab": {
     "base_uri": "https://localhost:8080/",
     "height": 383
    },
    "id": "JozTClTxk7be",
    "outputId": "8d688318-ec59-4323-8e01-45d0d99b095e"
   },
   "outputs": [
    {
     "data": {
      "text/html": [
       "<div>\n",
       "<style scoped>\n",
       "    .dataframe tbody tr th:only-of-type {\n",
       "        vertical-align: middle;\n",
       "    }\n",
       "\n",
       "    .dataframe tbody tr th {\n",
       "        vertical-align: top;\n",
       "    }\n",
       "\n",
       "    .dataframe thead th {\n",
       "        text-align: right;\n",
       "    }\n",
       "</style>\n",
       "<table border=\"1\" class=\"dataframe\">\n",
       "  <thead>\n",
       "    <tr style=\"text-align: right;\">\n",
       "      <th></th>\n",
       "      <th>Unnamed: 0</th>\n",
       "      <th>screen_name</th>\n",
       "      <th>state</th>\n",
       "      <th>position</th>\n",
       "      <th>name</th>\n",
       "      <th>party</th>\n",
       "      <th>tweet_count</th>\n",
       "      <th>text_concat</th>\n",
       "      <th>text_length</th>\n",
       "      <th>text_length_1</th>\n",
       "      <th>text_length_2</th>\n",
       "      <th>text_length_3</th>\n",
       "      <th>word_length</th>\n",
       "      <th>text_concat_clean</th>\n",
       "      <th>liststring</th>\n",
       "      <th>vectors</th>\n",
       "    </tr>\n",
       "  </thead>\n",
       "  <tbody>\n",
       "    <tr>\n",
       "      <th>0</th>\n",
       "      <td>0</td>\n",
       "      <td>RepBarragan</td>\n",
       "      <td>CA</td>\n",
       "      <td>Representative</td>\n",
       "      <td>Nanette Diaz Barrag_n</td>\n",
       "      <td>D</td>\n",
       "      <td>4553</td>\n",
       "      <td>So great to welcome SenSanders to CA44 for a r...</td>\n",
       "      <td>1571519</td>\n",
       "      <td>1570974</td>\n",
       "      <td>1570974</td>\n",
       "      <td>1449495</td>\n",
       "      <td>180653</td>\n",
       "      <td>['great', 'welcome', 'SenSanders', 'CA44', 'ra...</td>\n",
       "      <td>'great' 'welcome' 'SenSanders' 'CA44' 'rally' ...</td>\n",
       "      <td>[-0.19524726380000001, 0.3918217854, 0.0493305...</td>\n",
       "    </tr>\n",
       "    <tr>\n",
       "      <th>1</th>\n",
       "      <td>1</td>\n",
       "      <td>ChrisMurphyCT</td>\n",
       "      <td>CT</td>\n",
       "      <td>Senator</td>\n",
       "      <td>Christopher Murphy</td>\n",
       "      <td>D</td>\n",
       "      <td>8793</td>\n",
       "      <td>New apartments new businesses and new restaura...</td>\n",
       "      <td>2801192</td>\n",
       "      <td>2800624</td>\n",
       "      <td>2800624</td>\n",
       "      <td>2598814</td>\n",
       "      <td>352609</td>\n",
       "      <td>['new', 'apartment', 'new', 'business', 'new',...</td>\n",
       "      <td>'new' 'apartment' 'new' 'business' 'new' 'rest...</td>\n",
       "      <td>[-0.2074928593, 0.3944523199, 0.0484009482, -0...</td>\n",
       "    </tr>\n",
       "    <tr>\n",
       "      <th>2</th>\n",
       "      <td>2</td>\n",
       "      <td>RepSwalwell</td>\n",
       "      <td>CA</td>\n",
       "      <td>Representative</td>\n",
       "      <td>Eric Swalwell</td>\n",
       "      <td>D</td>\n",
       "      <td>5841</td>\n",
       "      <td>Literally the easiest fix we could make to sav...</td>\n",
       "      <td>1843540</td>\n",
       "      <td>1842810</td>\n",
       "      <td>1842810</td>\n",
       "      <td>1704609</td>\n",
       "      <td>223536</td>\n",
       "      <td>['literally', 'easy', 'fix', 'save', 'life', '...</td>\n",
       "      <td>'literally' 'easy' 'fix' 'save' 'life' 'httpab...</td>\n",
       "      <td>[-0.2089821815, 0.39251183640000004, 0.0458777...</td>\n",
       "    </tr>\n",
       "  </tbody>\n",
       "</table>\n",
       "</div>"
      ],
      "text/plain": [
       "   Unnamed: 0    screen_name state        position                   name  \\\n",
       "0           0    RepBarragan    CA  Representative  Nanette Diaz Barrag_n   \n",
       "1           1  ChrisMurphyCT    CT         Senator     Christopher Murphy   \n",
       "2           2    RepSwalwell    CA  Representative          Eric Swalwell   \n",
       "\n",
       "  party  tweet_count                                        text_concat  \\\n",
       "0     D         4553  So great to welcome SenSanders to CA44 for a r...   \n",
       "1     D         8793  New apartments new businesses and new restaura...   \n",
       "2     D         5841  Literally the easiest fix we could make to sav...   \n",
       "\n",
       "   text_length  text_length_1  text_length_2  text_length_3  word_length  \\\n",
       "0      1571519        1570974        1570974        1449495       180653   \n",
       "1      2801192        2800624        2800624        2598814       352609   \n",
       "2      1843540        1842810        1842810        1704609       223536   \n",
       "\n",
       "                                   text_concat_clean  \\\n",
       "0  ['great', 'welcome', 'SenSanders', 'CA44', 'ra...   \n",
       "1  ['new', 'apartment', 'new', 'business', 'new',...   \n",
       "2  ['literally', 'easy', 'fix', 'save', 'life', '...   \n",
       "\n",
       "                                          liststring  \\\n",
       "0  'great' 'welcome' 'SenSanders' 'CA44' 'rally' ...   \n",
       "1  'new' 'apartment' 'new' 'business' 'new' 'rest...   \n",
       "2  'literally' 'easy' 'fix' 'save' 'life' 'httpab...   \n",
       "\n",
       "                                             vectors  \n",
       "0  [-0.19524726380000001, 0.3918217854, 0.0493305...  \n",
       "1  [-0.2074928593, 0.3944523199, 0.0484009482, -0...  \n",
       "2  [-0.2089821815, 0.39251183640000004, 0.0458777...  "
      ]
     },
     "execution_count": 204,
     "metadata": {
      "tags": []
     },
     "output_type": "execute_result"
    }
   ],
   "source": [
    "data = pd.concat([data1, data2, data3, data4], axis=0, sort=False)\n",
    "\n",
    "# data = data.drop_duplicates()\n",
    "\n",
    "data.head(3)"
   ]
  },
  {
   "cell_type": "code",
   "execution_count": 205,
   "metadata": {
    "id": "q34m1EkFwuID"
   },
   "outputs": [],
   "source": [
    "# keeping only certain columns that will be used\n",
    "columns_keep =['screen_name','state','position','name','party','tweet_count','text_concat_clean','liststring','vectors']\n",
    "\n",
    "data = data[columns_keep]"
   ]
  },
  {
   "cell_type": "code",
   "execution_count": 206,
   "metadata": {
    "colab": {
     "base_uri": "https://localhost:8080/",
     "height": 193
    },
    "id": "KWcgEP_RvsB6",
    "outputId": "e7d77232-18bb-43fc-af80-6ef9aa89dfa3"
   },
   "outputs": [
    {
     "data": {
      "text/html": [
       "<div>\n",
       "<style scoped>\n",
       "    .dataframe tbody tr th:only-of-type {\n",
       "        vertical-align: middle;\n",
       "    }\n",
       "\n",
       "    .dataframe tbody tr th {\n",
       "        vertical-align: top;\n",
       "    }\n",
       "\n",
       "    .dataframe thead th {\n",
       "        text-align: right;\n",
       "    }\n",
       "</style>\n",
       "<table border=\"1\" class=\"dataframe\">\n",
       "  <thead>\n",
       "    <tr style=\"text-align: right;\">\n",
       "      <th></th>\n",
       "      <th>screen_name</th>\n",
       "      <th>state</th>\n",
       "      <th>position</th>\n",
       "      <th>name</th>\n",
       "      <th>party</th>\n",
       "      <th>tweet_count</th>\n",
       "      <th>text_concat_clean</th>\n",
       "      <th>liststring</th>\n",
       "      <th>vectors</th>\n",
       "    </tr>\n",
       "  </thead>\n",
       "  <tbody>\n",
       "    <tr>\n",
       "      <th>0</th>\n",
       "      <td>RepBarragan</td>\n",
       "      <td>CA</td>\n",
       "      <td>Representative</td>\n",
       "      <td>Nanette Diaz Barrag_n</td>\n",
       "      <td>D</td>\n",
       "      <td>4553</td>\n",
       "      <td>['great', 'welcome', 'SenSanders', 'CA44', 'ra...</td>\n",
       "      <td>'great' 'welcome' 'SenSanders' 'CA44' 'rally' ...</td>\n",
       "      <td>[-0.19524726380000001, 0.3918217854, 0.0493305...</td>\n",
       "    </tr>\n",
       "    <tr>\n",
       "      <th>1</th>\n",
       "      <td>ChrisMurphyCT</td>\n",
       "      <td>CT</td>\n",
       "      <td>Senator</td>\n",
       "      <td>Christopher Murphy</td>\n",
       "      <td>D</td>\n",
       "      <td>8793</td>\n",
       "      <td>['new', 'apartment', 'new', 'business', 'new',...</td>\n",
       "      <td>'new' 'apartment' 'new' 'business' 'new' 'rest...</td>\n",
       "      <td>[-0.2074928593, 0.3944523199, 0.0484009482, -0...</td>\n",
       "    </tr>\n",
       "    <tr>\n",
       "      <th>2</th>\n",
       "      <td>RepSwalwell</td>\n",
       "      <td>CA</td>\n",
       "      <td>Representative</td>\n",
       "      <td>Eric Swalwell</td>\n",
       "      <td>D</td>\n",
       "      <td>5841</td>\n",
       "      <td>['literally', 'easy', 'fix', 'save', 'life', '...</td>\n",
       "      <td>'literally' 'easy' 'fix' 'save' 'life' 'httpab...</td>\n",
       "      <td>[-0.2089821815, 0.39251183640000004, 0.0458777...</td>\n",
       "    </tr>\n",
       "  </tbody>\n",
       "</table>\n",
       "</div>"
      ],
      "text/plain": [
       "     screen_name state        position                   name party  \\\n",
       "0    RepBarragan    CA  Representative  Nanette Diaz Barrag_n     D   \n",
       "1  ChrisMurphyCT    CT         Senator     Christopher Murphy     D   \n",
       "2    RepSwalwell    CA  Representative          Eric Swalwell     D   \n",
       "\n",
       "   tweet_count                                  text_concat_clean  \\\n",
       "0         4553  ['great', 'welcome', 'SenSanders', 'CA44', 'ra...   \n",
       "1         8793  ['new', 'apartment', 'new', 'business', 'new',...   \n",
       "2         5841  ['literally', 'easy', 'fix', 'save', 'life', '...   \n",
       "\n",
       "                                          liststring  \\\n",
       "0  'great' 'welcome' 'SenSanders' 'CA44' 'rally' ...   \n",
       "1  'new' 'apartment' 'new' 'business' 'new' 'rest...   \n",
       "2  'literally' 'easy' 'fix' 'save' 'life' 'httpab...   \n",
       "\n",
       "                                             vectors  \n",
       "0  [-0.19524726380000001, 0.3918217854, 0.0493305...  \n",
       "1  [-0.2074928593, 0.3944523199, 0.0484009482, -0...  \n",
       "2  [-0.2089821815, 0.39251183640000004, 0.0458777...  "
      ]
     },
     "execution_count": 206,
     "metadata": {
      "tags": []
     },
     "output_type": "execute_result"
    }
   ],
   "source": [
    "data.head(3)"
   ]
  },
  {
   "cell_type": "code",
   "execution_count": 207,
   "metadata": {
    "colab": {
     "base_uri": "https://localhost:8080/"
    },
    "id": "0zS8UqyJB88n",
    "outputId": "8a22b810-f531-45c6-fccf-1aa48c0546d3"
   },
   "outputs": [
    {
     "name": "stdout",
     "output_type": "stream",
     "text": [
      "<class 'pandas.core.frame.DataFrame'>\n",
      "Int64Index: 623 entries, 0 to 151\n",
      "Data columns (total 9 columns):\n",
      " #   Column             Non-Null Count  Dtype \n",
      "---  ------             --------------  ----- \n",
      " 0   screen_name        623 non-null    object\n",
      " 1   state              623 non-null    object\n",
      " 2   position           623 non-null    object\n",
      " 3   name               623 non-null    object\n",
      " 4   party              623 non-null    object\n",
      " 5   tweet_count        623 non-null    int64 \n",
      " 6   text_concat_clean  623 non-null    object\n",
      " 7   liststring         623 non-null    object\n",
      " 8   vectors            623 non-null    object\n",
      "dtypes: int64(1), object(8)\n",
      "memory usage: 48.7+ KB\n"
     ]
    }
   ],
   "source": [
    "data.info()"
   ]
  },
  {
   "cell_type": "code",
   "execution_count": 208,
   "metadata": {
    "colab": {
     "base_uri": "https://localhost:8080/"
    },
    "id": "yYfUS2lwBzkM",
    "outputId": "bd420e4d-12b9-488e-fa16-91cd672d0fc0"
   },
   "outputs": [
    {
     "data": {
      "text/plain": [
       "0    [-0.19524726380000001, 0.3918217854, 0.0493305...\n",
       "0    [-0.1972977185, 0.4062525852, 0.04576505, -0.0...\n",
       "0    [-0.19127933330000002, 0.386952534, 0.05601444...\n",
       "0    [-0.19360094890000001, 0.3976558457, 0.0497050...\n",
       "Name: vectors, dtype: object"
      ]
     },
     "execution_count": 208,
     "metadata": {
      "tags": []
     },
     "output_type": "execute_result"
    }
   ],
   "source": [
    "data['vectors'][0][0]"
   ]
  },
  {
   "cell_type": "code",
   "execution_count": 209,
   "metadata": {
    "colab": {
     "base_uri": "https://localhost:8080/"
    },
    "id": "iDh7ApWJCJBB",
    "outputId": "7a630a94-a10d-4805-b25a-59798e529e53"
   },
   "outputs": [
    {
     "data": {
      "text/plain": [
       "4"
      ]
     },
     "execution_count": 209,
     "metadata": {
      "tags": []
     },
     "output_type": "execute_result"
    }
   ],
   "source": [
    "len(data['vectors'][5])\n"
   ]
  },
  {
   "cell_type": "code",
   "execution_count": 210,
   "metadata": {
    "colab": {
     "base_uri": "https://localhost:8080/"
    },
    "id": "7-c82lRnBzcL",
    "outputId": "6a216e46-3a13-442b-9419-7394dafa8b79"
   },
   "outputs": [
    {
     "data": {
      "text/plain": [
       "(623, 9)"
      ]
     },
     "execution_count": 210,
     "metadata": {
      "tags": []
     },
     "output_type": "execute_result"
    }
   ],
   "source": [
    "data.shape"
   ]
  },
  {
   "cell_type": "code",
   "execution_count": 211,
   "metadata": {
    "id": "zDt5dxdZymg6"
   },
   "outputs": [],
   "source": [
    "# Create X\n",
    "X = data['vectors']\n",
    "X = np.matrix(X.tolist())\n",
    "\n",
    "# Applying the Standard Scaler\n",
    "sc = StandardScaler()\n",
    "\n",
    "X = sc.fit_transform(X)"
   ]
  },
  {
   "cell_type": "code",
   "execution_count": 212,
   "metadata": {
    "colab": {
     "base_uri": "https://localhost:8080/"
    },
    "id": "CCEvSTuo5_kD",
    "outputId": "f7698de5-92ce-4f5e-aede-1d112e3113d1"
   },
   "outputs": [
    {
     "data": {
      "text/plain": [
       "(623, 300)"
      ]
     },
     "execution_count": 212,
     "metadata": {
      "tags": []
     },
     "output_type": "execute_result"
    }
   ],
   "source": [
    "X.shape"
   ]
  },
  {
   "cell_type": "code",
   "execution_count": 213,
   "metadata": {
    "colab": {
     "base_uri": "https://localhost:8080/",
     "height": 297
    },
    "id": "rLfC8iBuAHVw",
    "outputId": "bca719d2-dbda-4522-a331-67de88e0dd46"
   },
   "outputs": [
    {
     "data": {
      "text/html": [
       "<div>\n",
       "<style scoped>\n",
       "    .dataframe tbody tr th:only-of-type {\n",
       "        vertical-align: middle;\n",
       "    }\n",
       "\n",
       "    .dataframe tbody tr th {\n",
       "        vertical-align: top;\n",
       "    }\n",
       "\n",
       "    .dataframe thead th {\n",
       "        text-align: right;\n",
       "    }\n",
       "</style>\n",
       "<table border=\"1\" class=\"dataframe\">\n",
       "  <thead>\n",
       "    <tr style=\"text-align: right;\">\n",
       "      <th></th>\n",
       "      <th>k</th>\n",
       "      <th>silhouette</th>\n",
       "    </tr>\n",
       "  </thead>\n",
       "  <tbody>\n",
       "    <tr>\n",
       "      <th>0</th>\n",
       "      <td>2</td>\n",
       "      <td>0.140147</td>\n",
       "    </tr>\n",
       "    <tr>\n",
       "      <th>1</th>\n",
       "      <td>3</td>\n",
       "      <td>0.141982</td>\n",
       "    </tr>\n",
       "    <tr>\n",
       "      <th>2</th>\n",
       "      <td>4</td>\n",
       "      <td>0.091599</td>\n",
       "    </tr>\n",
       "    <tr>\n",
       "      <th>3</th>\n",
       "      <td>5</td>\n",
       "      <td>0.083137</td>\n",
       "    </tr>\n",
       "    <tr>\n",
       "      <th>4</th>\n",
       "      <td>6</td>\n",
       "      <td>0.076304</td>\n",
       "    </tr>\n",
       "    <tr>\n",
       "      <th>5</th>\n",
       "      <td>7</td>\n",
       "      <td>0.057207</td>\n",
       "    </tr>\n",
       "    <tr>\n",
       "      <th>6</th>\n",
       "      <td>8</td>\n",
       "      <td>0.055769</td>\n",
       "    </tr>\n",
       "    <tr>\n",
       "      <th>7</th>\n",
       "      <td>9</td>\n",
       "      <td>0.061729</td>\n",
       "    </tr>\n",
       "  </tbody>\n",
       "</table>\n",
       "</div>"
      ],
      "text/plain": [
       "   k  silhouette\n",
       "0  2    0.140147\n",
       "1  3    0.141982\n",
       "2  4    0.091599\n",
       "3  5    0.083137\n",
       "4  6    0.076304\n",
       "5  7    0.057207\n",
       "6  8    0.055769\n",
       "7  9    0.061729"
      ]
     },
     "execution_count": 213,
     "metadata": {
      "tags": []
     },
     "output_type": "execute_result"
    }
   ],
   "source": [
    "# looking at multiple silhouette scores\n",
    "\n",
    "# set up empty list to store scores\n",
    "scores = []\n",
    "\n",
    "for k in range(2, 10):\n",
    "    # instantiate model\n",
    "    km = KMeans(n_clusters=k)\n",
    "\n",
    "    # fit the model\n",
    "    km.fit(X)\n",
    "\n",
    "    # Get silhouette score for each k\n",
    "    sil_score = silhouette_score(X, km.labels_)\n",
    "    scores.append([k, sil_score])\n",
    "\n",
    "# save as a df for viewing\n",
    "scores_df = pd.DataFrame(scores, columns = ['k', 'silhouette'])\n",
    "\n",
    "# looking at silhouette scores\n",
    "scores_df"
   ]
  },
  {
   "cell_type": "code",
   "execution_count": 214,
   "metadata": {
    "colab": {
     "base_uri": "https://localhost:8080/",
     "height": 553
    },
    "id": "F07oVNApCQ9F",
    "outputId": "d26137d8-7fb5-4652-e2e8-6c2940b9edef"
   },
   "outputs": [
    {
     "data": {
      "image/png": "[encoded data removed]",
      "text/plain": [
       "<Figure size 864x648 with 1 Axes>"
      ]
     },
     "metadata": {
      "needs_background": "light",
      "tags": []
     },
     "output_type": "display_data"
    }
   ],
   "source": [
    "# plotting the silhouette scores across k's\n",
    "\n",
    "plt.figure(figsize=(12,9))\n",
    "\n",
    "plt.plot(scores_df['k'], scores_df['silhouette'])\n",
    "\n",
    "plt.title('Silhouette Scores over K')\n",
    "\n",
    "plt.show()"
   ]
  },
  {
   "cell_type": "code",
   "execution_count": 215,
   "metadata": {
    "colab": {
     "base_uri": "https://localhost:8080/",
     "height": 297
    },
    "id": "57LH3HxQOAWA",
    "outputId": "44162a36-2974-4d6a-e80f-dd2bff3e61fe"
   },
   "outputs": [
    {
     "data": {
      "text/html": [
       "<div>\n",
       "<style scoped>\n",
       "    .dataframe tbody tr th:only-of-type {\n",
       "        vertical-align: middle;\n",
       "    }\n",
       "\n",
       "    .dataframe tbody tr th {\n",
       "        vertical-align: top;\n",
       "    }\n",
       "\n",
       "    .dataframe thead th {\n",
       "        text-align: right;\n",
       "    }\n",
       "</style>\n",
       "<table border=\"1\" class=\"dataframe\">\n",
       "  <thead>\n",
       "    <tr style=\"text-align: right;\">\n",
       "      <th></th>\n",
       "      <th>k</th>\n",
       "      <th>inertia</th>\n",
       "    </tr>\n",
       "  </thead>\n",
       "  <tbody>\n",
       "    <tr>\n",
       "      <th>0</th>\n",
       "      <td>2</td>\n",
       "      <td>163032.451478</td>\n",
       "    </tr>\n",
       "    <tr>\n",
       "      <th>1</th>\n",
       "      <td>3</td>\n",
       "      <td>146479.958091</td>\n",
       "    </tr>\n",
       "    <tr>\n",
       "      <th>2</th>\n",
       "      <td>4</td>\n",
       "      <td>137427.866841</td>\n",
       "    </tr>\n",
       "    <tr>\n",
       "      <th>3</th>\n",
       "      <td>5</td>\n",
       "      <td>131881.505014</td>\n",
       "    </tr>\n",
       "    <tr>\n",
       "      <th>4</th>\n",
       "      <td>6</td>\n",
       "      <td>128063.915475</td>\n",
       "    </tr>\n",
       "    <tr>\n",
       "      <th>5</th>\n",
       "      <td>7</td>\n",
       "      <td>125101.131981</td>\n",
       "    </tr>\n",
       "    <tr>\n",
       "      <th>6</th>\n",
       "      <td>8</td>\n",
       "      <td>121159.930271</td>\n",
       "    </tr>\n",
       "    <tr>\n",
       "      <th>7</th>\n",
       "      <td>9</td>\n",
       "      <td>118259.365823</td>\n",
       "    </tr>\n",
       "  </tbody>\n",
       "</table>\n",
       "</div>"
      ],
      "text/plain": [
       "   k        inertia\n",
       "0  2  163032.451478\n",
       "1  3  146479.958091\n",
       "2  4  137427.866841\n",
       "3  5  131881.505014\n",
       "4  6  128063.915475\n",
       "5  7  125101.131981\n",
       "6  8  121159.930271\n",
       "7  9  118259.365823"
      ]
     },
     "execution_count": 215,
     "metadata": {
      "tags": []
     },
     "output_type": "execute_result"
    }
   ],
   "source": [
    "# looking at multiple inertia scores\n",
    "\n",
    "# set up empty list to store scores\n",
    "scores = []\n",
    "\n",
    "for k in range(2, 10):\n",
    "\n",
    "    # instantiate model\n",
    "    km = KMeans(n_clusters=k)\n",
    "\n",
    "    # fit the model\n",
    "    km.fit(X)\n",
    "\n",
    "    # Get inertia score for each k\n",
    "    scores.append([k, km.inertia_])\n",
    "\n",
    "# save as a df for viewing\n",
    "scores_df = pd.DataFrame(scores, columns = ['k', 'inertia'])\n",
    "\n",
    "# looking at silhouette scores\n",
    "scores_df"
   ]
  },
  {
   "cell_type": "code",
   "execution_count": 216,
   "metadata": {
    "colab": {
     "base_uri": "https://localhost:8080/",
     "height": 553
    },
    "id": "NQ5rqg0iORCX",
    "outputId": "40b3110c-7624-44a8-9e88-7a16cbb2a826"
   },
   "outputs": [
    {
     "data": {
      "image/png": "[encoded data removed]",
      "text/plain": [
       "<Figure size 864x648 with 1 Axes>"
      ]
     },
     "metadata": {
      "needs_background": "light",
      "tags": []
     },
     "output_type": "display_data"
    }
   ],
   "source": [
    "# plotting the inertia scores across k's\n",
    "# Using the 'elbow' method to help find a good k\n",
    "# https://medium.com/@cmukesh8688/k-means-clustering-in-machine-learning-252130c85e23\n",
    "\n",
    "plt.figure(figsize=(12,9))\n",
    "\n",
    "plt.plot(scores_df['k'], scores_df['inertia'])\n",
    "\n",
    "plt.title('Inertia Scores over K')\n",
    "\n",
    "plt.show()"
   ]
  },
  {
   "cell_type": "code",
   "execution_count": 217,
   "metadata": {
    "id": "t0_LyUUDyu3X"
   },
   "outputs": [],
   "source": [
    "\n",
    "# # Instantiate and fit a gridsearch for a KMeans clustering model\n",
    "# km = KMeans()\n",
    "\n",
    "# params = {\n",
    "#     'n_clusters': [2, 3, 4, 5, 6, 7, 8, 9] #, 10] #, 11, 12, 13, 14, 15, 16, 17, 18, 19, 20]\n",
    "#     # 'n_clusters': [25, 30, 35, 40, 45, 50, 55, 60, 65, 70, 75, 80, 85, 90, 95, 100]\n",
    "   \n",
    "# }\n",
    "\n",
    "# gs = GridSearchCV(km, params, cv=5, verbose=1)\n",
    "# gs.fit(X)\n",
    "\n",
    "# # Get the best estimator\n",
    "# print(gs.best_estimator_)\n",
    "# print('-----------------')\n",
    "# print(silhouette_score(X, gs.best_estimator_.labels_))"
   ]
  },
  {
   "cell_type": "code",
   "execution_count": 218,
   "metadata": {
    "id": "fk7FVkZRyuzQ"
   },
   "outputs": [],
   "source": [
    "# # Create new column with KMeans labels and look at distribution of labels\n",
    "# data['km_labels'] = gs.best_estimator_.labels_\n",
    "# data['km_labels'].value_counts()"
   ]
  },
  {
   "cell_type": "code",
   "execution_count": 219,
   "metadata": {
    "colab": {
     "base_uri": "https://localhost:8080/",
     "height": 526
    },
    "id": "EhdtVk17wd1m",
    "outputId": "629e2422-8923-4777-9169-4f5721612ca0"
   },
   "outputs": [
    {
     "data": {
      "image/png": "[encoded data removed]",
      "text/plain": [
       "<Figure size 864x576 with 1 Axes>"
      ]
     },
     "metadata": {
      "needs_background": "light",
      "tags": []
     },
     "output_type": "display_data"
    }
   ],
   "source": [
    "# from sklearn.cluster import KMeans\n",
    "km = KMeans(n_clusters=2)\n",
    "km.fit(X)\n",
    "km_means = km.predict(X)\n",
    "\n",
    "plt.figure(figsize=(12,8))\n",
    "\n",
    "plt.scatter([X[:, 0]], [X[:, 1]], c=km_means, s=25, cmap='crest')\n",
    "\n",
    "centers = km.cluster_centers_\n",
    "plt.scatter(centers[:, 0], centers[:, 1], c='red', s=100, alpha=0.5)\n",
    "\n",
    "plt.title('Clusters and Centroids:\\n k = 2', size=20)\n",
    "plt.show()"
   ]
  },
  {
   "cell_type": "code",
   "execution_count": 220,
   "metadata": {
    "colab": {
     "base_uri": "https://localhost:8080/",
     "height": 526
    },
    "id": "_n9IdrN3wdvs",
    "outputId": "81422210-5047-4ca8-e322-3dd5a09532b3"
   },
   "outputs": [
    {
     "data": {
      "image/png": "[encoded data removed]",
      "text/plain": [
       "<Figure size 864x576 with 1 Axes>"
      ]
     },
     "metadata": {
      "needs_background": "light",
      "tags": []
     },
     "output_type": "display_data"
    }
   ],
   "source": [
    "# from sklearn.cluster import KMeans\n",
    "km = KMeans(n_clusters=3)\n",
    "km.fit(X)\n",
    "km_means = km.predict(X)\n",
    "\n",
    "plt.figure(figsize=(12,8))\n",
    "\n",
    "plt.scatter([X[:, 0]], [X[:, 1]], c=km_means, s=25, cmap='crest')\n",
    "\n",
    "centers = km.cluster_centers_\n",
    "plt.scatter(centers[:, 0], centers[:, 1], c='red', s=100, alpha=0.5)\n",
    "\n",
    "plt.title('Clusters and Centroids:\\n k = 3', size=20)\n",
    "plt.show()"
   ]
  },
  {
   "cell_type": "code",
   "execution_count": 221,
   "metadata": {
    "colab": {
     "base_uri": "https://localhost:8080/",
     "height": 526
    },
    "id": "gQJxJthdyuqi",
    "outputId": "ca920042-f84a-40f7-cfa4-effd9bbd99d7"
   },
   "outputs": [
    {
     "data": {
      "image/png": "[encoded data removed]",
      "text/plain": [
       "<Figure size 864x576 with 1 Axes>"
      ]
     },
     "metadata": {
      "needs_background": "light",
      "tags": []
     },
     "output_type": "display_data"
    }
   ],
   "source": [
    "# from sklearn.cluster import KMeans\n",
    "km = KMeans(n_clusters=4)\n",
    "km.fit(X)\n",
    "km_means = km.predict(X)\n",
    "\n",
    "plt.figure(figsize=(12,8))\n",
    "\n",
    "plt.scatter([X[:, 0]], [X[:, 1]], c=km_means, s=25, cmap='crest')\n",
    "\n",
    "centers = km.cluster_centers_\n",
    "plt.scatter(centers[:, 0], centers[:, 1], c='red', s=100, alpha=0.5)\n",
    "\n",
    "plt.title('Clusters and Centroids:\\n k = 4', size=20)\n",
    "plt.show()"
   ]
  },
  {
   "cell_type": "code",
   "execution_count": 221,
   "metadata": {
    "id": "kYA-pJ3yUvog"
   },
   "outputs": [],
   "source": []
  },
  {
   "cell_type": "code",
   "execution_count": 222,
   "metadata": {
    "colab": {
     "base_uri": "https://localhost:8080/",
     "height": 210
    },
    "id": "rLEzrrAYS7-T",
    "outputId": "d49fc953-b428-4625-ac0c-b5e39bc31c79"
   },
   "outputs": [
    {
     "data": {
      "text/html": [
       "<div>\n",
       "<style scoped>\n",
       "    .dataframe tbody tr th:only-of-type {\n",
       "        vertical-align: middle;\n",
       "    }\n",
       "\n",
       "    .dataframe tbody tr th {\n",
       "        vertical-align: top;\n",
       "    }\n",
       "\n",
       "    .dataframe thead th {\n",
       "        text-align: right;\n",
       "    }\n",
       "</style>\n",
       "<table border=\"1\" class=\"dataframe\">\n",
       "  <thead>\n",
       "    <tr style=\"text-align: right;\">\n",
       "      <th></th>\n",
       "      <th>screen_name</th>\n",
       "      <th>state</th>\n",
       "      <th>position</th>\n",
       "      <th>name</th>\n",
       "      <th>party</th>\n",
       "      <th>tweet_count</th>\n",
       "      <th>text_concat_clean</th>\n",
       "      <th>liststring</th>\n",
       "      <th>vectors</th>\n",
       "      <th>km_label</th>\n",
       "    </tr>\n",
       "  </thead>\n",
       "  <tbody>\n",
       "    <tr>\n",
       "      <th>0</th>\n",
       "      <td>RepBarragan</td>\n",
       "      <td>CA</td>\n",
       "      <td>Representative</td>\n",
       "      <td>Nanette Diaz Barrag_n</td>\n",
       "      <td>D</td>\n",
       "      <td>4553</td>\n",
       "      <td>['great', 'welcome', 'SenSanders', 'CA44', 'ra...</td>\n",
       "      <td>'great' 'welcome' 'SenSanders' 'CA44' 'rally' ...</td>\n",
       "      <td>[-0.19524726380000001, 0.3918217854, 0.0493305...</td>\n",
       "      <td>1</td>\n",
       "    </tr>\n",
       "    <tr>\n",
       "      <th>1</th>\n",
       "      <td>ChrisMurphyCT</td>\n",
       "      <td>CT</td>\n",
       "      <td>Senator</td>\n",
       "      <td>Christopher Murphy</td>\n",
       "      <td>D</td>\n",
       "      <td>8793</td>\n",
       "      <td>['new', 'apartment', 'new', 'business', 'new',...</td>\n",
       "      <td>'new' 'apartment' 'new' 'business' 'new' 'rest...</td>\n",
       "      <td>[-0.2074928593, 0.3944523199, 0.0484009482, -0...</td>\n",
       "      <td>0</td>\n",
       "    </tr>\n",
       "    <tr>\n",
       "      <th>2</th>\n",
       "      <td>RepSwalwell</td>\n",
       "      <td>CA</td>\n",
       "      <td>Representative</td>\n",
       "      <td>Eric Swalwell</td>\n",
       "      <td>D</td>\n",
       "      <td>5841</td>\n",
       "      <td>['literally', 'easy', 'fix', 'save', 'life', '...</td>\n",
       "      <td>'literally' 'easy' 'fix' 'save' 'life' 'httpab...</td>\n",
       "      <td>[-0.2089821815, 0.39251183640000004, 0.0458777...</td>\n",
       "      <td>0</td>\n",
       "    </tr>\n",
       "  </tbody>\n",
       "</table>\n",
       "</div>"
      ],
      "text/plain": [
       "     screen_name state        position                   name party  \\\n",
       "0    RepBarragan    CA  Representative  Nanette Diaz Barrag_n     D   \n",
       "1  ChrisMurphyCT    CT         Senator     Christopher Murphy     D   \n",
       "2    RepSwalwell    CA  Representative          Eric Swalwell     D   \n",
       "\n",
       "   tweet_count                                  text_concat_clean  \\\n",
       "0         4553  ['great', 'welcome', 'SenSanders', 'CA44', 'ra...   \n",
       "1         8793  ['new', 'apartment', 'new', 'business', 'new',...   \n",
       "2         5841  ['literally', 'easy', 'fix', 'save', 'life', '...   \n",
       "\n",
       "                                          liststring  \\\n",
       "0  'great' 'welcome' 'SenSanders' 'CA44' 'rally' ...   \n",
       "1  'new' 'apartment' 'new' 'business' 'new' 'rest...   \n",
       "2  'literally' 'easy' 'fix' 'save' 'life' 'httpab...   \n",
       "\n",
       "                                             vectors  km_label  \n",
       "0  [-0.19524726380000001, 0.3918217854, 0.0493305...         1  \n",
       "1  [-0.2074928593, 0.3944523199, 0.0484009482, -0...         0  \n",
       "2  [-0.2089821815, 0.39251183640000004, 0.0458777...         0  "
      ]
     },
     "execution_count": 222,
     "metadata": {
      "tags": []
     },
     "output_type": "execute_result"
    }
   ],
   "source": [
    "# Based on above information, fitting with 3 clusters\n",
    "\n",
    "km = KMeans(n_clusters = 3, random_state=516)\n",
    "\n",
    "km.fit(X)\n",
    "\n",
    "# print(km.cluster_centers_)\n",
    "\n",
    "# adding km labels back on the dataframe\n",
    "data['km_label'] = km.labels_\n",
    "\n",
    "data.head(3)"
   ]
  },
  {
   "cell_type": "code",
   "execution_count": 222,
   "metadata": {
    "id": "ze73dsetXsE4"
   },
   "outputs": [],
   "source": []
  },
  {
   "cell_type": "code",
   "execution_count": 223,
   "metadata": {
    "colab": {
     "base_uri": "https://localhost:8080/",
     "height": 504
    },
    "id": "2wAE8d7gXr-D",
    "outputId": "64de1594-3721-47f4-cfd6-5b2555c1a93a"
   },
   "outputs": [
    {
     "data": {
      "image/png": "[encoded data removed]",
      "text/plain": [
       "<Figure size 864x576 with 1 Axes>"
      ]
     },
     "metadata": {
      "needs_background": "light",
      "tags": []
     },
     "output_type": "display_data"
    }
   ],
   "source": [
    "# Using KNN to help find a good epsilon score\n",
    "# https://towardsdatascience.com/machine-learning-clustering-dbscan-determine-the-optimal-value-for-epsilon-eps-python-example-3100091cfbc\n",
    "\n",
    "k_neighbors = NearestNeighbors(n_neighbors=5)\n",
    "\n",
    "k_nbrs = k_neighbors.fit(X)\n",
    "\n",
    "distances, indices = k_nbrs.kneighbors(X)\n",
    "\n",
    "distances = np.sort(distances, axis=0)\n",
    "\n",
    "distances = distances[:,1]\n",
    "\n",
    "plt.figure(figsize=(12,8))\n",
    "\n",
    "plt.plot(distances)\n",
    "\n",
    "plt.title('Using KNN to Help Find Epsilon Score', size=20)\n",
    "\n",
    "plt.show()"
   ]
  },
  {
   "cell_type": "code",
   "execution_count": 224,
   "metadata": {
    "colab": {
     "base_uri": "https://localhost:8080/",
     "height": 363
    },
    "id": "EG9fZht84gpp",
    "outputId": "d71ee883-5e35-4814-e7e7-2237baf0e97b"
   },
   "outputs": [
    {
     "name": "stdout",
     "output_type": "stream",
     "text": [
      "{0, -1}\n",
      "0.40258354186293815\n",
      "--------------------\n",
      " 0    589\n",
      "-1     34\n",
      "Name: dbscan_label, dtype: int64\n",
      "--------------------\n"
     ]
    },
    {
     "data": {
      "text/html": [
       "<div>\n",
       "<style scoped>\n",
       "    .dataframe tbody tr th:only-of-type {\n",
       "        vertical-align: middle;\n",
       "    }\n",
       "\n",
       "    .dataframe tbody tr th {\n",
       "        vertical-align: top;\n",
       "    }\n",
       "\n",
       "    .dataframe thead th {\n",
       "        text-align: right;\n",
       "    }\n",
       "</style>\n",
       "<table border=\"1\" class=\"dataframe\">\n",
       "  <thead>\n",
       "    <tr style=\"text-align: right;\">\n",
       "      <th></th>\n",
       "      <th>screen_name</th>\n",
       "      <th>state</th>\n",
       "      <th>position</th>\n",
       "      <th>name</th>\n",
       "      <th>party</th>\n",
       "      <th>tweet_count</th>\n",
       "      <th>text_concat_clean</th>\n",
       "      <th>liststring</th>\n",
       "      <th>vectors</th>\n",
       "      <th>km_label</th>\n",
       "      <th>dbscan_label</th>\n",
       "    </tr>\n",
       "  </thead>\n",
       "  <tbody>\n",
       "    <tr>\n",
       "      <th>0</th>\n",
       "      <td>RepBarragan</td>\n",
       "      <td>CA</td>\n",
       "      <td>Representative</td>\n",
       "      <td>Nanette Diaz Barrag_n</td>\n",
       "      <td>D</td>\n",
       "      <td>4553</td>\n",
       "      <td>['great', 'welcome', 'SenSanders', 'CA44', 'ra...</td>\n",
       "      <td>'great' 'welcome' 'SenSanders' 'CA44' 'rally' ...</td>\n",
       "      <td>[-0.19524726380000001, 0.3918217854, 0.0493305...</td>\n",
       "      <td>1</td>\n",
       "      <td>0</td>\n",
       "    </tr>\n",
       "    <tr>\n",
       "      <th>1</th>\n",
       "      <td>ChrisMurphyCT</td>\n",
       "      <td>CT</td>\n",
       "      <td>Senator</td>\n",
       "      <td>Christopher Murphy</td>\n",
       "      <td>D</td>\n",
       "      <td>8793</td>\n",
       "      <td>['new', 'apartment', 'new', 'business', 'new',...</td>\n",
       "      <td>'new' 'apartment' 'new' 'business' 'new' 'rest...</td>\n",
       "      <td>[-0.2074928593, 0.3944523199, 0.0484009482, -0...</td>\n",
       "      <td>0</td>\n",
       "      <td>0</td>\n",
       "    </tr>\n",
       "    <tr>\n",
       "      <th>2</th>\n",
       "      <td>RepSwalwell</td>\n",
       "      <td>CA</td>\n",
       "      <td>Representative</td>\n",
       "      <td>Eric Swalwell</td>\n",
       "      <td>D</td>\n",
       "      <td>5841</td>\n",
       "      <td>['literally', 'easy', 'fix', 'save', 'life', '...</td>\n",
       "      <td>'literally' 'easy' 'fix' 'save' 'life' 'httpab...</td>\n",
       "      <td>[-0.2089821815, 0.39251183640000004, 0.0458777...</td>\n",
       "      <td>0</td>\n",
       "      <td>0</td>\n",
       "    </tr>\n",
       "  </tbody>\n",
       "</table>\n",
       "</div>"
      ],
      "text/plain": [
       "     screen_name state        position                   name party  \\\n",
       "0    RepBarragan    CA  Representative  Nanette Diaz Barrag_n     D   \n",
       "1  ChrisMurphyCT    CT         Senator     Christopher Murphy     D   \n",
       "2    RepSwalwell    CA  Representative          Eric Swalwell     D   \n",
       "\n",
       "   tweet_count                                  text_concat_clean  \\\n",
       "0         4553  ['great', 'welcome', 'SenSanders', 'CA44', 'ra...   \n",
       "1         8793  ['new', 'apartment', 'new', 'business', 'new',...   \n",
       "2         5841  ['literally', 'easy', 'fix', 'save', 'life', '...   \n",
       "\n",
       "                                          liststring  \\\n",
       "0  'great' 'welcome' 'SenSanders' 'CA44' 'rally' ...   \n",
       "1  'new' 'apartment' 'new' 'business' 'new' 'rest...   \n",
       "2  'literally' 'easy' 'fix' 'save' 'life' 'httpab...   \n",
       "\n",
       "                                             vectors  km_label  dbscan_label  \n",
       "0  [-0.19524726380000001, 0.3918217854, 0.0493305...         1             0  \n",
       "1  [-0.2074928593, 0.3944523199, 0.0484009482, -0...         0             0  \n",
       "2  [-0.2089821815, 0.39251183640000004, 0.0458777...         0             0  "
      ]
     },
     "execution_count": 224,
     "metadata": {
      "tags": []
     },
     "output_type": "execute_result"
    }
   ],
   "source": [
    "# Trying DBSCAN using the epsilon found above\n",
    "\n",
    "dbscan = DBSCAN(eps=18, min_samples=8) #change the epsilon\n",
    "\n",
    "dbscan.fit(X)\n",
    "\n",
    "print(set(dbscan.labels_))\n",
    "\n",
    "print(silhouette_score(X, dbscan.labels_))\n",
    "\n",
    "print('--------------------')\n",
    "\n",
    "data['dbscan_label'] = dbscan.labels_\n",
    "\n",
    "print(data['dbscan_label'].value_counts())\n",
    "\n",
    "print('--------------------')\n",
    "\n",
    "data.head(3)"
   ]
  },
  {
   "cell_type": "code",
   "execution_count": 224,
   "metadata": {
    "id": "OHBLT2SK4ghv"
   },
   "outputs": [],
   "source": []
  },
  {
   "cell_type": "code",
   "execution_count": null,
   "metadata": {
    "id": "T5L6a46X-EEB"
   },
   "outputs": [],
   "source": []
  },
  {
   "cell_type": "code",
   "execution_count": 232,
   "metadata": {
    "colab": {
     "base_uri": "https://localhost:8080/",
     "height": 224
    },
    "id": "XqZQPoZG-Dyz",
    "outputId": "97c0eb3d-a726-4929-e613-e2f61ea7647a"
   },
   "outputs": [
    {
     "data": {
      "text/html": [
       "<div>\n",
       "<style scoped>\n",
       "    .dataframe tbody tr th:only-of-type {\n",
       "        vertical-align: middle;\n",
       "    }\n",
       "\n",
       "    .dataframe tbody tr th {\n",
       "        vertical-align: top;\n",
       "    }\n",
       "\n",
       "    .dataframe thead th {\n",
       "        text-align: right;\n",
       "    }\n",
       "</style>\n",
       "<table border=\"1\" class=\"dataframe\">\n",
       "  <thead>\n",
       "    <tr style=\"text-align: right;\">\n",
       "      <th></th>\n",
       "      <th>0</th>\n",
       "      <th>1</th>\n",
       "      <th>2</th>\n",
       "      <th>3</th>\n",
       "      <th>4</th>\n",
       "      <th>5</th>\n",
       "      <th>6</th>\n",
       "      <th>7</th>\n",
       "      <th>8</th>\n",
       "      <th>9</th>\n",
       "      <th>10</th>\n",
       "      <th>11</th>\n",
       "      <th>12</th>\n",
       "      <th>13</th>\n",
       "      <th>14</th>\n",
       "      <th>15</th>\n",
       "      <th>16</th>\n",
       "      <th>17</th>\n",
       "      <th>18</th>\n",
       "      <th>19</th>\n",
       "      <th>20</th>\n",
       "      <th>21</th>\n",
       "      <th>22</th>\n",
       "      <th>23</th>\n",
       "      <th>24</th>\n",
       "      <th>25</th>\n",
       "      <th>26</th>\n",
       "      <th>27</th>\n",
       "      <th>28</th>\n",
       "      <th>29</th>\n",
       "      <th>30</th>\n",
       "      <th>31</th>\n",
       "      <th>32</th>\n",
       "      <th>33</th>\n",
       "      <th>34</th>\n",
       "      <th>35</th>\n",
       "      <th>36</th>\n",
       "      <th>37</th>\n",
       "      <th>38</th>\n",
       "      <th>39</th>\n",
       "      <th>40</th>\n",
       "      <th>41</th>\n",
       "      <th>42</th>\n",
       "      <th>43</th>\n",
       "      <th>44</th>\n",
       "      <th>45</th>\n",
       "      <th>46</th>\n",
       "      <th>47</th>\n",
       "      <th>48</th>\n",
       "      <th>49</th>\n",
       "    </tr>\n",
       "  </thead>\n",
       "  <tbody>\n",
       "    <tr>\n",
       "      <th>0</th>\n",
       "      <td>1.000000</td>\n",
       "      <td>-0.054284</td>\n",
       "      <td>0.115981</td>\n",
       "      <td>0.065791</td>\n",
       "      <td>-0.045132</td>\n",
       "      <td>0.302493</td>\n",
       "      <td>-0.405994</td>\n",
       "      <td>0.028965</td>\n",
       "      <td>0.549515</td>\n",
       "      <td>0.334265</td>\n",
       "      <td>-0.178641</td>\n",
       "      <td>0.083451</td>\n",
       "      <td>0.071528</td>\n",
       "      <td>0.120234</td>\n",
       "      <td>-0.507347</td>\n",
       "      <td>0.524552</td>\n",
       "      <td>0.450538</td>\n",
       "      <td>0.075838</td>\n",
       "      <td>-0.311259</td>\n",
       "      <td>0.311982</td>\n",
       "      <td>0.124266</td>\n",
       "      <td>-0.060141</td>\n",
       "      <td>0.144376</td>\n",
       "      <td>0.174284</td>\n",
       "      <td>-0.428840</td>\n",
       "      <td>0.629586</td>\n",
       "      <td>0.041531</td>\n",
       "      <td>-0.158303</td>\n",
       "      <td>-0.206516</td>\n",
       "      <td>0.389820</td>\n",
       "      <td>0.223527</td>\n",
       "      <td>-0.414026</td>\n",
       "      <td>-0.263395</td>\n",
       "      <td>-0.280311</td>\n",
       "      <td>-0.449596</td>\n",
       "      <td>-0.060954</td>\n",
       "      <td>-0.638539</td>\n",
       "      <td>0.138205</td>\n",
       "      <td>-0.391537</td>\n",
       "      <td>-0.005763</td>\n",
       "      <td>0.292629</td>\n",
       "      <td>0.432572</td>\n",
       "      <td>-0.490778</td>\n",
       "      <td>0.788191</td>\n",
       "      <td>-0.353281</td>\n",
       "      <td>-0.067717</td>\n",
       "      <td>0.685351</td>\n",
       "      <td>-0.611830</td>\n",
       "      <td>0.441230</td>\n",
       "      <td>-0.263916</td>\n",
       "    </tr>\n",
       "    <tr>\n",
       "      <th>1</th>\n",
       "      <td>-0.054284</td>\n",
       "      <td>1.000000</td>\n",
       "      <td>0.950631</td>\n",
       "      <td>0.886909</td>\n",
       "      <td>0.824023</td>\n",
       "      <td>0.547562</td>\n",
       "      <td>-0.710871</td>\n",
       "      <td>-0.755169</td>\n",
       "      <td>-0.021341</td>\n",
       "      <td>0.833469</td>\n",
       "      <td>-0.859287</td>\n",
       "      <td>-0.006557</td>\n",
       "      <td>0.792299</td>\n",
       "      <td>0.593868</td>\n",
       "      <td>-0.697718</td>\n",
       "      <td>0.612969</td>\n",
       "      <td>-0.477948</td>\n",
       "      <td>0.882252</td>\n",
       "      <td>-0.608284</td>\n",
       "      <td>0.713002</td>\n",
       "      <td>-0.599515</td>\n",
       "      <td>0.687813</td>\n",
       "      <td>-0.810417</td>\n",
       "      <td>0.056330</td>\n",
       "      <td>0.560138</td>\n",
       "      <td>0.343683</td>\n",
       "      <td>0.459138</td>\n",
       "      <td>0.738018</td>\n",
       "      <td>-0.689096</td>\n",
       "      <td>0.286949</td>\n",
       "      <td>0.858452</td>\n",
       "      <td>-0.603850</td>\n",
       "      <td>-0.238486</td>\n",
       "      <td>-0.751389</td>\n",
       "      <td>-0.617328</td>\n",
       "      <td>0.722006</td>\n",
       "      <td>-0.267098</td>\n",
       "      <td>-0.780161</td>\n",
       "      <td>-0.736433</td>\n",
       "      <td>-0.523440</td>\n",
       "      <td>0.672955</td>\n",
       "      <td>0.511039</td>\n",
       "      <td>0.231257</td>\n",
       "      <td>0.345927</td>\n",
       "      <td>-0.688222</td>\n",
       "      <td>-0.829542</td>\n",
       "      <td>-0.490982</td>\n",
       "      <td>-0.530232</td>\n",
       "      <td>-0.252945</td>\n",
       "      <td>-0.723318</td>\n",
       "    </tr>\n",
       "    <tr>\n",
       "      <th>2</th>\n",
       "      <td>0.115981</td>\n",
       "      <td>0.950631</td>\n",
       "      <td>1.000000</td>\n",
       "      <td>0.896393</td>\n",
       "      <td>0.814140</td>\n",
       "      <td>0.575589</td>\n",
       "      <td>-0.800488</td>\n",
       "      <td>-0.774266</td>\n",
       "      <td>0.080314</td>\n",
       "      <td>0.891366</td>\n",
       "      <td>-0.875189</td>\n",
       "      <td>0.055152</td>\n",
       "      <td>0.854487</td>\n",
       "      <td>0.501548</td>\n",
       "      <td>-0.834187</td>\n",
       "      <td>0.708113</td>\n",
       "      <td>-0.436566</td>\n",
       "      <td>0.959874</td>\n",
       "      <td>-0.710301</td>\n",
       "      <td>0.816077</td>\n",
       "      <td>-0.611195</td>\n",
       "      <td>0.728194</td>\n",
       "      <td>-0.725214</td>\n",
       "      <td>-0.034335</td>\n",
       "      <td>0.578355</td>\n",
       "      <td>0.423144</td>\n",
       "      <td>0.346640</td>\n",
       "      <td>0.732501</td>\n",
       "      <td>-0.787604</td>\n",
       "      <td>0.356339</td>\n",
       "      <td>0.883097</td>\n",
       "      <td>-0.718997</td>\n",
       "      <td>-0.252645</td>\n",
       "      <td>-0.747463</td>\n",
       "      <td>-0.701037</td>\n",
       "      <td>0.638929</td>\n",
       "      <td>-0.404832</td>\n",
       "      <td>-0.789617</td>\n",
       "      <td>-0.801538</td>\n",
       "      <td>-0.608864</td>\n",
       "      <td>0.769359</td>\n",
       "      <td>0.574822</td>\n",
       "      <td>0.099765</td>\n",
       "      <td>0.477219</td>\n",
       "      <td>-0.751905</td>\n",
       "      <td>-0.819745</td>\n",
       "      <td>-0.400344</td>\n",
       "      <td>-0.651816</td>\n",
       "      <td>-0.131973</td>\n",
       "      <td>-0.794340</td>\n",
       "    </tr>\n",
       "    <tr>\n",
       "      <th>3</th>\n",
       "      <td>0.065791</td>\n",
       "      <td>0.886909</td>\n",
       "      <td>0.896393</td>\n",
       "      <td>1.000000</td>\n",
       "      <td>0.912178</td>\n",
       "      <td>0.775191</td>\n",
       "      <td>-0.855492</td>\n",
       "      <td>-0.646915</td>\n",
       "      <td>0.125266</td>\n",
       "      <td>0.858418</td>\n",
       "      <td>-0.786499</td>\n",
       "      <td>-0.221788</td>\n",
       "      <td>0.873577</td>\n",
       "      <td>0.702736</td>\n",
       "      <td>-0.718165</td>\n",
       "      <td>0.792419</td>\n",
       "      <td>-0.417589</td>\n",
       "      <td>0.887639</td>\n",
       "      <td>-0.598527</td>\n",
       "      <td>0.917854</td>\n",
       "      <td>-0.613622</td>\n",
       "      <td>0.432248</td>\n",
       "      <td>-0.839122</td>\n",
       "      <td>0.070670</td>\n",
       "      <td>0.444760</td>\n",
       "      <td>0.460822</td>\n",
       "      <td>0.370244</td>\n",
       "      <td>0.783897</td>\n",
       "      <td>-0.746456</td>\n",
       "      <td>0.156519</td>\n",
       "      <td>0.774612</td>\n",
       "      <td>-0.802134</td>\n",
       "      <td>-0.318323</td>\n",
       "      <td>-0.797567</td>\n",
       "      <td>-0.488896</td>\n",
       "      <td>0.865640</td>\n",
       "      <td>-0.568682</td>\n",
       "      <td>-0.525808</td>\n",
       "      <td>-0.778166</td>\n",
       "      <td>-0.316456</td>\n",
       "      <td>0.864455</td>\n",
       "      <td>0.607442</td>\n",
       "      <td>-0.096076</td>\n",
       "      <td>0.562567</td>\n",
       "      <td>-0.868083</td>\n",
       "      <td>-0.948691</td>\n",
       "      <td>-0.319894</td>\n",
       "      <td>-0.704069</td>\n",
       "      <td>-0.278836</td>\n",
       "      <td>-0.848073</td>\n",
       "    </tr>\n",
       "    <tr>\n",
       "      <th>4</th>\n",
       "      <td>-0.045132</td>\n",
       "      <td>0.824023</td>\n",
       "      <td>0.814140</td>\n",
       "      <td>0.912178</td>\n",
       "      <td>1.000000</td>\n",
       "      <td>0.802077</td>\n",
       "      <td>-0.815447</td>\n",
       "      <td>-0.548308</td>\n",
       "      <td>0.083675</td>\n",
       "      <td>0.846455</td>\n",
       "      <td>-0.833507</td>\n",
       "      <td>-0.039241</td>\n",
       "      <td>0.883761</td>\n",
       "      <td>0.759740</td>\n",
       "      <td>-0.581611</td>\n",
       "      <td>0.749118</td>\n",
       "      <td>-0.484162</td>\n",
       "      <td>0.789108</td>\n",
       "      <td>-0.630964</td>\n",
       "      <td>0.821031</td>\n",
       "      <td>-0.768660</td>\n",
       "      <td>0.374774</td>\n",
       "      <td>-0.751156</td>\n",
       "      <td>0.008962</td>\n",
       "      <td>0.355511</td>\n",
       "      <td>0.470781</td>\n",
       "      <td>0.446925</td>\n",
       "      <td>0.654837</td>\n",
       "      <td>-0.812673</td>\n",
       "      <td>0.153252</td>\n",
       "      <td>0.728550</td>\n",
       "      <td>-0.807563</td>\n",
       "      <td>-0.135012</td>\n",
       "      <td>-0.622061</td>\n",
       "      <td>-0.532962</td>\n",
       "      <td>0.847065</td>\n",
       "      <td>-0.453441</td>\n",
       "      <td>-0.541257</td>\n",
       "      <td>-0.712198</td>\n",
       "      <td>-0.216362</td>\n",
       "      <td>0.846833</td>\n",
       "      <td>0.629675</td>\n",
       "      <td>-0.061002</td>\n",
       "      <td>0.475469</td>\n",
       "      <td>-0.867370</td>\n",
       "      <td>-0.909717</td>\n",
       "      <td>-0.300061</td>\n",
       "      <td>-0.629957</td>\n",
       "      <td>-0.346483</td>\n",
       "      <td>-0.755037</td>\n",
       "    </tr>\n",
       "  </tbody>\n",
       "</table>\n",
       "</div>"
      ],
      "text/plain": [
       "         0         1         2         3         4         5         6   \\\n",
       "0  1.000000 -0.054284  0.115981  0.065791 -0.045132  0.302493 -0.405994   \n",
       "1 -0.054284  1.000000  0.950631  0.886909  0.824023  0.547562 -0.710871   \n",
       "2  0.115981  0.950631  1.000000  0.896393  0.814140  0.575589 -0.800488   \n",
       "3  0.065791  0.886909  0.896393  1.000000  0.912178  0.775191 -0.855492   \n",
       "4 -0.045132  0.824023  0.814140  0.912178  1.000000  0.802077 -0.815447   \n",
       "\n",
       "         7         8         9         10        11        12        13  \\\n",
       "0  0.028965  0.549515  0.334265 -0.178641  0.083451  0.071528  0.120234   \n",
       "1 -0.755169 -0.021341  0.833469 -0.859287 -0.006557  0.792299  0.593868   \n",
       "2 -0.774266  0.080314  0.891366 -0.875189  0.055152  0.854487  0.501548   \n",
       "3 -0.646915  0.125266  0.858418 -0.786499 -0.221788  0.873577  0.702736   \n",
       "4 -0.548308  0.083675  0.846455 -0.833507 -0.039241  0.883761  0.759740   \n",
       "\n",
       "         14        15        16        17        18        19        20  \\\n",
       "0 -0.507347  0.524552  0.450538  0.075838 -0.311259  0.311982  0.124266   \n",
       "1 -0.697718  0.612969 -0.477948  0.882252 -0.608284  0.713002 -0.599515   \n",
       "2 -0.834187  0.708113 -0.436566  0.959874 -0.710301  0.816077 -0.611195   \n",
       "3 -0.718165  0.792419 -0.417589  0.887639 -0.598527  0.917854 -0.613622   \n",
       "4 -0.581611  0.749118 -0.484162  0.789108 -0.630964  0.821031 -0.768660   \n",
       "\n",
       "         21        22        23        24        25        26        27  \\\n",
       "0 -0.060141  0.144376  0.174284 -0.428840  0.629586  0.041531 -0.158303   \n",
       "1  0.687813 -0.810417  0.056330  0.560138  0.343683  0.459138  0.738018   \n",
       "2  0.728194 -0.725214 -0.034335  0.578355  0.423144  0.346640  0.732501   \n",
       "3  0.432248 -0.839122  0.070670  0.444760  0.460822  0.370244  0.783897   \n",
       "4  0.374774 -0.751156  0.008962  0.355511  0.470781  0.446925  0.654837   \n",
       "\n",
       "         28        29        30        31        32        33        34  \\\n",
       "0 -0.206516  0.389820  0.223527 -0.414026 -0.263395 -0.280311 -0.449596   \n",
       "1 -0.689096  0.286949  0.858452 -0.603850 -0.238486 -0.751389 -0.617328   \n",
       "2 -0.787604  0.356339  0.883097 -0.718997 -0.252645 -0.747463 -0.701037   \n",
       "3 -0.746456  0.156519  0.774612 -0.802134 -0.318323 -0.797567 -0.488896   \n",
       "4 -0.812673  0.153252  0.728550 -0.807563 -0.135012 -0.622061 -0.532962   \n",
       "\n",
       "         35        36        37        38        39        40        41  \\\n",
       "0 -0.060954 -0.638539  0.138205 -0.391537 -0.005763  0.292629  0.432572   \n",
       "1  0.722006 -0.267098 -0.780161 -0.736433 -0.523440  0.672955  0.511039   \n",
       "2  0.638929 -0.404832 -0.789617 -0.801538 -0.608864  0.769359  0.574822   \n",
       "3  0.865640 -0.568682 -0.525808 -0.778166 -0.316456  0.864455  0.607442   \n",
       "4  0.847065 -0.453441 -0.541257 -0.712198 -0.216362  0.846833  0.629675   \n",
       "\n",
       "         42        43        44        45        46        47        48  \\\n",
       "0 -0.490778  0.788191 -0.353281 -0.067717  0.685351 -0.611830  0.441230   \n",
       "1  0.231257  0.345927 -0.688222 -0.829542 -0.490982 -0.530232 -0.252945   \n",
       "2  0.099765  0.477219 -0.751905 -0.819745 -0.400344 -0.651816 -0.131973   \n",
       "3 -0.096076  0.562567 -0.868083 -0.948691 -0.319894 -0.704069 -0.278836   \n",
       "4 -0.061002  0.475469 -0.867370 -0.909717 -0.300061 -0.629957 -0.346483   \n",
       "\n",
       "         49  \n",
       "0 -0.263916  \n",
       "1 -0.723318  \n",
       "2 -0.794340  \n",
       "3 -0.848073  \n",
       "4 -0.755037  "
      ]
     },
     "execution_count": 232,
     "metadata": {
      "tags": []
     },
     "output_type": "execute_result"
    }
   ],
   "source": [
    "\n",
    "# Get the cosine similarity for each document\n",
    "# Help from Kelly Slatery\n",
    "# Looking at the first 50 documents\n",
    "vector_distances = pd.DataFrame(pairwise_distances(X[:50], X[:50], metric='cosine'))\n",
    "vector_distances.corr().head()"
   ]
  },
  {
   "cell_type": "code",
   "execution_count": 238,
   "metadata": {
    "colab": {
     "base_uri": "https://localhost:8080/",
     "height": 1000
    },
    "id": "N_9DJCcC-pq0",
    "outputId": "4018abfe-dc26-4bca-e0b0-91d30a46b77d"
   },
   "outputs": [
    {
     "data": {
      "image/png": "[encoded data removed]",
      "text/plain": [
       "<Figure size 1296x1296 with 2 Axes>"
      ]
     },
     "metadata": {
      "needs_background": "light",
      "tags": []
     },
     "output_type": "display_data"
    }
   ],
   "source": [
    "# Seeing correlations between first 50 documents (dataset is too large with all documents) using cosine similarity\n",
    "plt.figure(figsize=(18,18))\n",
    "\n",
    "corr = vector_distances.corr()\n",
    "mask = np.zeros_like(corr)\n",
    "mask[np.triu_indices_from(mask)] = True\n",
    "\n",
    "sns.heatmap(corr, \n",
    "            cmap='crest', \n",
    "            vmax=1, \n",
    "            vmin=-1, \n",
    "            linecolor='white', \n",
    "            linewidths=1,\n",
    "            square=True, \n",
    "           mask=mask)\n",
    "\n",
    "plt.title('Corrlations Between Politician Vectors using Cosine Similarity', size=20)\n",
    "\n",
    "plt.show()"
   ]
  },
  {
   "cell_type": "code",
   "execution_count": 239,
   "metadata": {
    "id": "EvA9UdTyFaTy"
   },
   "outputs": [],
   "source": [
    "\n",
    "# # Export dataframe with kmeans and dbscan labels\n",
    "# data.to_csv('./data/vectors_labels_df.csv', index=False)\n",
    "\n",
    "# Exporting in google colab. Update directory as needed.\n",
    "data.to_csv('/content/drive/MyDrive/Python/vectors_labels_df.csv', index=False)\n"
   ]
  }
 ],
 "metadata": {
  "colab": {
   "collapsed_sections": [],
   "name": "05_Modeling.ipynb",
   "provenance": []
  },
  "kernelspec": {
   "display_name": "Python 3",
   "language": "python",
   "name": "python3"
  },
  "language_info": {
   "codemirror_mode": {
    "name": "ipython",
    "version": 3
   },
   "file_extension": ".py",
   "mimetype": "text/x-python",
   "name": "python",
   "nbconvert_exporter": "python",
   "pygments_lexer": "ipython3",
   "version": "3.8.8"
  }
 },
 "nbformat": 4,
 "nbformat_minor": 4
}
