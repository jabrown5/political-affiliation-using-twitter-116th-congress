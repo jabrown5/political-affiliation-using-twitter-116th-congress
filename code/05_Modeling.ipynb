{
 "cells": [
  {
   "cell_type": "markdown",
   "metadata": {
    "id": "_DUdAN6Xv6OU"
   },
   "source": [
    "# 05. Model Exploration\n",
    "\n",
    "This notebook examines dozens of models to find one that produces a high silhouette score with a lower inertia value. Models examined include those with scaled and unscaled data, dimensionality reduction achieved via PCA applied or not applied, t-SNE - another dimensionality reduction technique applied or not. Additionally, it examines several text vectorization techniques including spaCy word embeddings, Count Vectorizer (CVEC), and Term Frequency-Inverse Document Frequency (TF-IDF).\n"
   ]
  },
  {
   "cell_type": "code",
   "execution_count": 1,
   "metadata": {
    "colab": {
     "base_uri": "https://localhost:8080/"
    },
    "id": "MB0qRanbv6Fh",
    "outputId": "9436a8b4-d0e0-4fb0-daca-d7aabebb4819"
   },
   "outputs": [
    {
     "name": "stdout",
     "output_type": "stream",
     "text": [
      "Mounted at /content/drive/\n"
     ]
    }
   ],
   "source": [
    "# # If running in google colab:\n",
    "# from google.colab import drive\n",
    "# drive.mount('/content/drive/', force_remount=True)"
   ]
  },
  {
   "cell_type": "code",
   "execution_count": null,
   "metadata": {},
   "outputs": [],
   "source": [
    "# # if not already installed, spaCy is necessary to run the following cells\n",
    "# !pip install -U spacy"
   ]
  },
  {
   "cell_type": "code",
   "execution_count": 86,
   "metadata": {
    "id": "vvzWSbg5v5HF"
   },
   "outputs": [],
   "source": [
    "# # Download en_core_web_lg for google colab\n",
    "# !python -m spacy download en_core_web_lg"
   ]
  },
  {
   "cell_type": "markdown",
   "metadata": {},
   "source": [
    "## Imports"
   ]
  },
  {
   "cell_type": "code",
   "execution_count": 87,
   "metadata": {
    "id": "LowcVnUOv4-S"
   },
   "outputs": [],
   "source": [
    "# Imports\n",
    "import numpy as np\n",
    "import pandas as pd\n",
    "import seaborn as sns\n",
    "import matplotlib.pyplot as plt\n",
    "\n",
    "from sklearn.feature_extraction import text\n",
    "from sklearn.feature_extraction.text import TfidfVectorizer\n",
    "from sklearn.feature_extraction.text import CountVectorizer\n",
    "from sklearn.model_selection import GridSearchCV\n",
    "from sklearn.cluster import DBSCAN, KMeans\n",
    "from sklearn.metrics import silhouette_score, pairwise_distances\n",
    "\n",
    "from sklearn.preprocessing import StandardScaler\n",
    "from sklearn.decomposition import PCA\n",
    "\n",
    "# KNN used to help determine epsilon value for DBSCAN\n",
    "from sklearn.neighbors import NearestNeighbors\n",
    "\n",
    "from sklearn.manifold import TSNE\n",
    "\n",
    "pd.set_option('display.max_columns', None)\n",
    "pd.set_option('display.max_rows', None)"
   ]
  },
  {
   "cell_type": "code",
   "execution_count": 89,
   "metadata": {
    "id": "I8DZU6lkwuRt"
   },
   "outputs": [],
   "source": [
    "# # Importing the finalized concatinated dataframe\n",
    "\n",
    "# # If running in google colab, use this import line:\n",
    "# # Change to file location if necessary\n",
    "# data1 = pd.read_json('/content/drive/MyDrive/Python/tweet_vectors_1.json')\n",
    "# data2 = pd.read_json('/content/drive/MyDrive/Python/tweet_vectors_2.json')\n",
    "# data3 = pd.read_json('/content/drive/MyDrive/Python/tweet_vectors_3.json')\n",
    "# data4 = pd.read_json('/content/drive/MyDrive/Python/tweet_vectors_4.json')\n",
    "\n",
    "# # Use these lines if running locally\n",
    "data1 = pd.read_json('../data/tweet_vectors_1.json')\n",
    "data2 = pd.read_json('../data/tweet_vectors_2.json')\n",
    "data3 = pd.read_json('../data/tweet_vectors_3.json')\n",
    "data4 = pd.read_json('../data/tweet_vectors_4.json')\n"
   ]
  },
  {
   "cell_type": "code",
   "execution_count": 175,
   "metadata": {
    "id": "JozTClTxk7be"
   },
   "outputs": [],
   "source": [
    "data = pd.concat([data1, data2, data3, data4], axis=0, sort=False)\n",
    "\n",
    "# data = data.drop_duplicates()"
   ]
  },
  {
   "cell_type": "code",
   "execution_count": 176,
   "metadata": {
    "id": "q34m1EkFwuID"
   },
   "outputs": [],
   "source": [
    "# keeping only certain columns that will be used\n",
    "columns_keep =['screen_name','state','position','name','party','tweet_count','text_concat_clean','liststring','vectors', 'text_length', 'word_length']\n",
    "\n",
    "data = data[columns_keep]"
   ]
  },
  {
   "cell_type": "code",
   "execution_count": 177,
   "metadata": {
    "colab": {
     "base_uri": "https://localhost:8080/"
    },
    "id": "0zS8UqyJB88n",
    "outputId": "409796d4-05ef-4d47-e586-f13eaee033fd"
   },
   "outputs": [
    {
     "name": "stdout",
     "output_type": "stream",
     "text": [
      "<class 'pandas.core.frame.DataFrame'>\n",
      "Int64Index: 521 entries, 0 to 129\n",
      "Data columns (total 11 columns):\n",
      " #   Column             Non-Null Count  Dtype \n",
      "---  ------             --------------  ----- \n",
      " 0   screen_name        521 non-null    object\n",
      " 1   state              521 non-null    object\n",
      " 2   position           521 non-null    object\n",
      " 3   name               521 non-null    object\n",
      " 4   party              521 non-null    object\n",
      " 5   tweet_count        521 non-null    int64 \n",
      " 6   text_concat_clean  521 non-null    object\n",
      " 7   liststring         521 non-null    object\n",
      " 8   vectors            521 non-null    object\n",
      " 9   text_length        521 non-null    int64 \n",
      " 10  word_length        521 non-null    int64 \n",
      "dtypes: int64(3), object(8)\n",
      "memory usage: 48.8+ KB\n"
     ]
    }
   ],
   "source": [
    "data.info()"
   ]
  },
  {
   "cell_type": "markdown",
   "metadata": {},
   "source": [
    "## K-Means using spaCy word embeddings"
   ]
  },
  {
   "cell_type": "code",
   "execution_count": 178,
   "metadata": {
    "id": "zDt5dxdZymg6"
   },
   "outputs": [],
   "source": [
    "# Create X\n",
    "X = data['vectors']\n",
    "X = np.matrix(X.tolist())\n",
    "\n",
    "# Applying the Standard Scaler to word vectors\n",
    "sc = StandardScaler()\n",
    "X_sc = sc.fit_transform(X)\n",
    "\n",
    "# Applying PCA to word vectors\n",
    "# choosing n components\n",
    "# https://www.mikulskibartosz.name/pca-how-to-choose-the-number-of-components/\n",
    "pca = PCA(n_components = 0.95)\n",
    "X_pca = pca.fit_transform(X)\n",
    "\n",
    "# Applying standard scaler, then applying PCA to word vectors\n",
    "pca_sc = PCA(n_components = 0.95)\n",
    "X_pca_sc = pca_sc.fit_transform(X_sc)\n",
    "\n",
    "# TSNE w/ scaled data\n",
    "tsne = TSNE(n_components=2)\n",
    "X_tsne = tsne.fit_transform(X)\n",
    "\n",
    "# TSNE w/ PCA\n",
    "X_tsne_pca = tsne.fit_transform(X_pca)\n",
    "\n",
    "\n",
    "# TSNE w/ scaled data\n",
    "tsne = TSNE(n_components=2)\n",
    "X_tsne_sc = tsne.fit_transform(X_sc)\n",
    "\n",
    "# TSNE w/ scaled, pca\n",
    "X_tsne_sc_pca = tsne.fit_transform(X_pca_sc)\n"
   ]
  },
  {
   "cell_type": "markdown",
   "metadata": {},
   "source": [
    "#### Function to find K-Means Silhouette Scores and Inertia Values"
   ]
  },
  {
   "cell_type": "code",
   "execution_count": 179,
   "metadata": {
    "id": "P3b52bgom-8W"
   },
   "outputs": [],
   "source": [
    "def find_scores_k(X_choice):\n",
    "    # looking at multiple silhouette scores\n",
    "\n",
    "    # set up empty list to store scores\n",
    "    scores_sil = []\n",
    "    scores_ine = []\n",
    "\n",
    "    for k in range(2, 10):\n",
    "        # instantiate model\n",
    "        km = KMeans(n_clusters=k, random_state=516)\n",
    "\n",
    "        # fit the model\n",
    "        km.fit(X_choice)\n",
    "\n",
    "        # Get silhouette score for each k\n",
    "        sil_score = silhouette_score(X_choice, km.labels_)\n",
    "        scores_sil.append([k, sil_score])\n",
    "        # Get inertia score for each k\n",
    "        scores_ine.append([k, km.inertia_])\n",
    "\n",
    "    # save as a df for viewing\n",
    "    scores_df1 = pd.DataFrame(scores_sil, columns = ['k', 'silhouette'])\n",
    "    scores_df2 = pd.DataFrame(scores_ine, columns = ['k', 'inertia'])\n",
    "\n",
    "    scores_df = pd.merge(scores_df1, scores_df2, on = \"k\", how = \"inner\")\n",
    "\n",
    "    # looking at silhouette scores\n",
    "    return scores_df"
   ]
  },
  {
   "cell_type": "markdown",
   "metadata": {},
   "source": [
    "#### Finding K-Means Silhouette Scores"
   ]
  },
  {
   "cell_type": "code",
   "execution_count": 180,
   "metadata": {
    "colab": {
     "base_uri": "https://localhost:8080/",
     "height": 297
    },
    "id": "040unVWwnRUh",
    "outputId": "b24eddc5-232a-467c-eeac-c6fe6c94dd4e"
   },
   "outputs": [
    {
     "data": {
      "text/html": [
       "<div>\n",
       "<style scoped>\n",
       "    .dataframe tbody tr th:only-of-type {\n",
       "        vertical-align: middle;\n",
       "    }\n",
       "\n",
       "    .dataframe tbody tr th {\n",
       "        vertical-align: top;\n",
       "    }\n",
       "\n",
       "    .dataframe thead th {\n",
       "        text-align: right;\n",
       "    }\n",
       "</style>\n",
       "<table border=\"1\" class=\"dataframe\">\n",
       "  <thead>\n",
       "    <tr style=\"text-align: right;\">\n",
       "      <th></th>\n",
       "      <th>k</th>\n",
       "      <th>silhouette</th>\n",
       "      <th>inertia</th>\n",
       "    </tr>\n",
       "  </thead>\n",
       "  <tbody>\n",
       "    <tr>\n",
       "      <th>0</th>\n",
       "      <td>2</td>\n",
       "      <td>0.193815</td>\n",
       "      <td>5.544692</td>\n",
       "    </tr>\n",
       "    <tr>\n",
       "      <th>1</th>\n",
       "      <td>3</td>\n",
       "      <td>0.197627</td>\n",
       "      <td>4.864931</td>\n",
       "    </tr>\n",
       "    <tr>\n",
       "      <th>2</th>\n",
       "      <td>4</td>\n",
       "      <td>0.133714</td>\n",
       "      <td>4.446016</td>\n",
       "    </tr>\n",
       "    <tr>\n",
       "      <th>3</th>\n",
       "      <td>5</td>\n",
       "      <td>0.126664</td>\n",
       "      <td>4.183683</td>\n",
       "    </tr>\n",
       "    <tr>\n",
       "      <th>4</th>\n",
       "      <td>6</td>\n",
       "      <td>0.099811</td>\n",
       "      <td>3.993605</td>\n",
       "    </tr>\n",
       "    <tr>\n",
       "      <th>5</th>\n",
       "      <td>7</td>\n",
       "      <td>0.105426</td>\n",
       "      <td>3.808600</td>\n",
       "    </tr>\n",
       "    <tr>\n",
       "      <th>6</th>\n",
       "      <td>8</td>\n",
       "      <td>0.096575</td>\n",
       "      <td>3.694921</td>\n",
       "    </tr>\n",
       "    <tr>\n",
       "      <th>7</th>\n",
       "      <td>9</td>\n",
       "      <td>0.098449</td>\n",
       "      <td>3.609658</td>\n",
       "    </tr>\n",
       "  </tbody>\n",
       "</table>\n",
       "</div>"
      ],
      "text/plain": [
       "   k  silhouette   inertia\n",
       "0  2    0.193815  5.544692\n",
       "1  3    0.197627  4.864931\n",
       "2  4    0.133714  4.446016\n",
       "3  5    0.126664  4.183683\n",
       "4  6    0.099811  3.993605\n",
       "5  7    0.105426  3.808600\n",
       "6  8    0.096575  3.694921\n",
       "7  9    0.098449  3.609658"
      ]
     },
     "execution_count": 180,
     "metadata": {
      "tags": []
     },
     "output_type": "execute_result"
    }
   ],
   "source": [
    "find_scores_k(X)"
   ]
  },
  {
   "cell_type": "code",
   "execution_count": 181,
   "metadata": {
    "colab": {
     "base_uri": "https://localhost:8080/",
     "height": 297
    },
    "id": "SHzD6lH3naVx",
    "outputId": "297606a0-4906-40d8-99d0-d1b7c01ba639"
   },
   "outputs": [
    {
     "data": {
      "text/html": [
       "<div>\n",
       "<style scoped>\n",
       "    .dataframe tbody tr th:only-of-type {\n",
       "        vertical-align: middle;\n",
       "    }\n",
       "\n",
       "    .dataframe tbody tr th {\n",
       "        vertical-align: top;\n",
       "    }\n",
       "\n",
       "    .dataframe thead th {\n",
       "        text-align: right;\n",
       "    }\n",
       "</style>\n",
       "<table border=\"1\" class=\"dataframe\">\n",
       "  <thead>\n",
       "    <tr style=\"text-align: right;\">\n",
       "      <th></th>\n",
       "      <th>k</th>\n",
       "      <th>silhouette</th>\n",
       "      <th>inertia</th>\n",
       "    </tr>\n",
       "  </thead>\n",
       "  <tbody>\n",
       "    <tr>\n",
       "      <th>0</th>\n",
       "      <td>2</td>\n",
       "      <td>0.145578</td>\n",
       "      <td>133277.604537</td>\n",
       "    </tr>\n",
       "    <tr>\n",
       "      <th>1</th>\n",
       "      <td>3</td>\n",
       "      <td>0.152195</td>\n",
       "      <td>120224.051937</td>\n",
       "    </tr>\n",
       "    <tr>\n",
       "      <th>2</th>\n",
       "      <td>4</td>\n",
       "      <td>0.104908</td>\n",
       "      <td>111469.378279</td>\n",
       "    </tr>\n",
       "    <tr>\n",
       "      <th>3</th>\n",
       "      <td>5</td>\n",
       "      <td>0.102501</td>\n",
       "      <td>106872.873553</td>\n",
       "    </tr>\n",
       "    <tr>\n",
       "      <th>4</th>\n",
       "      <td>6</td>\n",
       "      <td>0.085407</td>\n",
       "      <td>103303.352122</td>\n",
       "    </tr>\n",
       "    <tr>\n",
       "      <th>5</th>\n",
       "      <td>7</td>\n",
       "      <td>0.090254</td>\n",
       "      <td>99814.911645</td>\n",
       "    </tr>\n",
       "    <tr>\n",
       "      <th>6</th>\n",
       "      <td>8</td>\n",
       "      <td>0.090050</td>\n",
       "      <td>97412.936165</td>\n",
       "    </tr>\n",
       "    <tr>\n",
       "      <th>7</th>\n",
       "      <td>9</td>\n",
       "      <td>0.070327</td>\n",
       "      <td>95289.671106</td>\n",
       "    </tr>\n",
       "  </tbody>\n",
       "</table>\n",
       "</div>"
      ],
      "text/plain": [
       "   k  silhouette        inertia\n",
       "0  2    0.145578  133277.604537\n",
       "1  3    0.152195  120224.051937\n",
       "2  4    0.104908  111469.378279\n",
       "3  5    0.102501  106872.873553\n",
       "4  6    0.085407  103303.352122\n",
       "5  7    0.090254   99814.911645\n",
       "6  8    0.090050   97412.936165\n",
       "7  9    0.070327   95289.671106"
      ]
     },
     "execution_count": 181,
     "metadata": {
      "tags": []
     },
     "output_type": "execute_result"
    }
   ],
   "source": [
    "find_scores_k(X_sc)"
   ]
  },
  {
   "cell_type": "code",
   "execution_count": 182,
   "metadata": {
    "colab": {
     "base_uri": "https://localhost:8080/",
     "height": 297
    },
    "id": "8H34Nefune24",
    "outputId": "50af2761-d591-4af7-9a85-c6b64753c8ed"
   },
   "outputs": [
    {
     "data": {
      "text/html": [
       "<div>\n",
       "<style scoped>\n",
       "    .dataframe tbody tr th:only-of-type {\n",
       "        vertical-align: middle;\n",
       "    }\n",
       "\n",
       "    .dataframe tbody tr th {\n",
       "        vertical-align: top;\n",
       "    }\n",
       "\n",
       "    .dataframe thead th {\n",
       "        text-align: right;\n",
       "    }\n",
       "</style>\n",
       "<table border=\"1\" class=\"dataframe\">\n",
       "  <thead>\n",
       "    <tr style=\"text-align: right;\">\n",
       "      <th></th>\n",
       "      <th>k</th>\n",
       "      <th>silhouette</th>\n",
       "      <th>inertia</th>\n",
       "    </tr>\n",
       "  </thead>\n",
       "  <tbody>\n",
       "    <tr>\n",
       "      <th>0</th>\n",
       "      <td>2</td>\n",
       "      <td>0.205296</td>\n",
       "      <td>5.200229</td>\n",
       "    </tr>\n",
       "    <tr>\n",
       "      <th>1</th>\n",
       "      <td>3</td>\n",
       "      <td>0.210197</td>\n",
       "      <td>4.520672</td>\n",
       "    </tr>\n",
       "    <tr>\n",
       "      <th>2</th>\n",
       "      <td>4</td>\n",
       "      <td>0.144089</td>\n",
       "      <td>4.102136</td>\n",
       "    </tr>\n",
       "    <tr>\n",
       "      <th>3</th>\n",
       "      <td>5</td>\n",
       "      <td>0.147089</td>\n",
       "      <td>3.858603</td>\n",
       "    </tr>\n",
       "    <tr>\n",
       "      <th>4</th>\n",
       "      <td>6</td>\n",
       "      <td>0.127774</td>\n",
       "      <td>3.653423</td>\n",
       "    </tr>\n",
       "    <tr>\n",
       "      <th>5</th>\n",
       "      <td>7</td>\n",
       "      <td>0.116031</td>\n",
       "      <td>3.470882</td>\n",
       "    </tr>\n",
       "    <tr>\n",
       "      <th>6</th>\n",
       "      <td>8</td>\n",
       "      <td>0.108097</td>\n",
       "      <td>3.345886</td>\n",
       "    </tr>\n",
       "    <tr>\n",
       "      <th>7</th>\n",
       "      <td>9</td>\n",
       "      <td>0.092942</td>\n",
       "      <td>3.265344</td>\n",
       "    </tr>\n",
       "  </tbody>\n",
       "</table>\n",
       "</div>"
      ],
      "text/plain": [
       "   k  silhouette   inertia\n",
       "0  2    0.205296  5.200229\n",
       "1  3    0.210197  4.520672\n",
       "2  4    0.144089  4.102136\n",
       "3  5    0.147089  3.858603\n",
       "4  6    0.127774  3.653423\n",
       "5  7    0.116031  3.470882\n",
       "6  8    0.108097  3.345886\n",
       "7  9    0.092942  3.265344"
      ]
     },
     "execution_count": 182,
     "metadata": {
      "tags": []
     },
     "output_type": "execute_result"
    }
   ],
   "source": [
    "find_scores_k(X_pca)"
   ]
  },
  {
   "cell_type": "code",
   "execution_count": 183,
   "metadata": {
    "colab": {
     "base_uri": "https://localhost:8080/",
     "height": 297
    },
    "id": "dDFwnzwMnkGu",
    "outputId": "57c572d7-a650-49f5-f390-e7dc2f03e6ff"
   },
   "outputs": [
    {
     "data": {
      "text/html": [
       "<div>\n",
       "<style scoped>\n",
       "    .dataframe tbody tr th:only-of-type {\n",
       "        vertical-align: middle;\n",
       "    }\n",
       "\n",
       "    .dataframe tbody tr th {\n",
       "        vertical-align: top;\n",
       "    }\n",
       "\n",
       "    .dataframe thead th {\n",
       "        text-align: right;\n",
       "    }\n",
       "</style>\n",
       "<table border=\"1\" class=\"dataframe\">\n",
       "  <thead>\n",
       "    <tr style=\"text-align: right;\">\n",
       "      <th></th>\n",
       "      <th>k</th>\n",
       "      <th>silhouette</th>\n",
       "      <th>inertia</th>\n",
       "    </tr>\n",
       "  </thead>\n",
       "  <tbody>\n",
       "    <tr>\n",
       "      <th>0</th>\n",
       "      <td>2</td>\n",
       "      <td>0.154256</td>\n",
       "      <td>125583.425787</td>\n",
       "    </tr>\n",
       "    <tr>\n",
       "      <th>1</th>\n",
       "      <td>3</td>\n",
       "      <td>0.160163</td>\n",
       "      <td>112547.889598</td>\n",
       "    </tr>\n",
       "    <tr>\n",
       "      <th>2</th>\n",
       "      <td>4</td>\n",
       "      <td>0.112625</td>\n",
       "      <td>103797.173259</td>\n",
       "    </tr>\n",
       "    <tr>\n",
       "      <th>3</th>\n",
       "      <td>5</td>\n",
       "      <td>0.106093</td>\n",
       "      <td>99204.323586</td>\n",
       "    </tr>\n",
       "    <tr>\n",
       "      <th>4</th>\n",
       "      <td>6</td>\n",
       "      <td>0.091787</td>\n",
       "      <td>95714.386346</td>\n",
       "    </tr>\n",
       "    <tr>\n",
       "      <th>5</th>\n",
       "      <td>7</td>\n",
       "      <td>0.083167</td>\n",
       "      <td>92361.790120</td>\n",
       "    </tr>\n",
       "    <tr>\n",
       "      <th>6</th>\n",
       "      <td>8</td>\n",
       "      <td>0.081849</td>\n",
       "      <td>89784.840978</td>\n",
       "    </tr>\n",
       "    <tr>\n",
       "      <th>7</th>\n",
       "      <td>9</td>\n",
       "      <td>0.079139</td>\n",
       "      <td>87555.121082</td>\n",
       "    </tr>\n",
       "  </tbody>\n",
       "</table>\n",
       "</div>"
      ],
      "text/plain": [
       "   k  silhouette        inertia\n",
       "0  2    0.154256  125583.425787\n",
       "1  3    0.160163  112547.889598\n",
       "2  4    0.112625  103797.173259\n",
       "3  5    0.106093   99204.323586\n",
       "4  6    0.091787   95714.386346\n",
       "5  7    0.083167   92361.790120\n",
       "6  8    0.081849   89784.840978\n",
       "7  9    0.079139   87555.121082"
      ]
     },
     "execution_count": 183,
     "metadata": {
      "tags": []
     },
     "output_type": "execute_result"
    }
   ],
   "source": [
    "find_scores_k(X_pca_sc)"
   ]
  },
  {
   "cell_type": "code",
   "execution_count": 184,
   "metadata": {
    "colab": {
     "base_uri": "https://localhost:8080/",
     "height": 297
    },
    "id": "D3zG5ENeYal5",
    "outputId": "84267d3f-1dec-4dd2-a37e-0fe01504e23c"
   },
   "outputs": [
    {
     "data": {
      "text/html": [
       "<div>\n",
       "<style scoped>\n",
       "    .dataframe tbody tr th:only-of-type {\n",
       "        vertical-align: middle;\n",
       "    }\n",
       "\n",
       "    .dataframe tbody tr th {\n",
       "        vertical-align: top;\n",
       "    }\n",
       "\n",
       "    .dataframe thead th {\n",
       "        text-align: right;\n",
       "    }\n",
       "</style>\n",
       "<table border=\"1\" class=\"dataframe\">\n",
       "  <thead>\n",
       "    <tr style=\"text-align: right;\">\n",
       "      <th></th>\n",
       "      <th>k</th>\n",
       "      <th>silhouette</th>\n",
       "      <th>inertia</th>\n",
       "    </tr>\n",
       "  </thead>\n",
       "  <tbody>\n",
       "    <tr>\n",
       "      <th>0</th>\n",
       "      <td>2</td>\n",
       "      <td>0.528872</td>\n",
       "      <td>49197.659414</td>\n",
       "    </tr>\n",
       "    <tr>\n",
       "      <th>1</th>\n",
       "      <td>3</td>\n",
       "      <td>0.420348</td>\n",
       "      <td>33619.849076</td>\n",
       "    </tr>\n",
       "    <tr>\n",
       "      <th>2</th>\n",
       "      <td>4</td>\n",
       "      <td>0.388312</td>\n",
       "      <td>26990.201380</td>\n",
       "    </tr>\n",
       "    <tr>\n",
       "      <th>3</th>\n",
       "      <td>5</td>\n",
       "      <td>0.392564</td>\n",
       "      <td>21400.027517</td>\n",
       "    </tr>\n",
       "    <tr>\n",
       "      <th>4</th>\n",
       "      <td>6</td>\n",
       "      <td>0.399232</td>\n",
       "      <td>16866.340447</td>\n",
       "    </tr>\n",
       "    <tr>\n",
       "      <th>5</th>\n",
       "      <td>7</td>\n",
       "      <td>0.397965</td>\n",
       "      <td>14431.119494</td>\n",
       "    </tr>\n",
       "    <tr>\n",
       "      <th>6</th>\n",
       "      <td>8</td>\n",
       "      <td>0.399430</td>\n",
       "      <td>12023.420537</td>\n",
       "    </tr>\n",
       "    <tr>\n",
       "      <th>7</th>\n",
       "      <td>9</td>\n",
       "      <td>0.397678</td>\n",
       "      <td>10501.042988</td>\n",
       "    </tr>\n",
       "  </tbody>\n",
       "</table>\n",
       "</div>"
      ],
      "text/plain": [
       "   k  silhouette       inertia\n",
       "0  2    0.528872  49197.659414\n",
       "1  3    0.420348  33619.849076\n",
       "2  4    0.388312  26990.201380\n",
       "3  5    0.392564  21400.027517\n",
       "4  6    0.399232  16866.340447\n",
       "5  7    0.397965  14431.119494\n",
       "6  8    0.399430  12023.420537\n",
       "7  9    0.397678  10501.042988"
      ]
     },
     "execution_count": 184,
     "metadata": {
      "tags": []
     },
     "output_type": "execute_result"
    }
   ],
   "source": [
    "find_scores_k(X_tsne)"
   ]
  },
  {
   "cell_type": "code",
   "execution_count": 185,
   "metadata": {
    "colab": {
     "base_uri": "https://localhost:8080/",
     "height": 297
    },
    "id": "ir5oTY8-YaBe",
    "outputId": "6b94725f-dd85-4157-fb3a-9eef16c2bc2c"
   },
   "outputs": [
    {
     "data": {
      "text/html": [
       "<div>\n",
       "<style scoped>\n",
       "    .dataframe tbody tr th:only-of-type {\n",
       "        vertical-align: middle;\n",
       "    }\n",
       "\n",
       "    .dataframe tbody tr th {\n",
       "        vertical-align: top;\n",
       "    }\n",
       "\n",
       "    .dataframe thead th {\n",
       "        text-align: right;\n",
       "    }\n",
       "</style>\n",
       "<table border=\"1\" class=\"dataframe\">\n",
       "  <thead>\n",
       "    <tr style=\"text-align: right;\">\n",
       "      <th></th>\n",
       "      <th>k</th>\n",
       "      <th>silhouette</th>\n",
       "      <th>inertia</th>\n",
       "    </tr>\n",
       "  </thead>\n",
       "  <tbody>\n",
       "    <tr>\n",
       "      <th>0</th>\n",
       "      <td>2</td>\n",
       "      <td>0.465802</td>\n",
       "      <td>77072.502927</td>\n",
       "    </tr>\n",
       "    <tr>\n",
       "      <th>1</th>\n",
       "      <td>3</td>\n",
       "      <td>0.420529</td>\n",
       "      <td>52848.729865</td>\n",
       "    </tr>\n",
       "    <tr>\n",
       "      <th>2</th>\n",
       "      <td>4</td>\n",
       "      <td>0.396849</td>\n",
       "      <td>39262.662607</td>\n",
       "    </tr>\n",
       "    <tr>\n",
       "      <th>3</th>\n",
       "      <td>5</td>\n",
       "      <td>0.407698</td>\n",
       "      <td>29922.646010</td>\n",
       "    </tr>\n",
       "    <tr>\n",
       "      <th>4</th>\n",
       "      <td>6</td>\n",
       "      <td>0.392826</td>\n",
       "      <td>25521.372601</td>\n",
       "    </tr>\n",
       "    <tr>\n",
       "      <th>5</th>\n",
       "      <td>7</td>\n",
       "      <td>0.376105</td>\n",
       "      <td>21643.513535</td>\n",
       "    </tr>\n",
       "    <tr>\n",
       "      <th>6</th>\n",
       "      <td>8</td>\n",
       "      <td>0.381299</td>\n",
       "      <td>18622.555849</td>\n",
       "    </tr>\n",
       "    <tr>\n",
       "      <th>7</th>\n",
       "      <td>9</td>\n",
       "      <td>0.378978</td>\n",
       "      <td>16510.009704</td>\n",
       "    </tr>\n",
       "  </tbody>\n",
       "</table>\n",
       "</div>"
      ],
      "text/plain": [
       "   k  silhouette       inertia\n",
       "0  2    0.465802  77072.502927\n",
       "1  3    0.420529  52848.729865\n",
       "2  4    0.396849  39262.662607\n",
       "3  5    0.407698  29922.646010\n",
       "4  6    0.392826  25521.372601\n",
       "5  7    0.376105  21643.513535\n",
       "6  8    0.381299  18622.555849\n",
       "7  9    0.378978  16510.009704"
      ]
     },
     "execution_count": 185,
     "metadata": {
      "tags": []
     },
     "output_type": "execute_result"
    }
   ],
   "source": [
    "find_scores_k(X_tsne_sc)"
   ]
  },
  {
   "cell_type": "code",
   "execution_count": 186,
   "metadata": {
    "colab": {
     "base_uri": "https://localhost:8080/",
     "height": 297
    },
    "id": "1FUQznGwmxp6",
    "outputId": "c0037a66-2f76-4f8d-ca63-9dd302c8033a"
   },
   "outputs": [
    {
     "data": {
      "text/html": [
       "<div>\n",
       "<style scoped>\n",
       "    .dataframe tbody tr th:only-of-type {\n",
       "        vertical-align: middle;\n",
       "    }\n",
       "\n",
       "    .dataframe tbody tr th {\n",
       "        vertical-align: top;\n",
       "    }\n",
       "\n",
       "    .dataframe thead th {\n",
       "        text-align: right;\n",
       "    }\n",
       "</style>\n",
       "<table border=\"1\" class=\"dataframe\">\n",
       "  <thead>\n",
       "    <tr style=\"text-align: right;\">\n",
       "      <th></th>\n",
       "      <th>k</th>\n",
       "      <th>silhouette</th>\n",
       "      <th>inertia</th>\n",
       "    </tr>\n",
       "  </thead>\n",
       "  <tbody>\n",
       "    <tr>\n",
       "      <th>0</th>\n",
       "      <td>2</td>\n",
       "      <td>0.457642</td>\n",
       "      <td>61114.193918</td>\n",
       "    </tr>\n",
       "    <tr>\n",
       "      <th>1</th>\n",
       "      <td>3</td>\n",
       "      <td>0.395418</td>\n",
       "      <td>41381.927991</td>\n",
       "    </tr>\n",
       "    <tr>\n",
       "      <th>2</th>\n",
       "      <td>4</td>\n",
       "      <td>0.416833</td>\n",
       "      <td>30407.960828</td>\n",
       "    </tr>\n",
       "    <tr>\n",
       "      <th>3</th>\n",
       "      <td>5</td>\n",
       "      <td>0.430105</td>\n",
       "      <td>22380.496603</td>\n",
       "    </tr>\n",
       "    <tr>\n",
       "      <th>4</th>\n",
       "      <td>6</td>\n",
       "      <td>0.429653</td>\n",
       "      <td>18902.337920</td>\n",
       "    </tr>\n",
       "    <tr>\n",
       "      <th>5</th>\n",
       "      <td>7</td>\n",
       "      <td>0.407615</td>\n",
       "      <td>15770.320584</td>\n",
       "    </tr>\n",
       "    <tr>\n",
       "      <th>6</th>\n",
       "      <td>8</td>\n",
       "      <td>0.402073</td>\n",
       "      <td>13854.995420</td>\n",
       "    </tr>\n",
       "    <tr>\n",
       "      <th>7</th>\n",
       "      <td>9</td>\n",
       "      <td>0.389051</td>\n",
       "      <td>12199.124595</td>\n",
       "    </tr>\n",
       "  </tbody>\n",
       "</table>\n",
       "</div>"
      ],
      "text/plain": [
       "   k  silhouette       inertia\n",
       "0  2    0.457642  61114.193918\n",
       "1  3    0.395418  41381.927991\n",
       "2  4    0.416833  30407.960828\n",
       "3  5    0.430105  22380.496603\n",
       "4  6    0.429653  18902.337920\n",
       "5  7    0.407615  15770.320584\n",
       "6  8    0.402073  13854.995420\n",
       "7  9    0.389051  12199.124595"
      ]
     },
     "execution_count": 186,
     "metadata": {
      "tags": []
     },
     "output_type": "execute_result"
    }
   ],
   "source": [
    "find_scores_k(X_tsne_pca)"
   ]
  },
  {
   "cell_type": "code",
   "execution_count": 187,
   "metadata": {
    "colab": {
     "base_uri": "https://localhost:8080/",
     "height": 297
    },
    "id": "cO6A-4h3nNTe",
    "outputId": "a499eb63-d5f0-4440-f9e2-ba54a905b013"
   },
   "outputs": [
    {
     "data": {
      "text/html": [
       "<div>\n",
       "<style scoped>\n",
       "    .dataframe tbody tr th:only-of-type {\n",
       "        vertical-align: middle;\n",
       "    }\n",
       "\n",
       "    .dataframe tbody tr th {\n",
       "        vertical-align: top;\n",
       "    }\n",
       "\n",
       "    .dataframe thead th {\n",
       "        text-align: right;\n",
       "    }\n",
       "</style>\n",
       "<table border=\"1\" class=\"dataframe\">\n",
       "  <thead>\n",
       "    <tr style=\"text-align: right;\">\n",
       "      <th></th>\n",
       "      <th>k</th>\n",
       "      <th>silhouette</th>\n",
       "      <th>inertia</th>\n",
       "    </tr>\n",
       "  </thead>\n",
       "  <tbody>\n",
       "    <tr>\n",
       "      <th>0</th>\n",
       "      <td>2</td>\n",
       "      <td>0.422195</td>\n",
       "      <td>96260.609748</td>\n",
       "    </tr>\n",
       "    <tr>\n",
       "      <th>1</th>\n",
       "      <td>3</td>\n",
       "      <td>0.403975</td>\n",
       "      <td>65748.235241</td>\n",
       "    </tr>\n",
       "    <tr>\n",
       "      <th>2</th>\n",
       "      <td>4</td>\n",
       "      <td>0.431522</td>\n",
       "      <td>43824.719398</td>\n",
       "    </tr>\n",
       "    <tr>\n",
       "      <th>3</th>\n",
       "      <td>5</td>\n",
       "      <td>0.388963</td>\n",
       "      <td>36304.730684</td>\n",
       "    </tr>\n",
       "    <tr>\n",
       "      <th>4</th>\n",
       "      <td>6</td>\n",
       "      <td>0.407944</td>\n",
       "      <td>29247.985046</td>\n",
       "    </tr>\n",
       "    <tr>\n",
       "      <th>5</th>\n",
       "      <td>7</td>\n",
       "      <td>0.404543</td>\n",
       "      <td>23542.488969</td>\n",
       "    </tr>\n",
       "    <tr>\n",
       "      <th>6</th>\n",
       "      <td>8</td>\n",
       "      <td>0.390270</td>\n",
       "      <td>21074.189214</td>\n",
       "    </tr>\n",
       "    <tr>\n",
       "      <th>7</th>\n",
       "      <td>9</td>\n",
       "      <td>0.369595</td>\n",
       "      <td>19009.441410</td>\n",
       "    </tr>\n",
       "  </tbody>\n",
       "</table>\n",
       "</div>"
      ],
      "text/plain": [
       "   k  silhouette       inertia\n",
       "0  2    0.422195  96260.609748\n",
       "1  3    0.403975  65748.235241\n",
       "2  4    0.431522  43824.719398\n",
       "3  5    0.388963  36304.730684\n",
       "4  6    0.407944  29247.985046\n",
       "5  7    0.404543  23542.488969\n",
       "6  8    0.390270  21074.189214\n",
       "7  9    0.369595  19009.441410"
      ]
     },
     "execution_count": 187,
     "metadata": {
      "tags": []
     },
     "output_type": "execute_result"
    }
   ],
   "source": [
    "find_scores_k(X_tsne_sc_pca)"
   ]
  },
  {
   "cell_type": "markdown",
   "metadata": {},
   "source": [
    "#### Function to plot Silhouette Scores"
   ]
  },
  {
   "cell_type": "code",
   "execution_count": 188,
   "metadata": {
    "id": "F07oVNApCQ9F"
   },
   "outputs": [],
   "source": [
    "# plotting the silhouette scores across k's\n",
    "\n",
    "def plot_sil_score(X_choice):\n",
    "  \n",
    "    # looking at multiple silhouette scores\n",
    "\n",
    "    # set up empty list to store scores\n",
    "    scores_sil = []\n",
    "\n",
    "    for k in range(2, 10):\n",
    "        # instantiate model\n",
    "        km = KMeans(n_clusters=k, random_state=516)\n",
    "\n",
    "        # fit the model\n",
    "        km.fit(X_choice)\n",
    "\n",
    "        # Get silhouette score for each k\n",
    "        sil_score = silhouette_score(X_choice, km.labels_)\n",
    "        scores_sil.append([k, sil_score])\n",
    "\n",
    "    # save as a df for viewing\n",
    "    scores_df = pd.DataFrame(scores_sil, columns = ['k', 'silhouette'])\n",
    "\n",
    "    plt.figure(figsize=(12,9))\n",
    "\n",
    "    plt.plot(scores_df['k'], scores_df['silhouette'])\n",
    "\n",
    "    plt.title(f'Silhouette Scores over K')\n",
    "\n",
    "    plt.show()"
   ]
  },
  {
   "cell_type": "code",
   "execution_count": 189,
   "metadata": {
    "colab": {
     "base_uri": "https://localhost:8080/",
     "height": 553
    },
    "id": "0BM6C51zyWIb",
    "outputId": "09f58a86-64bd-4306-968b-26d84fd1f6fa"
   },
   "outputs": [
    {
     "data": {
      "image/png": "[encoded data removed]",
      "text/plain": [
       "<Figure size 864x648 with 1 Axes>"
      ]
     },
     "metadata": {
      "needs_background": "light",
      "tags": []
     },
     "output_type": "display_data"
    }
   ],
   "source": [
    "plot_sil_score(X_tsne)"
   ]
  },
  {
   "cell_type": "markdown",
   "metadata": {},
   "source": [
    "#### Function to plot Inertia Scores"
   ]
  },
  {
   "cell_type": "code",
   "execution_count": 190,
   "metadata": {
    "id": "NQ5rqg0iORCX"
   },
   "outputs": [],
   "source": [
    "# plotting the inertia scores across k's\n",
    "# Using the 'elbow' method to help find a good k\n",
    "# https://medium.com/@cmukesh8688/k-means-clustering-in-machine-learning-252130c85e23\n",
    "\n",
    "def plot_inertia_score(X_choice):\n",
    "  \n",
    "    # looking at multiple silhouette scores\n",
    "\n",
    "    # set up empty list to store scores\n",
    "    scores_ine = []\n",
    "\n",
    "    for k in range(2, 10):\n",
    "        # instantiate model\n",
    "        km = KMeans(n_clusters=k, random_state=516)\n",
    "\n",
    "        # fit the model\n",
    "        km.fit(X_choice)\n",
    "\n",
    "        # Get inertia score for each k\n",
    "        scores_ine.append([k, km.inertia_])\n",
    "\n",
    "    # save as a df for viewing\n",
    "    scores_df = pd.DataFrame(scores_ine, columns = ['k', 'inertia'])\n",
    "\n",
    "    plt.figure(figsize=(12,9))\n",
    "\n",
    "    plt.plot(scores_df['k'], scores_df['inertia'])\n",
    "\n",
    "    plt.title(f'Inertia Scores over K')\n",
    "\n",
    "    plt.show()"
   ]
  },
  {
   "cell_type": "code",
   "execution_count": 192,
   "metadata": {
    "colab": {
     "base_uri": "https://localhost:8080/",
     "height": 553
    },
    "id": "rIdexYdoy3tI",
    "outputId": "44c4cd3a-de22-4442-82e1-9a3bc07838ce"
   },
   "outputs": [
    {
     "data": {
      "image/png": "[encoded data removed]",
      "text/plain": [
       "<Figure size 864x648 with 1 Axes>"
      ]
     },
     "metadata": {
      "needs_background": "light",
      "tags": []
     },
     "output_type": "display_data"
    }
   ],
   "source": [
    "plot_inertia_score(X_tsne)"
   ]
  },
  {
   "cell_type": "markdown",
   "metadata": {},
   "source": [
    "#### Function to plot Clusters and Centroids"
   ]
  },
  {
   "cell_type": "code",
   "execution_count": 193,
   "metadata": {
    "id": "EhdtVk17wd1m"
   },
   "outputs": [],
   "source": [
    "def plot_k_clusters(k, X_choice):\n",
    "    km = KMeans(n_clusters=k, random_state=516)\n",
    "    km.fit(X_choice)\n",
    "    km_means = km.predict(X_choice)\n",
    "\n",
    "    plt.figure(figsize=(12,8))\n",
    "\n",
    "    plt.scatter([X_choice[:, 0]], [X_choice[:, 1]], c=km_means, s=25, cmap='crest')\n",
    "\n",
    "    centers = km.cluster_centers_\n",
    "    plt.scatter(centers[:, 0], centers[:, 1], c='red', s=100, alpha=0.5)\n",
    "\n",
    "    plt.title(f'Clusters and Centroids:\\n k = {k}', size=20)\n",
    "    plt.show()"
   ]
  },
  {
   "cell_type": "code",
   "execution_count": 194,
   "metadata": {
    "colab": {
     "base_uri": "https://localhost:8080/",
     "height": 526
    },
    "id": "6X6tyF-TxENk",
    "outputId": "8dfadeba-422d-4eb4-fd9e-1b6779da4e82"
   },
   "outputs": [
    {
     "data": {
      "image/png": "[encoded data removed]",
      "text/plain": [
       "<Figure size 864x576 with 1 Axes>"
      ]
     },
     "metadata": {
      "needs_background": "light",
      "tags": []
     },
     "output_type": "display_data"
    }
   ],
   "source": [
    "# plotting for best model found from silhouette scores, inertia values\n",
    "plot_k_clusters(2, X_tsne)"
   ]
  },
  {
   "cell_type": "markdown",
   "metadata": {
    "id": "kYA-pJ3yUvog"
   },
   "source": [
    "#### Exporting best spaCy model"
   ]
  },
  {
   "cell_type": "code",
   "execution_count": 262,
   "metadata": {
    "colab": {
     "base_uri": "https://localhost:8080/"
    },
    "id": "rLEzrrAYS7-T",
    "outputId": "9f85e14d-c5a9-44c6-97b9-a733e5cfe9d2"
   },
   "outputs": [
    {
     "name": "stdout",
     "output_type": "stream",
     "text": [
      "{0, 1}\n",
      "0.52887195\n",
      "--------------------\n",
      "1    262\n",
      "0    259\n",
      "Name: km_label, dtype: int64\n",
      "--------------------\n"
     ]
    }
   ],
   "source": [
    "# Based on above information, fit model w/ info\n",
    "# from model w/ best silhouette & inertia scores to get labels\n",
    "# add cluster labels to dataframe\n",
    "\n",
    "km = KMeans(n_clusters = 2, random_state=516)\n",
    "\n",
    "km.fit(X_tsne)\n",
    "\n",
    "print(set(km.labels_))\n",
    "\n",
    "print(silhouette_score(X_tsne, km.labels_))\n",
    "\n",
    "print('--------------------')\n",
    "\n",
    "data['km_label'] = km.labels_\n",
    "\n",
    "print(data['km_label'].value_counts())\n",
    "\n",
    "print('--------------------')\n",
    "\n",
    "# print(km.cluster_centers_)\n",
    "\n",
    "# adding km labels back on the dataframe\n",
    "data['km_label'] = km.labels_"
   ]
  },
  {
   "cell_type": "markdown",
   "metadata": {
    "id": "ze73dsetXsE4"
   },
   "source": [
    "#### Function to use K Nearest Neighbors to find a good epsilon score for DBSCAN"
   ]
  },
  {
   "cell_type": "code",
   "execution_count": 196,
   "metadata": {
    "id": "2wAE8d7gXr-D"
   },
   "outputs": [],
   "source": [
    "# Function Using KNN to help find a good epsilon score\n",
    "# to be used with DBSCAN\n",
    "# https://towardsdatascience.com/machine-learning-clustering-dbscan-determine-the-optimal-value-for-epsilon-eps-python-example-3100091cfbc\n",
    "\n",
    "def find_epsilon(X_choice, knn_n):\n",
    "\n",
    "    k_neighbors = NearestNeighbors(n_neighbors=knn_n)\n",
    "\n",
    "    k_nbrs = k_neighbors.fit(X_choice)\n",
    "\n",
    "    distances, indices = k_nbrs.kneighbors(X_choice)\n",
    "\n",
    "    distances = np.sort(distances, axis=0)\n",
    "\n",
    "    distances = distances[:,1]\n",
    "\n",
    "    plt.figure(figsize=(12,8))\n",
    "\n",
    "    plt.plot(distances)\n",
    "\n",
    "    plt.title(f'Using KNN to Help Find Epsilon Score\\n knn: {knn_n}', size=20)\n",
    "\n",
    "    plt.show()"
   ]
  },
  {
   "cell_type": "code",
   "execution_count": 197,
   "metadata": {
    "id": "of59mDh24UaW"
   },
   "outputs": [],
   "source": [
    "# Function to find silhouette score for DBSCAN using the epsilon\n",
    "# fount from the graphs (elbow test)\n",
    "# min_samples is set to natural log of number of points to be clustered\n",
    "# HELP: https://askdatascience.com/646/dbscan-algorithm-how-should-choose-optimal-minimum-points\n",
    "# HELP: https://moonbooks.org/Articles/How-to-calculate-the-natural-logarithm-in-python-/\n",
    "\n",
    "def find_scores_db(X_choice, eps_value):\n",
    "\n",
    "    dbscan = DBSCAN(eps=eps_value, min_samples=np.log(len(data))) #change the epsilon\n",
    "\n",
    "    dbscan.fit(X_choice)\n",
    "\n",
    "    print(set(dbscan.labels_))\n",
    "\n",
    "    print(silhouette_score(X, dbscan.labels_))\n",
    "\n",
    "    print('--------------------')\n",
    "\n",
    "    data['dbscan_label'] = dbscan.labels_\n",
    "\n",
    "    print(data['dbscan_label'].value_counts())\n",
    "\n",
    "    print('--------------------')\n"
   ]
  },
  {
   "cell_type": "code",
   "execution_count": 198,
   "metadata": {
    "colab": {
     "base_uri": "https://localhost:8080/",
     "height": 526
    },
    "id": "n4gFCHd5132h",
    "outputId": "8c6f95dd-4fcd-463e-88ef-9837c099e395"
   },
   "outputs": [
    {
     "data": {
      "image/png": "[encoded data removed]",
      "text/plain": [
       "<Figure size 864x576 with 1 Axes>"
      ]
     },
     "metadata": {
      "needs_background": "light",
      "tags": []
     },
     "output_type": "display_data"
    }
   ],
   "source": [
    "find_epsilon(X, 7)"
   ]
  },
  {
   "cell_type": "code",
   "execution_count": 199,
   "metadata": {
    "colab": {
     "base_uri": "https://localhost:8080/",
     "height": 526
    },
    "id": "SNc3h6JB18gb",
    "outputId": "190d7f69-58f0-4801-b840-7d6b07831110"
   },
   "outputs": [
    {
     "data": {
      "image/png": "[encoded data removed]",
      "text/plain": [
       "<Figure size 864x576 with 1 Axes>"
      ]
     },
     "metadata": {
      "needs_background": "light",
      "tags": []
     },
     "output_type": "display_data"
    }
   ],
   "source": [
    "find_epsilon(X_sc, 7)"
   ]
  },
  {
   "cell_type": "code",
   "execution_count": 200,
   "metadata": {
    "colab": {
     "base_uri": "https://localhost:8080/",
     "height": 526
    },
    "id": "BXSpVtRYqQZV",
    "outputId": "f3d24ed0-5bd0-466c-845d-4a622783f7b5"
   },
   "outputs": [
    {
     "data": {
      "image/png": "[encoded data removed]",
      "text/plain": [
       "<Figure size 864x576 with 1 Axes>"
      ]
     },
     "metadata": {
      "needs_background": "light",
      "tags": []
     },
     "output_type": "display_data"
    }
   ],
   "source": [
    "find_epsilon(X_pca, 7)"
   ]
  },
  {
   "cell_type": "code",
   "execution_count": 201,
   "metadata": {
    "colab": {
     "base_uri": "https://localhost:8080/"
    },
    "id": "fFIu8gBW5Tv5",
    "outputId": "a0a263fb-dd90-4c47-a106-3620d070e7e6"
   },
   "outputs": [
    {
     "name": "stdout",
     "output_type": "stream",
     "text": [
      "{0, -1}\n",
      "0.4268770363886056\n",
      "--------------------\n",
      " 0    506\n",
      "-1     15\n",
      "Name: dbscan_label, dtype: int64\n",
      "--------------------\n"
     ]
    }
   ],
   "source": [
    "find_scores_db(X_pca, 0.11)"
   ]
  },
  {
   "cell_type": "code",
   "execution_count": 202,
   "metadata": {
    "colab": {
     "base_uri": "https://localhost:8080/",
     "height": 526
    },
    "id": "UkdvJeh11_QO",
    "outputId": "d0fe00dc-43a1-4254-b477-0caa205d1dfb"
   },
   "outputs": [
    {
     "data": {
      "image/png": "[encoded data removed]",
      "text/plain": [
       "<Figure size 864x576 with 1 Axes>"
      ]
     },
     "metadata": {
      "needs_background": "light",
      "tags": []
     },
     "output_type": "display_data"
    }
   ],
   "source": [
    "find_epsilon(X_pca_sc, 7)"
   ]
  },
  {
   "cell_type": "code",
   "execution_count": 203,
   "metadata": {
    "colab": {
     "base_uri": "https://localhost:8080/"
    },
    "id": "tB8SuZhw5TPU",
    "outputId": "c96a9795-9d27-4948-b795-3cfed16827c6"
   },
   "outputs": [
    {
     "name": "stdout",
     "output_type": "stream",
     "text": [
      "{0, -1}\n",
      "0.46572057601623346\n",
      "--------------------\n",
      " 0    510\n",
      "-1     11\n",
      "Name: dbscan_label, dtype: int64\n",
      "--------------------\n"
     ]
    }
   ],
   "source": [
    "find_scores_db(X_pca_sc, 20)"
   ]
  },
  {
   "cell_type": "markdown",
   "metadata": {
    "id": "OHBLT2SK4ghv"
   },
   "source": [
    "#### DBSCAN did not yield good silhouette scores and so was not found as a suitable candidate for a final model."
   ]
  },
  {
   "cell_type": "code",
   "execution_count": 203,
   "metadata": {
    "id": "T5L6a46X-EEB"
   },
   "outputs": [],
   "source": []
  },
  {
   "cell_type": "code",
   "execution_count": 203,
   "metadata": {
    "id": "BUx03NKtKBSs"
   },
   "outputs": [],
   "source": []
  },
  {
   "cell_type": "markdown",
   "metadata": {
    "id": "AZ1w0KoH6aHl"
   },
   "source": [
    "## CVEC and TF-IDF"
   ]
  },
  {
   "cell_type": "code",
   "execution_count": 204,
   "metadata": {
    "id": "PUhecwJCRhUZ"
   },
   "outputs": [],
   "source": [
    "# Create X\n",
    "X_ = data['liststring']"
   ]
  },
  {
   "cell_type": "code",
   "execution_count": 206,
   "metadata": {
    "id": "atGdbmqsS_u2"
   },
   "outputs": [],
   "source": [
    "# instantiating CVEC\n",
    "cvec = CountVectorizer(max_features = 250, ngram_range = (1, 1))\n",
    "\n",
    "# instantiating TF-IDF\n",
    "tvec = TfidfVectorizer(max_features = 200, ngram_range = (1, 1))"
   ]
  },
  {
   "cell_type": "code",
   "execution_count": 207,
   "metadata": {
    "id": "iX_zPve9asUQ"
   },
   "outputs": [],
   "source": [
    "# creating a CVEC based dataframe\n",
    "X_c = pd.DataFrame(cvec.fit_transform(X_).toarray(), columns = cvec.get_feature_names())\n",
    "\n",
    "# creating a TF-IDF dataframe\n",
    "X_t = pd.DataFrame(tvec.fit_transform(X_).toarray(), columns = tvec.get_feature_names())"
   ]
  },
  {
   "cell_type": "code",
   "execution_count": 208,
   "metadata": {
    "id": "jLlKYEZf-V8W"
   },
   "outputs": [],
   "source": [
    "# Applying the Standard Scaler to word vectors\n",
    "sc = StandardScaler()\n",
    "X_sc_c = sc.fit_transform(X_c) # CVEC\n",
    "X_sc_t = sc.fit_transform(X_t) # TF-IDF\n",
    "\n",
    "# Applying PCA to word vectors\n",
    "pca = PCA(n_components = 0.95)\n",
    "X_pca_c = pca.fit_transform(X_c) # CVEC\n",
    "X_pca_t = pca.fit_transform(X_t) # TF-IDF\n",
    "\n",
    "# Applying standard scaler, then applying PCA to word vectors\n",
    "pca_sc = PCA(n_components = 0.95)\n",
    "X_pca_sc_c = pca_sc.fit_transform(X_sc_c) # CVEC\n",
    "X_pca_sc_t = pca_sc.fit_transform(X_sc_t) # TF-IDF\n",
    "\n",
    "# TSNE w/ scaled data\n",
    "tsne = TSNE(n_components=2)\n",
    "X_tsne_c = tsne.fit_transform(X_c) # CVEC\n",
    "X_tsne_t = tsne.fit_transform(X_t) # TF-IDF\n",
    "\n",
    "# TSNE w/ pca applied data\n",
    "tsne = TSNE(n_components=2)\n",
    "X_tsne_pca_c = tsne.fit_transform(X_pca_c) # CVEC\n",
    "X_tsne_pca_t = tsne.fit_transform(X_pca_t) # TF-IDF\n",
    "\n",
    "# TSNE w/ scaled data, pca applied\n",
    "X_tsne_pca_sc_c = tsne.fit_transform(X_pca_sc_c) # CVEC\n",
    "X_tsne_pca_sc_t = tsne.fit_transform(X_pca_sc_t) # TF-IDF"
   ]
  },
  {
   "cell_type": "markdown",
   "metadata": {},
   "source": [
    "#### Silhouette scores and Inertia Values for CVEC models"
   ]
  },
  {
   "cell_type": "code",
   "execution_count": 209,
   "metadata": {
    "colab": {
     "base_uri": "https://localhost:8080/",
     "height": 297
    },
    "id": "gxjNkEE__W28",
    "outputId": "a91c9826-a95d-4ee0-f4f7-a2ca70cec81c"
   },
   "outputs": [
    {
     "data": {
      "text/html": [
       "<div>\n",
       "<style scoped>\n",
       "    .dataframe tbody tr th:only-of-type {\n",
       "        vertical-align: middle;\n",
       "    }\n",
       "\n",
       "    .dataframe tbody tr th {\n",
       "        vertical-align: top;\n",
       "    }\n",
       "\n",
       "    .dataframe thead th {\n",
       "        text-align: right;\n",
       "    }\n",
       "</style>\n",
       "<table border=\"1\" class=\"dataframe\">\n",
       "  <thead>\n",
       "    <tr style=\"text-align: right;\">\n",
       "      <th></th>\n",
       "      <th>k</th>\n",
       "      <th>silhouette</th>\n",
       "      <th>inertia</th>\n",
       "    </tr>\n",
       "  </thead>\n",
       "  <tbody>\n",
       "    <tr>\n",
       "      <th>0</th>\n",
       "      <td>2</td>\n",
       "      <td>0.506212</td>\n",
       "      <td>4.701210e+08</td>\n",
       "    </tr>\n",
       "    <tr>\n",
       "      <th>1</th>\n",
       "      <td>3</td>\n",
       "      <td>0.399271</td>\n",
       "      <td>3.680191e+08</td>\n",
       "    </tr>\n",
       "    <tr>\n",
       "      <th>2</th>\n",
       "      <td>4</td>\n",
       "      <td>0.316501</td>\n",
       "      <td>3.216538e+08</td>\n",
       "    </tr>\n",
       "    <tr>\n",
       "      <th>3</th>\n",
       "      <td>5</td>\n",
       "      <td>0.302238</td>\n",
       "      <td>2.996552e+08</td>\n",
       "    </tr>\n",
       "    <tr>\n",
       "      <th>4</th>\n",
       "      <td>6</td>\n",
       "      <td>0.281498</td>\n",
       "      <td>2.825113e+08</td>\n",
       "    </tr>\n",
       "    <tr>\n",
       "      <th>5</th>\n",
       "      <td>7</td>\n",
       "      <td>0.281057</td>\n",
       "      <td>2.642791e+08</td>\n",
       "    </tr>\n",
       "    <tr>\n",
       "      <th>6</th>\n",
       "      <td>8</td>\n",
       "      <td>0.210064</td>\n",
       "      <td>2.526450e+08</td>\n",
       "    </tr>\n",
       "    <tr>\n",
       "      <th>7</th>\n",
       "      <td>9</td>\n",
       "      <td>0.201986</td>\n",
       "      <td>2.398323e+08</td>\n",
       "    </tr>\n",
       "  </tbody>\n",
       "</table>\n",
       "</div>"
      ],
      "text/plain": [
       "   k  silhouette       inertia\n",
       "0  2    0.506212  4.701210e+08\n",
       "1  3    0.399271  3.680191e+08\n",
       "2  4    0.316501  3.216538e+08\n",
       "3  5    0.302238  2.996552e+08\n",
       "4  6    0.281498  2.825113e+08\n",
       "5  7    0.281057  2.642791e+08\n",
       "6  8    0.210064  2.526450e+08\n",
       "7  9    0.201986  2.398323e+08"
      ]
     },
     "execution_count": 209,
     "metadata": {
      "tags": []
     },
     "output_type": "execute_result"
    }
   ],
   "source": [
    "find_scores_k(X_c)"
   ]
  },
  {
   "cell_type": "code",
   "execution_count": 210,
   "metadata": {
    "colab": {
     "base_uri": "https://localhost:8080/",
     "height": 297
    },
    "id": "9hJCpKla_oks",
    "outputId": "0324ccdf-eeef-4d67-9207-bc2ba6bfceaa"
   },
   "outputs": [
    {
     "data": {
      "text/html": [
       "<div>\n",
       "<style scoped>\n",
       "    .dataframe tbody tr th:only-of-type {\n",
       "        vertical-align: middle;\n",
       "    }\n",
       "\n",
       "    .dataframe tbody tr th {\n",
       "        vertical-align: top;\n",
       "    }\n",
       "\n",
       "    .dataframe thead th {\n",
       "        text-align: right;\n",
       "    }\n",
       "</style>\n",
       "<table border=\"1\" class=\"dataframe\">\n",
       "  <thead>\n",
       "    <tr style=\"text-align: right;\">\n",
       "      <th></th>\n",
       "      <th>k</th>\n",
       "      <th>silhouette</th>\n",
       "      <th>inertia</th>\n",
       "    </tr>\n",
       "  </thead>\n",
       "  <tbody>\n",
       "    <tr>\n",
       "      <th>0</th>\n",
       "      <td>2</td>\n",
       "      <td>0.464234</td>\n",
       "      <td>83403.035187</td>\n",
       "    </tr>\n",
       "    <tr>\n",
       "      <th>1</th>\n",
       "      <td>3</td>\n",
       "      <td>0.367641</td>\n",
       "      <td>67739.745546</td>\n",
       "    </tr>\n",
       "    <tr>\n",
       "      <th>2</th>\n",
       "      <td>4</td>\n",
       "      <td>0.292690</td>\n",
       "      <td>59018.860248</td>\n",
       "    </tr>\n",
       "    <tr>\n",
       "      <th>3</th>\n",
       "      <td>5</td>\n",
       "      <td>0.245528</td>\n",
       "      <td>55490.055286</td>\n",
       "    </tr>\n",
       "    <tr>\n",
       "      <th>4</th>\n",
       "      <td>6</td>\n",
       "      <td>0.215860</td>\n",
       "      <td>53010.416973</td>\n",
       "    </tr>\n",
       "    <tr>\n",
       "      <th>5</th>\n",
       "      <td>7</td>\n",
       "      <td>0.208334</td>\n",
       "      <td>50726.182829</td>\n",
       "    </tr>\n",
       "    <tr>\n",
       "      <th>6</th>\n",
       "      <td>8</td>\n",
       "      <td>0.133588</td>\n",
       "      <td>49083.352287</td>\n",
       "    </tr>\n",
       "    <tr>\n",
       "      <th>7</th>\n",
       "      <td>9</td>\n",
       "      <td>0.131501</td>\n",
       "      <td>47864.761411</td>\n",
       "    </tr>\n",
       "  </tbody>\n",
       "</table>\n",
       "</div>"
      ],
      "text/plain": [
       "   k  silhouette       inertia\n",
       "0  2    0.464234  83403.035187\n",
       "1  3    0.367641  67739.745546\n",
       "2  4    0.292690  59018.860248\n",
       "3  5    0.245528  55490.055286\n",
       "4  6    0.215860  53010.416973\n",
       "5  7    0.208334  50726.182829\n",
       "6  8    0.133588  49083.352287\n",
       "7  9    0.131501  47864.761411"
      ]
     },
     "execution_count": 210,
     "metadata": {
      "tags": []
     },
     "output_type": "execute_result"
    }
   ],
   "source": [
    "find_scores_k(X_sc_c)"
   ]
  },
  {
   "cell_type": "code",
   "execution_count": 211,
   "metadata": {
    "colab": {
     "base_uri": "https://localhost:8080/",
     "height": 297
    },
    "id": "mT6zd86u_gWv",
    "outputId": "4cae9848-816f-49d3-ab6a-e2d1b85009ad"
   },
   "outputs": [
    {
     "data": {
      "text/html": [
       "<div>\n",
       "<style scoped>\n",
       "    .dataframe tbody tr th:only-of-type {\n",
       "        vertical-align: middle;\n",
       "    }\n",
       "\n",
       "    .dataframe tbody tr th {\n",
       "        vertical-align: top;\n",
       "    }\n",
       "\n",
       "    .dataframe thead th {\n",
       "        text-align: right;\n",
       "    }\n",
       "</style>\n",
       "<table border=\"1\" class=\"dataframe\">\n",
       "  <thead>\n",
       "    <tr style=\"text-align: right;\">\n",
       "      <th></th>\n",
       "      <th>k</th>\n",
       "      <th>silhouette</th>\n",
       "      <th>inertia</th>\n",
       "    </tr>\n",
       "  </thead>\n",
       "  <tbody>\n",
       "    <tr>\n",
       "      <th>0</th>\n",
       "      <td>2</td>\n",
       "      <td>0.524990</td>\n",
       "      <td>4.339890e+08</td>\n",
       "    </tr>\n",
       "    <tr>\n",
       "      <th>1</th>\n",
       "      <td>3</td>\n",
       "      <td>0.423834</td>\n",
       "      <td>3.319910e+08</td>\n",
       "    </tr>\n",
       "    <tr>\n",
       "      <th>2</th>\n",
       "      <td>4</td>\n",
       "      <td>0.344426</td>\n",
       "      <td>2.857006e+08</td>\n",
       "    </tr>\n",
       "    <tr>\n",
       "      <th>3</th>\n",
       "      <td>5</td>\n",
       "      <td>0.324399</td>\n",
       "      <td>2.637613e+08</td>\n",
       "    </tr>\n",
       "    <tr>\n",
       "      <th>4</th>\n",
       "      <td>6</td>\n",
       "      <td>0.310452</td>\n",
       "      <td>2.470744e+08</td>\n",
       "    </tr>\n",
       "    <tr>\n",
       "      <th>5</th>\n",
       "      <td>7</td>\n",
       "      <td>0.310787</td>\n",
       "      <td>2.284859e+08</td>\n",
       "    </tr>\n",
       "    <tr>\n",
       "      <th>6</th>\n",
       "      <td>8</td>\n",
       "      <td>0.263444</td>\n",
       "      <td>2.165738e+08</td>\n",
       "    </tr>\n",
       "    <tr>\n",
       "      <th>7</th>\n",
       "      <td>9</td>\n",
       "      <td>0.218945</td>\n",
       "      <td>2.050507e+08</td>\n",
       "    </tr>\n",
       "  </tbody>\n",
       "</table>\n",
       "</div>"
      ],
      "text/plain": [
       "   k  silhouette       inertia\n",
       "0  2    0.524990  4.339890e+08\n",
       "1  3    0.423834  3.319910e+08\n",
       "2  4    0.344426  2.857006e+08\n",
       "3  5    0.324399  2.637613e+08\n",
       "4  6    0.310452  2.470744e+08\n",
       "5  7    0.310787  2.284859e+08\n",
       "6  8    0.263444  2.165738e+08\n",
       "7  9    0.218945  2.050507e+08"
      ]
     },
     "execution_count": 211,
     "metadata": {
      "tags": []
     },
     "output_type": "execute_result"
    }
   ],
   "source": [
    "find_scores_k(X_pca_c)"
   ]
  },
  {
   "cell_type": "code",
   "execution_count": 212,
   "metadata": {
    "colab": {
     "base_uri": "https://localhost:8080/",
     "height": 297
    },
    "id": "aHPhN01F_gs2",
    "outputId": "15d1575d-1a41-4ba2-81e9-b40e27b740db"
   },
   "outputs": [
    {
     "data": {
      "text/html": [
       "<div>\n",
       "<style scoped>\n",
       "    .dataframe tbody tr th:only-of-type {\n",
       "        vertical-align: middle;\n",
       "    }\n",
       "\n",
       "    .dataframe tbody tr th {\n",
       "        vertical-align: top;\n",
       "    }\n",
       "\n",
       "    .dataframe thead th {\n",
       "        text-align: right;\n",
       "    }\n",
       "</style>\n",
       "<table border=\"1\" class=\"dataframe\">\n",
       "  <thead>\n",
       "    <tr style=\"text-align: right;\">\n",
       "      <th></th>\n",
       "      <th>k</th>\n",
       "      <th>silhouette</th>\n",
       "      <th>inertia</th>\n",
       "    </tr>\n",
       "  </thead>\n",
       "  <tbody>\n",
       "    <tr>\n",
       "      <th>0</th>\n",
       "      <td>2</td>\n",
       "      <td>0.482040</td>\n",
       "      <td>77004.589223</td>\n",
       "    </tr>\n",
       "    <tr>\n",
       "      <th>1</th>\n",
       "      <td>3</td>\n",
       "      <td>0.396119</td>\n",
       "      <td>61358.780286</td>\n",
       "    </tr>\n",
       "    <tr>\n",
       "      <th>2</th>\n",
       "      <td>4</td>\n",
       "      <td>0.317108</td>\n",
       "      <td>52629.306757</td>\n",
       "    </tr>\n",
       "    <tr>\n",
       "      <th>3</th>\n",
       "      <td>5</td>\n",
       "      <td>0.259426</td>\n",
       "      <td>49030.839475</td>\n",
       "    </tr>\n",
       "    <tr>\n",
       "      <th>4</th>\n",
       "      <td>6</td>\n",
       "      <td>0.229910</td>\n",
       "      <td>46545.548505</td>\n",
       "    </tr>\n",
       "    <tr>\n",
       "      <th>5</th>\n",
       "      <td>7</td>\n",
       "      <td>0.179070</td>\n",
       "      <td>44454.659746</td>\n",
       "    </tr>\n",
       "    <tr>\n",
       "      <th>6</th>\n",
       "      <td>8</td>\n",
       "      <td>0.180483</td>\n",
       "      <td>43003.130316</td>\n",
       "    </tr>\n",
       "    <tr>\n",
       "      <th>7</th>\n",
       "      <td>9</td>\n",
       "      <td>0.145201</td>\n",
       "      <td>41162.323867</td>\n",
       "    </tr>\n",
       "  </tbody>\n",
       "</table>\n",
       "</div>"
      ],
      "text/plain": [
       "   k  silhouette       inertia\n",
       "0  2    0.482040  77004.589223\n",
       "1  3    0.396119  61358.780286\n",
       "2  4    0.317108  52629.306757\n",
       "3  5    0.259426  49030.839475\n",
       "4  6    0.229910  46545.548505\n",
       "5  7    0.179070  44454.659746\n",
       "6  8    0.180483  43003.130316\n",
       "7  9    0.145201  41162.323867"
      ]
     },
     "execution_count": 212,
     "metadata": {
      "tags": []
     },
     "output_type": "execute_result"
    }
   ],
   "source": [
    "find_scores_k(X_pca_sc_c)"
   ]
  },
  {
   "cell_type": "code",
   "execution_count": 213,
   "metadata": {
    "colab": {
     "base_uri": "https://localhost:8080/",
     "height": 297
    },
    "id": "lE9wDSO2cYKe",
    "outputId": "bc7e5568-a944-49fc-8ad1-3cd67147b8c6"
   },
   "outputs": [
    {
     "data": {
      "text/html": [
       "<div>\n",
       "<style scoped>\n",
       "    .dataframe tbody tr th:only-of-type {\n",
       "        vertical-align: middle;\n",
       "    }\n",
       "\n",
       "    .dataframe tbody tr th {\n",
       "        vertical-align: top;\n",
       "    }\n",
       "\n",
       "    .dataframe thead th {\n",
       "        text-align: right;\n",
       "    }\n",
       "</style>\n",
       "<table border=\"1\" class=\"dataframe\">\n",
       "  <thead>\n",
       "    <tr style=\"text-align: right;\">\n",
       "      <th></th>\n",
       "      <th>k</th>\n",
       "      <th>silhouette</th>\n",
       "      <th>inertia</th>\n",
       "    </tr>\n",
       "  </thead>\n",
       "  <tbody>\n",
       "    <tr>\n",
       "      <th>0</th>\n",
       "      <td>2</td>\n",
       "      <td>0.538552</td>\n",
       "      <td>63533.309523</td>\n",
       "    </tr>\n",
       "    <tr>\n",
       "      <th>1</th>\n",
       "      <td>3</td>\n",
       "      <td>0.464034</td>\n",
       "      <td>37307.819506</td>\n",
       "    </tr>\n",
       "    <tr>\n",
       "      <th>2</th>\n",
       "      <td>4</td>\n",
       "      <td>0.416735</td>\n",
       "      <td>26844.736482</td>\n",
       "    </tr>\n",
       "    <tr>\n",
       "      <th>3</th>\n",
       "      <td>5</td>\n",
       "      <td>0.443445</td>\n",
       "      <td>20432.150657</td>\n",
       "    </tr>\n",
       "    <tr>\n",
       "      <th>4</th>\n",
       "      <td>6</td>\n",
       "      <td>0.420113</td>\n",
       "      <td>16575.222484</td>\n",
       "    </tr>\n",
       "    <tr>\n",
       "      <th>5</th>\n",
       "      <td>7</td>\n",
       "      <td>0.403412</td>\n",
       "      <td>13777.677616</td>\n",
       "    </tr>\n",
       "    <tr>\n",
       "      <th>6</th>\n",
       "      <td>8</td>\n",
       "      <td>0.405865</td>\n",
       "      <td>11808.070679</td>\n",
       "    </tr>\n",
       "    <tr>\n",
       "      <th>7</th>\n",
       "      <td>9</td>\n",
       "      <td>0.405121</td>\n",
       "      <td>10162.080013</td>\n",
       "    </tr>\n",
       "  </tbody>\n",
       "</table>\n",
       "</div>"
      ],
      "text/plain": [
       "   k  silhouette       inertia\n",
       "0  2    0.538552  63533.309523\n",
       "1  3    0.464034  37307.819506\n",
       "2  4    0.416735  26844.736482\n",
       "3  5    0.443445  20432.150657\n",
       "4  6    0.420113  16575.222484\n",
       "5  7    0.403412  13777.677616\n",
       "6  8    0.405865  11808.070679\n",
       "7  9    0.405121  10162.080013"
      ]
     },
     "execution_count": 213,
     "metadata": {
      "tags": []
     },
     "output_type": "execute_result"
    }
   ],
   "source": [
    "find_scores_k(X_tsne_c)"
   ]
  },
  {
   "cell_type": "code",
   "execution_count": 214,
   "metadata": {
    "colab": {
     "base_uri": "https://localhost:8080/",
     "height": 297
    },
    "id": "TGZkll7NcYFa",
    "outputId": "6c644b3f-16b6-442e-acd0-3a53fda8fb61"
   },
   "outputs": [
    {
     "data": {
      "text/html": [
       "<div>\n",
       "<style scoped>\n",
       "    .dataframe tbody tr th:only-of-type {\n",
       "        vertical-align: middle;\n",
       "    }\n",
       "\n",
       "    .dataframe tbody tr th {\n",
       "        vertical-align: top;\n",
       "    }\n",
       "\n",
       "    .dataframe thead th {\n",
       "        text-align: right;\n",
       "    }\n",
       "</style>\n",
       "<table border=\"1\" class=\"dataframe\">\n",
       "  <thead>\n",
       "    <tr style=\"text-align: right;\">\n",
       "      <th></th>\n",
       "      <th>k</th>\n",
       "      <th>silhouette</th>\n",
       "      <th>inertia</th>\n",
       "    </tr>\n",
       "  </thead>\n",
       "  <tbody>\n",
       "    <tr>\n",
       "      <th>0</th>\n",
       "      <td>2</td>\n",
       "      <td>0.556149</td>\n",
       "      <td>131131.286086</td>\n",
       "    </tr>\n",
       "    <tr>\n",
       "      <th>1</th>\n",
       "      <td>3</td>\n",
       "      <td>0.497382</td>\n",
       "      <td>73864.000312</td>\n",
       "    </tr>\n",
       "    <tr>\n",
       "      <th>2</th>\n",
       "      <td>4</td>\n",
       "      <td>0.461782</td>\n",
       "      <td>48604.316997</td>\n",
       "    </tr>\n",
       "    <tr>\n",
       "      <th>3</th>\n",
       "      <td>5</td>\n",
       "      <td>0.410015</td>\n",
       "      <td>39665.126880</td>\n",
       "    </tr>\n",
       "    <tr>\n",
       "      <th>4</th>\n",
       "      <td>6</td>\n",
       "      <td>0.391578</td>\n",
       "      <td>34069.314622</td>\n",
       "    </tr>\n",
       "    <tr>\n",
       "      <th>5</th>\n",
       "      <td>7</td>\n",
       "      <td>0.384666</td>\n",
       "      <td>28854.717877</td>\n",
       "    </tr>\n",
       "    <tr>\n",
       "      <th>6</th>\n",
       "      <td>8</td>\n",
       "      <td>0.397961</td>\n",
       "      <td>23655.178176</td>\n",
       "    </tr>\n",
       "    <tr>\n",
       "      <th>7</th>\n",
       "      <td>9</td>\n",
       "      <td>0.394616</td>\n",
       "      <td>20801.992365</td>\n",
       "    </tr>\n",
       "  </tbody>\n",
       "</table>\n",
       "</div>"
      ],
      "text/plain": [
       "   k  silhouette        inertia\n",
       "0  2    0.556149  131131.286086\n",
       "1  3    0.497382   73864.000312\n",
       "2  4    0.461782   48604.316997\n",
       "3  5    0.410015   39665.126880\n",
       "4  6    0.391578   34069.314622\n",
       "5  7    0.384666   28854.717877\n",
       "6  8    0.397961   23655.178176\n",
       "7  9    0.394616   20801.992365"
      ]
     },
     "execution_count": 214,
     "metadata": {
      "tags": []
     },
     "output_type": "execute_result"
    }
   ],
   "source": [
    "find_scores_k(X_tsne_sc_c)"
   ]
  },
  {
   "cell_type": "code",
   "execution_count": 215,
   "metadata": {
    "colab": {
     "base_uri": "https://localhost:8080/",
     "height": 297
    },
    "id": "d0OoejI7cX8d",
    "outputId": "519d9197-bc3e-4921-9ff2-a552fa0c38b7"
   },
   "outputs": [
    {
     "data": {
      "text/html": [
       "<div>\n",
       "<style scoped>\n",
       "    .dataframe tbody tr th:only-of-type {\n",
       "        vertical-align: middle;\n",
       "    }\n",
       "\n",
       "    .dataframe tbody tr th {\n",
       "        vertical-align: top;\n",
       "    }\n",
       "\n",
       "    .dataframe thead th {\n",
       "        text-align: right;\n",
       "    }\n",
       "</style>\n",
       "<table border=\"1\" class=\"dataframe\">\n",
       "  <thead>\n",
       "    <tr style=\"text-align: right;\">\n",
       "      <th></th>\n",
       "      <th>k</th>\n",
       "      <th>silhouette</th>\n",
       "      <th>inertia</th>\n",
       "    </tr>\n",
       "  </thead>\n",
       "  <tbody>\n",
       "    <tr>\n",
       "      <th>0</th>\n",
       "      <td>2</td>\n",
       "      <td>0.566631</td>\n",
       "      <td>117774.621006</td>\n",
       "    </tr>\n",
       "    <tr>\n",
       "      <th>1</th>\n",
       "      <td>3</td>\n",
       "      <td>0.470454</td>\n",
       "      <td>72517.247088</td>\n",
       "    </tr>\n",
       "    <tr>\n",
       "      <th>2</th>\n",
       "      <td>4</td>\n",
       "      <td>0.440510</td>\n",
       "      <td>48914.312199</td>\n",
       "    </tr>\n",
       "    <tr>\n",
       "      <th>3</th>\n",
       "      <td>5</td>\n",
       "      <td>0.458132</td>\n",
       "      <td>37363.682444</td>\n",
       "    </tr>\n",
       "    <tr>\n",
       "      <th>4</th>\n",
       "      <td>6</td>\n",
       "      <td>0.434470</td>\n",
       "      <td>30757.615342</td>\n",
       "    </tr>\n",
       "    <tr>\n",
       "      <th>5</th>\n",
       "      <td>7</td>\n",
       "      <td>0.407803</td>\n",
       "      <td>25748.660181</td>\n",
       "    </tr>\n",
       "    <tr>\n",
       "      <th>6</th>\n",
       "      <td>8</td>\n",
       "      <td>0.397000</td>\n",
       "      <td>22188.620627</td>\n",
       "    </tr>\n",
       "    <tr>\n",
       "      <th>7</th>\n",
       "      <td>9</td>\n",
       "      <td>0.409536</td>\n",
       "      <td>19448.133067</td>\n",
       "    </tr>\n",
       "  </tbody>\n",
       "</table>\n",
       "</div>"
      ],
      "text/plain": [
       "   k  silhouette        inertia\n",
       "0  2    0.566631  117774.621006\n",
       "1  3    0.470454   72517.247088\n",
       "2  4    0.440510   48914.312199\n",
       "3  5    0.458132   37363.682444\n",
       "4  6    0.434470   30757.615342\n",
       "5  7    0.407803   25748.660181\n",
       "6  8    0.397000   22188.620627\n",
       "7  9    0.409536   19448.133067"
      ]
     },
     "execution_count": 215,
     "metadata": {
      "tags": []
     },
     "output_type": "execute_result"
    }
   ],
   "source": [
    "find_scores_k(X_tsne_pca_c)"
   ]
  },
  {
   "cell_type": "code",
   "execution_count": 216,
   "metadata": {
    "colab": {
     "base_uri": "https://localhost:8080/",
     "height": 297
    },
    "id": "uoTX4NJhoOm1",
    "outputId": "0cfb73f6-b638-4e64-c69f-04915a552871"
   },
   "outputs": [
    {
     "data": {
      "text/html": [
       "<div>\n",
       "<style scoped>\n",
       "    .dataframe tbody tr th:only-of-type {\n",
       "        vertical-align: middle;\n",
       "    }\n",
       "\n",
       "    .dataframe tbody tr th {\n",
       "        vertical-align: top;\n",
       "    }\n",
       "\n",
       "    .dataframe thead th {\n",
       "        text-align: right;\n",
       "    }\n",
       "</style>\n",
       "<table border=\"1\" class=\"dataframe\">\n",
       "  <thead>\n",
       "    <tr style=\"text-align: right;\">\n",
       "      <th></th>\n",
       "      <th>k</th>\n",
       "      <th>silhouette</th>\n",
       "      <th>inertia</th>\n",
       "    </tr>\n",
       "  </thead>\n",
       "  <tbody>\n",
       "    <tr>\n",
       "      <th>0</th>\n",
       "      <td>2</td>\n",
       "      <td>0.546595</td>\n",
       "      <td>50542.696278</td>\n",
       "    </tr>\n",
       "    <tr>\n",
       "      <th>1</th>\n",
       "      <td>3</td>\n",
       "      <td>0.486449</td>\n",
       "      <td>29142.475676</td>\n",
       "    </tr>\n",
       "    <tr>\n",
       "      <th>2</th>\n",
       "      <td>4</td>\n",
       "      <td>0.418736</td>\n",
       "      <td>21552.062093</td>\n",
       "    </tr>\n",
       "    <tr>\n",
       "      <th>3</th>\n",
       "      <td>5</td>\n",
       "      <td>0.436092</td>\n",
       "      <td>17124.653491</td>\n",
       "    </tr>\n",
       "    <tr>\n",
       "      <th>4</th>\n",
       "      <td>6</td>\n",
       "      <td>0.400282</td>\n",
       "      <td>13934.428937</td>\n",
       "    </tr>\n",
       "    <tr>\n",
       "      <th>5</th>\n",
       "      <td>7</td>\n",
       "      <td>0.413107</td>\n",
       "      <td>11459.388303</td>\n",
       "    </tr>\n",
       "    <tr>\n",
       "      <th>6</th>\n",
       "      <td>8</td>\n",
       "      <td>0.412412</td>\n",
       "      <td>9657.052513</td>\n",
       "    </tr>\n",
       "    <tr>\n",
       "      <th>7</th>\n",
       "      <td>9</td>\n",
       "      <td>0.414408</td>\n",
       "      <td>8362.618522</td>\n",
       "    </tr>\n",
       "  </tbody>\n",
       "</table>\n",
       "</div>"
      ],
      "text/plain": [
       "   k  silhouette       inertia\n",
       "0  2    0.546595  50542.696278\n",
       "1  3    0.486449  29142.475676\n",
       "2  4    0.418736  21552.062093\n",
       "3  5    0.436092  17124.653491\n",
       "4  6    0.400282  13934.428937\n",
       "5  7    0.413107  11459.388303\n",
       "6  8    0.412412   9657.052513\n",
       "7  9    0.414408   8362.618522"
      ]
     },
     "execution_count": 216,
     "metadata": {
      "tags": []
     },
     "output_type": "execute_result"
    }
   ],
   "source": [
    "find_scores_k(X_tsne_pca_sc_c)"
   ]
  },
  {
   "cell_type": "markdown",
   "metadata": {
    "id": "gwa392Vose1i"
   },
   "source": [
    "#### Plotting CVEC clusters and Centroids with the best model"
   ]
  },
  {
   "cell_type": "code",
   "execution_count": 263,
   "metadata": {
    "colab": {
     "base_uri": "https://localhost:8080/",
     "height": 526
    },
    "id": "MjDFvPZu_hG1",
    "outputId": "03e1f7f6-90eb-4d55-837e-2f4c564d0927"
   },
   "outputs": [
    {
     "data": {
      "image/png": "[encoded data removed]",
      "text/plain": [
       "<Figure size 864x576 with 1 Axes>"
      ]
     },
     "metadata": {
      "needs_background": "light",
      "tags": []
     },
     "output_type": "display_data"
    }
   ],
   "source": [
    "plot_k_clusters(2, X_tsne_pca_sc_c)"
   ]
  },
  {
   "cell_type": "markdown",
   "metadata": {},
   "source": [
    "#### Plotting silhouette scores for best CVEC model"
   ]
  },
  {
   "cell_type": "code",
   "execution_count": 264,
   "metadata": {
    "colab": {
     "base_uri": "https://localhost:8080/",
     "height": 553
    },
    "id": "9Cr9wWVmBBuH",
    "outputId": "cb5cdeb2-fd3b-43e3-a145-64c43921722c"
   },
   "outputs": [
    {
     "data": {
      "image/png": "[encoded data removed]",
      "text/plain": [
       "<Figure size 864x648 with 1 Axes>"
      ]
     },
     "metadata": {
      "needs_background": "light",
      "tags": []
     },
     "output_type": "display_data"
    }
   ],
   "source": [
    "plot_sil_score(X_tsne_pca_sc_c)"
   ]
  },
  {
   "cell_type": "markdown",
   "metadata": {},
   "source": [
    "#### Plotting inertia values for best CVEC model"
   ]
  },
  {
   "cell_type": "code",
   "execution_count": 265,
   "metadata": {
    "colab": {
     "base_uri": "https://localhost:8080/",
     "height": 553
    },
    "id": "2FRBpLmHBB6x",
    "outputId": "47a6815c-35d8-4af0-e554-58a47850c48e"
   },
   "outputs": [
    {
     "data": {
      "image/png": "[encoded data removed]",
      "text/plain": [
       "<Figure size 864x648 with 1 Axes>"
      ]
     },
     "metadata": {
      "needs_background": "light",
      "tags": []
     },
     "output_type": "display_data"
    }
   ],
   "source": [
    "plot_inertia_score(X_tsne_pca_sc_c)"
   ]
  },
  {
   "cell_type": "code",
   "execution_count": 219,
   "metadata": {
    "id": "3DbfEI5OJFPK"
   },
   "outputs": [],
   "source": []
  },
  {
   "cell_type": "markdown",
   "metadata": {
    "id": "h1szSpo7JFAV"
   },
   "source": [
    "#### Silhouette scores and Inertia Values for TF-IDF models"
   ]
  },
  {
   "cell_type": "code",
   "execution_count": 220,
   "metadata": {
    "colab": {
     "base_uri": "https://localhost:8080/",
     "height": 297
    },
    "id": "h0jJR2MnBEmD",
    "outputId": "ef209c19-b5cc-4fae-a590-ad1f7a2630a9"
   },
   "outputs": [
    {
     "data": {
      "text/html": [
       "<div>\n",
       "<style scoped>\n",
       "    .dataframe tbody tr th:only-of-type {\n",
       "        vertical-align: middle;\n",
       "    }\n",
       "\n",
       "    .dataframe tbody tr th {\n",
       "        vertical-align: top;\n",
       "    }\n",
       "\n",
       "    .dataframe thead th {\n",
       "        text-align: right;\n",
       "    }\n",
       "</style>\n",
       "<table border=\"1\" class=\"dataframe\">\n",
       "  <thead>\n",
       "    <tr style=\"text-align: right;\">\n",
       "      <th></th>\n",
       "      <th>k</th>\n",
       "      <th>silhouette</th>\n",
       "      <th>inertia</th>\n",
       "    </tr>\n",
       "  </thead>\n",
       "  <tbody>\n",
       "    <tr>\n",
       "      <th>0</th>\n",
       "      <td>2</td>\n",
       "      <td>0.118171</td>\n",
       "      <td>94.644079</td>\n",
       "    </tr>\n",
       "    <tr>\n",
       "      <th>1</th>\n",
       "      <td>3</td>\n",
       "      <td>0.108976</td>\n",
       "      <td>87.871240</td>\n",
       "    </tr>\n",
       "    <tr>\n",
       "      <th>2</th>\n",
       "      <td>4</td>\n",
       "      <td>0.080054</td>\n",
       "      <td>83.518805</td>\n",
       "    </tr>\n",
       "    <tr>\n",
       "      <th>3</th>\n",
       "      <td>5</td>\n",
       "      <td>0.084171</td>\n",
       "      <td>80.779474</td>\n",
       "    </tr>\n",
       "    <tr>\n",
       "      <th>4</th>\n",
       "      <td>6</td>\n",
       "      <td>0.064979</td>\n",
       "      <td>78.904075</td>\n",
       "    </tr>\n",
       "    <tr>\n",
       "      <th>5</th>\n",
       "      <td>7</td>\n",
       "      <td>0.060561</td>\n",
       "      <td>77.701454</td>\n",
       "    </tr>\n",
       "    <tr>\n",
       "      <th>6</th>\n",
       "      <td>8</td>\n",
       "      <td>0.056634</td>\n",
       "      <td>76.410285</td>\n",
       "    </tr>\n",
       "    <tr>\n",
       "      <th>7</th>\n",
       "      <td>9</td>\n",
       "      <td>0.056971</td>\n",
       "      <td>75.026443</td>\n",
       "    </tr>\n",
       "  </tbody>\n",
       "</table>\n",
       "</div>"
      ],
      "text/plain": [
       "   k  silhouette    inertia\n",
       "0  2    0.118171  94.644079\n",
       "1  3    0.108976  87.871240\n",
       "2  4    0.080054  83.518805\n",
       "3  5    0.084171  80.779474\n",
       "4  6    0.064979  78.904075\n",
       "5  7    0.060561  77.701454\n",
       "6  8    0.056634  76.410285\n",
       "7  9    0.056971  75.026443"
      ]
     },
     "execution_count": 220,
     "metadata": {
      "tags": []
     },
     "output_type": "execute_result"
    }
   ],
   "source": [
    "find_scores_k(X_t)"
   ]
  },
  {
   "cell_type": "code",
   "execution_count": 221,
   "metadata": {
    "colab": {
     "base_uri": "https://localhost:8080/",
     "height": 297
    },
    "id": "2VrQhBulBf23",
    "outputId": "795578c3-2624-4072-dd58-bc29f1987833"
   },
   "outputs": [
    {
     "data": {
      "text/html": [
       "<div>\n",
       "<style scoped>\n",
       "    .dataframe tbody tr th:only-of-type {\n",
       "        vertical-align: middle;\n",
       "    }\n",
       "\n",
       "    .dataframe tbody tr th {\n",
       "        vertical-align: top;\n",
       "    }\n",
       "\n",
       "    .dataframe thead th {\n",
       "        text-align: right;\n",
       "    }\n",
       "</style>\n",
       "<table border=\"1\" class=\"dataframe\">\n",
       "  <thead>\n",
       "    <tr style=\"text-align: right;\">\n",
       "      <th></th>\n",
       "      <th>k</th>\n",
       "      <th>silhouette</th>\n",
       "      <th>inertia</th>\n",
       "    </tr>\n",
       "  </thead>\n",
       "  <tbody>\n",
       "    <tr>\n",
       "      <th>0</th>\n",
       "      <td>2</td>\n",
       "      <td>0.085987</td>\n",
       "      <td>94800.494951</td>\n",
       "    </tr>\n",
       "    <tr>\n",
       "      <th>1</th>\n",
       "      <td>3</td>\n",
       "      <td>0.070616</td>\n",
       "      <td>89721.615214</td>\n",
       "    </tr>\n",
       "    <tr>\n",
       "      <th>2</th>\n",
       "      <td>4</td>\n",
       "      <td>0.053444</td>\n",
       "      <td>87265.780918</td>\n",
       "    </tr>\n",
       "    <tr>\n",
       "      <th>3</th>\n",
       "      <td>5</td>\n",
       "      <td>0.045029</td>\n",
       "      <td>85366.426863</td>\n",
       "    </tr>\n",
       "    <tr>\n",
       "      <th>4</th>\n",
       "      <td>6</td>\n",
       "      <td>0.035050</td>\n",
       "      <td>84203.672318</td>\n",
       "    </tr>\n",
       "    <tr>\n",
       "      <th>5</th>\n",
       "      <td>7</td>\n",
       "      <td>0.032154</td>\n",
       "      <td>82865.659601</td>\n",
       "    </tr>\n",
       "    <tr>\n",
       "      <th>6</th>\n",
       "      <td>8</td>\n",
       "      <td>0.045450</td>\n",
       "      <td>82001.879143</td>\n",
       "    </tr>\n",
       "    <tr>\n",
       "      <th>7</th>\n",
       "      <td>9</td>\n",
       "      <td>0.033265</td>\n",
       "      <td>80707.751547</td>\n",
       "    </tr>\n",
       "  </tbody>\n",
       "</table>\n",
       "</div>"
      ],
      "text/plain": [
       "   k  silhouette       inertia\n",
       "0  2    0.085987  94800.494951\n",
       "1  3    0.070616  89721.615214\n",
       "2  4    0.053444  87265.780918\n",
       "3  5    0.045029  85366.426863\n",
       "4  6    0.035050  84203.672318\n",
       "5  7    0.032154  82865.659601\n",
       "6  8    0.045450  82001.879143\n",
       "7  9    0.033265  80707.751547"
      ]
     },
     "execution_count": 221,
     "metadata": {
      "tags": []
     },
     "output_type": "execute_result"
    }
   ],
   "source": [
    "find_scores_k(X_sc_t)"
   ]
  },
  {
   "cell_type": "code",
   "execution_count": 222,
   "metadata": {
    "colab": {
     "base_uri": "https://localhost:8080/",
     "height": 297
    },
    "id": "WmWR2fhnBfu0",
    "outputId": "a83ab0ab-13bd-4ecb-a095-979b4aa32a93"
   },
   "outputs": [
    {
     "data": {
      "text/html": [
       "<div>\n",
       "<style scoped>\n",
       "    .dataframe tbody tr th:only-of-type {\n",
       "        vertical-align: middle;\n",
       "    }\n",
       "\n",
       "    .dataframe tbody tr th {\n",
       "        vertical-align: top;\n",
       "    }\n",
       "\n",
       "    .dataframe thead th {\n",
       "        text-align: right;\n",
       "    }\n",
       "</style>\n",
       "<table border=\"1\" class=\"dataframe\">\n",
       "  <thead>\n",
       "    <tr style=\"text-align: right;\">\n",
       "      <th></th>\n",
       "      <th>k</th>\n",
       "      <th>silhouette</th>\n",
       "      <th>inertia</th>\n",
       "    </tr>\n",
       "  </thead>\n",
       "  <tbody>\n",
       "    <tr>\n",
       "      <th>0</th>\n",
       "      <td>2</td>\n",
       "      <td>0.124651</td>\n",
       "      <td>89.288831</td>\n",
       "    </tr>\n",
       "    <tr>\n",
       "      <th>1</th>\n",
       "      <td>3</td>\n",
       "      <td>0.120076</td>\n",
       "      <td>82.436943</td>\n",
       "    </tr>\n",
       "    <tr>\n",
       "      <th>2</th>\n",
       "      <td>4</td>\n",
       "      <td>0.085710</td>\n",
       "      <td>78.167313</td>\n",
       "    </tr>\n",
       "    <tr>\n",
       "      <th>3</th>\n",
       "      <td>5</td>\n",
       "      <td>0.085884</td>\n",
       "      <td>75.438487</td>\n",
       "    </tr>\n",
       "    <tr>\n",
       "      <th>4</th>\n",
       "      <td>6</td>\n",
       "      <td>0.068866</td>\n",
       "      <td>73.561616</td>\n",
       "    </tr>\n",
       "    <tr>\n",
       "      <th>5</th>\n",
       "      <td>7</td>\n",
       "      <td>0.064269</td>\n",
       "      <td>72.039945</td>\n",
       "    </tr>\n",
       "    <tr>\n",
       "      <th>6</th>\n",
       "      <td>8</td>\n",
       "      <td>0.060737</td>\n",
       "      <td>70.833391</td>\n",
       "    </tr>\n",
       "    <tr>\n",
       "      <th>7</th>\n",
       "      <td>9</td>\n",
       "      <td>0.048452</td>\n",
       "      <td>69.989813</td>\n",
       "    </tr>\n",
       "  </tbody>\n",
       "</table>\n",
       "</div>"
      ],
      "text/plain": [
       "   k  silhouette    inertia\n",
       "0  2    0.124651  89.288831\n",
       "1  3    0.120076  82.436943\n",
       "2  4    0.085710  78.167313\n",
       "3  5    0.085884  75.438487\n",
       "4  6    0.068866  73.561616\n",
       "5  7    0.064269  72.039945\n",
       "6  8    0.060737  70.833391\n",
       "7  9    0.048452  69.989813"
      ]
     },
     "execution_count": 222,
     "metadata": {
      "tags": []
     },
     "output_type": "execute_result"
    }
   ],
   "source": [
    "find_scores_k(X_pca_t)"
   ]
  },
  {
   "cell_type": "code",
   "execution_count": 223,
   "metadata": {
    "colab": {
     "base_uri": "https://localhost:8080/",
     "height": 297
    },
    "id": "3Ci7dxZvBfo1",
    "outputId": "7f065e0d-a1f3-4c59-fab7-459100c9040f"
   },
   "outputs": [
    {
     "data": {
      "text/html": [
       "<div>\n",
       "<style scoped>\n",
       "    .dataframe tbody tr th:only-of-type {\n",
       "        vertical-align: middle;\n",
       "    }\n",
       "\n",
       "    .dataframe tbody tr th {\n",
       "        vertical-align: top;\n",
       "    }\n",
       "\n",
       "    .dataframe thead th {\n",
       "        text-align: right;\n",
       "    }\n",
       "</style>\n",
       "<table border=\"1\" class=\"dataframe\">\n",
       "  <thead>\n",
       "    <tr style=\"text-align: right;\">\n",
       "      <th></th>\n",
       "      <th>k</th>\n",
       "      <th>silhouette</th>\n",
       "      <th>inertia</th>\n",
       "    </tr>\n",
       "  </thead>\n",
       "  <tbody>\n",
       "    <tr>\n",
       "      <th>0</th>\n",
       "      <td>2</td>\n",
       "      <td>0.090810</td>\n",
       "      <td>89661.227796</td>\n",
       "    </tr>\n",
       "    <tr>\n",
       "      <th>1</th>\n",
       "      <td>3</td>\n",
       "      <td>0.075133</td>\n",
       "      <td>84587.201210</td>\n",
       "    </tr>\n",
       "    <tr>\n",
       "      <th>2</th>\n",
       "      <td>4</td>\n",
       "      <td>0.056481</td>\n",
       "      <td>82131.774507</td>\n",
       "    </tr>\n",
       "    <tr>\n",
       "      <th>3</th>\n",
       "      <td>5</td>\n",
       "      <td>0.044083</td>\n",
       "      <td>80293.605405</td>\n",
       "    </tr>\n",
       "    <tr>\n",
       "      <th>4</th>\n",
       "      <td>6</td>\n",
       "      <td>0.036225</td>\n",
       "      <td>79047.113703</td>\n",
       "    </tr>\n",
       "    <tr>\n",
       "      <th>5</th>\n",
       "      <td>7</td>\n",
       "      <td>0.047083</td>\n",
       "      <td>77713.096867</td>\n",
       "    </tr>\n",
       "    <tr>\n",
       "      <th>6</th>\n",
       "      <td>8</td>\n",
       "      <td>0.036590</td>\n",
       "      <td>76328.848728</td>\n",
       "    </tr>\n",
       "    <tr>\n",
       "      <th>7</th>\n",
       "      <td>9</td>\n",
       "      <td>0.036538</td>\n",
       "      <td>75561.327441</td>\n",
       "    </tr>\n",
       "  </tbody>\n",
       "</table>\n",
       "</div>"
      ],
      "text/plain": [
       "   k  silhouette       inertia\n",
       "0  2    0.090810  89661.227796\n",
       "1  3    0.075133  84587.201210\n",
       "2  4    0.056481  82131.774507\n",
       "3  5    0.044083  80293.605405\n",
       "4  6    0.036225  79047.113703\n",
       "5  7    0.047083  77713.096867\n",
       "6  8    0.036590  76328.848728\n",
       "7  9    0.036538  75561.327441"
      ]
     },
     "execution_count": 223,
     "metadata": {
      "tags": []
     },
     "output_type": "execute_result"
    }
   ],
   "source": [
    "find_scores_k(X_pca_sc_t)"
   ]
  },
  {
   "cell_type": "code",
   "execution_count": 224,
   "metadata": {
    "colab": {
     "base_uri": "https://localhost:8080/",
     "height": 297
    },
    "id": "QflL726Fci-A",
    "outputId": "8b2522a0-da21-410d-c288-47622453d4c3"
   },
   "outputs": [
    {
     "data": {
      "text/html": [
       "<div>\n",
       "<style scoped>\n",
       "    .dataframe tbody tr th:only-of-type {\n",
       "        vertical-align: middle;\n",
       "    }\n",
       "\n",
       "    .dataframe tbody tr th {\n",
       "        vertical-align: top;\n",
       "    }\n",
       "\n",
       "    .dataframe thead th {\n",
       "        text-align: right;\n",
       "    }\n",
       "</style>\n",
       "<table border=\"1\" class=\"dataframe\">\n",
       "  <thead>\n",
       "    <tr style=\"text-align: right;\">\n",
       "      <th></th>\n",
       "      <th>k</th>\n",
       "      <th>silhouette</th>\n",
       "      <th>inertia</th>\n",
       "    </tr>\n",
       "  </thead>\n",
       "  <tbody>\n",
       "    <tr>\n",
       "      <th>0</th>\n",
       "      <td>2</td>\n",
       "      <td>0.475723</td>\n",
       "      <td>44560.759396</td>\n",
       "    </tr>\n",
       "    <tr>\n",
       "      <th>1</th>\n",
       "      <td>3</td>\n",
       "      <td>0.449152</td>\n",
       "      <td>26597.280675</td>\n",
       "    </tr>\n",
       "    <tr>\n",
       "      <th>2</th>\n",
       "      <td>4</td>\n",
       "      <td>0.450623</td>\n",
       "      <td>17969.752696</td>\n",
       "    </tr>\n",
       "    <tr>\n",
       "      <th>3</th>\n",
       "      <td>5</td>\n",
       "      <td>0.414081</td>\n",
       "      <td>14212.990579</td>\n",
       "    </tr>\n",
       "    <tr>\n",
       "      <th>4</th>\n",
       "      <td>6</td>\n",
       "      <td>0.417347</td>\n",
       "      <td>12225.012944</td>\n",
       "    </tr>\n",
       "    <tr>\n",
       "      <th>5</th>\n",
       "      <td>7</td>\n",
       "      <td>0.378586</td>\n",
       "      <td>10843.478210</td>\n",
       "    </tr>\n",
       "    <tr>\n",
       "      <th>6</th>\n",
       "      <td>8</td>\n",
       "      <td>0.368736</td>\n",
       "      <td>9478.672616</td>\n",
       "    </tr>\n",
       "    <tr>\n",
       "      <th>7</th>\n",
       "      <td>9</td>\n",
       "      <td>0.353708</td>\n",
       "      <td>8616.718024</td>\n",
       "    </tr>\n",
       "  </tbody>\n",
       "</table>\n",
       "</div>"
      ],
      "text/plain": [
       "   k  silhouette       inertia\n",
       "0  2    0.475723  44560.759396\n",
       "1  3    0.449152  26597.280675\n",
       "2  4    0.450623  17969.752696\n",
       "3  5    0.414081  14212.990579\n",
       "4  6    0.417347  12225.012944\n",
       "5  7    0.378586  10843.478210\n",
       "6  8    0.368736   9478.672616\n",
       "7  9    0.353708   8616.718024"
      ]
     },
     "execution_count": 224,
     "metadata": {
      "tags": []
     },
     "output_type": "execute_result"
    }
   ],
   "source": [
    "find_scores_k(X_tsne_t)"
   ]
  },
  {
   "cell_type": "code",
   "execution_count": 225,
   "metadata": {
    "colab": {
     "base_uri": "https://localhost:8080/",
     "height": 297
    },
    "id": "Gf_tFVZ1ciyN",
    "outputId": "cb93d4f5-3f06-4fd3-b949-635319b840df"
   },
   "outputs": [
    {
     "data": {
      "text/html": [
       "<div>\n",
       "<style scoped>\n",
       "    .dataframe tbody tr th:only-of-type {\n",
       "        vertical-align: middle;\n",
       "    }\n",
       "\n",
       "    .dataframe tbody tr th {\n",
       "        vertical-align: top;\n",
       "    }\n",
       "\n",
       "    .dataframe thead th {\n",
       "        text-align: right;\n",
       "    }\n",
       "</style>\n",
       "<table border=\"1\" class=\"dataframe\">\n",
       "  <thead>\n",
       "    <tr style=\"text-align: right;\">\n",
       "      <th></th>\n",
       "      <th>k</th>\n",
       "      <th>silhouette</th>\n",
       "      <th>inertia</th>\n",
       "    </tr>\n",
       "  </thead>\n",
       "  <tbody>\n",
       "    <tr>\n",
       "      <th>0</th>\n",
       "      <td>2</td>\n",
       "      <td>0.491700</td>\n",
       "      <td>43583.467867</td>\n",
       "    </tr>\n",
       "    <tr>\n",
       "      <th>1</th>\n",
       "      <td>3</td>\n",
       "      <td>0.452332</td>\n",
       "      <td>26546.493028</td>\n",
       "    </tr>\n",
       "    <tr>\n",
       "      <th>2</th>\n",
       "      <td>4</td>\n",
       "      <td>0.443521</td>\n",
       "      <td>18067.214106</td>\n",
       "    </tr>\n",
       "    <tr>\n",
       "      <th>3</th>\n",
       "      <td>5</td>\n",
       "      <td>0.405653</td>\n",
       "      <td>14455.221734</td>\n",
       "    </tr>\n",
       "    <tr>\n",
       "      <th>4</th>\n",
       "      <td>6</td>\n",
       "      <td>0.395743</td>\n",
       "      <td>12545.326534</td>\n",
       "    </tr>\n",
       "    <tr>\n",
       "      <th>5</th>\n",
       "      <td>7</td>\n",
       "      <td>0.381413</td>\n",
       "      <td>11088.445155</td>\n",
       "    </tr>\n",
       "    <tr>\n",
       "      <th>6</th>\n",
       "      <td>8</td>\n",
       "      <td>0.367013</td>\n",
       "      <td>9668.914924</td>\n",
       "    </tr>\n",
       "    <tr>\n",
       "      <th>7</th>\n",
       "      <td>9</td>\n",
       "      <td>0.361744</td>\n",
       "      <td>8474.978253</td>\n",
       "    </tr>\n",
       "  </tbody>\n",
       "</table>\n",
       "</div>"
      ],
      "text/plain": [
       "   k  silhouette       inertia\n",
       "0  2    0.491700  43583.467867\n",
       "1  3    0.452332  26546.493028\n",
       "2  4    0.443521  18067.214106\n",
       "3  5    0.405653  14455.221734\n",
       "4  6    0.395743  12545.326534\n",
       "5  7    0.381413  11088.445155\n",
       "6  8    0.367013   9668.914924\n",
       "7  9    0.361744   8474.978253"
      ]
     },
     "execution_count": 225,
     "metadata": {
      "tags": []
     },
     "output_type": "execute_result"
    }
   ],
   "source": [
    "find_scores_k(X_tsne_sc_t)"
   ]
  },
  {
   "cell_type": "code",
   "execution_count": 226,
   "metadata": {
    "colab": {
     "base_uri": "https://localhost:8080/",
     "height": 297
    },
    "id": "Hj9Rebr7pfBC",
    "outputId": "8622905c-8259-4bbf-efc5-81325600183d"
   },
   "outputs": [
    {
     "data": {
      "text/html": [
       "<div>\n",
       "<style scoped>\n",
       "    .dataframe tbody tr th:only-of-type {\n",
       "        vertical-align: middle;\n",
       "    }\n",
       "\n",
       "    .dataframe tbody tr th {\n",
       "        vertical-align: top;\n",
       "    }\n",
       "\n",
       "    .dataframe thead th {\n",
       "        text-align: right;\n",
       "    }\n",
       "</style>\n",
       "<table border=\"1\" class=\"dataframe\">\n",
       "  <thead>\n",
       "    <tr style=\"text-align: right;\">\n",
       "      <th></th>\n",
       "      <th>k</th>\n",
       "      <th>silhouette</th>\n",
       "      <th>inertia</th>\n",
       "    </tr>\n",
       "  </thead>\n",
       "  <tbody>\n",
       "    <tr>\n",
       "      <th>0</th>\n",
       "      <td>2</td>\n",
       "      <td>0.483249</td>\n",
       "      <td>44747.263241</td>\n",
       "    </tr>\n",
       "    <tr>\n",
       "      <th>1</th>\n",
       "      <td>3</td>\n",
       "      <td>0.468100</td>\n",
       "      <td>26352.085775</td>\n",
       "    </tr>\n",
       "    <tr>\n",
       "      <th>2</th>\n",
       "      <td>4</td>\n",
       "      <td>0.443681</td>\n",
       "      <td>18401.527585</td>\n",
       "    </tr>\n",
       "    <tr>\n",
       "      <th>3</th>\n",
       "      <td>5</td>\n",
       "      <td>0.408471</td>\n",
       "      <td>14463.115771</td>\n",
       "    </tr>\n",
       "    <tr>\n",
       "      <th>4</th>\n",
       "      <td>6</td>\n",
       "      <td>0.405933</td>\n",
       "      <td>12368.782361</td>\n",
       "    </tr>\n",
       "    <tr>\n",
       "      <th>5</th>\n",
       "      <td>7</td>\n",
       "      <td>0.369610</td>\n",
       "      <td>10964.021552</td>\n",
       "    </tr>\n",
       "    <tr>\n",
       "      <th>6</th>\n",
       "      <td>8</td>\n",
       "      <td>0.388082</td>\n",
       "      <td>9749.389463</td>\n",
       "    </tr>\n",
       "    <tr>\n",
       "      <th>7</th>\n",
       "      <td>9</td>\n",
       "      <td>0.371606</td>\n",
       "      <td>8515.256779</td>\n",
       "    </tr>\n",
       "  </tbody>\n",
       "</table>\n",
       "</div>"
      ],
      "text/plain": [
       "   k  silhouette       inertia\n",
       "0  2    0.483249  44747.263241\n",
       "1  3    0.468100  26352.085775\n",
       "2  4    0.443681  18401.527585\n",
       "3  5    0.408471  14463.115771\n",
       "4  6    0.405933  12368.782361\n",
       "5  7    0.369610  10964.021552\n",
       "6  8    0.388082   9749.389463\n",
       "7  9    0.371606   8515.256779"
      ]
     },
     "execution_count": 226,
     "metadata": {
      "tags": []
     },
     "output_type": "execute_result"
    }
   ],
   "source": [
    "find_scores_k(X_tsne_pca_t)"
   ]
  },
  {
   "cell_type": "code",
   "execution_count": 227,
   "metadata": {
    "colab": {
     "base_uri": "https://localhost:8080/",
     "height": 297
    },
    "id": "3a5s7vmCpe2K",
    "outputId": "cca40487-a6d5-4010-de6e-6243fc93b56b"
   },
   "outputs": [
    {
     "data": {
      "text/html": [
       "<div>\n",
       "<style scoped>\n",
       "    .dataframe tbody tr th:only-of-type {\n",
       "        vertical-align: middle;\n",
       "    }\n",
       "\n",
       "    .dataframe tbody tr th {\n",
       "        vertical-align: top;\n",
       "    }\n",
       "\n",
       "    .dataframe thead th {\n",
       "        text-align: right;\n",
       "    }\n",
       "</style>\n",
       "<table border=\"1\" class=\"dataframe\">\n",
       "  <thead>\n",
       "    <tr style=\"text-align: right;\">\n",
       "      <th></th>\n",
       "      <th>k</th>\n",
       "      <th>silhouette</th>\n",
       "      <th>inertia</th>\n",
       "    </tr>\n",
       "  </thead>\n",
       "  <tbody>\n",
       "    <tr>\n",
       "      <th>0</th>\n",
       "      <td>2</td>\n",
       "      <td>0.399917</td>\n",
       "      <td>46761.772754</td>\n",
       "    </tr>\n",
       "    <tr>\n",
       "      <th>1</th>\n",
       "      <td>3</td>\n",
       "      <td>0.416390</td>\n",
       "      <td>29325.537710</td>\n",
       "    </tr>\n",
       "    <tr>\n",
       "      <th>2</th>\n",
       "      <td>4</td>\n",
       "      <td>0.403488</td>\n",
       "      <td>20299.432178</td>\n",
       "    </tr>\n",
       "    <tr>\n",
       "      <th>3</th>\n",
       "      <td>5</td>\n",
       "      <td>0.384907</td>\n",
       "      <td>15813.567750</td>\n",
       "    </tr>\n",
       "    <tr>\n",
       "      <th>4</th>\n",
       "      <td>6</td>\n",
       "      <td>0.353235</td>\n",
       "      <td>13527.994728</td>\n",
       "    </tr>\n",
       "    <tr>\n",
       "      <th>5</th>\n",
       "      <td>7</td>\n",
       "      <td>0.340908</td>\n",
       "      <td>11702.219975</td>\n",
       "    </tr>\n",
       "    <tr>\n",
       "      <th>6</th>\n",
       "      <td>8</td>\n",
       "      <td>0.362570</td>\n",
       "      <td>10107.229147</td>\n",
       "    </tr>\n",
       "    <tr>\n",
       "      <th>7</th>\n",
       "      <td>9</td>\n",
       "      <td>0.358647</td>\n",
       "      <td>8954.290356</td>\n",
       "    </tr>\n",
       "  </tbody>\n",
       "</table>\n",
       "</div>"
      ],
      "text/plain": [
       "   k  silhouette       inertia\n",
       "0  2    0.399917  46761.772754\n",
       "1  3    0.416390  29325.537710\n",
       "2  4    0.403488  20299.432178\n",
       "3  5    0.384907  15813.567750\n",
       "4  6    0.353235  13527.994728\n",
       "5  7    0.340908  11702.219975\n",
       "6  8    0.362570  10107.229147\n",
       "7  9    0.358647   8954.290356"
      ]
     },
     "execution_count": 227,
     "metadata": {
      "tags": []
     },
     "output_type": "execute_result"
    }
   ],
   "source": [
    "find_scores_k(X_tsne_pca_sc_t)"
   ]
  },
  {
   "cell_type": "markdown",
   "metadata": {
    "id": "7TQ82Yowpetj"
   },
   "source": [
    "#### Plotting clusters for the best TF-IDF model"
   ]
  },
  {
   "cell_type": "code",
   "execution_count": 266,
   "metadata": {
    "colab": {
     "base_uri": "https://localhost:8080/",
     "height": 526
    },
    "id": "q0b9UMjWBfet",
    "outputId": "1deeb4ea-98d4-4256-b26e-ce73390997a5"
   },
   "outputs": [
    {
     "data": {
      "image/png": "[encoded data removed]",
      "text/plain": [
       "<Figure size 864x576 with 1 Axes>"
      ]
     },
     "metadata": {
      "needs_background": "light",
      "tags": []
     },
     "output_type": "display_data"
    }
   ],
   "source": [
    "plot_k_clusters(2, X_tsne_sc_t)"
   ]
  },
  {
   "cell_type": "markdown",
   "metadata": {},
   "source": [
    "#### Plotting Silhouette Scores for the best TF-IDF model"
   ]
  },
  {
   "cell_type": "code",
   "execution_count": 267,
   "metadata": {
    "colab": {
     "base_uri": "https://localhost:8080/",
     "height": 553
    },
    "id": "wZ75B3xU8X11",
    "outputId": "3b73f480-fd22-49d4-d309-739c0d65d7b7"
   },
   "outputs": [
    {
     "data": {
      "image/png": "[encoded data removed]",
      "text/plain": [
       "<Figure size 864x648 with 1 Axes>"
      ]
     },
     "metadata": {
      "needs_background": "light",
      "tags": []
     },
     "output_type": "display_data"
    }
   ],
   "source": [
    "plot_sil_score(X_tsne_sc_t)"
   ]
  },
  {
   "cell_type": "markdown",
   "metadata": {},
   "source": [
    "#### Plotting Inertia Values for the best TF-IDF model"
   ]
  },
  {
   "cell_type": "code",
   "execution_count": 268,
   "metadata": {
    "colab": {
     "base_uri": "https://localhost:8080/",
     "height": 553
    },
    "id": "dV7dnJGA8V8r",
    "outputId": "ae783799-28b6-4254-b74a-60c15b10a1f1"
   },
   "outputs": [
    {
     "data": {
      "image/png": "[encoded data removed]",
      "text/plain": [
       "<Figure size 864x648 with 1 Axes>"
      ]
     },
     "metadata": {
      "needs_background": "light",
      "tags": []
     },
     "output_type": "display_data"
    }
   ],
   "source": [
    "plot_inertia_score(X_tsne_sc_t)"
   ]
  },
  {
   "cell_type": "markdown",
   "metadata": {},
   "source": [
    "## CVEC, TF-IDF and DBSCAN"
   ]
  },
  {
   "cell_type": "code",
   "execution_count": 231,
   "metadata": {
    "colab": {
     "base_uri": "https://localhost:8080/",
     "height": 526
    },
    "id": "fP6tNvTvELO3",
    "outputId": "2aed1711-19cb-4161-b43f-fd9dd80cd927"
   },
   "outputs": [
    {
     "data": {
      "image/png": "[encoded data removed]",
      "text/plain": [
       "<Figure size 864x576 with 1 Axes>"
      ]
     },
     "metadata": {
      "needs_background": "light",
      "tags": []
     },
     "output_type": "display_data"
    }
   ],
   "source": [
    "find_epsilon(X_tsne_t, 7)"
   ]
  },
  {
   "cell_type": "code",
   "execution_count": 232,
   "metadata": {
    "colab": {
     "base_uri": "https://localhost:8080/",
     "height": 526
    },
    "id": "xuZ-ktbSEdHc",
    "outputId": "80810089-c8cc-484a-8291-9a5b97dfb62d"
   },
   "outputs": [
    {
     "data": {
      "image/png": "[encoded data removed]",
      "text/plain": [
       "<Figure size 864x576 with 1 Axes>"
      ]
     },
     "metadata": {
      "needs_background": "light",
      "tags": []
     },
     "output_type": "display_data"
    }
   ],
   "source": [
    "find_epsilon(X_c, 7)"
   ]
  },
  {
   "cell_type": "code",
   "execution_count": 233,
   "metadata": {
    "colab": {
     "base_uri": "https://localhost:8080/"
    },
    "id": "CD4Jf-CWFOqM",
    "outputId": "751492a4-e6bf-4f69-8491-8eb7695cbcf2"
   },
   "outputs": [
    {
     "name": "stdout",
     "output_type": "stream",
     "text": [
      "{0, 1, 2, 3, 4, 5, 6, 7, 8, 9, 10, 11, 12, -1}\n",
      "-0.17331216363430266\n",
      "--------------------\n",
      "-1     343\n",
      " 4      23\n",
      " 1      22\n",
      " 0      19\n",
      " 6      18\n",
      " 5      18\n",
      " 3      16\n",
      " 2      14\n",
      " 8      11\n",
      " 7      10\n",
      " 11      7\n",
      " 10      7\n",
      " 9       7\n",
      " 12      6\n",
      "Name: dbscan_label, dtype: int64\n",
      "--------------------\n"
     ]
    }
   ],
   "source": [
    "find_scores_db(X_tsne_t, 1.4)"
   ]
  },
  {
   "cell_type": "code",
   "execution_count": 234,
   "metadata": {
    "colab": {
     "base_uri": "https://localhost:8080/",
     "height": 526
    },
    "id": "L34PkHR6EzMF",
    "outputId": "4d422ae8-943e-4355-b695-2aeef0c1f703"
   },
   "outputs": [
    {
     "data": {
      "image/png": "[encoded data removed]",
      "text/plain": [
       "<Figure size 864x576 with 1 Axes>"
      ]
     },
     "metadata": {
      "needs_background": "light",
      "tags": []
     },
     "output_type": "display_data"
    }
   ],
   "source": [
    "find_epsilon(X_sc_c, 7)"
   ]
  },
  {
   "cell_type": "code",
   "execution_count": 235,
   "metadata": {
    "colab": {
     "base_uri": "https://localhost:8080/"
    },
    "id": "8wtYRL0bFWCa",
    "outputId": "24db81c8-1a3f-4a5a-a502-52ed12f47ce7"
   },
   "outputs": [
    {
     "name": "stdout",
     "output_type": "stream",
     "text": [
      "{0, -1}\n",
      "0.07335318630924256\n",
      "--------------------\n",
      " 0    489\n",
      "-1     32\n",
      "Name: dbscan_label, dtype: int64\n",
      "--------------------\n"
     ]
    }
   ],
   "source": [
    "find_scores_db(X_sc_c, 18)"
   ]
  },
  {
   "cell_type": "code",
   "execution_count": 236,
   "metadata": {
    "colab": {
     "base_uri": "https://localhost:8080/",
     "height": 526
    },
    "id": "bXiwKRr1EzAt",
    "outputId": "48dd1968-775f-49c4-e008-5bd694b7588d"
   },
   "outputs": [
    {
     "data": {
      "image/png": "[encoded data removed]",
      "text/plain": [
       "<Figure size 864x576 with 1 Axes>"
      ]
     },
     "metadata": {
      "needs_background": "light",
      "tags": []
     },
     "output_type": "display_data"
    }
   ],
   "source": [
    "find_epsilon(X_pca_c, 7)"
   ]
  },
  {
   "cell_type": "code",
   "execution_count": 237,
   "metadata": {
    "colab": {
     "base_uri": "https://localhost:8080/"
    },
    "id": "GY6e5H2mFbPu",
    "outputId": "f80738b9-d9eb-401a-d450-ba56445e454d"
   },
   "outputs": [
    {
     "name": "stdout",
     "output_type": "stream",
     "text": [
      "{0, -1}\n",
      "0.05968682029016115\n",
      "--------------------\n",
      " 0    507\n",
      "-1     14\n",
      "Name: dbscan_label, dtype: int64\n",
      "--------------------\n"
     ]
    }
   ],
   "source": [
    "find_scores_db(X_pca_c, 1500)"
   ]
  },
  {
   "cell_type": "code",
   "execution_count": 238,
   "metadata": {
    "colab": {
     "base_uri": "https://localhost:8080/",
     "height": 526
    },
    "id": "lPZ4EkidEy1d",
    "outputId": "b0086075-104a-4e85-9e6e-9d1b39f1fbd9"
   },
   "outputs": [
    {
     "data": {
      "image/png": "[encoded data removed]",
      "text/plain": [
       "<Figure size 864x576 with 1 Axes>"
      ]
     },
     "metadata": {
      "needs_background": "light",
      "tags": []
     },
     "output_type": "display_data"
    }
   ],
   "source": [
    "find_epsilon(X_pca_sc_c, 7)"
   ]
  },
  {
   "cell_type": "code",
   "execution_count": 239,
   "metadata": {
    "colab": {
     "base_uri": "https://localhost:8080/"
    },
    "id": "DZeRLl_vFhRT",
    "outputId": "5570c61c-49be-4309-e67e-925158778d33"
   },
   "outputs": [
    {
     "name": "stdout",
     "output_type": "stream",
     "text": [
      "{0, -1}\n",
      "0.08055669457762471\n",
      "--------------------\n",
      " 0    497\n",
      "-1     24\n",
      "Name: dbscan_label, dtype: int64\n",
      "--------------------\n"
     ]
    }
   ],
   "source": [
    "find_scores_db(X_pca_sc_c, 18)"
   ]
  },
  {
   "cell_type": "code",
   "execution_count": 239,
   "metadata": {
    "id": "ZnclSS31Eyo0"
   },
   "outputs": [],
   "source": []
  },
  {
   "cell_type": "code",
   "execution_count": 240,
   "metadata": {
    "colab": {
     "base_uri": "https://localhost:8080/",
     "height": 526
    },
    "id": "OzG0T8yBEc87",
    "outputId": "b02e7645-a9ae-4f98-eabb-961da3c010df"
   },
   "outputs": [
    {
     "data": {
      "image/png": "[encoded data removed]",
      "text/plain": [
       "<Figure size 864x576 with 1 Axes>"
      ]
     },
     "metadata": {
      "needs_background": "light",
      "tags": []
     },
     "output_type": "display_data"
    }
   ],
   "source": [
    "find_epsilon(X_t, 7)"
   ]
  },
  {
   "cell_type": "code",
   "execution_count": 241,
   "metadata": {
    "colab": {
     "base_uri": "https://localhost:8080/"
    },
    "id": "ECmjFDS3FrK5",
    "outputId": "a2c3360f-bc28-4ae0-b284-9bce0df2a314"
   },
   "outputs": [
    {
     "name": "stdout",
     "output_type": "stream",
     "text": [
      "{0, -1}\n",
      "0.20969538941996518\n",
      "--------------------\n",
      " 0    486\n",
      "-1     35\n",
      "Name: dbscan_label, dtype: int64\n",
      "--------------------\n"
     ]
    }
   ],
   "source": [
    "find_scores_db(X_t, 0.5)"
   ]
  },
  {
   "cell_type": "code",
   "execution_count": 242,
   "metadata": {
    "colab": {
     "base_uri": "https://localhost:8080/",
     "height": 526
    },
    "id": "xKP5cmfpEcva",
    "outputId": "ac109e53-baed-4f8d-9b41-7c3a65a7be52"
   },
   "outputs": [
    {
     "data": {
      "image/png": "[encoded data removed]",
      "text/plain": [
       "<Figure size 864x576 with 1 Axes>"
      ]
     },
     "metadata": {
      "needs_background": "light",
      "tags": []
     },
     "output_type": "display_data"
    }
   ],
   "source": [
    "find_epsilon(X_sc_t, 7)"
   ]
  },
  {
   "cell_type": "code",
   "execution_count": 243,
   "metadata": {
    "colab": {
     "base_uri": "https://localhost:8080/"
    },
    "id": "bE5-erVYF1Hc",
    "outputId": "cbb10bbb-f615-484e-dc2a-d84782d2139e"
   },
   "outputs": [
    {
     "name": "stdout",
     "output_type": "stream",
     "text": [
      "{0, -1}\n",
      "0.244243238022162\n",
      "--------------------\n",
      " 0    497\n",
      "-1     24\n",
      "Name: dbscan_label, dtype: int64\n",
      "--------------------\n"
     ]
    }
   ],
   "source": [
    "find_scores_db(X_sc_t, 18)"
   ]
  },
  {
   "cell_type": "code",
   "execution_count": 244,
   "metadata": {
    "colab": {
     "base_uri": "https://localhost:8080/",
     "height": 526
    },
    "id": "gQOAuBQHELrr",
    "outputId": "13569e96-b554-4899-d6cd-7a2974562cce"
   },
   "outputs": [
    {
     "data": {
      "image/png": "[encoded data removed]",
      "text/plain": [
       "<Figure size 864x576 with 1 Axes>"
      ]
     },
     "metadata": {
      "needs_background": "light",
      "tags": []
     },
     "output_type": "display_data"
    }
   ],
   "source": [
    "find_epsilon(X_pca_t, 7)"
   ]
  },
  {
   "cell_type": "code",
   "execution_count": 245,
   "metadata": {
    "colab": {
     "base_uri": "https://localhost:8080/"
    },
    "id": "qt6nElU2F7Jw",
    "outputId": "a4e3617f-e4f5-49d6-d03b-d9f81cd66f37"
   },
   "outputs": [
    {
     "name": "stdout",
     "output_type": "stream",
     "text": [
      "{0, -1}\n",
      "0.1783601391352314\n",
      "--------------------\n",
      " 0    473\n",
      "-1     48\n",
      "Name: dbscan_label, dtype: int64\n",
      "--------------------\n"
     ]
    }
   ],
   "source": [
    "find_scores_db(X_pca_t, 0.45)"
   ]
  },
  {
   "cell_type": "code",
   "execution_count": 246,
   "metadata": {
    "colab": {
     "base_uri": "https://localhost:8080/",
     "height": 526
    },
    "id": "7rxvcvxwEMHz",
    "outputId": "6b0a400e-e7df-4704-b26c-b543b9517b43"
   },
   "outputs": [
    {
     "data": {
      "image/png": "[encoded data removed]",
      "text/plain": [
       "<Figure size 864x576 with 1 Axes>"
      ]
     },
     "metadata": {
      "needs_background": "light",
      "tags": []
     },
     "output_type": "display_data"
    }
   ],
   "source": [
    "find_epsilon(X_pca_sc_t, 7)"
   ]
  },
  {
   "cell_type": "markdown",
   "metadata": {},
   "source": [
    "**CVEC and DBSCAN as well as TF-IDF and DBSCAN did not produce good models as illustrated by the silhouette scores. DBSCAN will not, therefore, be pursued or discussed further.**"
   ]
  },
  {
   "cell_type": "markdown",
   "metadata": {},
   "source": [
    "## Cosine Similarity"
   ]
  },
  {
   "cell_type": "code",
   "execution_count": 248,
   "metadata": {
    "colab": {
     "base_uri": "https://localhost:8080/",
     "height": 224
    },
    "id": "XqZQPoZG-Dyz",
    "outputId": "4f162ba7-3a86-414b-8fec-36223a7ae04a"
   },
   "outputs": [
    {
     "data": {
      "text/html": [
       "<div>\n",
       "<style scoped>\n",
       "    .dataframe tbody tr th:only-of-type {\n",
       "        vertical-align: middle;\n",
       "    }\n",
       "\n",
       "    .dataframe tbody tr th {\n",
       "        vertical-align: top;\n",
       "    }\n",
       "\n",
       "    .dataframe thead th {\n",
       "        text-align: right;\n",
       "    }\n",
       "</style>\n",
       "<table border=\"1\" class=\"dataframe\">\n",
       "  <thead>\n",
       "    <tr style=\"text-align: right;\">\n",
       "      <th></th>\n",
       "      <th>0</th>\n",
       "      <th>1</th>\n",
       "      <th>2</th>\n",
       "      <th>3</th>\n",
       "      <th>4</th>\n",
       "      <th>5</th>\n",
       "      <th>6</th>\n",
       "      <th>7</th>\n",
       "      <th>8</th>\n",
       "      <th>9</th>\n",
       "      <th>10</th>\n",
       "      <th>11</th>\n",
       "      <th>12</th>\n",
       "      <th>13</th>\n",
       "      <th>14</th>\n",
       "      <th>15</th>\n",
       "      <th>16</th>\n",
       "      <th>17</th>\n",
       "      <th>18</th>\n",
       "      <th>19</th>\n",
       "      <th>20</th>\n",
       "      <th>21</th>\n",
       "      <th>22</th>\n",
       "      <th>23</th>\n",
       "      <th>24</th>\n",
       "      <th>25</th>\n",
       "      <th>26</th>\n",
       "      <th>27</th>\n",
       "      <th>28</th>\n",
       "      <th>29</th>\n",
       "      <th>30</th>\n",
       "      <th>31</th>\n",
       "      <th>32</th>\n",
       "      <th>33</th>\n",
       "      <th>34</th>\n",
       "      <th>35</th>\n",
       "      <th>36</th>\n",
       "      <th>37</th>\n",
       "      <th>38</th>\n",
       "      <th>39</th>\n",
       "      <th>40</th>\n",
       "      <th>41</th>\n",
       "      <th>42</th>\n",
       "      <th>43</th>\n",
       "      <th>44</th>\n",
       "      <th>45</th>\n",
       "      <th>46</th>\n",
       "      <th>47</th>\n",
       "      <th>48</th>\n",
       "      <th>49</th>\n",
       "    </tr>\n",
       "  </thead>\n",
       "  <tbody>\n",
       "    <tr>\n",
       "      <th>0</th>\n",
       "      <td>1.000000</td>\n",
       "      <td>0.999013</td>\n",
       "      <td>0.971070</td>\n",
       "      <td>0.997431</td>\n",
       "      <td>0.972539</td>\n",
       "      <td>0.998664</td>\n",
       "      <td>0.913769</td>\n",
       "      <td>0.984053</td>\n",
       "      <td>0.999624</td>\n",
       "      <td>0.998490</td>\n",
       "      <td>0.994817</td>\n",
       "      <td>0.999230</td>\n",
       "      <td>0.981602</td>\n",
       "      <td>0.563457</td>\n",
       "      <td>0.983904</td>\n",
       "      <td>0.941206</td>\n",
       "      <td>0.991468</td>\n",
       "      <td>0.691915</td>\n",
       "      <td>0.978560</td>\n",
       "      <td>0.999301</td>\n",
       "      <td>-0.044579</td>\n",
       "      <td>0.826812</td>\n",
       "      <td>0.858405</td>\n",
       "      <td>0.979647</td>\n",
       "      <td>0.247752</td>\n",
       "      <td>0.999937</td>\n",
       "      <td>0.941323</td>\n",
       "      <td>0.914697</td>\n",
       "      <td>-0.950343</td>\n",
       "      <td>0.970880</td>\n",
       "      <td>-0.518526</td>\n",
       "      <td>0.999442</td>\n",
       "      <td>0.812628</td>\n",
       "      <td>0.981543</td>\n",
       "      <td>0.998768</td>\n",
       "      <td>0.998850</td>\n",
       "      <td>-0.973072</td>\n",
       "      <td>0.184231</td>\n",
       "      <td>0.996658</td>\n",
       "      <td>-0.725170</td>\n",
       "      <td>-0.831241</td>\n",
       "      <td>0.923180</td>\n",
       "      <td>-0.990412</td>\n",
       "      <td>0.998141</td>\n",
       "      <td>-0.865145</td>\n",
       "      <td>0.999546</td>\n",
       "      <td>0.980225</td>\n",
       "      <td>0.959767</td>\n",
       "      <td>-0.998840</td>\n",
       "      <td>-0.660045</td>\n",
       "    </tr>\n",
       "    <tr>\n",
       "      <th>1</th>\n",
       "      <td>0.999013</td>\n",
       "      <td>1.000000</td>\n",
       "      <td>0.959505</td>\n",
       "      <td>0.993264</td>\n",
       "      <td>0.981917</td>\n",
       "      <td>0.995383</td>\n",
       "      <td>0.930912</td>\n",
       "      <td>0.990983</td>\n",
       "      <td>0.999856</td>\n",
       "      <td>0.999945</td>\n",
       "      <td>0.998352</td>\n",
       "      <td>0.999986</td>\n",
       "      <td>0.989114</td>\n",
       "      <td>0.599599</td>\n",
       "      <td>0.974995</td>\n",
       "      <td>0.925270</td>\n",
       "      <td>0.984699</td>\n",
       "      <td>0.723303</td>\n",
       "      <td>0.968445</td>\n",
       "      <td>0.996655</td>\n",
       "      <td>-0.088911</td>\n",
       "      <td>0.850981</td>\n",
       "      <td>0.834772</td>\n",
       "      <td>0.987596</td>\n",
       "      <td>0.290542</td>\n",
       "      <td>0.999448</td>\n",
       "      <td>0.925402</td>\n",
       "      <td>0.895842</td>\n",
       "      <td>-0.935581</td>\n",
       "      <td>0.980563</td>\n",
       "      <td>-0.480032</td>\n",
       "      <td>0.999939</td>\n",
       "      <td>0.837714</td>\n",
       "      <td>0.972079</td>\n",
       "      <td>0.999986</td>\n",
       "      <td>0.995734</td>\n",
       "      <td>-0.982350</td>\n",
       "      <td>0.227709</td>\n",
       "      <td>0.999303</td>\n",
       "      <td>-0.693868</td>\n",
       "      <td>-0.855115</td>\n",
       "      <td>0.905196</td>\n",
       "      <td>-0.983298</td>\n",
       "      <td>0.994448</td>\n",
       "      <td>-0.886569</td>\n",
       "      <td>0.997220</td>\n",
       "      <td>0.970467</td>\n",
       "      <td>0.946347</td>\n",
       "      <td>-0.999993</td>\n",
       "      <td>-0.692763</td>\n",
       "    </tr>\n",
       "    <tr>\n",
       "      <th>2</th>\n",
       "      <td>0.971070</td>\n",
       "      <td>0.959505</td>\n",
       "      <td>1.000000</td>\n",
       "      <td>0.985682</td>\n",
       "      <td>0.888826</td>\n",
       "      <td>0.982111</td>\n",
       "      <td>0.790328</td>\n",
       "      <td>0.913110</td>\n",
       "      <td>0.964153</td>\n",
       "      <td>0.956486</td>\n",
       "      <td>0.941756</td>\n",
       "      <td>0.960956</td>\n",
       "      <td>0.907609</td>\n",
       "      <td>0.349879</td>\n",
       "      <td>0.998112</td>\n",
       "      <td>0.994650</td>\n",
       "      <td>0.993912</td>\n",
       "      <td>0.499495</td>\n",
       "      <td>0.999433</td>\n",
       "      <td>0.979317</td>\n",
       "      <td>0.195266</td>\n",
       "      <td>0.668576</td>\n",
       "      <td>0.956066</td>\n",
       "      <td>0.903373</td>\n",
       "      <td>0.009236</td>\n",
       "      <td>0.968331</td>\n",
       "      <td>0.994685</td>\n",
       "      <td>0.984741</td>\n",
       "      <td>-0.997163</td>\n",
       "      <td>0.885585</td>\n",
       "      <td>-0.707709</td>\n",
       "      <td>0.962551</td>\n",
       "      <td>0.649955</td>\n",
       "      <td>0.998815</td>\n",
       "      <td>0.958022</td>\n",
       "      <td>0.981403</td>\n",
       "      <td>-0.889879</td>\n",
       "      <td>-0.055805</td>\n",
       "      <td>0.948318</td>\n",
       "      <td>-0.868617</td>\n",
       "      <td>-0.674446</td>\n",
       "      <td>0.988257</td>\n",
       "      <td>-0.994748</td>\n",
       "      <td>0.983819</td>\n",
       "      <td>-0.720357</td>\n",
       "      <td>0.977827</td>\n",
       "      <td>0.999121</td>\n",
       "      <td>0.999054</td>\n",
       "      <td>-0.958444</td>\n",
       "      <td>-0.461562</td>\n",
       "    </tr>\n",
       "    <tr>\n",
       "      <th>3</th>\n",
       "      <td>0.997431</td>\n",
       "      <td>0.993264</td>\n",
       "      <td>0.985682</td>\n",
       "      <td>1.000000</td>\n",
       "      <td>0.953367</td>\n",
       "      <td>0.999800</td>\n",
       "      <td>0.882320</td>\n",
       "      <td>0.968783</td>\n",
       "      <td>0.995090</td>\n",
       "      <td>0.991989</td>\n",
       "      <td>0.984977</td>\n",
       "      <td>0.993853</td>\n",
       "      <td>0.965401</td>\n",
       "      <td>0.502827</td>\n",
       "      <td>0.994178</td>\n",
       "      <td>0.962989</td>\n",
       "      <td>0.998259</td>\n",
       "      <td>0.638417</td>\n",
       "      <td>0.990800</td>\n",
       "      <td>0.999411</td>\n",
       "      <td>0.027101</td>\n",
       "      <td>0.784394</td>\n",
       "      <td>0.892948</td>\n",
       "      <td>0.962750</td>\n",
       "      <td>0.177712</td>\n",
       "      <td>0.996564</td>\n",
       "      <td>0.963083</td>\n",
       "      <td>0.941298</td>\n",
       "      <td>-0.970195</td>\n",
       "      <td>0.951223</td>\n",
       "      <td>-0.578448</td>\n",
       "      <td>0.994481</td>\n",
       "      <td>0.768792</td>\n",
       "      <td>0.992721</td>\n",
       "      <td>0.992646</td>\n",
       "      <td>0.999718</td>\n",
       "      <td>-0.954059</td>\n",
       "      <td>0.113347</td>\n",
       "      <td>0.988245</td>\n",
       "      <td>-0.772634</td>\n",
       "      <td>-0.789282</td>\n",
       "      <td>0.948343</td>\n",
       "      <td>-0.997764</td>\n",
       "      <td>0.999943</td>\n",
       "      <td>-0.826995</td>\n",
       "      <td>0.999137</td>\n",
       "      <td>0.991883</td>\n",
       "      <td>0.977417</td>\n",
       "      <td>-0.992824</td>\n",
       "      <td>-0.604534</td>\n",
       "    </tr>\n",
       "    <tr>\n",
       "      <th>4</th>\n",
       "      <td>0.972539</td>\n",
       "      <td>0.981917</td>\n",
       "      <td>0.888826</td>\n",
       "      <td>0.953367</td>\n",
       "      <td>1.000000</td>\n",
       "      <td>0.959214</td>\n",
       "      <td>0.983223</td>\n",
       "      <td>0.998428</td>\n",
       "      <td>0.978558</td>\n",
       "      <td>0.983855</td>\n",
       "      <td>0.991163</td>\n",
       "      <td>0.980920</td>\n",
       "      <td>0.999085</td>\n",
       "      <td>0.740262</td>\n",
       "      <td>0.915295</td>\n",
       "      <td>0.836731</td>\n",
       "      <td>0.933903</td>\n",
       "      <td>0.840949</td>\n",
       "      <td>0.903752</td>\n",
       "      <td>0.963160</td>\n",
       "      <td>-0.275865</td>\n",
       "      <td>0.935019</td>\n",
       "      <td>0.715442</td>\n",
       "      <td>0.999462</td>\n",
       "      <td>0.466434</td>\n",
       "      <td>0.975088</td>\n",
       "      <td>0.836921</td>\n",
       "      <td>0.795518</td>\n",
       "      <td>-0.851815</td>\n",
       "      <td>0.999975</td>\n",
       "      <td>-0.305278</td>\n",
       "      <td>0.979771</td>\n",
       "      <td>0.925950</td>\n",
       "      <td>0.910078</td>\n",
       "      <td>0.982891</td>\n",
       "      <td>0.960261</td>\n",
       "      <td>-0.999997</td>\n",
       "      <td>0.407929</td>\n",
       "      <td>0.988301</td>\n",
       "      <td>-0.544997</td>\n",
       "      <td>-0.937798</td>\n",
       "      <td>0.808370</td>\n",
       "      <td>-0.931062</td>\n",
       "      <td>0.956545</td>\n",
       "      <td>-0.958112</td>\n",
       "      <td>0.965081</td>\n",
       "      <td>0.907250</td>\n",
       "      <td>0.868057</td>\n",
       "      <td>-0.982618</td>\n",
       "      <td>-0.816761</td>\n",
       "    </tr>\n",
       "  </tbody>\n",
       "</table>\n",
       "</div>"
      ],
      "text/plain": [
       "         0         1         2         3         4         5         6   \\\n",
       "0  1.000000  0.999013  0.971070  0.997431  0.972539  0.998664  0.913769   \n",
       "1  0.999013  1.000000  0.959505  0.993264  0.981917  0.995383  0.930912   \n",
       "2  0.971070  0.959505  1.000000  0.985682  0.888826  0.982111  0.790328   \n",
       "3  0.997431  0.993264  0.985682  1.000000  0.953367  0.999800  0.882320   \n",
       "4  0.972539  0.981917  0.888826  0.953367  1.000000  0.959214  0.983223   \n",
       "\n",
       "         7         8         9         10        11        12        13  \\\n",
       "0  0.984053  0.999624  0.998490  0.994817  0.999230  0.981602  0.563457   \n",
       "1  0.990983  0.999856  0.999945  0.998352  0.999986  0.989114  0.599599   \n",
       "2  0.913110  0.964153  0.956486  0.941756  0.960956  0.907609  0.349879   \n",
       "3  0.968783  0.995090  0.991989  0.984977  0.993853  0.965401  0.502827   \n",
       "4  0.998428  0.978558  0.983855  0.991163  0.980920  0.999085  0.740262   \n",
       "\n",
       "         14        15        16        17        18        19        20  \\\n",
       "0  0.983904  0.941206  0.991468  0.691915  0.978560  0.999301 -0.044579   \n",
       "1  0.974995  0.925270  0.984699  0.723303  0.968445  0.996655 -0.088911   \n",
       "2  0.998112  0.994650  0.993912  0.499495  0.999433  0.979317  0.195266   \n",
       "3  0.994178  0.962989  0.998259  0.638417  0.990800  0.999411  0.027101   \n",
       "4  0.915295  0.836731  0.933903  0.840949  0.903752  0.963160 -0.275865   \n",
       "\n",
       "         21        22        23        24        25        26        27  \\\n",
       "0  0.826812  0.858405  0.979647  0.247752  0.999937  0.941323  0.914697   \n",
       "1  0.850981  0.834772  0.987596  0.290542  0.999448  0.925402  0.895842   \n",
       "2  0.668576  0.956066  0.903373  0.009236  0.968331  0.994685  0.984741   \n",
       "3  0.784394  0.892948  0.962750  0.177712  0.996564  0.963083  0.941298   \n",
       "4  0.935019  0.715442  0.999462  0.466434  0.975088  0.836921  0.795518   \n",
       "\n",
       "         28        29        30        31        32        33        34  \\\n",
       "0 -0.950343  0.970880 -0.518526  0.999442  0.812628  0.981543  0.998768   \n",
       "1 -0.935581  0.980563 -0.480032  0.999939  0.837714  0.972079  0.999986   \n",
       "2 -0.997163  0.885585 -0.707709  0.962551  0.649955  0.998815  0.958022   \n",
       "3 -0.970195  0.951223 -0.578448  0.994481  0.768792  0.992721  0.992646   \n",
       "4 -0.851815  0.999975 -0.305278  0.979771  0.925950  0.910078  0.982891   \n",
       "\n",
       "         35        36        37        38        39        40        41  \\\n",
       "0  0.998850 -0.973072  0.184231  0.996658 -0.725170 -0.831241  0.923180   \n",
       "1  0.995734 -0.982350  0.227709  0.999303 -0.693868 -0.855115  0.905196   \n",
       "2  0.981403 -0.889879 -0.055805  0.948318 -0.868617 -0.674446  0.988257   \n",
       "3  0.999718 -0.954059  0.113347  0.988245 -0.772634 -0.789282  0.948343   \n",
       "4  0.960261 -0.999997  0.407929  0.988301 -0.544997 -0.937798  0.808370   \n",
       "\n",
       "         42        43        44        45        46        47        48  \\\n",
       "0 -0.990412  0.998141 -0.865145  0.999546  0.980225  0.959767 -0.998840   \n",
       "1 -0.983298  0.994448 -0.886569  0.997220  0.970467  0.946347 -0.999993   \n",
       "2 -0.994748  0.983819 -0.720357  0.977827  0.999121  0.999054 -0.958444   \n",
       "3 -0.997764  0.999943 -0.826995  0.999137  0.991883  0.977417 -0.992824   \n",
       "4 -0.931062  0.956545 -0.958112  0.965081  0.907250  0.868057 -0.982618   \n",
       "\n",
       "         49  \n",
       "0 -0.660045  \n",
       "1 -0.692763  \n",
       "2 -0.461562  \n",
       "3 -0.604534  \n",
       "4 -0.816761  "
      ]
     },
     "execution_count": 248,
     "metadata": {
      "tags": []
     },
     "output_type": "execute_result"
    }
   ],
   "source": [
    "# Get the cosine similarity for each document\n",
    "# Help from Kelly Slatery\n",
    "# Looking at the first 50 documents\n",
    "vector_distances = pd.DataFrame(pairwise_distances(X_tsne_pca_sc_c[:50], X_tsne_pca_sc_c[:50], metric='cosine'))\n",
    "vector_distances.corr().head()"
   ]
  },
  {
   "cell_type": "code",
   "execution_count": 249,
   "metadata": {
    "colab": {
     "base_uri": "https://localhost:8080/",
     "height": 1000
    },
    "id": "N_9DJCcC-pq0",
    "outputId": "3026aa24-d87c-4019-a8f7-eb3e6bf03df6"
   },
   "outputs": [
    {
     "data": {
      "image/png": "[encoded data removed]",
      "text/plain": [
       "<Figure size 1296x1296 with 2 Axes>"
      ]
     },
     "metadata": {
      "needs_background": "light",
      "tags": []
     },
     "output_type": "display_data"
    }
   ],
   "source": [
    "# Seeing correlations between first 50 documents (dataset is too large with all documents) using cosine similarity\n",
    "plt.figure(figsize=(18,18))\n",
    "\n",
    "corr = vector_distances.corr()\n",
    "mask = np.zeros_like(corr)\n",
    "mask[np.triu_indices_from(mask)] = True\n",
    "\n",
    "sns.heatmap(corr, \n",
    "            cmap='crest', \n",
    "            vmax=1, \n",
    "            vmin=-1, \n",
    "            linecolor='white', \n",
    "            linewidths=1,\n",
    "            square=True, \n",
    "           mask=mask)\n",
    "\n",
    "plt.title('Corrlations Between Politician Vectors using Cosine Similarity', size=20)\n",
    "\n",
    "plt.show()"
   ]
  },
  {
   "cell_type": "code",
   "execution_count": 250,
   "metadata": {
    "colab": {
     "base_uri": "https://localhost:8080/",
     "height": 669
    },
    "id": "osI46XSdEMX4",
    "outputId": "a964f68c-82da-421a-a4e8-c2b89c5b9208"
   },
   "outputs": [
    {
     "data": {
      "text/html": [
       "<div>\n",
       "<style scoped>\n",
       "    .dataframe tbody tr th:only-of-type {\n",
       "        vertical-align: middle;\n",
       "    }\n",
       "\n",
       "    .dataframe tbody tr th {\n",
       "        vertical-align: top;\n",
       "    }\n",
       "\n",
       "    .dataframe thead th {\n",
       "        text-align: right;\n",
       "    }\n",
       "</style>\n",
       "<table border=\"1\" class=\"dataframe\">\n",
       "  <thead>\n",
       "    <tr style=\"text-align: right;\">\n",
       "      <th></th>\n",
       "      <th>0</th>\n",
       "      <th>1</th>\n",
       "    </tr>\n",
       "  </thead>\n",
       "  <tbody>\n",
       "    <tr>\n",
       "      <th>0</th>\n",
       "      <td>today</td>\n",
       "      <td>136868</td>\n",
       "    </tr>\n",
       "    <tr>\n",
       "      <th>1</th>\n",
       "      <td>work</td>\n",
       "      <td>128641</td>\n",
       "    </tr>\n",
       "    <tr>\n",
       "      <th>2</th>\n",
       "      <td>need</td>\n",
       "      <td>115104</td>\n",
       "    </tr>\n",
       "    <tr>\n",
       "      <th>3</th>\n",
       "      <td>trump</td>\n",
       "      <td>100434</td>\n",
       "    </tr>\n",
       "    <tr>\n",
       "      <th>4</th>\n",
       "      <td>help</td>\n",
       "      <td>100053</td>\n",
       "    </tr>\n",
       "    <tr>\n",
       "      <th>5</th>\n",
       "      <td>people</td>\n",
       "      <td>92826</td>\n",
       "    </tr>\n",
       "    <tr>\n",
       "      <th>6</th>\n",
       "      <td>act</td>\n",
       "      <td>92378</td>\n",
       "    </tr>\n",
       "    <tr>\n",
       "      <th>7</th>\n",
       "      <td>president</td>\n",
       "      <td>91200</td>\n",
       "    </tr>\n",
       "    <tr>\n",
       "      <th>8</th>\n",
       "      <td>thank</td>\n",
       "      <td>89566</td>\n",
       "    </tr>\n",
       "    <tr>\n",
       "      <th>9</th>\n",
       "      <td>community</td>\n",
       "      <td>88413</td>\n",
       "    </tr>\n",
       "    <tr>\n",
       "      <th>10</th>\n",
       "      <td>health</td>\n",
       "      <td>84340</td>\n",
       "    </tr>\n",
       "    <tr>\n",
       "      <th>11</th>\n",
       "      <td>family</td>\n",
       "      <td>82305</td>\n",
       "    </tr>\n",
       "    <tr>\n",
       "      <th>12</th>\n",
       "      <td>house</td>\n",
       "      <td>80427</td>\n",
       "    </tr>\n",
       "    <tr>\n",
       "      <th>13</th>\n",
       "      <td>time</td>\n",
       "      <td>79737</td>\n",
       "    </tr>\n",
       "    <tr>\n",
       "      <th>14</th>\n",
       "      <td>year</td>\n",
       "      <td>79589</td>\n",
       "    </tr>\n",
       "    <tr>\n",
       "      <th>15</th>\n",
       "      <td>support</td>\n",
       "      <td>79324</td>\n",
       "    </tr>\n",
       "    <tr>\n",
       "      <th>16</th>\n",
       "      <td>bill</td>\n",
       "      <td>78020</td>\n",
       "    </tr>\n",
       "    <tr>\n",
       "      <th>17</th>\n",
       "      <td>covid19</td>\n",
       "      <td>76430</td>\n",
       "    </tr>\n",
       "    <tr>\n",
       "      <th>18</th>\n",
       "      <td>new</td>\n",
       "      <td>74694</td>\n",
       "    </tr>\n",
       "    <tr>\n",
       "      <th>19</th>\n",
       "      <td>day</td>\n",
       "      <td>70942</td>\n",
       "    </tr>\n",
       "  </tbody>\n",
       "</table>\n",
       "</div>"
      ],
      "text/plain": [
       "            0       1\n",
       "0       today  136868\n",
       "1        work  128641\n",
       "2        need  115104\n",
       "3       trump  100434\n",
       "4        help  100053\n",
       "5      people   92826\n",
       "6         act   92378\n",
       "7   president   91200\n",
       "8       thank   89566\n",
       "9   community   88413\n",
       "10     health   84340\n",
       "11     family   82305\n",
       "12      house   80427\n",
       "13       time   79737\n",
       "14       year   79589\n",
       "15    support   79324\n",
       "16       bill   78020\n",
       "17    covid19   76430\n",
       "18        new   74694\n",
       "19        day   70942"
      ]
     },
     "execution_count": 250,
     "metadata": {
      "tags": []
     },
     "output_type": "execute_result"
    }
   ],
   "source": [
    "# count the most frequently occuring words \n",
    "\n",
    "# dictionary to hold column header, count (key, value)\n",
    "freq_words = {}\n",
    "\n",
    "# loop through columns\n",
    "for col in X_c.columns:\n",
    "    \n",
    "    # save sum of each column in dictionary\n",
    "    freq_words[col] = X_c[col].sum()  \n",
    "    \n",
    "# save dictionary words in a dataframe\n",
    "most_common = pd.DataFrame(sorted(freq_words.items(), key = lambda x: x[1], reverse = True))\n",
    "\n",
    "most_common[:20]\n"
   ]
  },
  {
   "cell_type": "markdown",
   "metadata": {
    "id": "CBMV-renELU4"
   },
   "source": [
    "### Exporting the Best CVEC model cluster labels"
   ]
  },
  {
   "cell_type": "code",
   "execution_count": 269,
   "metadata": {
    "colab": {
     "base_uri": "https://localhost:8080/"
    },
    "id": "khWl1nZhgEz3",
    "outputId": "4c2543d4-ca48-48aa-d97a-47df2ede4578"
   },
   "outputs": [
    {
     "name": "stdout",
     "output_type": "stream",
     "text": [
      "{0, 1}\n",
      "0.5465951\n",
      "--------------------\n",
      "0    278\n",
      "1    243\n",
      "Name: km_label_cvec, dtype: int64\n",
      "--------------------\n"
     ]
    }
   ],
   "source": [
    "# CVEC\n",
    "\n",
    "# Based on above information, fit model w/ info\n",
    "# from model w/ best silhouette & inertia scores to get labels\n",
    "# add cluster labels to dataframe\n",
    "\n",
    "km = KMeans(n_clusters=2, random_state=516)\n",
    "km.fit(X_tsne_pca_sc_c)\n",
    "km_means = km.predict(X_tsne_pca_sc_c)\n",
    "\n",
    "print(set(km.labels_))\n",
    "\n",
    "print(silhouette_score(X_tsne_pca_sc_c, km.labels_))\n",
    "\n",
    "print('--------------------')\n",
    "\n",
    "data['km_label_cvec'] = km.labels_\n",
    "\n",
    "print(data['km_label_cvec'].value_counts())\n",
    "\n",
    "print('--------------------')\n"
   ]
  },
  {
   "cell_type": "markdown",
   "metadata": {},
   "source": [
    "### Exporting the Best CVEC model cluster labels"
   ]
  },
  {
   "cell_type": "code",
   "execution_count": 270,
   "metadata": {
    "colab": {
     "base_uri": "https://localhost:8080/"
    },
    "id": "zqcmEJBNfJEb",
    "outputId": "6425c5a4-71a4-4159-b785-1ad4c0b38a00"
   },
   "outputs": [
    {
     "name": "stdout",
     "output_type": "stream",
     "text": [
      "{0, 1}\n",
      "0.49170032\n",
      "--------------------\n",
      "1    270\n",
      "0    251\n",
      "Name: km_label_tvec, dtype: int64\n",
      "--------------------\n"
     ]
    }
   ],
   "source": [
    "# TVEC\n",
    "\n",
    "# Based on above information, fit model w/ info\n",
    "# from model w/ best silhouette & inertia scores to get labels\n",
    "# add cluster labels to dataframe\n",
    "\n",
    "km = KMeans(n_clusters=2, random_state=516)\n",
    "km.fit(X_tsne_sc_t)\n",
    "km_means = km.predict(X_tsne_sc_t)\n",
    "\n",
    "print(set(km.labels_))\n",
    "\n",
    "print(silhouette_score(X_tsne_sc_t, km.labels_))\n",
    "\n",
    "print('--------------------')\n",
    "\n",
    "data['km_label_tvec'] = km.labels_\n",
    "\n",
    "print(data['km_label_tvec'].value_counts())\n",
    "\n",
    "print('--------------------')"
   ]
  },
  {
   "cell_type": "code",
   "execution_count": 253,
   "metadata": {
    "colab": {
     "base_uri": "https://localhost:8080/",
     "height": 162
    },
    "id": "-QAOcCUl2aq2",
    "outputId": "7918fc22-fc77-4d58-f018-96932421c3ac"
   },
   "outputs": [
    {
     "data": {
      "text/html": [
       "<div>\n",
       "<style scoped>\n",
       "    .dataframe tbody tr th:only-of-type {\n",
       "        vertical-align: middle;\n",
       "    }\n",
       "\n",
       "    .dataframe tbody tr th {\n",
       "        vertical-align: top;\n",
       "    }\n",
       "\n",
       "    .dataframe thead th {\n",
       "        text-align: right;\n",
       "    }\n",
       "</style>\n",
       "<table border=\"1\" class=\"dataframe\">\n",
       "  <thead>\n",
       "    <tr style=\"text-align: right;\">\n",
       "      <th></th>\n",
       "      <th>screen_name</th>\n",
       "      <th>state</th>\n",
       "      <th>position</th>\n",
       "      <th>name</th>\n",
       "      <th>party</th>\n",
       "      <th>tweet_count</th>\n",
       "      <th>text_concat_clean</th>\n",
       "      <th>liststring</th>\n",
       "      <th>vectors</th>\n",
       "      <th>text_length</th>\n",
       "      <th>word_length</th>\n",
       "      <th>km_label</th>\n",
       "      <th>dbscan_label</th>\n",
       "      <th>km_label_cvec</th>\n",
       "      <th>km_label_tvec</th>\n",
       "    </tr>\n",
       "  </thead>\n",
       "  <tbody>\n",
       "    <tr>\n",
       "      <th>0</th>\n",
       "      <td>CongressmanRaja</td>\n",
       "      <td>IL</td>\n",
       "      <td>Representative</td>\n",
       "      <td>Raja Krishnamoorthi</td>\n",
       "      <td>D</td>\n",
       "      <td>4845</td>\n",
       "      <td>['tonight', 'president', 'stage', 'elaborate',...</td>\n",
       "      <td>'tonight' 'president' 'stage' 'elaborate' 'pho...</td>\n",
       "      <td>[-0.2115751579, 0.39771672760000004, 0.0444499...</td>\n",
       "      <td>1623390</td>\n",
       "      <td>178283</td>\n",
       "      <td>1</td>\n",
       "      <td>0</td>\n",
       "      <td>0</td>\n",
       "      <td>1</td>\n",
       "    </tr>\n",
       "    <tr>\n",
       "      <th>1</th>\n",
       "      <td>RepMcGovern</td>\n",
       "      <td>MA</td>\n",
       "      <td>Representative</td>\n",
       "      <td>James McGovern</td>\n",
       "      <td>D</td>\n",
       "      <td>3587</td>\n",
       "      <td>['hell', 'Donald', 'Trump', 'think', 'teargass...</td>\n",
       "      <td>'hell' 'Donald' 'Trump' 'think' 'teargasse' 'p...</td>\n",
       "      <td>[-0.20878361280000002, 0.39065130130000003, 0....</td>\n",
       "      <td>1313476</td>\n",
       "      <td>154634</td>\n",
       "      <td>1</td>\n",
       "      <td>0</td>\n",
       "      <td>0</td>\n",
       "      <td>1</td>\n",
       "    </tr>\n",
       "  </tbody>\n",
       "</table>\n",
       "</div>"
      ],
      "text/plain": [
       "       screen_name state        position                 name party  \\\n",
       "0  CongressmanRaja    IL  Representative  Raja Krishnamoorthi     D   \n",
       "1      RepMcGovern    MA  Representative       James McGovern     D   \n",
       "\n",
       "   tweet_count                                  text_concat_clean  \\\n",
       "0         4845  ['tonight', 'president', 'stage', 'elaborate',...   \n",
       "1         3587  ['hell', 'Donald', 'Trump', 'think', 'teargass...   \n",
       "\n",
       "                                          liststring  \\\n",
       "0  'tonight' 'president' 'stage' 'elaborate' 'pho...   \n",
       "1  'hell' 'Donald' 'Trump' 'think' 'teargasse' 'p...   \n",
       "\n",
       "                                             vectors  text_length  \\\n",
       "0  [-0.2115751579, 0.39771672760000004, 0.0444499...      1623390   \n",
       "1  [-0.20878361280000002, 0.39065130130000003, 0....      1313476   \n",
       "\n",
       "   word_length  km_label  dbscan_label  km_label_cvec  km_label_tvec  \n",
       "0       178283         1             0              0              1  \n",
       "1       154634         1             0              0              1  "
      ]
     },
     "execution_count": 253,
     "metadata": {
      "tags": []
     },
     "output_type": "execute_result"
    }
   ],
   "source": [
    "data.head(2)"
   ]
  },
  {
   "cell_type": "markdown",
   "metadata": {
    "id": "jzGh1S6m2aMh"
   },
   "source": [
    "## Exporting Dataframe with cluster labels"
   ]
  },
  {
   "cell_type": "code",
   "execution_count": 271,
   "metadata": {
    "id": "EvA9UdTyFaTy"
   },
   "outputs": [],
   "source": [
    "# # Exporting in google colab. Update directory as needed.\n",
    "# data.to_csv('/content/drive/MyDrive/Python/vectors_labels_df.csv', index=False)\n",
    "\n",
    "# Export dataframe with kmeans and dbscan labels\n",
    "data.to_csv('./data/vectors_labels_df.csv', index=False)"
   ]
  }
 ],
 "metadata": {
  "colab": {
   "collapsed_sections": [],
   "name": "05_Modeling.ipynb",
   "provenance": []
  },
  "kernelspec": {
   "display_name": "Python 3",
   "language": "python",
   "name": "python3"
  },
  "language_info": {
   "codemirror_mode": {
    "name": "ipython",
    "version": 3
   },
   "file_extension": ".py",
   "mimetype": "text/x-python",
   "name": "python",
   "nbconvert_exporter": "python",
   "pygments_lexer": "ipython3",
   "version": "3.8.8"
  }
 },
 "nbformat": 4,
 "nbformat_minor": 4
}
